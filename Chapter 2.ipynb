{
 "cells": [
  {
   "cell_type": "markdown",
   "metadata": {},
   "source": [
    "# Understanding Basic Statistics\n",
    "\n",
    "## Chapter 2: Organizing Data\n"
   ]
  },
  {
   "cell_type": "code",
   "execution_count": 1,
   "metadata": {},
   "outputs": [],
   "source": [
    "import numpy as np\n",
    "import matplotlib.pyplot as plt\n",
    "import pandas as pd\n",
    "import os\n",
    "\n",
    "CHPT_2 = '/home/mark/Documents/Class/Understanding Basic Statistics/Data/Chapter 2'"
   ]
  },
  {
   "cell_type": "markdown",
   "metadata": {},
   "source": [
    "### Code"
   ]
  },
  {
   "cell_type": "code",
   "execution_count": 2,
   "metadata": {},
   "outputs": [],
   "source": [
    "def str_to_arr(s):\n",
    "    '''\n",
    "    converts a str of space separeted values to an array\n",
    "    '''\n",
    "    res = map(int, s.split())\n",
    "    res = np.array(list(res))\n",
    "    return res"
   ]
  },
  {
   "cell_type": "code",
   "execution_count": 3,
   "metadata": {},
   "outputs": [],
   "source": [
    "def class_width(min_val, max_val, num_classes):\n",
    "    '''\n",
    "    returns class width, p. 45\n",
    "    '''\n",
    "    return int(((max_val - min_val) / num_classes) + 1)"
   ]
  },
  {
   "cell_type": "code",
   "execution_count": 4,
   "metadata": {},
   "outputs": [],
   "source": [
    "def class_limits(min_val, classes, cls_width):\n",
    "    '''\n",
    "    returns class limits (p. 45) as a list of tuples\n",
    "    '''\n",
    "    lower_limits = np.array([min_val + n * cls_width for n in range(classes)])\n",
    "    upper_limits = lower_limits + cls_width - 1\n",
    "    \n",
    "    res = [(a, b) for a, b in (zip(lower_limits, upper_limits))]\n",
    "    \n",
    "    return res"
   ]
  },
  {
   "cell_type": "code",
   "execution_count": 5,
   "metadata": {},
   "outputs": [],
   "source": [
    "def freq_dist(data, classes, titles=('','')):\n",
    "    '''\n",
    "    produces histogram and relative frequency graphs\n",
    "\n",
    "    '''\n",
    "    if isinstance(titles, str):\n",
    "        titles = (titles, titles)\n",
    "    \n",
    "    print(f'min: {data.min()}  max: {data.max()}  size: {data.size}')\n",
    "\n",
    "    cls_width = class_width(data.min(), data.max(), classes)\n",
    "    print(f'class width: {cls_width}')\n",
    "\n",
    "    freq, edges = np.histogram(data, range=(data.min(), data.min() + cls_width*classes), bins=classes)\n",
    "    print(f'freq: {freq}')\n",
    "#     print(f'edges: {edges}')\n",
    "\n",
    "    cls_limits = class_limits(data.min(), classes, cls_width)\n",
    "    print(f'cls_limits: {cls_limits}')\n",
    "\n",
    "    bounds = np.array([data.min() - 0.5 + n * cls_width for n in range(classes + 1)])\n",
    "    print(f'boundaries: {bounds}')\n",
    "\n",
    "    midpts = [sum(e) / 2 for e in cls_limits]\n",
    "    print(f'midpts: {midpts}')\n",
    "\n",
    "    rel_freq = freq / data.size\n",
    "    print(f'rel_freq: {rel_freq}')\n",
    "    \n",
    "    fig, ax = plt.subplots(1, 2, figsize=(15, 4))\n",
    "\n",
    "    ax[0].hist(bounds[:-1], bounds, weights=freq)\n",
    "    ax[0].set_title(titles[0])\n",
    "    ax[0].set_ylabel(r'Frequency, $f$')\n",
    "    ax[0].grid(axis='x', color='0.85')\n",
    "    ax[0].set_xticks(bounds)\n",
    "\n",
    "    ax[1].hist(bounds[:-1], bounds, weights=rel_freq)\n",
    "    ax[1].set_title(titles[0])\n",
    "    ax[1].set_ylabel(r'Relative frequency, $f/n$')\n",
    "    ax[1].grid(axis='x', color='0.85')\n",
    "    ax[1].set_xticks(bounds)\n",
    "\n",
    "    plt.show()"
   ]
  },
  {
   "cell_type": "code",
   "execution_count": 6,
   "metadata": {},
   "outputs": [],
   "source": [
    "def ogive(data, classes, title=''):\n",
    "    '''\n",
    "    '''\n",
    "    cls_width = class_width(data.min(), data.max(), classes)\n",
    "    print(f'class width: {cls_width}')\n",
    "\n",
    "    freq, edges = np.histogram(data, range=(data.min(), data.min() + cls_width*classes), bins=classes)\n",
    "    print(f'freq: {freq}')\n",
    "    cumulative = np.cumsum(np.hstack(([0],freq)))\n",
    "    print(f'cumulative: {cumulative}')\n",
    "\n",
    "    bounds = np.array([data.min() - 0.5 + n * cls_width for n in range(classes + 1)])\n",
    "    print(f'boundaries: {bounds}')\n",
    "\n",
    "    fig, ax0 = plt.subplots(1, 1, figsize=(6, 4))\n",
    "\n",
    "    ax0.plot(bounds, cumulative, 'ro-')\n",
    "    ax0.set_title(title)\n",
    "    ax0.set_ylabel(r'Cumulative frequency, $\\Sigma f$')\n",
    "    ax0.grid(axis='x', color='0.85')\n",
    "    ax0.set_xticks(bounds)\n",
    "\n",
    "    plt.show()"
   ]
  },
  {
   "cell_type": "code",
   "execution_count": 7,
   "metadata": {},
   "outputs": [],
   "source": [
    "def dotplot(data, title=''):\n",
    "    '''\n",
    "    produces dot plot graph\n",
    "    '''\n",
    "    x = []\n",
    "    y = []\n",
    "    unique, counts = np.unique(data, return_counts=True)\n",
    "    for v, n in zip(unique, counts):\n",
    "        for i in range(1, n + 1):\n",
    "            x.append(v)\n",
    "            y.append(i)\n",
    "\n",
    "    w = 2\n",
    "    fig, ax0 = plt.subplots(1, 1, figsize=(15, w))\n",
    "\n",
    "    ax0.scatter(x, y, c='k')\n",
    "    ax0.set_title(title)\n",
    "    ax0.grid(axis='x', color='0.85')\n",
    "    ax0.set_ylim((0, 6 * w))\n",
    "\n",
    "    plt.show()"
   ]
  },
  {
   "cell_type": "code",
   "execution_count": 8,
   "metadata": {},
   "outputs": [],
   "source": [
    "def stem_leave(df, sort=True, fill=True, split=False, show_table=False):\n",
    "    '''\n",
    "    produces stem and leaf display\n",
    "    '''\n",
    "    table = {}\n",
    "    for n in df:\n",
    "        stem = n // 10\n",
    "        leaf = n % 10\n",
    "        leaves = table.get(stem, [])\n",
    "        leaves.append(leaf)\n",
    "        table[stem] = leaves\n",
    "\n",
    "    if show_table:\n",
    "        print(f'\\ntable:\\n{table}')\n",
    "\n",
    "    print('Stem | Leaves')\n",
    "    if sort:\n",
    "        if fill:\n",
    "            for stem in range(df.min() // 10, \n",
    "                              df.max() // 10 + 1):\n",
    "                leaves = table.get(stem, [])\n",
    "                if split:\n",
    "                    for half in [filter(lambda n: n<5, leaves), filter(lambda n: n>=5, leaves)]:\n",
    "                       print(f'{stem:4d} | {\" \".join(map(str, sorted(half)))}')\n",
    "                else:\n",
    "                    print(f'{stem:4d} | {\" \".join(map(str, sorted(leaves)))}')\n",
    "        else:\n",
    "            for stem, leaves in sorted(table.items()):\n",
    "                print(f'{stem:4d} | {\" \".join(map(str, sorted(leaves)))}')\n",
    "    else:\n",
    "        if fill:\n",
    "            for stem in range(df.min() // 10, \n",
    "                              df.max() // 10 + 1):\n",
    "                leaves = table.get(stem, [])\n",
    "                print(f'{stem:4d} | {\" \".join(map(str, leaves))}')\n",
    "        else:\n",
    "            for stem, leaves in sorted(table.items()):\n",
    "                print(f'{stem:4d} | {\" \".join(map(str, leaves))}')\n"
   ]
  },
  {
   "cell_type": "code",
   "execution_count": 9,
   "metadata": {},
   "outputs": [],
   "source": [
    "def pareto_plot(df, data_col, label_col, title=''):\n",
    "    '''\n",
    "    plots a pareto chart\n",
    "    \n",
    "    df: dataframe\n",
    "    data_col: str, data column name\n",
    "    label_col: str, label column name\n",
    "    title: str\n",
    "    '''\n",
    "    df = df.sort_values(by=[data_col], ascending=False)\n",
    "    df = df.set_index(label_col)\n",
    "\n",
    "    fig, ax0 = plt.subplots(1, 1, figsize=(8, 6))\n",
    "\n",
    "    ax0.bar(df.index, df[data_col])\n",
    "    ax0.set_title(title)\n",
    "    ax0.grid(axis='y', color='0.95')\n",
    "    ax0.set_xticks(df.index)\n",
    "    ax0.set_xticklabels(labels=df.index, rotation=45)\n",
    "\n",
    "    plt.show()"
   ]
  },
  {
   "cell_type": "code",
   "execution_count": 10,
   "metadata": {},
   "outputs": [],
   "source": [
    "def pie_plot(df, data_col, label_col, title=''):\n",
    "    '''\n",
    "    plots a pie chart\n",
    "    \n",
    "    df: dataframe\n",
    "    data_col: str, data column name\n",
    "    label_col: str, label column name\n",
    "    title: str\n",
    "    '''\n",
    "    df = df.sort_values(by=[data_col], ascending=False)\n",
    "    df = df.set_index(label_col)\n",
    "\n",
    "    fig, ax0 = plt.subplots(1, 1, figsize=(8, 6))\n",
    "\n",
    "    ax0.pie(df[data_col], labels=df.index, autopct='%1.0f%%', \n",
    "            shadow=True, explode=[.1]*df.size, normalize=True)\n",
    "    ax0.set_title(title)\n",
    "    ax0.axis('equal')  # Equal aspect ratio ensures that pie is drawn as a circle.\n",
    "\n",
    "    plt.show()"
   ]
  },
  {
   "cell_type": "markdown",
   "metadata": {},
   "source": [
    "### Chapter 2 Data"
   ]
  },
  {
   "cell_type": "code",
   "execution_count": 11,
   "metadata": {
    "scrolled": true
   },
   "outputs": [
    {
     "name": "stdout",
     "output_type": "stream",
     "text": [
      "Exer0204.xls\n",
      "Prob0201_16.xls\n",
      "Prob0201_17.xls\n",
      "Prob0201_18.xls\n",
      "Prob0201_19.xlsx\n",
      "Prob0201_20.xls\n",
      "Prob0201_21.xls\n",
      "Prob0201_22.xls\n",
      "Prob0202_08.xls\n",
      "Prob0202_13.xls\n",
      "Prob0202_14.xls\n",
      "Prob0203_01.xls\n",
      "Prob0203_02.xls\n",
      "Prob0203_03.xls\n",
      "Prob0203_05.xls\n",
      "Prob0203_06.xls\n",
      "Prob201_10.xlsx\n",
      "Prob201_15.xlsx\n",
      "RProb0208.xls\n",
      "RProb0209.xls\n",
      "RProb0210.xls\n",
      "RProb0211.csv\n",
      "RProb0211.xls\n",
      "RProb0214.xls\n",
      "RProb0215.xls\n",
      "RProb0216.xls\n",
      "RProb0217.xls\n",
      "Table0201.xls\n",
      "Table0202.xls\n",
      "Table0203.xls\n",
      "Table0204.xls\n",
      "Table0211.xls\n",
      "Table0212.xls\n",
      "Table0214.xls\n",
      "Table0215.xls\n",
      "Table0216.xls\n",
      "Table0217.xls\n",
      "Table0218.xls\n"
     ]
    }
   ],
   "source": [
    "path = CHPT_2\n",
    "files = os.listdir(CHPT_2)\n",
    "files.sort()\n",
    "\n",
    "for fn in files:\n",
    "    print(fn)"
   ]
  },
  {
   "cell_type": "code",
   "execution_count": 12,
   "metadata": {
    "scrolled": true
   },
   "outputs": [
    {
     "name": "stdout",
     "output_type": "stream",
     "text": [
      "\n",
      "fn: Exer0204.xls\n",
      "shape: (35, 1)\n"
     ]
    },
    {
     "data": {
      "text/html": [
       "<div>\n",
       "<style scoped>\n",
       "    .dataframe tbody tr th:only-of-type {\n",
       "        vertical-align: middle;\n",
       "    }\n",
       "\n",
       "    .dataframe tbody tr th {\n",
       "        vertical-align: top;\n",
       "    }\n",
       "\n",
       "    .dataframe thead th {\n",
       "        text-align: right;\n",
       "    }\n",
       "</style>\n",
       "<table border=\"1\" class=\"dataframe\">\n",
       "  <thead>\n",
       "    <tr style=\"text-align: right;\">\n",
       "      <th></th>\n",
       "      <th>scores</th>\n",
       "    </tr>\n",
       "  </thead>\n",
       "  <tbody>\n",
       "    <tr>\n",
       "      <th>0</th>\n",
       "      <td>132</td>\n",
       "    </tr>\n",
       "    <tr>\n",
       "      <th>1</th>\n",
       "      <td>118</td>\n",
       "    </tr>\n",
       "    <tr>\n",
       "      <th>2</th>\n",
       "      <td>124</td>\n",
       "    </tr>\n",
       "    <tr>\n",
       "      <th>3</th>\n",
       "      <td>109</td>\n",
       "    </tr>\n",
       "    <tr>\n",
       "      <th>4</th>\n",
       "      <td>104</td>\n",
       "    </tr>\n",
       "  </tbody>\n",
       "</table>\n",
       "</div>"
      ],
      "text/plain": [
       "   scores\n",
       "0     132\n",
       "1     118\n",
       "2     124\n",
       "3     109\n",
       "4     104"
      ]
     },
     "metadata": {},
     "output_type": "display_data"
    },
    {
     "name": "stdout",
     "output_type": "stream",
     "text": [
      "\n",
      "fn: Prob0201_16.xls\n",
      "shape: (70, 1)\n"
     ]
    },
    {
     "data": {
      "text/html": [
       "<div>\n",
       "<style scoped>\n",
       "    .dataframe tbody tr th:only-of-type {\n",
       "        vertical-align: middle;\n",
       "    }\n",
       "\n",
       "    .dataframe tbody tr th {\n",
       "        vertical-align: top;\n",
       "    }\n",
       "\n",
       "    .dataframe thead th {\n",
       "        text-align: right;\n",
       "    }\n",
       "</style>\n",
       "<table border=\"1\" class=\"dataframe\">\n",
       "  <thead>\n",
       "    <tr style=\"text-align: right;\">\n",
       "      <th></th>\n",
       "      <th>glucose_(mg/100ml)</th>\n",
       "    </tr>\n",
       "  </thead>\n",
       "  <tbody>\n",
       "    <tr>\n",
       "      <th>0</th>\n",
       "      <td>45</td>\n",
       "    </tr>\n",
       "    <tr>\n",
       "      <th>1</th>\n",
       "      <td>66</td>\n",
       "    </tr>\n",
       "    <tr>\n",
       "      <th>2</th>\n",
       "      <td>83</td>\n",
       "    </tr>\n",
       "    <tr>\n",
       "      <th>3</th>\n",
       "      <td>71</td>\n",
       "    </tr>\n",
       "    <tr>\n",
       "      <th>4</th>\n",
       "      <td>76</td>\n",
       "    </tr>\n",
       "  </tbody>\n",
       "</table>\n",
       "</div>"
      ],
      "text/plain": [
       "   glucose_(mg/100ml)\n",
       "0                  45\n",
       "1                  66\n",
       "2                  83\n",
       "3                  71\n",
       "4                  76"
      ]
     },
     "metadata": {},
     "output_type": "display_data"
    },
    {
     "name": "stdout",
     "output_type": "stream",
     "text": [
      "\n",
      "fn: Prob0201_17.xls\n",
      "shape: (42, 1)\n"
     ]
    },
    {
     "data": {
      "text/html": [
       "<div>\n",
       "<style scoped>\n",
       "    .dataframe tbody tr th:only-of-type {\n",
       "        vertical-align: middle;\n",
       "    }\n",
       "\n",
       "    .dataframe tbody tr th {\n",
       "        vertical-align: top;\n",
       "    }\n",
       "\n",
       "    .dataframe thead th {\n",
       "        text-align: right;\n",
       "    }\n",
       "</style>\n",
       "<table border=\"1\" class=\"dataframe\">\n",
       "  <thead>\n",
       "    <tr style=\"text-align: right;\">\n",
       "      <th></th>\n",
       "      <th>time_(months)</th>\n",
       "    </tr>\n",
       "  </thead>\n",
       "  <tbody>\n",
       "    <tr>\n",
       "      <th>0</th>\n",
       "      <td>19</td>\n",
       "    </tr>\n",
       "    <tr>\n",
       "      <th>1</th>\n",
       "      <td>18</td>\n",
       "    </tr>\n",
       "    <tr>\n",
       "      <th>2</th>\n",
       "      <td>17</td>\n",
       "    </tr>\n",
       "    <tr>\n",
       "      <th>3</th>\n",
       "      <td>1</td>\n",
       "    </tr>\n",
       "    <tr>\n",
       "      <th>4</th>\n",
       "      <td>21</td>\n",
       "    </tr>\n",
       "  </tbody>\n",
       "</table>\n",
       "</div>"
      ],
      "text/plain": [
       "   time_(months)\n",
       "0             19\n",
       "1             18\n",
       "2             17\n",
       "3              1\n",
       "4             21"
      ]
     },
     "metadata": {},
     "output_type": "display_data"
    },
    {
     "name": "stdout",
     "output_type": "stream",
     "text": [
      "\n",
      "fn: Prob0201_18.xls\n",
      "shape: (73, 1)\n"
     ]
    },
    {
     "data": {
      "text/html": [
       "<div>\n",
       "<style scoped>\n",
       "    .dataframe tbody tr th:only-of-type {\n",
       "        vertical-align: middle;\n",
       "    }\n",
       "\n",
       "    .dataframe tbody tr th {\n",
       "        vertical-align: top;\n",
       "    }\n",
       "\n",
       "    .dataframe thead th {\n",
       "        text-align: right;\n",
       "    }\n",
       "</style>\n",
       "<table border=\"1\" class=\"dataframe\">\n",
       "  <thead>\n",
       "    <tr style=\"text-align: right;\">\n",
       "      <th></th>\n",
       "      <th>depth_(cm)</th>\n",
       "    </tr>\n",
       "  </thead>\n",
       "  <tbody>\n",
       "    <tr>\n",
       "      <th>0</th>\n",
       "      <td>85</td>\n",
       "    </tr>\n",
       "    <tr>\n",
       "      <th>1</th>\n",
       "      <td>45</td>\n",
       "    </tr>\n",
       "    <tr>\n",
       "      <th>2</th>\n",
       "      <td>75</td>\n",
       "    </tr>\n",
       "    <tr>\n",
       "      <th>3</th>\n",
       "      <td>60</td>\n",
       "    </tr>\n",
       "    <tr>\n",
       "      <th>4</th>\n",
       "      <td>90</td>\n",
       "    </tr>\n",
       "  </tbody>\n",
       "</table>\n",
       "</div>"
      ],
      "text/plain": [
       "   depth_(cm)\n",
       "0          85\n",
       "1          45\n",
       "2          75\n",
       "3          60\n",
       "4          90"
      ]
     },
     "metadata": {},
     "output_type": "display_data"
    },
    {
     "name": "stdout",
     "output_type": "stream",
     "text": [
      "\n",
      "fn: Prob0201_19.xlsx\n",
      "shape: (50, 1)\n"
     ]
    },
    {
     "data": {
      "text/html": [
       "<div>\n",
       "<style scoped>\n",
       "    .dataframe tbody tr th:only-of-type {\n",
       "        vertical-align: middle;\n",
       "    }\n",
       "\n",
       "    .dataframe tbody tr th {\n",
       "        vertical-align: top;\n",
       "    }\n",
       "\n",
       "    .dataframe thead th {\n",
       "        text-align: right;\n",
       "    }\n",
       "</style>\n",
       "<table border=\"1\" class=\"dataframe\">\n",
       "  <thead>\n",
       "    <tr style=\"text-align: right;\">\n",
       "      <th></th>\n",
       "      <th>Percentage male</th>\n",
       "    </tr>\n",
       "  </thead>\n",
       "  <tbody>\n",
       "    <tr>\n",
       "      <th>0</th>\n",
       "      <td>31</td>\n",
       "    </tr>\n",
       "    <tr>\n",
       "      <th>1</th>\n",
       "      <td>39</td>\n",
       "    </tr>\n",
       "    <tr>\n",
       "      <th>2</th>\n",
       "      <td>53</td>\n",
       "    </tr>\n",
       "    <tr>\n",
       "      <th>3</th>\n",
       "      <td>47</td>\n",
       "    </tr>\n",
       "    <tr>\n",
       "      <th>4</th>\n",
       "      <td>40</td>\n",
       "    </tr>\n",
       "  </tbody>\n",
       "</table>\n",
       "</div>"
      ],
      "text/plain": [
       "   Percentage male\n",
       "0               31\n",
       "1               39\n",
       "2               53\n",
       "3               47\n",
       "4               40"
      ]
     },
     "metadata": {},
     "output_type": "display_data"
    },
    {
     "name": "stdout",
     "output_type": "stream",
     "text": [
      "\n",
      "fn: Prob0201_20.xls\n",
      "shape: (55, 1)\n"
     ]
    },
    {
     "data": {
      "text/html": [
       "<div>\n",
       "<style scoped>\n",
       "    .dataframe tbody tr th:only-of-type {\n",
       "        vertical-align: middle;\n",
       "    }\n",
       "\n",
       "    .dataframe tbody tr th {\n",
       "        vertical-align: top;\n",
       "    }\n",
       "\n",
       "    .dataframe thead th {\n",
       "        text-align: right;\n",
       "    }\n",
       "</style>\n",
       "<table border=\"1\" class=\"dataframe\">\n",
       "  <thead>\n",
       "    <tr style=\"text-align: right;\">\n",
       "      <th></th>\n",
       "      <th>words</th>\n",
       "    </tr>\n",
       "  </thead>\n",
       "  <tbody>\n",
       "    <tr>\n",
       "      <th>0</th>\n",
       "      <td>34</td>\n",
       "    </tr>\n",
       "    <tr>\n",
       "      <th>1</th>\n",
       "      <td>21</td>\n",
       "    </tr>\n",
       "    <tr>\n",
       "      <th>2</th>\n",
       "      <td>37</td>\n",
       "    </tr>\n",
       "    <tr>\n",
       "      <th>3</th>\n",
       "      <td>31</td>\n",
       "    </tr>\n",
       "    <tr>\n",
       "      <th>4</th>\n",
       "      <td>10</td>\n",
       "    </tr>\n",
       "  </tbody>\n",
       "</table>\n",
       "</div>"
      ],
      "text/plain": [
       "   words\n",
       "0     34\n",
       "1     21\n",
       "2     37\n",
       "3     31\n",
       "4     10"
      ]
     },
     "metadata": {},
     "output_type": "display_data"
    },
    {
     "name": "stdout",
     "output_type": "stream",
     "text": [
      "\n",
      "fn: Prob0201_21.xls\n",
      "shape: (32, 1)\n"
     ]
    },
    {
     "data": {
      "text/html": [
       "<div>\n",
       "<style scoped>\n",
       "    .dataframe tbody tr th:only-of-type {\n",
       "        vertical-align: middle;\n",
       "    }\n",
       "\n",
       "    .dataframe tbody tr th {\n",
       "        vertical-align: top;\n",
       "    }\n",
       "\n",
       "    .dataframe thead th {\n",
       "        text-align: right;\n",
       "    }\n",
       "</style>\n",
       "<table border=\"1\" class=\"dataframe\">\n",
       "  <thead>\n",
       "    <tr style=\"text-align: right;\">\n",
       "      <th></th>\n",
       "      <th>wheat_(tonnes)</th>\n",
       "    </tr>\n",
       "  </thead>\n",
       "  <tbody>\n",
       "    <tr>\n",
       "      <th>0</th>\n",
       "      <td>2.71</td>\n",
       "    </tr>\n",
       "    <tr>\n",
       "      <th>1</th>\n",
       "      <td>1.62</td>\n",
       "    </tr>\n",
       "    <tr>\n",
       "      <th>2</th>\n",
       "      <td>2.60</td>\n",
       "    </tr>\n",
       "    <tr>\n",
       "      <th>3</th>\n",
       "      <td>1.64</td>\n",
       "    </tr>\n",
       "    <tr>\n",
       "      <th>4</th>\n",
       "      <td>2.20</td>\n",
       "    </tr>\n",
       "  </tbody>\n",
       "</table>\n",
       "</div>"
      ],
      "text/plain": [
       "   wheat_(tonnes)\n",
       "0            2.71\n",
       "1            1.62\n",
       "2            2.60\n",
       "3            1.64\n",
       "4            2.20"
      ]
     },
     "metadata": {},
     "output_type": "display_data"
    },
    {
     "name": "stdout",
     "output_type": "stream",
     "text": [
      "\n",
      "fn: Prob0201_22.xls\n",
      "shape: (26, 1)\n"
     ]
    },
    {
     "data": {
      "text/html": [
       "<div>\n",
       "<style scoped>\n",
       "    .dataframe tbody tr th:only-of-type {\n",
       "        vertical-align: middle;\n",
       "    }\n",
       "\n",
       "    .dataframe tbody tr th {\n",
       "        vertical-align: top;\n",
       "    }\n",
       "\n",
       "    .dataframe thead th {\n",
       "        text-align: right;\n",
       "    }\n",
       "</style>\n",
       "<table border=\"1\" class=\"dataframe\">\n",
       "  <thead>\n",
       "    <tr style=\"text-align: right;\">\n",
       "      <th></th>\n",
       "      <th>average</th>\n",
       "    </tr>\n",
       "  </thead>\n",
       "  <tbody>\n",
       "    <tr>\n",
       "      <th>0</th>\n",
       "      <td>0.194</td>\n",
       "    </tr>\n",
       "    <tr>\n",
       "      <th>1</th>\n",
       "      <td>0.258</td>\n",
       "    </tr>\n",
       "    <tr>\n",
       "      <th>2</th>\n",
       "      <td>0.190</td>\n",
       "    </tr>\n",
       "    <tr>\n",
       "      <th>3</th>\n",
       "      <td>0.291</td>\n",
       "    </tr>\n",
       "    <tr>\n",
       "      <th>4</th>\n",
       "      <td>0.158</td>\n",
       "    </tr>\n",
       "  </tbody>\n",
       "</table>\n",
       "</div>"
      ],
      "text/plain": [
       "   average\n",
       "0    0.194\n",
       "1    0.258\n",
       "2    0.190\n",
       "3    0.291\n",
       "4    0.158"
      ]
     },
     "metadata": {},
     "output_type": "display_data"
    },
    {
     "name": "stdout",
     "output_type": "stream",
     "text": [
      "\n",
      "fn: Prob0202_08.xls\n",
      "shape: (5, 2)\n"
     ]
    },
    {
     "data": {
      "text/html": [
       "<div>\n",
       "<style scoped>\n",
       "    .dataframe tbody tr th:only-of-type {\n",
       "        vertical-align: middle;\n",
       "    }\n",
       "\n",
       "    .dataframe tbody tr th {\n",
       "        vertical-align: top;\n",
       "    }\n",
       "\n",
       "    .dataframe thead th {\n",
       "        text-align: right;\n",
       "    }\n",
       "</style>\n",
       "<table border=\"1\" class=\"dataframe\">\n",
       "  <thead>\n",
       "    <tr style=\"text-align: right;\">\n",
       "      <th></th>\n",
       "      <th>River</th>\n",
       "      <th>spearheads</th>\n",
       "    </tr>\n",
       "  </thead>\n",
       "  <tbody>\n",
       "    <tr>\n",
       "      <th>0</th>\n",
       "      <td>Bann</td>\n",
       "      <td>19</td>\n",
       "    </tr>\n",
       "    <tr>\n",
       "      <th>1</th>\n",
       "      <td>Blackwater</td>\n",
       "      <td>8</td>\n",
       "    </tr>\n",
       "    <tr>\n",
       "      <th>2</th>\n",
       "      <td>Erne</td>\n",
       "      <td>15</td>\n",
       "    </tr>\n",
       "    <tr>\n",
       "      <th>3</th>\n",
       "      <td>Shannon</td>\n",
       "      <td>33</td>\n",
       "    </tr>\n",
       "    <tr>\n",
       "      <th>4</th>\n",
       "      <td>Barrow</td>\n",
       "      <td>14</td>\n",
       "    </tr>\n",
       "  </tbody>\n",
       "</table>\n",
       "</div>"
      ],
      "text/plain": [
       "        River  spearheads\n",
       "0        Bann          19\n",
       "1  Blackwater           8\n",
       "2        Erne          15\n",
       "3     Shannon          33\n",
       "4      Barrow          14"
      ]
     },
     "metadata": {},
     "output_type": "display_data"
    },
    {
     "name": "stdout",
     "output_type": "stream",
     "text": [
      "\n",
      "fn: Prob0202_13.xls\n",
      "shape: (15, 2)\n"
     ]
    },
    {
     "data": {
      "text/html": [
       "<div>\n",
       "<style scoped>\n",
       "    .dataframe tbody tr th:only-of-type {\n",
       "        vertical-align: middle;\n",
       "    }\n",
       "\n",
       "    .dataframe tbody tr th {\n",
       "        vertical-align: top;\n",
       "    }\n",
       "\n",
       "    .dataframe thead th {\n",
       "        text-align: right;\n",
       "    }\n",
       "</style>\n",
       "<table border=\"1\" class=\"dataframe\">\n",
       "  <thead>\n",
       "    <tr style=\"text-align: right;\">\n",
       "      <th></th>\n",
       "      <th>Year</th>\n",
       "      <th>Elevation</th>\n",
       "    </tr>\n",
       "  </thead>\n",
       "  <tbody>\n",
       "    <tr>\n",
       "      <th>0</th>\n",
       "      <td>1986</td>\n",
       "      <td>3817</td>\n",
       "    </tr>\n",
       "    <tr>\n",
       "      <th>1</th>\n",
       "      <td>1987</td>\n",
       "      <td>3815</td>\n",
       "    </tr>\n",
       "    <tr>\n",
       "      <th>2</th>\n",
       "      <td>1988</td>\n",
       "      <td>3810</td>\n",
       "    </tr>\n",
       "    <tr>\n",
       "      <th>3</th>\n",
       "      <td>1989</td>\n",
       "      <td>3812</td>\n",
       "    </tr>\n",
       "    <tr>\n",
       "      <th>4</th>\n",
       "      <td>1990</td>\n",
       "      <td>3808</td>\n",
       "    </tr>\n",
       "  </tbody>\n",
       "</table>\n",
       "</div>"
      ],
      "text/plain": [
       "   Year  Elevation\n",
       "0  1986       3817\n",
       "1  1987       3815\n",
       "2  1988       3810\n",
       "3  1989       3812\n",
       "4  1990       3808"
      ]
     },
     "metadata": {},
     "output_type": "display_data"
    },
    {
     "name": "stdout",
     "output_type": "stream",
     "text": [
      "\n",
      "fn: Prob0202_14.xls\n",
      "shape: (15, 2)\n"
     ]
    },
    {
     "data": {
      "text/html": [
       "<div>\n",
       "<style scoped>\n",
       "    .dataframe tbody tr th:only-of-type {\n",
       "        vertical-align: middle;\n",
       "    }\n",
       "\n",
       "    .dataframe tbody tr th {\n",
       "        vertical-align: top;\n",
       "    }\n",
       "\n",
       "    .dataframe thead th {\n",
       "        text-align: right;\n",
       "    }\n",
       "</style>\n",
       "<table border=\"1\" class=\"dataframe\">\n",
       "  <thead>\n",
       "    <tr style=\"text-align: right;\">\n",
       "      <th></th>\n",
       "      <th>Age</th>\n",
       "      <th>Height_(in)</th>\n",
       "    </tr>\n",
       "  </thead>\n",
       "  <tbody>\n",
       "    <tr>\n",
       "      <th>0</th>\n",
       "      <td>0.5</td>\n",
       "      <td>26</td>\n",
       "    </tr>\n",
       "    <tr>\n",
       "      <th>1</th>\n",
       "      <td>1.0</td>\n",
       "      <td>29</td>\n",
       "    </tr>\n",
       "    <tr>\n",
       "      <th>2</th>\n",
       "      <td>2.0</td>\n",
       "      <td>33</td>\n",
       "    </tr>\n",
       "    <tr>\n",
       "      <th>3</th>\n",
       "      <td>3.0</td>\n",
       "      <td>36</td>\n",
       "    </tr>\n",
       "    <tr>\n",
       "      <th>4</th>\n",
       "      <td>4.0</td>\n",
       "      <td>39</td>\n",
       "    </tr>\n",
       "  </tbody>\n",
       "</table>\n",
       "</div>"
      ],
      "text/plain": [
       "   Age  Height_(in)\n",
       "0  0.5           26\n",
       "1  1.0           29\n",
       "2  2.0           33\n",
       "3  3.0           36\n",
       "4  4.0           39"
      ]
     },
     "metadata": {},
     "output_type": "display_data"
    },
    {
     "name": "stdout",
     "output_type": "stream",
     "text": [
      "\n",
      "fn: Prob0203_01.xls\n",
      "shape: (32, 1)\n"
     ]
    },
    {
     "data": {
      "text/html": [
       "<div>\n",
       "<style scoped>\n",
       "    .dataframe tbody tr th:only-of-type {\n",
       "        vertical-align: middle;\n",
       "    }\n",
       "\n",
       "    .dataframe tbody tr th {\n",
       "        vertical-align: top;\n",
       "    }\n",
       "\n",
       "    .dataframe thead th {\n",
       "        text-align: right;\n",
       "    }\n",
       "</style>\n",
       "<table border=\"1\" class=\"dataframe\">\n",
       "  <thead>\n",
       "    <tr style=\"text-align: right;\">\n",
       "      <th></th>\n",
       "      <th>years</th>\n",
       "    </tr>\n",
       "  </thead>\n",
       "  <tbody>\n",
       "    <tr>\n",
       "      <th>0</th>\n",
       "      <td>58</td>\n",
       "    </tr>\n",
       "    <tr>\n",
       "      <th>1</th>\n",
       "      <td>52</td>\n",
       "    </tr>\n",
       "    <tr>\n",
       "      <th>2</th>\n",
       "      <td>68</td>\n",
       "    </tr>\n",
       "    <tr>\n",
       "      <th>3</th>\n",
       "      <td>86</td>\n",
       "    </tr>\n",
       "    <tr>\n",
       "      <th>4</th>\n",
       "      <td>72</td>\n",
       "    </tr>\n",
       "  </tbody>\n",
       "</table>\n",
       "</div>"
      ],
      "text/plain": [
       "   years\n",
       "0     58\n",
       "1     52\n",
       "2     68\n",
       "3     86\n",
       "4     72"
      ]
     },
     "metadata": {},
     "output_type": "display_data"
    },
    {
     "name": "stdout",
     "output_type": "stream",
     "text": [
      "\n",
      "fn: Prob0203_02.xls\n",
      "shape: (48, 1)\n"
     ]
    },
    {
     "data": {
      "text/html": [
       "<div>\n",
       "<style scoped>\n",
       "    .dataframe tbody tr th:only-of-type {\n",
       "        vertical-align: middle;\n",
       "    }\n",
       "\n",
       "    .dataframe tbody tr th {\n",
       "        vertical-align: top;\n",
       "    }\n",
       "\n",
       "    .dataframe thead th {\n",
       "        text-align: right;\n",
       "    }\n",
       "</style>\n",
       "<table border=\"1\" class=\"dataframe\">\n",
       "  <thead>\n",
       "    <tr style=\"text-align: right;\">\n",
       "      <th></th>\n",
       "      <th>loss_(percent)</th>\n",
       "    </tr>\n",
       "  </thead>\n",
       "  <tbody>\n",
       "    <tr>\n",
       "      <th>0</th>\n",
       "      <td>46</td>\n",
       "    </tr>\n",
       "    <tr>\n",
       "      <th>1</th>\n",
       "      <td>37</td>\n",
       "    </tr>\n",
       "    <tr>\n",
       "      <th>2</th>\n",
       "      <td>36</td>\n",
       "    </tr>\n",
       "    <tr>\n",
       "      <th>3</th>\n",
       "      <td>42</td>\n",
       "    </tr>\n",
       "    <tr>\n",
       "      <th>4</th>\n",
       "      <td>81</td>\n",
       "    </tr>\n",
       "  </tbody>\n",
       "</table>\n",
       "</div>"
      ],
      "text/plain": [
       "   loss_(percent)\n",
       "0              46\n",
       "1              37\n",
       "2              36\n",
       "3              42\n",
       "4              81"
      ]
     },
     "metadata": {},
     "output_type": "display_data"
    },
    {
     "name": "stdout",
     "output_type": "stream",
     "text": [
      "\n",
      "fn: Prob0203_03.xls\n",
      "shape: (51, 3)\n"
     ]
    },
    {
     "data": {
      "text/html": [
       "<div>\n",
       "<style scoped>\n",
       "    .dataframe tbody tr th:only-of-type {\n",
       "        vertical-align: middle;\n",
       "    }\n",
       "\n",
       "    .dataframe tbody tr th {\n",
       "        vertical-align: top;\n",
       "    }\n",
       "\n",
       "    .dataframe thead th {\n",
       "        text-align: right;\n",
       "    }\n",
       "</style>\n",
       "<table border=\"1\" class=\"dataframe\">\n",
       "  <thead>\n",
       "    <tr style=\"text-align: right;\">\n",
       "      <th></th>\n",
       "      <th>State</th>\n",
       "      <th>Hospitals</th>\n",
       "      <th>stay_(days)</th>\n",
       "    </tr>\n",
       "  </thead>\n",
       "  <tbody>\n",
       "    <tr>\n",
       "      <th>0</th>\n",
       "      <td>Alabama</td>\n",
       "      <td>119</td>\n",
       "      <td>7.0</td>\n",
       "    </tr>\n",
       "    <tr>\n",
       "      <th>1</th>\n",
       "      <td>Alaska</td>\n",
       "      <td>16</td>\n",
       "      <td>5.7</td>\n",
       "    </tr>\n",
       "    <tr>\n",
       "      <th>2</th>\n",
       "      <td>Arizona</td>\n",
       "      <td>61</td>\n",
       "      <td>5.5</td>\n",
       "    </tr>\n",
       "    <tr>\n",
       "      <th>3</th>\n",
       "      <td>Arkansas</td>\n",
       "      <td>88</td>\n",
       "      <td>7.0</td>\n",
       "    </tr>\n",
       "    <tr>\n",
       "      <th>4</th>\n",
       "      <td>California</td>\n",
       "      <td>440</td>\n",
       "      <td>6.0</td>\n",
       "    </tr>\n",
       "  </tbody>\n",
       "</table>\n",
       "</div>"
      ],
      "text/plain": [
       "        State  Hospitals  stay_(days)\n",
       "0     Alabama        119          7.0\n",
       "1      Alaska         16          5.7\n",
       "2     Arizona         61          5.5\n",
       "3    Arkansas         88          7.0\n",
       "4  California        440          6.0"
      ]
     },
     "metadata": {},
     "output_type": "display_data"
    },
    {
     "name": "stdout",
     "output_type": "stream",
     "text": [
      "\n",
      "fn: Prob0203_05.xls\n",
      "shape: (20, 2)\n"
     ]
    },
    {
     "data": {
      "text/html": [
       "<div>\n",
       "<style scoped>\n",
       "    .dataframe tbody tr th:only-of-type {\n",
       "        vertical-align: middle;\n",
       "    }\n",
       "\n",
       "    .dataframe tbody tr th {\n",
       "        vertical-align: top;\n",
       "    }\n",
       "\n",
       "    .dataframe thead th {\n",
       "        text-align: right;\n",
       "    }\n",
       "</style>\n",
       "<table border=\"1\" class=\"dataframe\">\n",
       "  <thead>\n",
       "    <tr style=\"text-align: right;\">\n",
       "      <th></th>\n",
       "      <th>1961-81</th>\n",
       "      <th>1981-2000</th>\n",
       "    </tr>\n",
       "  </thead>\n",
       "  <tbody>\n",
       "    <tr>\n",
       "      <th>0</th>\n",
       "      <td>23</td>\n",
       "      <td>9</td>\n",
       "    </tr>\n",
       "    <tr>\n",
       "      <th>1</th>\n",
       "      <td>23</td>\n",
       "      <td>8</td>\n",
       "    </tr>\n",
       "    <tr>\n",
       "      <th>2</th>\n",
       "      <td>18</td>\n",
       "      <td>9</td>\n",
       "    </tr>\n",
       "    <tr>\n",
       "      <th>3</th>\n",
       "      <td>19</td>\n",
       "      <td>10</td>\n",
       "    </tr>\n",
       "    <tr>\n",
       "      <th>4</th>\n",
       "      <td>16</td>\n",
       "      <td>14</td>\n",
       "    </tr>\n",
       "  </tbody>\n",
       "</table>\n",
       "</div>"
      ],
      "text/plain": [
       "   1961-81  1981-2000\n",
       "0       23          9\n",
       "1       23          8\n",
       "2       18          9\n",
       "3       19         10\n",
       "4       16         14"
      ]
     },
     "metadata": {},
     "output_type": "display_data"
    },
    {
     "name": "stdout",
     "output_type": "stream",
     "text": [
      "\n",
      "fn: Prob0203_06.xls\n",
      "shape: (32, 2)\n"
     ]
    },
    {
     "data": {
      "text/html": [
       "<div>\n",
       "<style scoped>\n",
       "    .dataframe tbody tr th:only-of-type {\n",
       "        vertical-align: middle;\n",
       "    }\n",
       "\n",
       "    .dataframe tbody tr th {\n",
       "        vertical-align: top;\n",
       "    }\n",
       "\n",
       "    .dataframe thead th {\n",
       "        text-align: right;\n",
       "    }\n",
       "</style>\n",
       "<table border=\"1\" class=\"dataframe\">\n",
       "  <thead>\n",
       "    <tr style=\"text-align: right;\">\n",
       "      <th></th>\n",
       "      <th>1st_round</th>\n",
       "      <th>4th_round</th>\n",
       "    </tr>\n",
       "  </thead>\n",
       "  <tbody>\n",
       "    <tr>\n",
       "      <th>0</th>\n",
       "      <td>71</td>\n",
       "      <td>69</td>\n",
       "    </tr>\n",
       "    <tr>\n",
       "      <th>1</th>\n",
       "      <td>65</td>\n",
       "      <td>69</td>\n",
       "    </tr>\n",
       "    <tr>\n",
       "      <th>2</th>\n",
       "      <td>67</td>\n",
       "      <td>73</td>\n",
       "    </tr>\n",
       "    <tr>\n",
       "      <th>3</th>\n",
       "      <td>73</td>\n",
       "      <td>74</td>\n",
       "    </tr>\n",
       "    <tr>\n",
       "      <th>4</th>\n",
       "      <td>74</td>\n",
       "      <td>72</td>\n",
       "    </tr>\n",
       "  </tbody>\n",
       "</table>\n",
       "</div>"
      ],
      "text/plain": [
       "   1st_round  4th_round\n",
       "0         71         69\n",
       "1         65         69\n",
       "2         67         73\n",
       "3         73         74\n",
       "4         74         72"
      ]
     },
     "metadata": {},
     "output_type": "display_data"
    },
    {
     "name": "stdout",
     "output_type": "stream",
     "text": [
      "\n",
      "fn: Prob201_10.xlsx\n",
      "shape: (36, 1)\n"
     ]
    },
    {
     "data": {
      "text/html": [
       "<div>\n",
       "<style scoped>\n",
       "    .dataframe tbody tr th:only-of-type {\n",
       "        vertical-align: middle;\n",
       "    }\n",
       "\n",
       "    .dataframe tbody tr th {\n",
       "        vertical-align: top;\n",
       "    }\n",
       "\n",
       "    .dataframe thead th {\n",
       "        text-align: right;\n",
       "    }\n",
       "</style>\n",
       "<table border=\"1\" class=\"dataframe\">\n",
       "  <thead>\n",
       "    <tr style=\"text-align: right;\">\n",
       "      <th></th>\n",
       "      <th>Salaries_($k)</th>\n",
       "    </tr>\n",
       "  </thead>\n",
       "  <tbody>\n",
       "    <tr>\n",
       "      <th>0</th>\n",
       "      <td>54</td>\n",
       "    </tr>\n",
       "    <tr>\n",
       "      <th>1</th>\n",
       "      <td>55</td>\n",
       "    </tr>\n",
       "    <tr>\n",
       "      <th>2</th>\n",
       "      <td>55</td>\n",
       "    </tr>\n",
       "    <tr>\n",
       "      <th>3</th>\n",
       "      <td>57</td>\n",
       "    </tr>\n",
       "    <tr>\n",
       "      <th>4</th>\n",
       "      <td>57</td>\n",
       "    </tr>\n",
       "  </tbody>\n",
       "</table>\n",
       "</div>"
      ],
      "text/plain": [
       "   Salaries_($k)\n",
       "0             54\n",
       "1             55\n",
       "2             55\n",
       "3             57\n",
       "4             57"
      ]
     },
     "metadata": {},
     "output_type": "display_data"
    },
    {
     "name": "stdout",
     "output_type": "stream",
     "text": [
      "\n",
      "fn: Prob201_15.xlsx\n",
      "shape: (57, 1)\n"
     ]
    },
    {
     "data": {
      "text/html": [
       "<div>\n",
       "<style scoped>\n",
       "    .dataframe tbody tr th:only-of-type {\n",
       "        vertical-align: middle;\n",
       "    }\n",
       "\n",
       "    .dataframe tbody tr th {\n",
       "        vertical-align: top;\n",
       "    }\n",
       "\n",
       "    .dataframe thead th {\n",
       "        text-align: right;\n",
       "    }\n",
       "</style>\n",
       "<table border=\"1\" class=\"dataframe\">\n",
       "  <thead>\n",
       "    <tr style=\"text-align: right;\">\n",
       "      <th></th>\n",
       "      <th>Finish times (to the nearest hour)</th>\n",
       "    </tr>\n",
       "  </thead>\n",
       "  <tbody>\n",
       "    <tr>\n",
       "      <th>0</th>\n",
       "      <td>261</td>\n",
       "    </tr>\n",
       "    <tr>\n",
       "      <th>1</th>\n",
       "      <td>271</td>\n",
       "    </tr>\n",
       "    <tr>\n",
       "      <th>2</th>\n",
       "      <td>236</td>\n",
       "    </tr>\n",
       "    <tr>\n",
       "      <th>3</th>\n",
       "      <td>244</td>\n",
       "    </tr>\n",
       "    <tr>\n",
       "      <th>4</th>\n",
       "      <td>279</td>\n",
       "    </tr>\n",
       "  </tbody>\n",
       "</table>\n",
       "</div>"
      ],
      "text/plain": [
       "   Finish times (to the nearest hour)\n",
       "0                                 261\n",
       "1                                 271\n",
       "2                                 236\n",
       "3                                 244\n",
       "4                                 279"
      ]
     },
     "metadata": {},
     "output_type": "display_data"
    },
    {
     "name": "stdout",
     "output_type": "stream",
     "text": [
      "\n",
      "fn: RProb0208.xls\n",
      "shape: (50, 1)\n"
     ]
    },
    {
     "data": {
      "text/html": [
       "<div>\n",
       "<style scoped>\n",
       "    .dataframe tbody tr th:only-of-type {\n",
       "        vertical-align: middle;\n",
       "    }\n",
       "\n",
       "    .dataframe tbody tr th {\n",
       "        vertical-align: top;\n",
       "    }\n",
       "\n",
       "    .dataframe thead th {\n",
       "        text-align: right;\n",
       "    }\n",
       "</style>\n",
       "<table border=\"1\" class=\"dataframe\">\n",
       "  <thead>\n",
       "    <tr style=\"text-align: right;\">\n",
       "      <th></th>\n",
       "      <th>age_(years)</th>\n",
       "    </tr>\n",
       "  </thead>\n",
       "  <tbody>\n",
       "    <tr>\n",
       "      <th>0</th>\n",
       "      <td>46</td>\n",
       "    </tr>\n",
       "    <tr>\n",
       "      <th>1</th>\n",
       "      <td>16</td>\n",
       "    </tr>\n",
       "    <tr>\n",
       "      <th>2</th>\n",
       "      <td>41</td>\n",
       "    </tr>\n",
       "    <tr>\n",
       "      <th>3</th>\n",
       "      <td>26</td>\n",
       "    </tr>\n",
       "    <tr>\n",
       "      <th>4</th>\n",
       "      <td>22</td>\n",
       "    </tr>\n",
       "  </tbody>\n",
       "</table>\n",
       "</div>"
      ],
      "text/plain": [
       "   age_(years)\n",
       "0           46\n",
       "1           16\n",
       "2           41\n",
       "3           26\n",
       "4           22"
      ]
     },
     "metadata": {},
     "output_type": "display_data"
    },
    {
     "name": "stdout",
     "output_type": "stream",
     "text": [
      "\n",
      "fn: RProb0209.xls\n",
      "shape: (60, 1)\n"
     ]
    },
    {
     "data": {
      "text/html": [
       "<div>\n",
       "<style scoped>\n",
       "    .dataframe tbody tr th:only-of-type {\n",
       "        vertical-align: middle;\n",
       "    }\n",
       "\n",
       "    .dataframe tbody tr th {\n",
       "        vertical-align: top;\n",
       "    }\n",
       "\n",
       "    .dataframe thead th {\n",
       "        text-align: right;\n",
       "    }\n",
       "</style>\n",
       "<table border=\"1\" class=\"dataframe\">\n",
       "  <thead>\n",
       "    <tr style=\"text-align: right;\">\n",
       "      <th></th>\n",
       "      <th>circum_(mm)</th>\n",
       "    </tr>\n",
       "  </thead>\n",
       "  <tbody>\n",
       "    <tr>\n",
       "      <th>0</th>\n",
       "      <td>108</td>\n",
       "    </tr>\n",
       "    <tr>\n",
       "      <th>1</th>\n",
       "      <td>99</td>\n",
       "    </tr>\n",
       "    <tr>\n",
       "      <th>2</th>\n",
       "      <td>106</td>\n",
       "    </tr>\n",
       "    <tr>\n",
       "      <th>3</th>\n",
       "      <td>102</td>\n",
       "    </tr>\n",
       "    <tr>\n",
       "      <th>4</th>\n",
       "      <td>115</td>\n",
       "    </tr>\n",
       "  </tbody>\n",
       "</table>\n",
       "</div>"
      ],
      "text/plain": [
       "   circum_(mm)\n",
       "0          108\n",
       "1           99\n",
       "2          106\n",
       "3          102\n",
       "4          115"
      ]
     },
     "metadata": {},
     "output_type": "display_data"
    },
    {
     "name": "stdout",
     "output_type": "stream",
     "text": [
      "\n",
      "fn: RProb0210.xls\n",
      "shape: (5, 2)\n"
     ]
    },
    {
     "data": {
      "text/html": [
       "<div>\n",
       "<style scoped>\n",
       "    .dataframe tbody tr th:only-of-type {\n",
       "        vertical-align: middle;\n",
       "    }\n",
       "\n",
       "    .dataframe tbody tr th {\n",
       "        vertical-align: top;\n",
       "    }\n",
       "\n",
       "    .dataframe thead th {\n",
       "        text-align: right;\n",
       "    }\n",
       "</style>\n",
       "<table border=\"1\" class=\"dataframe\">\n",
       "  <thead>\n",
       "    <tr style=\"text-align: right;\">\n",
       "      <th></th>\n",
       "      <th>Case</th>\n",
       "      <th>Filings_(k)</th>\n",
       "    </tr>\n",
       "  </thead>\n",
       "  <tbody>\n",
       "    <tr>\n",
       "      <th>0</th>\n",
       "      <td>Contracts</td>\n",
       "      <td>107</td>\n",
       "    </tr>\n",
       "    <tr>\n",
       "      <th>1</th>\n",
       "      <td>Torts</td>\n",
       "      <td>191</td>\n",
       "    </tr>\n",
       "    <tr>\n",
       "      <th>2</th>\n",
       "      <td>Abs_Liability</td>\n",
       "      <td>49</td>\n",
       "    </tr>\n",
       "    <tr>\n",
       "      <th>3</th>\n",
       "      <td>Other_Liability</td>\n",
       "      <td>38</td>\n",
       "    </tr>\n",
       "    <tr>\n",
       "      <th>4</th>\n",
       "      <td>Other</td>\n",
       "      <td>21</td>\n",
       "    </tr>\n",
       "  </tbody>\n",
       "</table>\n",
       "</div>"
      ],
      "text/plain": [
       "              Case  Filings_(k)\n",
       "0        Contracts          107\n",
       "1            Torts          191\n",
       "2    Abs_Liability           49\n",
       "3  Other_Liability           38\n",
       "4            Other           21"
      ]
     },
     "metadata": {},
     "output_type": "display_data"
    },
    {
     "name": "stdout",
     "output_type": "stream",
     "text": [
      "\n",
      "fn: RProb0211.csv\n",
      "shape: (15, 29)\n"
     ]
    },
    {
     "data": {
      "text/html": [
       "<div>\n",
       "<style scoped>\n",
       "    .dataframe tbody tr th:only-of-type {\n",
       "        vertical-align: middle;\n",
       "    }\n",
       "\n",
       "    .dataframe tbody tr th {\n",
       "        vertical-align: top;\n",
       "    }\n",
       "\n",
       "    .dataframe thead th {\n",
       "        text-align: right;\n",
       "    }\n",
       "</style>\n",
       "<table border=\"1\" class=\"dataframe\">\n",
       "  <thead>\n",
       "    <tr style=\"text-align: right;\">\n",
       "      <th></th>\n",
       "      <th>119</th>\n",
       "      <th>5</th>\n",
       "      <th>6</th>\n",
       "      <th>Unnamed: 3</th>\n",
       "      <th>Unnamed: 4</th>\n",
       "      <th>Unnamed: 5</th>\n",
       "      <th>Unnamed: 6</th>\n",
       "      <th>Unnamed: 7</th>\n",
       "      <th>Unnamed: 8</th>\n",
       "      <th>Unnamed: 9</th>\n",
       "      <th>...</th>\n",
       "      <th>Unnamed: 19</th>\n",
       "      <th>Unnamed: 20</th>\n",
       "      <th>Unnamed: 21</th>\n",
       "      <th>Unnamed: 22</th>\n",
       "      <th>Unnamed: 23</th>\n",
       "      <th>Unnamed: 24</th>\n",
       "      <th>Unnamed: 25</th>\n",
       "      <th>Unnamed: 26</th>\n",
       "      <th>Unnamed: 27</th>\n",
       "      <th>Unnamed: 28</th>\n",
       "    </tr>\n",
       "  </thead>\n",
       "  <tbody>\n",
       "    <tr>\n",
       "      <th>0</th>\n",
       "      <td>120</td>\n",
       "      <td>0.0</td>\n",
       "      <td>0.0</td>\n",
       "      <td>1.0</td>\n",
       "      <td>2.0</td>\n",
       "      <td>3.0</td>\n",
       "      <td>3.0</td>\n",
       "      <td>3.0</td>\n",
       "      <td>3.0</td>\n",
       "      <td>3.0</td>\n",
       "      <td>...</td>\n",
       "      <td>3.0</td>\n",
       "      <td>3.0</td>\n",
       "      <td>3.0</td>\n",
       "      <td>3.0</td>\n",
       "      <td>3.0</td>\n",
       "      <td>3.0</td>\n",
       "      <td>3.0</td>\n",
       "      <td>3.0</td>\n",
       "      <td>3.0</td>\n",
       "      <td>3.0</td>\n",
       "    </tr>\n",
       "    <tr>\n",
       "      <th>1</th>\n",
       "      <td>120</td>\n",
       "      <td>NaN</td>\n",
       "      <td>NaN</td>\n",
       "      <td>NaN</td>\n",
       "      <td>NaN</td>\n",
       "      <td>NaN</td>\n",
       "      <td>NaN</td>\n",
       "      <td>NaN</td>\n",
       "      <td>NaN</td>\n",
       "      <td>NaN</td>\n",
       "      <td>...</td>\n",
       "      <td>NaN</td>\n",
       "      <td>NaN</td>\n",
       "      <td>NaN</td>\n",
       "      <td>NaN</td>\n",
       "      <td>NaN</td>\n",
       "      <td>NaN</td>\n",
       "      <td>NaN</td>\n",
       "      <td>NaN</td>\n",
       "      <td>NaN</td>\n",
       "      <td>NaN</td>\n",
       "    </tr>\n",
       "    <tr>\n",
       "      <th>2</th>\n",
       "      <td>121</td>\n",
       "      <td>2.0</td>\n",
       "      <td>NaN</td>\n",
       "      <td>NaN</td>\n",
       "      <td>NaN</td>\n",
       "      <td>NaN</td>\n",
       "      <td>NaN</td>\n",
       "      <td>NaN</td>\n",
       "      <td>NaN</td>\n",
       "      <td>NaN</td>\n",
       "      <td>...</td>\n",
       "      <td>NaN</td>\n",
       "      <td>NaN</td>\n",
       "      <td>NaN</td>\n",
       "      <td>NaN</td>\n",
       "      <td>NaN</td>\n",
       "      <td>NaN</td>\n",
       "      <td>NaN</td>\n",
       "      <td>NaN</td>\n",
       "      <td>NaN</td>\n",
       "      <td>NaN</td>\n",
       "    </tr>\n",
       "    <tr>\n",
       "      <th>3</th>\n",
       "      <td>121</td>\n",
       "      <td>5.0</td>\n",
       "      <td>5.0</td>\n",
       "      <td>NaN</td>\n",
       "      <td>NaN</td>\n",
       "      <td>NaN</td>\n",
       "      <td>NaN</td>\n",
       "      <td>NaN</td>\n",
       "      <td>NaN</td>\n",
       "      <td>NaN</td>\n",
       "      <td>...</td>\n",
       "      <td>NaN</td>\n",
       "      <td>NaN</td>\n",
       "      <td>NaN</td>\n",
       "      <td>NaN</td>\n",
       "      <td>NaN</td>\n",
       "      <td>NaN</td>\n",
       "      <td>NaN</td>\n",
       "      <td>NaN</td>\n",
       "      <td>NaN</td>\n",
       "      <td>NaN</td>\n",
       "    </tr>\n",
       "    <tr>\n",
       "      <th>4</th>\n",
       "      <td>122</td>\n",
       "      <td>0.0</td>\n",
       "      <td>0.0</td>\n",
       "      <td>1.0</td>\n",
       "      <td>1.0</td>\n",
       "      <td>1.0</td>\n",
       "      <td>1.0</td>\n",
       "      <td>2.0</td>\n",
       "      <td>2.0</td>\n",
       "      <td>3.0</td>\n",
       "      <td>...</td>\n",
       "      <td>NaN</td>\n",
       "      <td>NaN</td>\n",
       "      <td>NaN</td>\n",
       "      <td>NaN</td>\n",
       "      <td>NaN</td>\n",
       "      <td>NaN</td>\n",
       "      <td>NaN</td>\n",
       "      <td>NaN</td>\n",
       "      <td>NaN</td>\n",
       "      <td>NaN</td>\n",
       "    </tr>\n",
       "  </tbody>\n",
       "</table>\n",
       "<p>5 rows × 29 columns</p>\n",
       "</div>"
      ],
      "text/plain": [
       "   119    5    6  Unnamed: 3  Unnamed: 4  Unnamed: 5  Unnamed: 6  Unnamed: 7  \\\n",
       "0  120  0.0  0.0         1.0         2.0         3.0         3.0         3.0   \n",
       "1  120  NaN  NaN         NaN         NaN         NaN         NaN         NaN   \n",
       "2  121  2.0  NaN         NaN         NaN         NaN         NaN         NaN   \n",
       "3  121  5.0  5.0         NaN         NaN         NaN         NaN         NaN   \n",
       "4  122  0.0  0.0         1.0         1.0         1.0         1.0         2.0   \n",
       "\n",
       "   Unnamed: 8  Unnamed: 9  ...  Unnamed: 19  Unnamed: 20  Unnamed: 21  \\\n",
       "0         3.0         3.0  ...          3.0          3.0          3.0   \n",
       "1         NaN         NaN  ...          NaN          NaN          NaN   \n",
       "2         NaN         NaN  ...          NaN          NaN          NaN   \n",
       "3         NaN         NaN  ...          NaN          NaN          NaN   \n",
       "4         2.0         3.0  ...          NaN          NaN          NaN   \n",
       "\n",
       "   Unnamed: 22  Unnamed: 23  Unnamed: 24  Unnamed: 25  Unnamed: 26  \\\n",
       "0          3.0          3.0          3.0          3.0          3.0   \n",
       "1          NaN          NaN          NaN          NaN          NaN   \n",
       "2          NaN          NaN          NaN          NaN          NaN   \n",
       "3          NaN          NaN          NaN          NaN          NaN   \n",
       "4          NaN          NaN          NaN          NaN          NaN   \n",
       "\n",
       "   Unnamed: 27  Unnamed: 28  \n",
       "0          3.0          3.0  \n",
       "1          NaN          NaN  \n",
       "2          NaN          NaN  \n",
       "3          NaN          NaN  \n",
       "4          NaN          NaN  \n",
       "\n",
       "[5 rows x 29 columns]"
      ]
     },
     "metadata": {},
     "output_type": "display_data"
    },
    {
     "name": "stdout",
     "output_type": "stream",
     "text": [
      "\n",
      "fn: RProb0211.xls\n",
      "shape: (15, 29)\n"
     ]
    },
    {
     "data": {
      "text/html": [
       "<div>\n",
       "<style scoped>\n",
       "    .dataframe tbody tr th:only-of-type {\n",
       "        vertical-align: middle;\n",
       "    }\n",
       "\n",
       "    .dataframe tbody tr th {\n",
       "        vertical-align: top;\n",
       "    }\n",
       "\n",
       "    .dataframe thead th {\n",
       "        text-align: right;\n",
       "    }\n",
       "</style>\n",
       "<table border=\"1\" class=\"dataframe\">\n",
       "  <thead>\n",
       "    <tr style=\"text-align: right;\">\n",
       "      <th></th>\n",
       "      <th>119</th>\n",
       "      <th>5</th>\n",
       "      <th>6</th>\n",
       "      <th>Unnamed: 3</th>\n",
       "      <th>Unnamed: 4</th>\n",
       "      <th>Unnamed: 5</th>\n",
       "      <th>Unnamed: 6</th>\n",
       "      <th>Unnamed: 7</th>\n",
       "      <th>Unnamed: 8</th>\n",
       "      <th>Unnamed: 9</th>\n",
       "      <th>...</th>\n",
       "      <th>Unnamed: 19</th>\n",
       "      <th>Unnamed: 20</th>\n",
       "      <th>Unnamed: 21</th>\n",
       "      <th>Unnamed: 22</th>\n",
       "      <th>Unnamed: 23</th>\n",
       "      <th>Unnamed: 24</th>\n",
       "      <th>Unnamed: 25</th>\n",
       "      <th>Unnamed: 26</th>\n",
       "      <th>Unnamed: 27</th>\n",
       "      <th>Unnamed: 28</th>\n",
       "    </tr>\n",
       "  </thead>\n",
       "  <tbody>\n",
       "    <tr>\n",
       "      <th>0</th>\n",
       "      <td>120</td>\n",
       "      <td>0.0</td>\n",
       "      <td>0.0</td>\n",
       "      <td>1.0</td>\n",
       "      <td>2.0</td>\n",
       "      <td>3.0</td>\n",
       "      <td>3.0</td>\n",
       "      <td>3.0</td>\n",
       "      <td>3.0</td>\n",
       "      <td>3.0</td>\n",
       "      <td>...</td>\n",
       "      <td>3.0</td>\n",
       "      <td>3.0</td>\n",
       "      <td>3.0</td>\n",
       "      <td>3.0</td>\n",
       "      <td>3.0</td>\n",
       "      <td>3.0</td>\n",
       "      <td>3.0</td>\n",
       "      <td>3.0</td>\n",
       "      <td>3.0</td>\n",
       "      <td>3.0</td>\n",
       "    </tr>\n",
       "    <tr>\n",
       "      <th>1</th>\n",
       "      <td>120</td>\n",
       "      <td>NaN</td>\n",
       "      <td>NaN</td>\n",
       "      <td>NaN</td>\n",
       "      <td>NaN</td>\n",
       "      <td>NaN</td>\n",
       "      <td>NaN</td>\n",
       "      <td>NaN</td>\n",
       "      <td>NaN</td>\n",
       "      <td>NaN</td>\n",
       "      <td>...</td>\n",
       "      <td>NaN</td>\n",
       "      <td>NaN</td>\n",
       "      <td>NaN</td>\n",
       "      <td>NaN</td>\n",
       "      <td>NaN</td>\n",
       "      <td>NaN</td>\n",
       "      <td>NaN</td>\n",
       "      <td>NaN</td>\n",
       "      <td>NaN</td>\n",
       "      <td>NaN</td>\n",
       "    </tr>\n",
       "    <tr>\n",
       "      <th>2</th>\n",
       "      <td>121</td>\n",
       "      <td>2.0</td>\n",
       "      <td>NaN</td>\n",
       "      <td>NaN</td>\n",
       "      <td>NaN</td>\n",
       "      <td>NaN</td>\n",
       "      <td>NaN</td>\n",
       "      <td>NaN</td>\n",
       "      <td>NaN</td>\n",
       "      <td>NaN</td>\n",
       "      <td>...</td>\n",
       "      <td>NaN</td>\n",
       "      <td>NaN</td>\n",
       "      <td>NaN</td>\n",
       "      <td>NaN</td>\n",
       "      <td>NaN</td>\n",
       "      <td>NaN</td>\n",
       "      <td>NaN</td>\n",
       "      <td>NaN</td>\n",
       "      <td>NaN</td>\n",
       "      <td>NaN</td>\n",
       "    </tr>\n",
       "    <tr>\n",
       "      <th>3</th>\n",
       "      <td>121</td>\n",
       "      <td>5.0</td>\n",
       "      <td>5.0</td>\n",
       "      <td>NaN</td>\n",
       "      <td>NaN</td>\n",
       "      <td>NaN</td>\n",
       "      <td>NaN</td>\n",
       "      <td>NaN</td>\n",
       "      <td>NaN</td>\n",
       "      <td>NaN</td>\n",
       "      <td>...</td>\n",
       "      <td>NaN</td>\n",
       "      <td>NaN</td>\n",
       "      <td>NaN</td>\n",
       "      <td>NaN</td>\n",
       "      <td>NaN</td>\n",
       "      <td>NaN</td>\n",
       "      <td>NaN</td>\n",
       "      <td>NaN</td>\n",
       "      <td>NaN</td>\n",
       "      <td>NaN</td>\n",
       "    </tr>\n",
       "    <tr>\n",
       "      <th>4</th>\n",
       "      <td>122</td>\n",
       "      <td>0.0</td>\n",
       "      <td>0.0</td>\n",
       "      <td>1.0</td>\n",
       "      <td>1.0</td>\n",
       "      <td>1.0</td>\n",
       "      <td>1.0</td>\n",
       "      <td>2.0</td>\n",
       "      <td>2.0</td>\n",
       "      <td>3.0</td>\n",
       "      <td>...</td>\n",
       "      <td>NaN</td>\n",
       "      <td>NaN</td>\n",
       "      <td>NaN</td>\n",
       "      <td>NaN</td>\n",
       "      <td>NaN</td>\n",
       "      <td>NaN</td>\n",
       "      <td>NaN</td>\n",
       "      <td>NaN</td>\n",
       "      <td>NaN</td>\n",
       "      <td>NaN</td>\n",
       "    </tr>\n",
       "  </tbody>\n",
       "</table>\n",
       "<p>5 rows × 29 columns</p>\n",
       "</div>"
      ],
      "text/plain": [
       "   119    5    6  Unnamed: 3  Unnamed: 4  Unnamed: 5  Unnamed: 6  Unnamed: 7  \\\n",
       "0  120  0.0  0.0         1.0         2.0         3.0         3.0         3.0   \n",
       "1  120  NaN  NaN         NaN         NaN         NaN         NaN         NaN   \n",
       "2  121  2.0  NaN         NaN         NaN         NaN         NaN         NaN   \n",
       "3  121  5.0  5.0         NaN         NaN         NaN         NaN         NaN   \n",
       "4  122  0.0  0.0         1.0         1.0         1.0         1.0         2.0   \n",
       "\n",
       "   Unnamed: 8  Unnamed: 9  ...  Unnamed: 19  Unnamed: 20  Unnamed: 21  \\\n",
       "0         3.0         3.0  ...          3.0          3.0          3.0   \n",
       "1         NaN         NaN  ...          NaN          NaN          NaN   \n",
       "2         NaN         NaN  ...          NaN          NaN          NaN   \n",
       "3         NaN         NaN  ...          NaN          NaN          NaN   \n",
       "4         2.0         3.0  ...          NaN          NaN          NaN   \n",
       "\n",
       "   Unnamed: 22  Unnamed: 23  Unnamed: 24  Unnamed: 25  Unnamed: 26  \\\n",
       "0          3.0          3.0          3.0          3.0          3.0   \n",
       "1          NaN          NaN          NaN          NaN          NaN   \n",
       "2          NaN          NaN          NaN          NaN          NaN   \n",
       "3          NaN          NaN          NaN          NaN          NaN   \n",
       "4          NaN          NaN          NaN          NaN          NaN   \n",
       "\n",
       "   Unnamed: 27  Unnamed: 28  \n",
       "0          3.0          3.0  \n",
       "1          NaN          NaN  \n",
       "2          NaN          NaN  \n",
       "3          NaN          NaN  \n",
       "4          NaN          NaN  \n",
       "\n",
       "[5 rows x 29 columns]"
      ]
     },
     "metadata": {},
     "output_type": "display_data"
    },
    {
     "name": "stdout",
     "output_type": "stream",
     "text": [
      "\n",
      "fn: RProb0214.xls\n",
      "shape: (50, 1)\n"
     ]
    },
    {
     "data": {
      "text/html": [
       "<div>\n",
       "<style scoped>\n",
       "    .dataframe tbody tr th:only-of-type {\n",
       "        vertical-align: middle;\n",
       "    }\n",
       "\n",
       "    .dataframe tbody tr th {\n",
       "        vertical-align: top;\n",
       "    }\n",
       "\n",
       "    .dataframe thead th {\n",
       "        text-align: right;\n",
       "    }\n",
       "</style>\n",
       "<table border=\"1\" class=\"dataframe\">\n",
       "  <thead>\n",
       "    <tr style=\"text-align: right;\">\n",
       "      <th></th>\n",
       "      <th>age_(years)</th>\n",
       "    </tr>\n",
       "  </thead>\n",
       "  <tbody>\n",
       "    <tr>\n",
       "      <th>0</th>\n",
       "      <td>46</td>\n",
       "    </tr>\n",
       "    <tr>\n",
       "      <th>1</th>\n",
       "      <td>16</td>\n",
       "    </tr>\n",
       "    <tr>\n",
       "      <th>2</th>\n",
       "      <td>41</td>\n",
       "    </tr>\n",
       "    <tr>\n",
       "      <th>3</th>\n",
       "      <td>26</td>\n",
       "    </tr>\n",
       "    <tr>\n",
       "      <th>4</th>\n",
       "      <td>22</td>\n",
       "    </tr>\n",
       "  </tbody>\n",
       "</table>\n",
       "</div>"
      ],
      "text/plain": [
       "   age_(years)\n",
       "0           46\n",
       "1           16\n",
       "2           41\n",
       "3           26\n",
       "4           22"
      ]
     },
     "metadata": {},
     "output_type": "display_data"
    },
    {
     "name": "stdout",
     "output_type": "stream",
     "text": [
      "\n",
      "fn: RProb0215.xls\n",
      "shape: (60, 1)\n"
     ]
    },
    {
     "data": {
      "text/html": [
       "<div>\n",
       "<style scoped>\n",
       "    .dataframe tbody tr th:only-of-type {\n",
       "        vertical-align: middle;\n",
       "    }\n",
       "\n",
       "    .dataframe tbody tr th {\n",
       "        vertical-align: top;\n",
       "    }\n",
       "\n",
       "    .dataframe thead th {\n",
       "        text-align: right;\n",
       "    }\n",
       "</style>\n",
       "<table border=\"1\" class=\"dataframe\">\n",
       "  <thead>\n",
       "    <tr style=\"text-align: right;\">\n",
       "      <th></th>\n",
       "      <th>circum_(mm)</th>\n",
       "    </tr>\n",
       "  </thead>\n",
       "  <tbody>\n",
       "    <tr>\n",
       "      <th>0</th>\n",
       "      <td>108</td>\n",
       "    </tr>\n",
       "    <tr>\n",
       "      <th>1</th>\n",
       "      <td>99</td>\n",
       "    </tr>\n",
       "    <tr>\n",
       "      <th>2</th>\n",
       "      <td>106</td>\n",
       "    </tr>\n",
       "    <tr>\n",
       "      <th>3</th>\n",
       "      <td>102</td>\n",
       "    </tr>\n",
       "    <tr>\n",
       "      <th>4</th>\n",
       "      <td>115</td>\n",
       "    </tr>\n",
       "  </tbody>\n",
       "</table>\n",
       "</div>"
      ],
      "text/plain": [
       "   circum_(mm)\n",
       "0          108\n",
       "1           99\n",
       "2          106\n",
       "3          102\n",
       "4          115"
      ]
     },
     "metadata": {},
     "output_type": "display_data"
    },
    {
     "name": "stdout",
     "output_type": "stream",
     "text": [
      "\n",
      "fn: RProb0216.xls\n",
      "shape: (5, 2)\n"
     ]
    },
    {
     "data": {
      "text/html": [
       "<div>\n",
       "<style scoped>\n",
       "    .dataframe tbody tr th:only-of-type {\n",
       "        vertical-align: middle;\n",
       "    }\n",
       "\n",
       "    .dataframe tbody tr th {\n",
       "        vertical-align: top;\n",
       "    }\n",
       "\n",
       "    .dataframe thead th {\n",
       "        text-align: right;\n",
       "    }\n",
       "</style>\n",
       "<table border=\"1\" class=\"dataframe\">\n",
       "  <thead>\n",
       "    <tr style=\"text-align: right;\">\n",
       "      <th></th>\n",
       "      <th>Case</th>\n",
       "      <th>Filings_(k)</th>\n",
       "    </tr>\n",
       "  </thead>\n",
       "  <tbody>\n",
       "    <tr>\n",
       "      <th>0</th>\n",
       "      <td>Contracts</td>\n",
       "      <td>107</td>\n",
       "    </tr>\n",
       "    <tr>\n",
       "      <th>1</th>\n",
       "      <td>Torts</td>\n",
       "      <td>191</td>\n",
       "    </tr>\n",
       "    <tr>\n",
       "      <th>2</th>\n",
       "      <td>Abs_Liability</td>\n",
       "      <td>49</td>\n",
       "    </tr>\n",
       "    <tr>\n",
       "      <th>3</th>\n",
       "      <td>Other_Liability</td>\n",
       "      <td>38</td>\n",
       "    </tr>\n",
       "    <tr>\n",
       "      <th>4</th>\n",
       "      <td>Other</td>\n",
       "      <td>21</td>\n",
       "    </tr>\n",
       "  </tbody>\n",
       "</table>\n",
       "</div>"
      ],
      "text/plain": [
       "              Case  Filings_(k)\n",
       "0        Contracts          107\n",
       "1            Torts          191\n",
       "2    Abs_Liability           49\n",
       "3  Other_Liability           38\n",
       "4            Other           21"
      ]
     },
     "metadata": {},
     "output_type": "display_data"
    },
    {
     "name": "stdout",
     "output_type": "stream",
     "text": [
      "\n",
      "fn: RProb0217.xls\n",
      "shape: (15, 29)\n"
     ]
    },
    {
     "data": {
      "text/html": [
       "<div>\n",
       "<style scoped>\n",
       "    .dataframe tbody tr th:only-of-type {\n",
       "        vertical-align: middle;\n",
       "    }\n",
       "\n",
       "    .dataframe tbody tr th {\n",
       "        vertical-align: top;\n",
       "    }\n",
       "\n",
       "    .dataframe thead th {\n",
       "        text-align: right;\n",
       "    }\n",
       "</style>\n",
       "<table border=\"1\" class=\"dataframe\">\n",
       "  <thead>\n",
       "    <tr style=\"text-align: right;\">\n",
       "      <th></th>\n",
       "      <th>119</th>\n",
       "      <th>5</th>\n",
       "      <th>6</th>\n",
       "      <th>Unnamed: 3</th>\n",
       "      <th>Unnamed: 4</th>\n",
       "      <th>Unnamed: 5</th>\n",
       "      <th>Unnamed: 6</th>\n",
       "      <th>Unnamed: 7</th>\n",
       "      <th>Unnamed: 8</th>\n",
       "      <th>Unnamed: 9</th>\n",
       "      <th>...</th>\n",
       "      <th>Unnamed: 19</th>\n",
       "      <th>Unnamed: 20</th>\n",
       "      <th>Unnamed: 21</th>\n",
       "      <th>Unnamed: 22</th>\n",
       "      <th>Unnamed: 23</th>\n",
       "      <th>Unnamed: 24</th>\n",
       "      <th>Unnamed: 25</th>\n",
       "      <th>Unnamed: 26</th>\n",
       "      <th>Unnamed: 27</th>\n",
       "      <th>Unnamed: 28</th>\n",
       "    </tr>\n",
       "  </thead>\n",
       "  <tbody>\n",
       "    <tr>\n",
       "      <th>0</th>\n",
       "      <td>120</td>\n",
       "      <td>0.0</td>\n",
       "      <td>0.0</td>\n",
       "      <td>1.0</td>\n",
       "      <td>2.0</td>\n",
       "      <td>3.0</td>\n",
       "      <td>3.0</td>\n",
       "      <td>3.0</td>\n",
       "      <td>3.0</td>\n",
       "      <td>3.0</td>\n",
       "      <td>...</td>\n",
       "      <td>3.0</td>\n",
       "      <td>3.0</td>\n",
       "      <td>3.0</td>\n",
       "      <td>3.0</td>\n",
       "      <td>3.0</td>\n",
       "      <td>3.0</td>\n",
       "      <td>3.0</td>\n",
       "      <td>3.0</td>\n",
       "      <td>3.0</td>\n",
       "      <td>3.0</td>\n",
       "    </tr>\n",
       "    <tr>\n",
       "      <th>1</th>\n",
       "      <td>120</td>\n",
       "      <td>NaN</td>\n",
       "      <td>NaN</td>\n",
       "      <td>NaN</td>\n",
       "      <td>NaN</td>\n",
       "      <td>NaN</td>\n",
       "      <td>NaN</td>\n",
       "      <td>NaN</td>\n",
       "      <td>NaN</td>\n",
       "      <td>NaN</td>\n",
       "      <td>...</td>\n",
       "      <td>NaN</td>\n",
       "      <td>NaN</td>\n",
       "      <td>NaN</td>\n",
       "      <td>NaN</td>\n",
       "      <td>NaN</td>\n",
       "      <td>NaN</td>\n",
       "      <td>NaN</td>\n",
       "      <td>NaN</td>\n",
       "      <td>NaN</td>\n",
       "      <td>NaN</td>\n",
       "    </tr>\n",
       "    <tr>\n",
       "      <th>2</th>\n",
       "      <td>121</td>\n",
       "      <td>2.0</td>\n",
       "      <td>NaN</td>\n",
       "      <td>NaN</td>\n",
       "      <td>NaN</td>\n",
       "      <td>NaN</td>\n",
       "      <td>NaN</td>\n",
       "      <td>NaN</td>\n",
       "      <td>NaN</td>\n",
       "      <td>NaN</td>\n",
       "      <td>...</td>\n",
       "      <td>NaN</td>\n",
       "      <td>NaN</td>\n",
       "      <td>NaN</td>\n",
       "      <td>NaN</td>\n",
       "      <td>NaN</td>\n",
       "      <td>NaN</td>\n",
       "      <td>NaN</td>\n",
       "      <td>NaN</td>\n",
       "      <td>NaN</td>\n",
       "      <td>NaN</td>\n",
       "    </tr>\n",
       "    <tr>\n",
       "      <th>3</th>\n",
       "      <td>121</td>\n",
       "      <td>5.0</td>\n",
       "      <td>5.0</td>\n",
       "      <td>NaN</td>\n",
       "      <td>NaN</td>\n",
       "      <td>NaN</td>\n",
       "      <td>NaN</td>\n",
       "      <td>NaN</td>\n",
       "      <td>NaN</td>\n",
       "      <td>NaN</td>\n",
       "      <td>...</td>\n",
       "      <td>NaN</td>\n",
       "      <td>NaN</td>\n",
       "      <td>NaN</td>\n",
       "      <td>NaN</td>\n",
       "      <td>NaN</td>\n",
       "      <td>NaN</td>\n",
       "      <td>NaN</td>\n",
       "      <td>NaN</td>\n",
       "      <td>NaN</td>\n",
       "      <td>NaN</td>\n",
       "    </tr>\n",
       "    <tr>\n",
       "      <th>4</th>\n",
       "      <td>122</td>\n",
       "      <td>0.0</td>\n",
       "      <td>0.0</td>\n",
       "      <td>1.0</td>\n",
       "      <td>1.0</td>\n",
       "      <td>1.0</td>\n",
       "      <td>1.0</td>\n",
       "      <td>2.0</td>\n",
       "      <td>2.0</td>\n",
       "      <td>3.0</td>\n",
       "      <td>...</td>\n",
       "      <td>NaN</td>\n",
       "      <td>NaN</td>\n",
       "      <td>NaN</td>\n",
       "      <td>NaN</td>\n",
       "      <td>NaN</td>\n",
       "      <td>NaN</td>\n",
       "      <td>NaN</td>\n",
       "      <td>NaN</td>\n",
       "      <td>NaN</td>\n",
       "      <td>NaN</td>\n",
       "    </tr>\n",
       "  </tbody>\n",
       "</table>\n",
       "<p>5 rows × 29 columns</p>\n",
       "</div>"
      ],
      "text/plain": [
       "   119    5    6  Unnamed: 3  Unnamed: 4  Unnamed: 5  Unnamed: 6  Unnamed: 7  \\\n",
       "0  120  0.0  0.0         1.0         2.0         3.0         3.0         3.0   \n",
       "1  120  NaN  NaN         NaN         NaN         NaN         NaN         NaN   \n",
       "2  121  2.0  NaN         NaN         NaN         NaN         NaN         NaN   \n",
       "3  121  5.0  5.0         NaN         NaN         NaN         NaN         NaN   \n",
       "4  122  0.0  0.0         1.0         1.0         1.0         1.0         2.0   \n",
       "\n",
       "   Unnamed: 8  Unnamed: 9  ...  Unnamed: 19  Unnamed: 20  Unnamed: 21  \\\n",
       "0         3.0         3.0  ...          3.0          3.0          3.0   \n",
       "1         NaN         NaN  ...          NaN          NaN          NaN   \n",
       "2         NaN         NaN  ...          NaN          NaN          NaN   \n",
       "3         NaN         NaN  ...          NaN          NaN          NaN   \n",
       "4         2.0         3.0  ...          NaN          NaN          NaN   \n",
       "\n",
       "   Unnamed: 22  Unnamed: 23  Unnamed: 24  Unnamed: 25  Unnamed: 26  \\\n",
       "0          3.0          3.0          3.0          3.0          3.0   \n",
       "1          NaN          NaN          NaN          NaN          NaN   \n",
       "2          NaN          NaN          NaN          NaN          NaN   \n",
       "3          NaN          NaN          NaN          NaN          NaN   \n",
       "4          NaN          NaN          NaN          NaN          NaN   \n",
       "\n",
       "   Unnamed: 27  Unnamed: 28  \n",
       "0          3.0          3.0  \n",
       "1          NaN          NaN  \n",
       "2          NaN          NaN  \n",
       "3          NaN          NaN  \n",
       "4          NaN          NaN  \n",
       "\n",
       "[5 rows x 29 columns]"
      ]
     },
     "metadata": {},
     "output_type": "display_data"
    },
    {
     "name": "stdout",
     "output_type": "stream",
     "text": [
      "\n",
      "fn: Table0201.xls\n",
      "shape: (60, 1)\n"
     ]
    },
    {
     "data": {
      "text/html": [
       "<div>\n",
       "<style scoped>\n",
       "    .dataframe tbody tr th:only-of-type {\n",
       "        vertical-align: middle;\n",
       "    }\n",
       "\n",
       "    .dataframe tbody tr th {\n",
       "        vertical-align: top;\n",
       "    }\n",
       "\n",
       "    .dataframe thead th {\n",
       "        text-align: right;\n",
       "    }\n",
       "</style>\n",
       "<table border=\"1\" class=\"dataframe\">\n",
       "  <thead>\n",
       "    <tr style=\"text-align: right;\">\n",
       "      <th></th>\n",
       "      <th>distance (miles)</th>\n",
       "    </tr>\n",
       "  </thead>\n",
       "  <tbody>\n",
       "    <tr>\n",
       "      <th>0</th>\n",
       "      <td>13</td>\n",
       "    </tr>\n",
       "    <tr>\n",
       "      <th>1</th>\n",
       "      <td>47</td>\n",
       "    </tr>\n",
       "    <tr>\n",
       "      <th>2</th>\n",
       "      <td>10</td>\n",
       "    </tr>\n",
       "    <tr>\n",
       "      <th>3</th>\n",
       "      <td>3</td>\n",
       "    </tr>\n",
       "    <tr>\n",
       "      <th>4</th>\n",
       "      <td>16</td>\n",
       "    </tr>\n",
       "  </tbody>\n",
       "</table>\n",
       "</div>"
      ],
      "text/plain": [
       "   distance (miles)\n",
       "0                13\n",
       "1                47\n",
       "2                10\n",
       "3                 3\n",
       "4                16"
      ]
     },
     "metadata": {},
     "output_type": "display_data"
    },
    {
     "name": "stdout",
     "output_type": "stream",
     "text": [
      "\n",
      "fn: Table0202.xls\n",
      "shape: (6, 4)\n"
     ]
    },
    {
     "data": {
      "text/html": [
       "<div>\n",
       "<style scoped>\n",
       "    .dataframe tbody tr th:only-of-type {\n",
       "        vertical-align: middle;\n",
       "    }\n",
       "\n",
       "    .dataframe tbody tr th {\n",
       "        vertical-align: top;\n",
       "    }\n",
       "\n",
       "    .dataframe thead th {\n",
       "        text-align: right;\n",
       "    }\n",
       "</style>\n",
       "<table border=\"1\" class=\"dataframe\">\n",
       "  <thead>\n",
       "    <tr style=\"text-align: right;\">\n",
       "      <th></th>\n",
       "      <th>Limits</th>\n",
       "      <th>Boundaries</th>\n",
       "      <th>Frequency</th>\n",
       "      <th>Midpoint</th>\n",
       "    </tr>\n",
       "  </thead>\n",
       "  <tbody>\n",
       "    <tr>\n",
       "      <th>0</th>\n",
       "      <td>1</td>\n",
       "      <td>0.5</td>\n",
       "      <td>14</td>\n",
       "      <td>4.5</td>\n",
       "    </tr>\n",
       "    <tr>\n",
       "      <th>1</th>\n",
       "      <td>9</td>\n",
       "      <td>8.5</td>\n",
       "      <td>21</td>\n",
       "      <td>12.5</td>\n",
       "    </tr>\n",
       "    <tr>\n",
       "      <th>2</th>\n",
       "      <td>17</td>\n",
       "      <td>16.5</td>\n",
       "      <td>11</td>\n",
       "      <td>20.5</td>\n",
       "    </tr>\n",
       "    <tr>\n",
       "      <th>3</th>\n",
       "      <td>25</td>\n",
       "      <td>24.5</td>\n",
       "      <td>6</td>\n",
       "      <td>28.5</td>\n",
       "    </tr>\n",
       "    <tr>\n",
       "      <th>4</th>\n",
       "      <td>33</td>\n",
       "      <td>32.5</td>\n",
       "      <td>4</td>\n",
       "      <td>36.5</td>\n",
       "    </tr>\n",
       "  </tbody>\n",
       "</table>\n",
       "</div>"
      ],
      "text/plain": [
       "   Limits  Boundaries  Frequency  Midpoint\n",
       "0       1         0.5         14       4.5\n",
       "1       9         8.5         21      12.5\n",
       "2      17        16.5         11      20.5\n",
       "3      25        24.5          6      28.5\n",
       "4      33        32.5          4      36.5"
      ]
     },
     "metadata": {},
     "output_type": "display_data"
    },
    {
     "name": "stdout",
     "output_type": "stream",
     "text": [
      "\n",
      "fn: Table0203.xls\n",
      "shape: (6, 3)\n"
     ]
    },
    {
     "data": {
      "text/html": [
       "<div>\n",
       "<style scoped>\n",
       "    .dataframe tbody tr th:only-of-type {\n",
       "        vertical-align: middle;\n",
       "    }\n",
       "\n",
       "    .dataframe tbody tr th {\n",
       "        vertical-align: top;\n",
       "    }\n",
       "\n",
       "    .dataframe thead th {\n",
       "        text-align: right;\n",
       "    }\n",
       "</style>\n",
       "<table border=\"1\" class=\"dataframe\">\n",
       "  <thead>\n",
       "    <tr style=\"text-align: right;\">\n",
       "      <th></th>\n",
       "      <th>Class</th>\n",
       "      <th>Freq</th>\n",
       "      <th>Rel_Freq</th>\n",
       "    </tr>\n",
       "  </thead>\n",
       "  <tbody>\n",
       "    <tr>\n",
       "      <th>0</th>\n",
       "      <td>1</td>\n",
       "      <td>14</td>\n",
       "      <td>0.23</td>\n",
       "    </tr>\n",
       "    <tr>\n",
       "      <th>1</th>\n",
       "      <td>9</td>\n",
       "      <td>21</td>\n",
       "      <td>0.35</td>\n",
       "    </tr>\n",
       "    <tr>\n",
       "      <th>2</th>\n",
       "      <td>17</td>\n",
       "      <td>11</td>\n",
       "      <td>0.18</td>\n",
       "    </tr>\n",
       "    <tr>\n",
       "      <th>3</th>\n",
       "      <td>25</td>\n",
       "      <td>6</td>\n",
       "      <td>0.10</td>\n",
       "    </tr>\n",
       "    <tr>\n",
       "      <th>4</th>\n",
       "      <td>33</td>\n",
       "      <td>4</td>\n",
       "      <td>0.07</td>\n",
       "    </tr>\n",
       "  </tbody>\n",
       "</table>\n",
       "</div>"
      ],
      "text/plain": [
       "   Class  Freq  Rel_Freq\n",
       "0      1    14      0.23\n",
       "1      9    21      0.35\n",
       "2     17    11      0.18\n",
       "3     25     6      0.10\n",
       "4     33     4      0.07"
      ]
     },
     "metadata": {},
     "output_type": "display_data"
    },
    {
     "name": "stdout",
     "output_type": "stream",
     "text": [
      "\n",
      "fn: Table0204.xls\n",
      "shape: (40, 1)\n"
     ]
    },
    {
     "data": {
      "text/html": [
       "<div>\n",
       "<style scoped>\n",
       "    .dataframe tbody tr th:only-of-type {\n",
       "        vertical-align: middle;\n",
       "    }\n",
       "\n",
       "    .dataframe tbody tr th {\n",
       "        vertical-align: top;\n",
       "    }\n",
       "\n",
       "    .dataframe thead th {\n",
       "        text-align: right;\n",
       "    }\n",
       "</style>\n",
       "<table border=\"1\" class=\"dataframe\">\n",
       "  <thead>\n",
       "    <tr style=\"text-align: right;\">\n",
       "      <th></th>\n",
       "      <th>Time_(min)</th>\n",
       "    </tr>\n",
       "  </thead>\n",
       "  <tbody>\n",
       "    <tr>\n",
       "      <th>0</th>\n",
       "      <td>1</td>\n",
       "    </tr>\n",
       "    <tr>\n",
       "      <th>1</th>\n",
       "      <td>5</td>\n",
       "    </tr>\n",
       "    <tr>\n",
       "      <th>2</th>\n",
       "      <td>5</td>\n",
       "    </tr>\n",
       "    <tr>\n",
       "      <th>3</th>\n",
       "      <td>6</td>\n",
       "    </tr>\n",
       "    <tr>\n",
       "      <th>4</th>\n",
       "      <td>7</td>\n",
       "    </tr>\n",
       "  </tbody>\n",
       "</table>\n",
       "</div>"
      ],
      "text/plain": [
       "   Time_(min)\n",
       "0           1\n",
       "1           5\n",
       "2           5\n",
       "3           6\n",
       "4           7"
      ]
     },
     "metadata": {},
     "output_type": "display_data"
    },
    {
     "name": "stdout",
     "output_type": "stream",
     "text": [
      "\n",
      "fn: Table0211.xls\n",
      "shape: (5, 4)\n"
     ]
    },
    {
     "data": {
      "text/html": [
       "<div>\n",
       "<style scoped>\n",
       "    .dataframe tbody tr th:only-of-type {\n",
       "        vertical-align: middle;\n",
       "    }\n",
       "\n",
       "    .dataframe tbody tr th {\n",
       "        vertical-align: top;\n",
       "    }\n",
       "\n",
       "    .dataframe thead th {\n",
       "        text-align: right;\n",
       "    }\n",
       "</style>\n",
       "<table border=\"1\" class=\"dataframe\">\n",
       "  <thead>\n",
       "    <tr style=\"text-align: right;\">\n",
       "      <th></th>\n",
       "      <th>Class_Lower</th>\n",
       "      <th>Class_Upper</th>\n",
       "      <th>Freq</th>\n",
       "      <th>Cumulative</th>\n",
       "    </tr>\n",
       "  </thead>\n",
       "  <tbody>\n",
       "    <tr>\n",
       "      <th>0</th>\n",
       "      <td>10.5</td>\n",
       "      <td>20.5</td>\n",
       "      <td>23</td>\n",
       "      <td>23</td>\n",
       "    </tr>\n",
       "    <tr>\n",
       "      <th>1</th>\n",
       "      <td>20.5</td>\n",
       "      <td>30.5</td>\n",
       "      <td>43</td>\n",
       "      <td>66</td>\n",
       "    </tr>\n",
       "    <tr>\n",
       "      <th>2</th>\n",
       "      <td>30.5</td>\n",
       "      <td>40.5</td>\n",
       "      <td>51</td>\n",
       "      <td>117</td>\n",
       "    </tr>\n",
       "    <tr>\n",
       "      <th>3</th>\n",
       "      <td>40.5</td>\n",
       "      <td>50.5</td>\n",
       "      <td>27</td>\n",
       "      <td>144</td>\n",
       "    </tr>\n",
       "    <tr>\n",
       "      <th>4</th>\n",
       "      <td>50.5</td>\n",
       "      <td>60.5</td>\n",
       "      <td>7</td>\n",
       "      <td>151</td>\n",
       "    </tr>\n",
       "  </tbody>\n",
       "</table>\n",
       "</div>"
      ],
      "text/plain": [
       "   Class_Lower  Class_Upper  Freq  Cumulative\n",
       "0         10.5         20.5    23          23\n",
       "1         20.5         30.5    43          66\n",
       "2         30.5         40.5    51         117\n",
       "3         40.5         50.5    27         144\n",
       "4         50.5         60.5     7         151"
      ]
     },
     "metadata": {},
     "output_type": "display_data"
    },
    {
     "name": "stdout",
     "output_type": "stream",
     "text": [
      "\n",
      "fn: Table0212.xls\n",
      "shape: (7, 2)\n"
     ]
    },
    {
     "data": {
      "text/html": [
       "<div>\n",
       "<style scoped>\n",
       "    .dataframe tbody tr th:only-of-type {\n",
       "        vertical-align: middle;\n",
       "    }\n",
       "\n",
       "    .dataframe tbody tr th {\n",
       "        vertical-align: top;\n",
       "    }\n",
       "\n",
       "    .dataframe thead th {\n",
       "        text-align: right;\n",
       "    }\n",
       "</style>\n",
       "<table border=\"1\" class=\"dataframe\">\n",
       "  <thead>\n",
       "    <tr style=\"text-align: right;\">\n",
       "      <th></th>\n",
       "      <th>Cause</th>\n",
       "      <th>Frequency</th>\n",
       "    </tr>\n",
       "  </thead>\n",
       "  <tbody>\n",
       "    <tr>\n",
       "      <th>0</th>\n",
       "      <td>Snoozing</td>\n",
       "      <td>15</td>\n",
       "    </tr>\n",
       "    <tr>\n",
       "      <th>1</th>\n",
       "      <td>car_trouble</td>\n",
       "      <td>5</td>\n",
       "    </tr>\n",
       "    <tr>\n",
       "      <th>2</th>\n",
       "      <td>breakfast</td>\n",
       "      <td>13</td>\n",
       "    </tr>\n",
       "    <tr>\n",
       "      <th>3</th>\n",
       "      <td>studying</td>\n",
       "      <td>20</td>\n",
       "    </tr>\n",
       "    <tr>\n",
       "      <th>4</th>\n",
       "      <td>dressing</td>\n",
       "      <td>8</td>\n",
       "    </tr>\n",
       "  </tbody>\n",
       "</table>\n",
       "</div>"
      ],
      "text/plain": [
       "         Cause  Frequency\n",
       "0     Snoozing         15\n",
       "1  car_trouble          5\n",
       "2    breakfast         13\n",
       "3     studying         20\n",
       "4     dressing          8"
      ]
     },
     "metadata": {},
     "output_type": "display_data"
    },
    {
     "name": "stdout",
     "output_type": "stream",
     "text": [
      "\n",
      "fn: Table0214.xls\n",
      "shape: (20, 1)\n"
     ]
    },
    {
     "data": {
      "text/html": [
       "<div>\n",
       "<style scoped>\n",
       "    .dataframe tbody tr th:only-of-type {\n",
       "        vertical-align: middle;\n",
       "    }\n",
       "\n",
       "    .dataframe tbody tr th {\n",
       "        vertical-align: top;\n",
       "    }\n",
       "\n",
       "    .dataframe thead th {\n",
       "        text-align: right;\n",
       "    }\n",
       "</style>\n",
       "<table border=\"1\" class=\"dataframe\">\n",
       "  <thead>\n",
       "    <tr style=\"text-align: right;\">\n",
       "      <th></th>\n",
       "      <th>distance_(miles)</th>\n",
       "    </tr>\n",
       "  </thead>\n",
       "  <tbody>\n",
       "    <tr>\n",
       "      <th>0</th>\n",
       "      <td>1.5</td>\n",
       "    </tr>\n",
       "    <tr>\n",
       "      <th>1</th>\n",
       "      <td>1.4</td>\n",
       "    </tr>\n",
       "    <tr>\n",
       "      <th>2</th>\n",
       "      <td>1.7</td>\n",
       "    </tr>\n",
       "    <tr>\n",
       "      <th>3</th>\n",
       "      <td>1.6</td>\n",
       "    </tr>\n",
       "    <tr>\n",
       "      <th>4</th>\n",
       "      <td>1.9</td>\n",
       "    </tr>\n",
       "  </tbody>\n",
       "</table>\n",
       "</div>"
      ],
      "text/plain": [
       "   distance_(miles)\n",
       "0               1.5\n",
       "1               1.4\n",
       "2               1.7\n",
       "3               1.6\n",
       "4               1.9"
      ]
     },
     "metadata": {},
     "output_type": "display_data"
    },
    {
     "name": "stdout",
     "output_type": "stream",
     "text": [
      "\n",
      "fn: Table0215.xls\n",
      "shape: (40, 1)\n"
     ]
    },
    {
     "data": {
      "text/html": [
       "<div>\n",
       "<style scoped>\n",
       "    .dataframe tbody tr th:only-of-type {\n",
       "        vertical-align: middle;\n",
       "    }\n",
       "\n",
       "    .dataframe tbody tr th {\n",
       "        vertical-align: top;\n",
       "    }\n",
       "\n",
       "    .dataframe thead th {\n",
       "        text-align: right;\n",
       "    }\n",
       "</style>\n",
       "<table border=\"1\" class=\"dataframe\">\n",
       "  <thead>\n",
       "    <tr style=\"text-align: right;\">\n",
       "      <th></th>\n",
       "      <th>weight_(lbs)</th>\n",
       "    </tr>\n",
       "  </thead>\n",
       "  <tbody>\n",
       "    <tr>\n",
       "      <th>0</th>\n",
       "      <td>30</td>\n",
       "    </tr>\n",
       "    <tr>\n",
       "      <th>1</th>\n",
       "      <td>27</td>\n",
       "    </tr>\n",
       "    <tr>\n",
       "      <th>2</th>\n",
       "      <td>12</td>\n",
       "    </tr>\n",
       "    <tr>\n",
       "      <th>3</th>\n",
       "      <td>42</td>\n",
       "    </tr>\n",
       "    <tr>\n",
       "      <th>4</th>\n",
       "      <td>35</td>\n",
       "    </tr>\n",
       "  </tbody>\n",
       "</table>\n",
       "</div>"
      ],
      "text/plain": [
       "   weight_(lbs)\n",
       "0            30\n",
       "1            27\n",
       "2            12\n",
       "3            42\n",
       "4            35"
      ]
     },
     "metadata": {},
     "output_type": "display_data"
    },
    {
     "name": "stdout",
     "output_type": "stream",
     "text": [
      "\n",
      "fn: Table0216.xls\n",
      "shape: (25, 4)\n"
     ]
    },
    {
     "data": {
      "text/html": [
       "<div>\n",
       "<style scoped>\n",
       "    .dataframe tbody tr th:only-of-type {\n",
       "        vertical-align: middle;\n",
       "    }\n",
       "\n",
       "    .dataframe tbody tr th {\n",
       "        vertical-align: top;\n",
       "    }\n",
       "\n",
       "    .dataframe thead th {\n",
       "        text-align: right;\n",
       "    }\n",
       "</style>\n",
       "<table border=\"1\" class=\"dataframe\">\n",
       "  <thead>\n",
       "    <tr style=\"text-align: right;\">\n",
       "      <th></th>\n",
       "      <th>Brand</th>\n",
       "      <th>Tar</th>\n",
       "      <th>Nicotine</th>\n",
       "      <th>CO</th>\n",
       "    </tr>\n",
       "  </thead>\n",
       "  <tbody>\n",
       "    <tr>\n",
       "      <th>0</th>\n",
       "      <td>Alpine</td>\n",
       "      <td>14.1</td>\n",
       "      <td>0.86</td>\n",
       "      <td>13.6</td>\n",
       "    </tr>\n",
       "    <tr>\n",
       "      <th>1</th>\n",
       "      <td>Benson_Hedges</td>\n",
       "      <td>16.0</td>\n",
       "      <td>1.06</td>\n",
       "      <td>16.6</td>\n",
       "    </tr>\n",
       "    <tr>\n",
       "      <th>2</th>\n",
       "      <td>Bull_Durham</td>\n",
       "      <td>29.8</td>\n",
       "      <td>2.03</td>\n",
       "      <td>23.5</td>\n",
       "    </tr>\n",
       "    <tr>\n",
       "      <th>3</th>\n",
       "      <td>Camel_Lights</td>\n",
       "      <td>8.0</td>\n",
       "      <td>0.67</td>\n",
       "      <td>10.2</td>\n",
       "    </tr>\n",
       "    <tr>\n",
       "      <th>4</th>\n",
       "      <td>Carlton</td>\n",
       "      <td>4.1</td>\n",
       "      <td>0.40</td>\n",
       "      <td>5.4</td>\n",
       "    </tr>\n",
       "  </tbody>\n",
       "</table>\n",
       "</div>"
      ],
      "text/plain": [
       "           Brand   Tar  Nicotine    CO\n",
       "0         Alpine  14.1      0.86  13.6\n",
       "1  Benson_Hedges  16.0      1.06  16.6\n",
       "2    Bull_Durham  29.8      2.03  23.5\n",
       "3   Camel_Lights   8.0      0.67  10.2\n",
       "4        Carlton   4.1      0.40   5.4"
      ]
     },
     "metadata": {},
     "output_type": "display_data"
    },
    {
     "name": "stdout",
     "output_type": "stream",
     "text": [
      "\n",
      "fn: Table0217.xls\n",
      "shape: (32, 1)\n"
     ]
    },
    {
     "data": {
      "text/html": [
       "<div>\n",
       "<style scoped>\n",
       "    .dataframe tbody tr th:only-of-type {\n",
       "        vertical-align: middle;\n",
       "    }\n",
       "\n",
       "    .dataframe tbody tr th {\n",
       "        vertical-align: top;\n",
       "    }\n",
       "\n",
       "    .dataframe thead th {\n",
       "        text-align: right;\n",
       "    }\n",
       "</style>\n",
       "<table border=\"1\" class=\"dataframe\">\n",
       "  <thead>\n",
       "    <tr style=\"text-align: right;\">\n",
       "      <th></th>\n",
       "      <th>scores</th>\n",
       "    </tr>\n",
       "  </thead>\n",
       "  <tbody>\n",
       "    <tr>\n",
       "      <th>0</th>\n",
       "      <td>95</td>\n",
       "    </tr>\n",
       "    <tr>\n",
       "      <th>1</th>\n",
       "      <td>70</td>\n",
       "    </tr>\n",
       "    <tr>\n",
       "      <th>2</th>\n",
       "      <td>79</td>\n",
       "    </tr>\n",
       "    <tr>\n",
       "      <th>3</th>\n",
       "      <td>99</td>\n",
       "    </tr>\n",
       "    <tr>\n",
       "      <th>4</th>\n",
       "      <td>83</td>\n",
       "    </tr>\n",
       "  </tbody>\n",
       "</table>\n",
       "</div>"
      ],
      "text/plain": [
       "   scores\n",
       "0      95\n",
       "1      70\n",
       "2      79\n",
       "3      99\n",
       "4      83"
      ]
     },
     "metadata": {},
     "output_type": "display_data"
    },
    {
     "name": "stdout",
     "output_type": "stream",
     "text": [
      "\n",
      "fn: Table0218.xls\n",
      "shape: (32, 1)\n"
     ]
    },
    {
     "data": {
      "text/html": [
       "<div>\n",
       "<style scoped>\n",
       "    .dataframe tbody tr th:only-of-type {\n",
       "        vertical-align: middle;\n",
       "    }\n",
       "\n",
       "    .dataframe tbody tr th {\n",
       "        vertical-align: top;\n",
       "    }\n",
       "\n",
       "    .dataframe thead th {\n",
       "        text-align: right;\n",
       "    }\n",
       "</style>\n",
       "<table border=\"1\" class=\"dataframe\">\n",
       "  <thead>\n",
       "    <tr style=\"text-align: right;\">\n",
       "      <th></th>\n",
       "      <th>scores</th>\n",
       "    </tr>\n",
       "  </thead>\n",
       "  <tbody>\n",
       "    <tr>\n",
       "      <th>0</th>\n",
       "      <td>80</td>\n",
       "    </tr>\n",
       "    <tr>\n",
       "      <th>1</th>\n",
       "      <td>68</td>\n",
       "    </tr>\n",
       "    <tr>\n",
       "      <th>2</th>\n",
       "      <td>51</td>\n",
       "    </tr>\n",
       "    <tr>\n",
       "      <th>3</th>\n",
       "      <td>80</td>\n",
       "    </tr>\n",
       "    <tr>\n",
       "      <th>4</th>\n",
       "      <td>83</td>\n",
       "    </tr>\n",
       "  </tbody>\n",
       "</table>\n",
       "</div>"
      ],
      "text/plain": [
       "   scores\n",
       "0      80\n",
       "1      68\n",
       "2      51\n",
       "3      80\n",
       "4      83"
      ]
     },
     "metadata": {},
     "output_type": "display_data"
    }
   ],
   "source": [
    "for fn in files:\n",
    "    if fn.endswith('.xls') or fn.endswith('.xlsx'):\n",
    "        df = pd.read_excel(os.path.join(CHPT_2, fn))\n",
    "        print(f'\\nfn: {fn}\\nshape: {df.shape}')\n",
    "        display(df.head())\n",
    "    elif fn.endswith('.csv'):\n",
    "        df = pd.read_csv(os.path.join(CHPT_2, fn))\n",
    "        print(f'\\nfn: {fn}\\nshape: {df.shape}')\n",
    "        display(df.head())\n",
    "    else:\n",
    "        print(f'\\nfn: {fn}')\n"
   ]
  },
  {
   "cell_type": "markdown",
   "metadata": {},
   "source": [
    "### Section 2.1 _Frequency Distributions, Histograms, and Related Topics_\n"
   ]
  },
  {
   "cell_type": "code",
   "execution_count": 13,
   "metadata": {},
   "outputs": [
    {
     "data": {
      "text/plain": [
       "array([13, 47, 10,  3, 16, 20, 17, 40,  4,  2,  7, 25,  8, 21, 19, 15,  3,\n",
       "       17, 14,  6, 12, 45,  1,  8,  4, 16, 11, 18, 23, 12,  6,  2, 14, 13,\n",
       "        7, 15, 46, 12,  9, 18, 34, 13, 41, 28, 36, 17, 24, 27, 29,  9, 14,\n",
       "       26, 10, 24, 37, 31,  8, 16, 12, 16])"
      ]
     },
     "execution_count": 13,
     "metadata": {},
     "output_type": "execute_result"
    }
   ],
   "source": [
    "table_2_1_str = '''\n",
    "13 47 10 3 16 20 17 40 4 2 \n",
    "7 25 8 21 19 15 3 17 14 6 \n",
    "12 45 1 8 4 16 11 18 23 12 \n",
    "6 2 14 13 7 15 46 12 9 18 \n",
    "34 13 41 28 36 17 24 27 29 9 \n",
    "14 26 10 24 37 31 8 16 12 16\n",
    "'''\n",
    "\n",
    "data = str_to_arr(table_2_1_str)\n",
    "\n",
    "data"
   ]
  },
  {
   "cell_type": "markdown",
   "metadata": {},
   "source": [
    "#### np.histogram\n",
    "https://numpy.org/doc/stable/reference/generated/numpy.histogram.html"
   ]
  },
  {
   "cell_type": "code",
   "execution_count": 14,
   "metadata": {},
   "outputs": [
    {
     "name": "stdout",
     "output_type": "stream",
     "text": [
      "width: 8\n",
      "freq: [14 21 11  6  4  4]\n",
      "edges: [ 1.          8.83333333 16.66666667 24.5        32.33333333 40.16666667\n",
      " 48.        ]\n",
      "lower_limits: [ 1  9 17 25 33 41]\n",
      "upper_limits: [ 8 16 24 32 40 48]\n",
      "bounds: [ 0.5  8.5 16.5 24.5 32.5 40.5 48.5]\n",
      "midpts: [ 4.5 12.5 20.5 28.5 36.5 44.5]\n",
      "rel_freq: [0.23333333 0.35       0.18333333 0.1        0.06666667 0.06666667]\n"
     ]
    }
   ],
   "source": [
    "classes = 6\n",
    "width = class_width(data.min(), data.max(), classes)\n",
    "print(f'width: {width}')\n",
    "\n",
    "freq, edges = np.histogram(data, range=(data.min(), width*classes), bins=classes)\n",
    "print(f'freq: {freq}')\n",
    "print(f'edges: {edges}')\n",
    "\n",
    "lower_limits = np.array([data.min() + n * width for n in range(classes)])\n",
    "print(f'lower_limits: {lower_limits}')\n",
    "\n",
    "upper_limits = lower_limits + width - 1\n",
    "print(f'upper_limits: {upper_limits}')\n",
    "\n",
    "# bounds = np.hstack((lower_limits - 0.5, upper_limits[-1] + 0.5))\n",
    "bounds = np.array([data.min() - 0.5 + n * width for n in range(classes + 1)])\n",
    "print(f'bounds: {bounds}')\n",
    "\n",
    "midpts = (lower_limits + upper_limits) / 2\n",
    "print(f'midpts: {midpts}')\n",
    "\n",
    "rel_freq = freq / data.size\n",
    "print(f'rel_freq: {rel_freq}')"
   ]
  },
  {
   "cell_type": "code",
   "execution_count": 15,
   "metadata": {},
   "outputs": [
    {
     "data": {
      "image/png": "[encoded data removed]",
      "text/plain": [
       "<Figure size 432x288 with 1 Axes>"
      ]
     },
     "metadata": {
      "needs_background": "light"
     },
     "output_type": "display_data"
    }
   ],
   "source": [
    "# Figure 2-2\n",
    "plt.hist(bounds[:-1], bounds, weights=freq)\n",
    "plt.title('Fig 2-2: Histogram for Dallas Commuters:\\nOne-Way Commuting Distances')\n",
    "plt.ylabel(r'Frequency, $f$')\n",
    "plt.grid(axis='x', color='0.85')\n",
    "plt.xticks(bounds)\n",
    "plt.show()"
   ]
  },
  {
   "cell_type": "code",
   "execution_count": 16,
   "metadata": {},
   "outputs": [
    {
     "data": {
      "image/png": "[encoded data removed]",
      "text/plain": [
       "<Figure size 432x288 with 1 Axes>"
      ]
     },
     "metadata": {
      "needs_background": "light"
     },
     "output_type": "display_data"
    }
   ],
   "source": [
    "# Figure 2-3\n",
    "plt.hist(bounds[:-1], bounds, weights=rel_freq)\n",
    "plt.title('Fig 2-3: Relative-Frequency Histogram for Dallas Commuters:\\nOne-Way Commuting Distances')\n",
    "plt.ylabel(r'Relative frequency, $f/n$')\n",
    "plt.grid(axis='x', color='0.85')\n",
    "plt.xticks(bounds)\n",
    "plt.show()"
   ]
  },
  {
   "cell_type": "code",
   "execution_count": 17,
   "metadata": {},
   "outputs": [
    {
     "data": {
      "image/png": "[encoded data removed]",
      "text/plain": [
       "<Figure size 1080x288 with 2 Axes>"
      ]
     },
     "metadata": {
      "needs_background": "light"
     },
     "output_type": "display_data"
    }
   ],
   "source": [
    "# Standard NumPy\n",
    "freq, edges = np.histogram(data, bins=classes)\n",
    "rel_freq = freq / data.size\n",
    "\n",
    "fig, ax = plt.subplots(1, 2, figsize=(15, 4))\n",
    "\n",
    "ax[0].hist(data, bins=classes)\n",
    "ax[0].set_title('Fig 2-2: Histogram for Dallas Commuters:\\nOne-Way Commuting Distances')\n",
    "ax[0].set_ylabel(r'Frequency, $f$')\n",
    "ax[0].grid(axis='x', color='0.85')\n",
    "ax[0].set_xticks(edges)\n",
    "\n",
    "ax[1].hist(edges[:-1], edges, weights=rel_freq)\n",
    "ax[1].set_title('Fig 2-3: Relative-Frequency Histogram for Dallas Commuters:\\nOne-Way Commuting Distances')\n",
    "ax[1].set_ylabel(r'Relative frequency, $f/n$')\n",
    "ax[1].grid(axis='x', color='0.85')\n",
    "ax[1].set_xticks(edges)\n",
    "\n",
    "plt.show()"
   ]
  },
  {
   "cell_type": "code",
   "execution_count": 18,
   "metadata": {},
   "outputs": [
    {
     "name": "stdout",
     "output_type": "stream",
     "text": [
      "data:\n",
      "[ 1  5  5  6  7  4  8  7  6  5  5  6  7  6  6  5  8  9  9 10  7  8 11  2\n",
      "  4  6  5 12 13  6  3  7  8  8  9  9 10  9  8  9]\n",
      "\n",
      "min: 1  max: 13  size: 40\n",
      "class width: 3\n",
      "freq: [ 3 15 17  4  1]\n",
      "cls_limits: [(1, 3), (4, 6), (7, 9), (10, 12), (13, 15)]\n",
      "boundaries: [ 0.5  3.5  6.5  9.5 12.5 15.5]\n",
      "midpts: [2.0, 5.0, 8.0, 11.0, 14.0]\n",
      "rel_freq: [0.075 0.375 0.425 0.1   0.025]\n"
     ]
    },
    {
     "data": {
      "image/png": "[encoded data removed]",
      "text/plain": [
       "<Figure size 1080x288 with 2 Axes>"
      ]
     },
     "metadata": {
      "needs_background": "light"
     },
     "output_type": "display_data"
    }
   ],
   "source": [
    "# Guided Exercise 1\n",
    "\n",
    "data = str_to_arr('''\n",
    "    1 5 5 6 7 4 8 7 6 5 \n",
    "    5 6 7 6 6 5 8 9 9 10 \n",
    "    7 8 11 2 4 6 5 12 13 6 \n",
    "    3 7 8 8 9 9 10 9 8 9\n",
    "''')\n",
    "\n",
    "print(f'data:\\n{data}\\n')\n",
    "\n",
    "classes = 5\n",
    "freq_dist(data, classes, titles='Hold time in Minutes')"
   ]
  },
  {
   "cell_type": "markdown",
   "metadata": {},
   "source": [
    "#### Section 2.1 Problems"
   ]
  },
  {
   "cell_type": "code",
   "execution_count": 19,
   "metadata": {},
   "outputs": [
    {
     "name": "stdout",
     "output_type": "stream",
     "text": [
      "cls_width: 9\n",
      "cls_limits: [(20, 28), (29, 37), (38, 46), (47, 55), (56, 64), (65, 73), (74, 82)]\n"
     ]
    }
   ],
   "source": [
    "# Sec 2.1 Problem 5\n",
    "min_val = 20\n",
    "max_val = 82\n",
    "classes = 7\n",
    "cls_width = class_width(min_val, max_val, classes)\n",
    "print(f'cls_width: {cls_width}')\n",
    "\n",
    "cls_limits = class_limits(min_val, classes, cls_width)\n",
    "print(f'cls_limits: {cls_limits}')\n"
   ]
  },
  {
   "cell_type": "code",
   "execution_count": 20,
   "metadata": {},
   "outputs": [
    {
     "name": "stdout",
     "output_type": "stream",
     "text": [
      "cls_width: 23\n",
      "cls_limits: [(10, 32), (33, 55), (56, 78), (79, 101), (102, 124)]\n"
     ]
    }
   ],
   "source": [
    "# Sec 2.1 Problem 6\n",
    "min_val = 10\n",
    "max_val = 120\n",
    "classes = 5\n",
    "cls_width = class_width(min_val, max_val, classes)\n",
    "print(f'cls_width: {cls_width}')\n",
    "\n",
    "cls_limits = class_limits(min_val, classes, cls_width)\n",
    "print(f'cls_limits: {cls_limits}')\n"
   ]
  },
  {
   "cell_type": "code",
   "execution_count": 21,
   "metadata": {},
   "outputs": [
    {
     "name": "stdout",
     "output_type": "stream",
     "text": [
      "data:\n",
      "[ 54  55  55  57  57  59  60  65  65  65  66  68  68  69  69  70  70  70\n",
      "  75  75  75  75  77  82  82  82  88  89  89  91  91  97  98  98  98 280]\n",
      "\n",
      "min: 54  max: 280  size: 36\n",
      "class width: 38\n",
      "freq: [31  4  0  0  0  1]\n",
      "cls_limits: [(54, 91), (92, 129), (130, 167), (168, 205), (206, 243), (244, 281)]\n",
      "boundaries: [ 53.5  91.5 129.5 167.5 205.5 243.5 281.5]\n",
      "midpts: [72.5, 110.5, 148.5, 186.5, 224.5, 262.5]\n",
      "rel_freq: [0.86111111 0.11111111 0.         0.         0.         0.02777778]\n"
     ]
    },
    {
     "data": {
      "image/png": "[encoded data removed]",
      "text/plain": [
       "<Figure size 1080x288 with 2 Axes>"
      ]
     },
     "metadata": {
      "needs_background": "light"
     },
     "output_type": "display_data"
    }
   ],
   "source": [
    "# Sec 2.1 Problem 10\n",
    "data = str_to_arr('''\n",
    "        54 55 55 57 57 59 60 65 65 65 66 68 68 \n",
    "        69 69 70 70 70 75 75 75 75 77 82 82 82 \n",
    "        88 89 89 91 91 97 98 98 98 280\n",
    "    ''')\n",
    "\n",
    "print(f'data:\\n{data}\\n')\n",
    "\n",
    "classes = 6\n",
    "freq_dist(data, classes, titles='Annual Salary')"
   ]
  },
  {
   "cell_type": "code",
   "execution_count": 22,
   "metadata": {},
   "outputs": [
    {
     "name": "stdout",
     "output_type": "stream",
     "text": [
      "data:\n",
      "[54 55 55 57 57 59 60 65 65 65 66 68 68 69 69 70 70 70 75 75 75 75 77 82\n",
      " 82 82 88 89 89 91 91 97 98 98 98]\n",
      "\n",
      "min: 54  max: 98  size: 35\n",
      "class width: 9\n",
      "freq: [ 7 11  5  6  6]\n",
      "cls_limits: [(54, 62), (63, 71), (72, 80), (81, 89), (90, 98)]\n",
      "boundaries: [53.5 62.5 71.5 80.5 89.5 98.5]\n",
      "midpts: [58.0, 67.0, 76.0, 85.0, 94.0]\n",
      "rel_freq: [0.2        0.31428571 0.14285714 0.17142857 0.17142857]\n"
     ]
    },
    {
     "data": {
      "image/png": "[encoded data removed]",
      "text/plain": [
       "<Figure size 1080x288 with 2 Axes>"
      ]
     },
     "metadata": {
      "needs_background": "light"
     },
     "output_type": "display_data"
    }
   ],
   "source": [
    "# Sec 2.1 Problem 10, part 2\n",
    "data = str_to_arr('''\n",
    "        54 55 55 57 57 59 60 65 65 65 66 68 68 \n",
    "        69 69 70 70 70 75 75 75 75 77 82 82 82 \n",
    "        88 89 89 91 91 97 98 98 98 \n",
    "    ''')\n",
    "\n",
    "print(f'data:\\n{data}\\n')\n",
    "\n",
    "classes = 5\n",
    "freq_dist(data, classes, titles='Annual Salary')"
   ]
  },
  {
   "cell_type": "code",
   "execution_count": 23,
   "metadata": {},
   "outputs": [
    {
     "name": "stdout",
     "output_type": "stream",
     "text": [
      "   Finish times (to the nearest hour)\n",
      "0                                 261\n",
      "1                                 271\n",
      "2                                 236\n",
      "3                                 244\n",
      "4                                 279 \n",
      "\n",
      "min: 236  max: 360  size: 57\n",
      "class width: 25\n",
      "freq: [ 4  9 25 16  3]\n",
      "cls_limits: [(236, 260), (261, 285), (286, 310), (311, 335), (336, 360)]\n",
      "boundaries: [235.5 260.5 285.5 310.5 335.5 360.5]\n",
      "midpts: [248.0, 273.0, 298.0, 323.0, 348.0]\n",
      "rel_freq: [0.07017544 0.15789474 0.43859649 0.28070175 0.05263158]\n"
     ]
    },
    {
     "data": {
      "image/png": "[encoded data removed]",
      "text/plain": [
       "<Figure size 1080x288 with 2 Axes>"
      ]
     },
     "metadata": {
      "needs_background": "light"
     },
     "output_type": "display_data"
    },
    {
     "name": "stdout",
     "output_type": "stream",
     "text": [
      "class width: 25\n",
      "freq: [ 4  9 25 16  3]\n",
      "cumulative: [ 0  4 13 38 54 57]\n",
      "boundaries: [235.5 260.5 285.5 310.5 335.5 360.5]\n"
     ]
    },
    {
     "data": {
      "image/png": "[encoded data removed]",
      "text/plain": [
       "<Figure size 432x288 with 1 Axes>"
      ]
     },
     "metadata": {
      "needs_background": "light"
     },
     "output_type": "display_data"
    }
   ],
   "source": [
    "# Sec 2.1 Problem 15\n",
    "path = '/home/mark/Documents/Class/Understanding Basic Statistics/Data/Chapter 2'\n",
    "fn = 'Prob201_15.xlsx'\n",
    "df = pd.read_excel(os.path.join(path, fn))\n",
    "cols = df.columns.values.tolist()\n",
    "print(df.head(), '\\n')\n",
    "\n",
    "data = df.iloc[:,0]\n",
    "# print(f'data:\\n{data}')\n",
    "\n",
    "classes = 5\n",
    "title = cols[0]\n",
    "freq_dist(data, classes, title)\n",
    "ogive(data, classes, title)\n"
   ]
  },
  {
   "cell_type": "code",
   "execution_count": 24,
   "metadata": {},
   "outputs": [
    {
     "name": "stdout",
     "output_type": "stream",
     "text": [
      "   glucose_(mg/100ml)\n",
      "0                  45\n",
      "1                  66\n",
      "2                  83\n",
      "3                  71\n",
      "4                  76 \n",
      "\n",
      "min: 45  max: 109  size: 70\n",
      "class width: 11\n",
      "freq: [ 3  7 22 26  9  3]\n",
      "cls_limits: [(45, 55), (56, 66), (67, 77), (78, 88), (89, 99), (100, 110)]\n",
      "boundaries: [ 44.5  55.5  66.5  77.5  88.5  99.5 110.5]\n",
      "midpts: [50.0, 61.0, 72.0, 83.0, 94.0, 105.0]\n",
      "rel_freq: [0.04285714 0.1        0.31428571 0.37142857 0.12857143 0.04285714]\n"
     ]
    },
    {
     "data": {
      "image/png": "[encoded data removed]",
      "text/plain": [
       "<Figure size 1080x288 with 2 Axes>"
      ]
     },
     "metadata": {
      "needs_background": "light"
     },
     "output_type": "display_data"
    },
    {
     "name": "stdout",
     "output_type": "stream",
     "text": [
      "class width: 11\n",
      "freq: [ 3  7 22 26  9  3]\n",
      "cumulative: [ 0  3 10 32 58 67 70]\n",
      "boundaries: [ 44.5  55.5  66.5  77.5  88.5  99.5 110.5]\n"
     ]
    },
    {
     "data": {
      "image/png": "[encoded data removed]",
      "text/plain": [
       "<Figure size 432x288 with 1 Axes>"
      ]
     },
     "metadata": {
      "needs_background": "light"
     },
     "output_type": "display_data"
    }
   ],
   "source": [
    "# Sec 2.1 Problem 16\n",
    "path = '/home/mark/Documents/Class/Understanding Basic Statistics/Data/Chapter 2'\n",
    "fn = 'Prob0201_16.xls'\n",
    "df = pd.read_excel(os.path.join(path, fn))\n",
    "cols = df.columns.values.tolist()\n",
    "print(df.head(), '\\n')\n",
    "\n",
    "data = df.iloc[:,0]\n",
    "# print(f'data:\\n{data}')\n",
    "\n",
    "classes = 6\n",
    "title = 'Glucose Testing'\n",
    "freq_dist(data, classes, title)\n",
    "ogive(data, classes, title)\n"
   ]
  },
  {
   "cell_type": "code",
   "execution_count": 25,
   "metadata": {
    "scrolled": false
   },
   "outputs": [
    {
     "name": "stdout",
     "output_type": "stream",
     "text": [
      "   time_(months)\n",
      "0             19\n",
      "1             18\n",
      "2             17\n",
      "3              1\n",
      "4             21 \n",
      "\n",
      "min: 1  max: 59  size: 42\n",
      "class width: 12\n",
      "freq: [ 6 10  5 13  8]\n",
      "cls_limits: [(1, 12), (13, 24), (25, 36), (37, 48), (49, 60)]\n",
      "boundaries: [ 0.5 12.5 24.5 36.5 48.5 60.5]\n",
      "midpts: [6.5, 18.5, 30.5, 42.5, 54.5]\n",
      "rel_freq: [0.14285714 0.23809524 0.11904762 0.30952381 0.19047619]\n"
     ]
    },
    {
     "data": {
      "image/png": "[encoded data removed]",
      "text/plain": [
       "<Figure size 1080x288 with 2 Axes>"
      ]
     },
     "metadata": {
      "needs_background": "light"
     },
     "output_type": "display_data"
    },
    {
     "name": "stdout",
     "output_type": "stream",
     "text": [
      "class width: 12\n",
      "freq: [ 6 10  5 13  8]\n",
      "cumulative: [ 0  6 16 21 34 42]\n",
      "boundaries: [ 0.5 12.5 24.5 36.5 48.5 60.5]\n"
     ]
    },
    {
     "data": {
      "image/png": "[encoded data removed]",
      "text/plain": [
       "<Figure size 432x288 with 1 Axes>"
      ]
     },
     "metadata": {
      "needs_background": "light"
     },
     "output_type": "display_data"
    }
   ],
   "source": [
    "# Sec 2.1 Problem 17\n",
    "path = '/home/mark/Documents/Class/Understanding Basic Statistics/Data/Chapter 2'\n",
    "fn = 'Prob0201_17.xls'\n",
    "df = pd.read_excel(os.path.join(path, fn))\n",
    "cols = df.columns.values.tolist()\n",
    "print(df.head(), '\\n')\n",
    "\n",
    "data = df.iloc[:,0]\n",
    "# print(f'data:\\n{data}')\n",
    "\n",
    "classes = 5\n",
    "title = cols[0]\n",
    "freq_dist(data, classes, title)\n",
    "ogive(data, classes, title)\n"
   ]
  },
  {
   "cell_type": "code",
   "execution_count": 26,
   "metadata": {},
   "outputs": [
    {
     "name": "stdout",
     "output_type": "stream",
     "text": [
      "   depth_(cm)\n",
      "0          85\n",
      "1          45\n",
      "2          75\n",
      "3          60\n",
      "4          90 \n",
      "\n",
      "min: 10  max: 200  size: 73\n",
      "class width: 28\n",
      "freq: [ 7 25 26  9  5  0  1]\n",
      "cls_limits: [(10, 37), (38, 65), (66, 93), (94, 121), (122, 149), (150, 177), (178, 205)]\n",
      "boundaries: [  9.5  37.5  65.5  93.5 121.5 149.5 177.5 205.5]\n",
      "midpts: [23.5, 51.5, 79.5, 107.5, 135.5, 163.5, 191.5]\n",
      "rel_freq: [0.09589041 0.34246575 0.35616438 0.12328767 0.06849315 0.\n",
      " 0.01369863]\n"
     ]
    },
    {
     "data": {
      "image/png": "[encoded data removed]",
      "text/plain": [
       "<Figure size 1080x288 with 2 Axes>"
      ]
     },
     "metadata": {
      "needs_background": "light"
     },
     "output_type": "display_data"
    },
    {
     "name": "stdout",
     "output_type": "stream",
     "text": [
      "class width: 28\n",
      "freq: [ 7 25 26  9  5  0  1]\n",
      "cumulative: [ 0  7 32 58 67 72 72 73]\n",
      "boundaries: [  9.5  37.5  65.5  93.5 121.5 149.5 177.5 205.5]\n"
     ]
    },
    {
     "data": {
      "image/png": "[encoded data removed]",
      "text/plain": [
       "<Figure size 432x288 with 1 Axes>"
      ]
     },
     "metadata": {
      "needs_background": "light"
     },
     "output_type": "display_data"
    }
   ],
   "source": [
    "# Sec 2.1 Problem 18\n",
    "path = '/home/mark/Documents/Class/Understanding Basic Statistics/Data/Chapter 2'\n",
    "fn = 'Prob0201_18.xls'\n",
    "df = pd.read_excel(os.path.join(path, fn))\n",
    "cols = df.columns.values.tolist()\n",
    "print(df.head(), '\\n')\n",
    "\n",
    "data = df.iloc[:,0]\n",
    "# print(f'data:\\n{data}')\n",
    "\n",
    "classes = 7\n",
    "title = cols[0]\n",
    "freq_dist(data, classes, title)\n",
    "ogive(data, classes, title)\n"
   ]
  },
  {
   "cell_type": "code",
   "execution_count": 27,
   "metadata": {},
   "outputs": [
    {
     "name": "stdout",
     "output_type": "stream",
     "text": [
      "   depth_(cm)\n",
      "0          85\n",
      "1          45\n",
      "2          75\n",
      "3          60\n",
      "4          90 \n",
      "\n",
      "min: 10  max: 145  size: 72\n",
      "class width: 20\n",
      "freq: [ 4 10 20 20 10  5  3]\n",
      "cls_limits: [(10, 29), (30, 49), (50, 69), (70, 89), (90, 109), (110, 129), (130, 149)]\n",
      "boundaries: [  9.5  29.5  49.5  69.5  89.5 109.5 129.5 149.5]\n",
      "midpts: [19.5, 39.5, 59.5, 79.5, 99.5, 119.5, 139.5]\n",
      "rel_freq: [0.05555556 0.13888889 0.27777778 0.27777778 0.13888889 0.06944444\n",
      " 0.04166667]\n"
     ]
    },
    {
     "data": {
      "image/png": "[encoded data removed]",
      "text/plain": [
       "<Figure size 1080x288 with 2 Axes>"
      ]
     },
     "metadata": {
      "needs_background": "light"
     },
     "output_type": "display_data"
    },
    {
     "name": "stdout",
     "output_type": "stream",
     "text": [
      "class width: 20\n",
      "freq: [ 4 10 20 20 10  5  3]\n",
      "cumulative: [ 0  4 14 34 54 64 69 72]\n",
      "boundaries: [  9.5  29.5  49.5  69.5  89.5 109.5 129.5 149.5]\n"
     ]
    },
    {
     "data": {
      "image/png": "[encoded data removed]",
      "text/plain": [
       "<Figure size 432x288 with 1 Axes>"
      ]
     },
     "metadata": {
      "needs_background": "light"
     },
     "output_type": "display_data"
    }
   ],
   "source": [
    "# Sec 2.1 Problem 18, part 2\n",
    "path = '/home/mark/Documents/Class/Understanding Basic Statistics/Data/Chapter 2'\n",
    "fn = 'Prob0201_18.xls'\n",
    "df = pd.read_excel(os.path.join(path, fn))\n",
    "cols = df.columns.values.tolist()\n",
    "print(df.head(), '\\n')\n",
    "\n",
    "data = df.iloc[:,0].loc[(df<200).any(1)]\n",
    "# print(f'data:\\n{data}')\n",
    "\n",
    "classes = 7\n",
    "title = cols[0]\n",
    "freq_dist(data, classes, title)\n",
    "ogive(data, classes, title)\n"
   ]
  },
  {
   "cell_type": "code",
   "execution_count": 28,
   "metadata": {},
   "outputs": [
    {
     "name": "stdout",
     "output_type": "stream",
     "text": [
      "   Percentage male\n",
      "0               31\n",
      "1               39\n",
      "2               53\n",
      "3               47\n",
      "4               40 \n",
      "\n",
      "min: 26  max: 79  size: 50\n",
      "class width: 4\n",
      "freq: [ 1  1  3  5 12 11  9  4  1  1  0  1  0  1  0]\n",
      "cls_limits: [(26, 29), (30, 33), (34, 37), (38, 41), (42, 45), (46, 49), (50, 53), (54, 57), (58, 61), (62, 65), (66, 69), (70, 73), (74, 77), (78, 81), (82, 85)]\n",
      "boundaries: [25.5 29.5 33.5 37.5 41.5 45.5 49.5 53.5 57.5 61.5 65.5 69.5 73.5 77.5\n",
      " 81.5 85.5]\n",
      "midpts: [27.5, 31.5, 35.5, 39.5, 43.5, 47.5, 51.5, 55.5, 59.5, 63.5, 67.5, 71.5, 75.5, 79.5, 83.5]\n",
      "rel_freq: [0.02 0.02 0.06 0.1  0.24 0.22 0.18 0.08 0.02 0.02 0.   0.02 0.   0.02\n",
      " 0.  ]\n"
     ]
    },
    {
     "data": {
      "image/png": "[encoded data removed]",
      "text/plain": [
       "<Figure size 1080x288 with 2 Axes>"
      ]
     },
     "metadata": {
      "needs_background": "light"
     },
     "output_type": "display_data"
    },
    {
     "name": "stdout",
     "output_type": "stream",
     "text": [
      "class width: 4\n",
      "freq: [ 1  1  3  5 12 11  9  4  1  1  0  1  0  1  0]\n",
      "cumulative: [ 0  1  2  5 10 22 33 42 46 47 48 48 49 49 50 50]\n",
      "boundaries: [25.5 29.5 33.5 37.5 41.5 45.5 49.5 53.5 57.5 61.5 65.5 69.5 73.5 77.5\n",
      " 81.5 85.5]\n"
     ]
    },
    {
     "data": {
      "image/png": "[encoded data removed]",
      "text/plain": [
       "<Figure size 432x288 with 1 Axes>"
      ]
     },
     "metadata": {
      "needs_background": "light"
     },
     "output_type": "display_data"
    }
   ],
   "source": [
    "# Sec 2.1 Problem 19\n",
    "path = '/home/mark/Documents/Class/Understanding Basic Statistics/Data/Chapter 2'\n",
    "fn = 'Prob0201_19.xlsx'\n",
    "df = pd.read_excel(os.path.join(path, fn))\n",
    "cols = df.columns.values.tolist()\n",
    "print(df.head(), '\\n')\n",
    "\n",
    "data = df.iloc[:,0]\n",
    "# print(f'data:\\n{data}')\n",
    "\n",
    "classes = 15\n",
    "title = cols[0]\n",
    "freq_dist(data, classes, title)\n",
    "ogive(data, classes, title)\n"
   ]
  },
  {
   "cell_type": "code",
   "execution_count": 29,
   "metadata": {},
   "outputs": [
    {
     "name": "stdout",
     "output_type": "stream",
     "text": [
      "   words\n",
      "0     34\n",
      "1     21\n",
      "2     37\n",
      "3     31\n",
      "4     10 \n",
      "\n",
      "min: 0  max: 43  size: 55\n",
      "class width: 6\n",
      "freq: [13 15 11  3  6  4  2  1]\n",
      "cls_limits: [(0, 5), (6, 11), (12, 17), (18, 23), (24, 29), (30, 35), (36, 41), (42, 47)]\n",
      "boundaries: [-0.5  5.5 11.5 17.5 23.5 29.5 35.5 41.5 47.5]\n",
      "midpts: [2.5, 8.5, 14.5, 20.5, 26.5, 32.5, 38.5, 44.5]\n",
      "rel_freq: [0.23636364 0.27272727 0.2        0.05454545 0.10909091 0.07272727\n",
      " 0.03636364 0.01818182]\n"
     ]
    },
    {
     "data": {
      "image/png": "[encoded data removed]",
      "text/plain": [
       "<Figure size 1080x288 with 2 Axes>"
      ]
     },
     "metadata": {
      "needs_background": "light"
     },
     "output_type": "display_data"
    },
    {
     "name": "stdout",
     "output_type": "stream",
     "text": [
      "class width: 6\n",
      "freq: [13 15 11  3  6  4  2  1]\n",
      "cumulative: [ 0 13 28 39 42 48 52 54 55]\n",
      "boundaries: [-0.5  5.5 11.5 17.5 23.5 29.5 35.5 41.5 47.5]\n"
     ]
    },
    {
     "data": {
      "image/png": "[encoded data removed]",
      "text/plain": [
       "<Figure size 432x288 with 1 Axes>"
      ]
     },
     "metadata": {
      "needs_background": "light"
     },
     "output_type": "display_data"
    }
   ],
   "source": [
    "# Sec 2.1 Problem 20\n",
    "path = '/home/mark/Documents/Class/Understanding Basic Statistics/Data/Chapter 2'\n",
    "fn = 'Prob0201_20.xls'\n",
    "df = pd.read_excel(os.path.join(path, fn))\n",
    "cols = df.columns.values.tolist()\n",
    "print(df.head(), '\\n')\n",
    "\n",
    "data = df.iloc[:,0]\n",
    "# print(f'data:\\n{data}')\n",
    "\n",
    "classes = 8\n",
    "title = cols[0]\n",
    "freq_dist(data, classes, title)\n",
    "ogive(data, classes, title)\n"
   ]
  },
  {
   "cell_type": "code",
   "execution_count": 30,
   "metadata": {},
   "outputs": [
    {
     "name": "stdout",
     "output_type": "stream",
     "text": [
      "   wheat_(tonnes)\n",
      "0            2.71\n",
      "1            1.62\n",
      "2            2.60\n",
      "3            1.64\n",
      "4            2.20 \n",
      "\n",
      "data:\n",
      "0    271.0\n",
      "1    162.0\n",
      "2    260.0\n",
      "3    164.0\n",
      "4    220.0\n",
      "Name: wheat_(tonnes), dtype: float64\n",
      "\n",
      "min: 46.0  max: 282.0  size: 32\n",
      "class width: 40\n",
      "freq: [ 4  5 10  5  5  3]\n",
      "cls_limits: [(46.0, 85.0), (86.0, 125.0), (126.0, 165.0), (166.0, 205.0), (206.0, 245.0), (246.0, 285.0)]\n",
      "boundaries: [ 45.5  85.5 125.5 165.5 205.5 245.5 285.5]\n",
      "midpts: [65.5, 105.5, 145.5, 185.5, 225.5, 265.5]\n",
      "rel_freq: [0.125   0.15625 0.3125  0.15625 0.15625 0.09375]\n"
     ]
    },
    {
     "data": {
      "image/png": "[encoded data removed]",
      "text/plain": [
       "<Figure size 1080x288 with 2 Axes>"
      ]
     },
     "metadata": {
      "needs_background": "light"
     },
     "output_type": "display_data"
    },
    {
     "name": "stdout",
     "output_type": "stream",
     "text": [
      "class width: 40\n",
      "freq: [ 4  5 10  5  5  3]\n",
      "cumulative: [ 0  4  9 19 24 29 32]\n",
      "boundaries: [ 45.5  85.5 125.5 165.5 205.5 245.5 285.5]\n"
     ]
    },
    {
     "data": {
      "image/png": "[encoded data removed]",
      "text/plain": [
       "<Figure size 432x288 with 1 Axes>"
      ]
     },
     "metadata": {
      "needs_background": "light"
     },
     "output_type": "display_data"
    }
   ],
   "source": [
    "# Sec 2.1 Problem 21\n",
    "path = '/home/mark/Documents/Class/Understanding Basic Statistics/Data/Chapter 2'\n",
    "fn = 'Prob0201_21.xls'\n",
    "df = pd.read_excel(os.path.join(path, fn))\n",
    "cols = df.columns.values.tolist()\n",
    "print(df.head(), '\\n')\n",
    "\n",
    "data = df.iloc[:,0] * 100\n",
    "print(f'data:\\n{data.head()}\\n')\n",
    "\n",
    "classes = 6\n",
    "title = cols[0]\n",
    "freq_dist(data, classes, title)\n",
    "ogive(data, classes, title)\n"
   ]
  },
  {
   "cell_type": "code",
   "execution_count": 31,
   "metadata": {},
   "outputs": [
    {
     "name": "stdout",
     "output_type": "stream",
     "text": [
      "   average\n",
      "0    0.194\n",
      "1    0.258\n",
      "2    0.190\n",
      "3    0.291\n",
      "4    0.158 \n",
      "\n",
      "data:\n",
      "0    194.0\n",
      "1    258.0\n",
      "2    190.0\n",
      "3    291.0\n",
      "4    158.0\n",
      "Name: average, dtype: float64\n",
      "\n",
      "min: 107.0  max: 317.0  size: 26\n",
      "class width: 43\n",
      "freq: [ 3  4  3 10  6]\n",
      "cls_limits: [(107.0, 149.0), (150.0, 192.0), (193.0, 235.0), (236.0, 278.0), (279.0, 321.0)]\n",
      "boundaries: [106.5 149.5 192.5 235.5 278.5 321.5]\n",
      "midpts: [128.0, 171.0, 214.0, 257.0, 300.0]\n",
      "rel_freq: [0.11538462 0.15384615 0.11538462 0.38461538 0.23076923]\n"
     ]
    },
    {
     "data": {
      "image/png": "[encoded data removed]",
      "text/plain": [
       "<Figure size 1080x288 with 2 Axes>"
      ]
     },
     "metadata": {
      "needs_background": "light"
     },
     "output_type": "display_data"
    },
    {
     "name": "stdout",
     "output_type": "stream",
     "text": [
      "class width: 43\n",
      "freq: [ 3  4  3 10  6]\n",
      "cumulative: [ 0  3  7 10 20 26]\n",
      "boundaries: [106.5 149.5 192.5 235.5 278.5 321.5]\n"
     ]
    },
    {
     "data": {
      "image/png": "[encoded data removed]",
      "text/plain": [
       "<Figure size 432x288 with 1 Axes>"
      ]
     },
     "metadata": {
      "needs_background": "light"
     },
     "output_type": "display_data"
    }
   ],
   "source": [
    "# Sec 2.1 Problem 22\n",
    "path = '/home/mark/Documents/Class/Understanding Basic Statistics/Data/Chapter 2'\n",
    "fn = 'Prob0201_22.xls'\n",
    "df = pd.read_excel(os.path.join(path, fn))\n",
    "cols = df.columns.values.tolist()\n",
    "print(df.head(), '\\n')\n",
    "\n",
    "data = df.iloc[:,0] * 1000\n",
    "print(f'data:\\n{data.head()}\\n')\n",
    "\n",
    "classes = 5\n",
    "title = cols[0]\n",
    "freq_dist(data, classes, title)\n",
    "ogive(data, classes, title)\n"
   ]
  },
  {
   "cell_type": "code",
   "execution_count": 32,
   "metadata": {},
   "outputs": [
    {
     "data": {
      "image/png": "[encoded data removed]",
      "text/plain": [
       "<Figure size 1080x144 with 1 Axes>"
      ]
     },
     "metadata": {
      "needs_background": "light"
     },
     "output_type": "display_data"
    },
    {
     "name": "stdout",
     "output_type": "stream",
     "text": [
      "min: 236  max: 360  size: 57\n",
      "class width: 25\n",
      "freq: [ 4  9 25 16  3]\n",
      "cls_limits: [(236, 260), (261, 285), (286, 310), (311, 335), (336, 360)]\n",
      "boundaries: [235.5 260.5 285.5 310.5 335.5 360.5]\n",
      "midpts: [248.0, 273.0, 298.0, 323.0, 348.0]\n",
      "rel_freq: [0.07017544 0.15789474 0.43859649 0.28070175 0.05263158]\n"
     ]
    },
    {
     "data": {
      "image/png": "[encoded data removed]",
      "text/plain": [
       "<Figure size 1080x288 with 2 Axes>"
      ]
     },
     "metadata": {
      "needs_background": "light"
     },
     "output_type": "display_data"
    }
   ],
   "source": [
    "# Sec 2.1 Problem 24\n",
    "path = '/home/mark/Documents/Class/Understanding Basic Statistics/Data/Chapter 2'\n",
    "fn = 'Prob201_15.xlsx'\n",
    "df = pd.read_excel(os.path.join(path, fn))\n",
    "cols = df.columns.values.tolist()\n",
    "# print(df.head(), '\\n')\n",
    "\n",
    "data = df.iloc[:,0]\n",
    "# print(f'data:\\n{data}')\n",
    "\n",
    "classes = 5\n",
    "title = cols[0]\n",
    "\n",
    "dotplot(data, f'Dotplot of {cols[0]}')\n",
    "freq_dist(data, classes, title)\n"
   ]
  },
  {
   "cell_type": "code",
   "execution_count": 33,
   "metadata": {},
   "outputs": [
    {
     "data": {
      "image/png": "[encoded data removed]",
      "text/plain": [
       "<Figure size 1080x144 with 1 Axes>"
      ]
     },
     "metadata": {
      "needs_background": "light"
     },
     "output_type": "display_data"
    },
    {
     "name": "stdout",
     "output_type": "stream",
     "text": [
      "min: 1  max: 59  size: 42\n",
      "class width: 12\n",
      "freq: [ 6 10  5 13  8]\n",
      "cls_limits: [(1, 12), (13, 24), (25, 36), (37, 48), (49, 60)]\n",
      "boundaries: [ 0.5 12.5 24.5 36.5 48.5 60.5]\n",
      "midpts: [6.5, 18.5, 30.5, 42.5, 54.5]\n",
      "rel_freq: [0.14285714 0.23809524 0.11904762 0.30952381 0.19047619]\n"
     ]
    },
    {
     "data": {
      "image/png": "[encoded data removed]",
      "text/plain": [
       "<Figure size 1080x288 with 2 Axes>"
      ]
     },
     "metadata": {
      "needs_background": "light"
     },
     "output_type": "display_data"
    }
   ],
   "source": [
    "# Sec 2.1 Problem 25\n",
    "path = '/home/mark/Documents/Class/Understanding Basic Statistics/Data/Chapter 2'\n",
    "fn = 'Prob0201_17.xls'\n",
    "df = pd.read_excel(os.path.join(path, fn))\n",
    "cols = df.columns.values.tolist()\n",
    "# print(df.head(), '\\n')\n",
    "\n",
    "data = df.iloc[:,0]\n",
    "# print(f'data:\\n{data}')\n",
    "\n",
    "classes = 5\n",
    "title = cols[0]\n",
    "\n",
    "dotplot(data, f'Dotplot of {cols[0]}')\n",
    "freq_dist(data, classes, title)\n"
   ]
  },
  {
   "cell_type": "code",
   "execution_count": 34,
   "metadata": {},
   "outputs": [
    {
     "name": "stdout",
     "output_type": "stream",
     "text": [
      "   Percentage male\n",
      "0               31\n",
      "1               39\n",
      "2               53\n",
      "3               47\n",
      "4               40 \n",
      "\n"
     ]
    },
    {
     "data": {
      "image/png": "[encoded data removed]",
      "text/plain": [
       "<Figure size 1080x144 with 1 Axes>"
      ]
     },
     "metadata": {
      "needs_background": "light"
     },
     "output_type": "display_data"
    },
    {
     "name": "stdout",
     "output_type": "stream",
     "text": [
      "min: 26  max: 79  size: 50\n",
      "class width: 11\n",
      "freq: [ 4 21 22  1  2]\n",
      "cls_limits: [(26, 36), (37, 47), (48, 58), (59, 69), (70, 80)]\n",
      "boundaries: [25.5 36.5 47.5 58.5 69.5 80.5]\n",
      "midpts: [31.0, 42.0, 53.0, 64.0, 75.0]\n",
      "rel_freq: [0.08 0.42 0.44 0.02 0.04]\n"
     ]
    },
    {
     "data": {
      "image/png": "[encoded data removed]",
      "text/plain": [
       "<Figure size 1080x288 with 2 Axes>"
      ]
     },
     "metadata": {
      "needs_background": "light"
     },
     "output_type": "display_data"
    }
   ],
   "source": [
    "# Sec 2.1 Problem 19, Revisited\n",
    "df = pd.read_excel(os.path.join(CHPT_2, 'Prob0201_19.xlsx'))\n",
    "cols = df.columns.values.tolist()\n",
    "print(df.head(), '\\n')\n",
    "\n",
    "data = df.iloc[:,0]\n",
    "# print(f'data:\\n{data}')\n",
    "\n",
    "title = cols[0]\n",
    "\n",
    "dotplot(data, f'Dotplot of {cols[0]}')\n",
    "freq_dist(data, classes, title)\n"
   ]
  },
  {
   "cell_type": "markdown",
   "metadata": {},
   "source": [
    "### Section 2.2 _Bar Graphs, Circle Graphs, and Time-Series Graphs_\n"
   ]
  },
  {
   "cell_type": "markdown",
   "metadata": {},
   "source": [
    "#### Section 2.2 Problems"
   ]
  },
  {
   "cell_type": "code",
   "execution_count": 35,
   "metadata": {},
   "outputs": [
    {
     "name": "stdout",
     "output_type": "stream",
     "text": [
      "        River  spearheads\n",
      "0        Bann          19\n",
      "1  Blackwater           8\n",
      "2        Erne          15\n",
      "3     Shannon          33\n",
      "4      Barrow          14 \n",
      "\n"
     ]
    },
    {
     "data": {
      "image/png": "[encoded data removed]",
      "text/plain": [
       "<Figure size 576x432 with 1 Axes>"
      ]
     },
     "metadata": {
      "needs_background": "light"
     },
     "output_type": "display_data"
    },
    {
     "data": {
      "image/png": "[encoded data removed]",
      "text/plain": [
       "<Figure size 576x432 with 1 Axes>"
      ]
     },
     "metadata": {},
     "output_type": "display_data"
    }
   ],
   "source": [
    "# Sec 2.2 Problem 8\n",
    "df = pd.read_excel(os.path.join(CHPT_2, 'Prob0202_08.xls'))\n",
    "print(df.head(), '\\n')\n",
    "\n",
    "# df = df.sort_values(by=['spearheads'], ascending=False)\n",
    "# df = df.set_index('River')\n",
    "\n",
    "title = 'Number of Spearheads Found'\n",
    "\n",
    "pareto_plot(df, 'spearheads', 'River', title)\n",
    "\n",
    "pie_plot(df, 'spearheads', 'River', title)"
   ]
  },
  {
   "cell_type": "code",
   "execution_count": 36,
   "metadata": {},
   "outputs": [
    {
     "data": {
      "text/html": [
       "<div>\n",
       "<style scoped>\n",
       "    .dataframe tbody tr th:only-of-type {\n",
       "        vertical-align: middle;\n",
       "    }\n",
       "\n",
       "    .dataframe tbody tr th {\n",
       "        vertical-align: top;\n",
       "    }\n",
       "\n",
       "    .dataframe thead th {\n",
       "        text-align: right;\n",
       "    }\n",
       "</style>\n",
       "<table border=\"1\" class=\"dataframe\">\n",
       "  <thead>\n",
       "    <tr style=\"text-align: right;\">\n",
       "      <th></th>\n",
       "      <th>Elevation</th>\n",
       "    </tr>\n",
       "    <tr>\n",
       "      <th>Year</th>\n",
       "      <th></th>\n",
       "    </tr>\n",
       "  </thead>\n",
       "  <tbody>\n",
       "    <tr>\n",
       "      <th>1986</th>\n",
       "      <td>3817</td>\n",
       "    </tr>\n",
       "    <tr>\n",
       "      <th>1987</th>\n",
       "      <td>3815</td>\n",
       "    </tr>\n",
       "    <tr>\n",
       "      <th>1988</th>\n",
       "      <td>3810</td>\n",
       "    </tr>\n",
       "    <tr>\n",
       "      <th>1989</th>\n",
       "      <td>3812</td>\n",
       "    </tr>\n",
       "    <tr>\n",
       "      <th>1990</th>\n",
       "      <td>3808</td>\n",
       "    </tr>\n",
       "    <tr>\n",
       "      <th>1991</th>\n",
       "      <td>3803</td>\n",
       "    </tr>\n",
       "    <tr>\n",
       "      <th>1992</th>\n",
       "      <td>3798</td>\n",
       "    </tr>\n",
       "    <tr>\n",
       "      <th>1993</th>\n",
       "      <td>3797</td>\n",
       "    </tr>\n",
       "    <tr>\n",
       "      <th>1994</th>\n",
       "      <td>3795</td>\n",
       "    </tr>\n",
       "    <tr>\n",
       "      <th>1995</th>\n",
       "      <td>3797</td>\n",
       "    </tr>\n",
       "    <tr>\n",
       "      <th>1996</th>\n",
       "      <td>3802</td>\n",
       "    </tr>\n",
       "    <tr>\n",
       "      <th>1997</th>\n",
       "      <td>3807</td>\n",
       "    </tr>\n",
       "    <tr>\n",
       "      <th>1998</th>\n",
       "      <td>3811</td>\n",
       "    </tr>\n",
       "    <tr>\n",
       "      <th>1999</th>\n",
       "      <td>3816</td>\n",
       "    </tr>\n",
       "    <tr>\n",
       "      <th>2000</th>\n",
       "      <td>3817</td>\n",
       "    </tr>\n",
       "  </tbody>\n",
       "</table>\n",
       "</div>"
      ],
      "text/plain": [
       "      Elevation\n",
       "Year           \n",
       "1986       3817\n",
       "1987       3815\n",
       "1988       3810\n",
       "1989       3812\n",
       "1990       3808\n",
       "1991       3803\n",
       "1992       3798\n",
       "1993       3797\n",
       "1994       3795\n",
       "1995       3797\n",
       "1996       3802\n",
       "1997       3807\n",
       "1998       3811\n",
       "1999       3816\n",
       "2000       3817"
      ]
     },
     "metadata": {},
     "output_type": "display_data"
    },
    {
     "data": {
      "image/png": "[encoded data removed]",
      "text/plain": [
       "<Figure size 1080x432 with 1 Axes>"
      ]
     },
     "metadata": {
      "needs_background": "light"
     },
     "output_type": "display_data"
    }
   ],
   "source": [
    "# Sec 2.2 Problem 13\n",
    "path = '/home/mark/Documents/Class/Understanding Basic Statistics/Data/Chapter 2'\n",
    "fn = 'Prob0202_13.xls'\n",
    "df = pd.read_excel(os.path.join(path, fn))\n",
    "cols = df.columns.values.tolist()\n",
    "# print(df.head(), '\\n')\n",
    "\n",
    "df = df.set_index('Year')\n",
    "\n",
    "display(df)\n",
    "\n",
    "title = 'Elevation of Pyramid Lake'\n",
    "\n",
    "fig, ax0 = plt.subplots(1, 1, figsize=(15, 6))\n",
    "\n",
    "ax0.plot(df.index, df['Elevation'], 'ro-')\n",
    "ax0.set_title(title)\n",
    "ax0.grid(axis='y', color='0.95')\n",
    "ax0.set_xlabel('Year')\n",
    "ax0.set_ylabel('Elevation (feet above sea level)')\n",
    "\n",
    "plt.show()"
   ]
  },
  {
   "cell_type": "code",
   "execution_count": 37,
   "metadata": {},
   "outputs": [
    {
     "data": {
      "text/html": [
       "<div>\n",
       "<style scoped>\n",
       "    .dataframe tbody tr th:only-of-type {\n",
       "        vertical-align: middle;\n",
       "    }\n",
       "\n",
       "    .dataframe tbody tr th {\n",
       "        vertical-align: top;\n",
       "    }\n",
       "\n",
       "    .dataframe thead th {\n",
       "        text-align: right;\n",
       "    }\n",
       "</style>\n",
       "<table border=\"1\" class=\"dataframe\">\n",
       "  <thead>\n",
       "    <tr style=\"text-align: right;\">\n",
       "      <th></th>\n",
       "      <th>Height_(in)</th>\n",
       "    </tr>\n",
       "    <tr>\n",
       "      <th>Age</th>\n",
       "      <th></th>\n",
       "    </tr>\n",
       "  </thead>\n",
       "  <tbody>\n",
       "    <tr>\n",
       "      <th>0.5</th>\n",
       "      <td>26</td>\n",
       "    </tr>\n",
       "    <tr>\n",
       "      <th>1.0</th>\n",
       "      <td>29</td>\n",
       "    </tr>\n",
       "    <tr>\n",
       "      <th>2.0</th>\n",
       "      <td>33</td>\n",
       "    </tr>\n",
       "    <tr>\n",
       "      <th>3.0</th>\n",
       "      <td>36</td>\n",
       "    </tr>\n",
       "    <tr>\n",
       "      <th>4.0</th>\n",
       "      <td>39</td>\n",
       "    </tr>\n",
       "    <tr>\n",
       "      <th>5.0</th>\n",
       "      <td>42</td>\n",
       "    </tr>\n",
       "    <tr>\n",
       "      <th>6.0</th>\n",
       "      <td>45</td>\n",
       "    </tr>\n",
       "    <tr>\n",
       "      <th>7.0</th>\n",
       "      <td>47</td>\n",
       "    </tr>\n",
       "    <tr>\n",
       "      <th>8.0</th>\n",
       "      <td>50</td>\n",
       "    </tr>\n",
       "    <tr>\n",
       "      <th>9.0</th>\n",
       "      <td>52</td>\n",
       "    </tr>\n",
       "    <tr>\n",
       "      <th>10.0</th>\n",
       "      <td>54</td>\n",
       "    </tr>\n",
       "    <tr>\n",
       "      <th>11.0</th>\n",
       "      <td>56</td>\n",
       "    </tr>\n",
       "    <tr>\n",
       "      <th>12.0</th>\n",
       "      <td>58</td>\n",
       "    </tr>\n",
       "    <tr>\n",
       "      <th>13.0</th>\n",
       "      <td>60</td>\n",
       "    </tr>\n",
       "    <tr>\n",
       "      <th>14.0</th>\n",
       "      <td>62</td>\n",
       "    </tr>\n",
       "  </tbody>\n",
       "</table>\n",
       "</div>"
      ],
      "text/plain": [
       "      Height_(in)\n",
       "Age              \n",
       "0.5            26\n",
       "1.0            29\n",
       "2.0            33\n",
       "3.0            36\n",
       "4.0            39\n",
       "5.0            42\n",
       "6.0            45\n",
       "7.0            47\n",
       "8.0            50\n",
       "9.0            52\n",
       "10.0           54\n",
       "11.0           56\n",
       "12.0           58\n",
       "13.0           60\n",
       "14.0           62"
      ]
     },
     "metadata": {},
     "output_type": "display_data"
    },
    {
     "data": {
      "image/png": "[encoded data removed]",
      "text/plain": [
       "<Figure size 1080x432 with 1 Axes>"
      ]
     },
     "metadata": {
      "needs_background": "light"
     },
     "output_type": "display_data"
    }
   ],
   "source": [
    "# Sec 2.2 Problem 14\n",
    "path = '/home/mark/Documents/Class/Understanding Basic Statistics/Data/Chapter 2'\n",
    "fn = 'Prob0202_14.xls'\n",
    "df = pd.read_excel(os.path.join(path, fn))\n",
    "# print(df.head(), '\\n')\n",
    "\n",
    "df = df.set_index('Age')\n",
    "\n",
    "display(df)\n",
    "\n",
    "title = 'Average Height for Boys'\n",
    "\n",
    "fig, ax0 = plt.subplots(1, 1, figsize=(15, 6))\n",
    "\n",
    "ax0.plot(df.index, df['Height_(in)'], 'ro-')\n",
    "ax0.set_title(title)\n",
    "ax0.grid(axis='both', color='0.95')\n",
    "ax0.set_xlabel('Age')\n",
    "ax0.set_ylabel('Height (in)')\n",
    "\n",
    "plt.show()\n"
   ]
  },
  {
   "cell_type": "markdown",
   "metadata": {},
   "source": [
    "### Section 2.3 _Stem-and-Leaf Displays_\n",
    "\n",
    "A __stem-and-leaf display__ is a method of exploratory data analysis that is used to rank-order and arrange data into groups.\n"
   ]
  },
  {
   "cell_type": "code",
   "execution_count": 38,
   "metadata": {},
   "outputs": [
    {
     "name": "stdout",
     "output_type": "stream",
     "text": [
      "data:\n",
      "[30 27 12 42 35 47 38 36 27 35 22 17 29  3 21  0 38 32 41 33 26 45 18 43\n",
      " 18 32 31 32 19 21 33 31 28 29 51 12 32 18 21 26]\n",
      "size: 40\n",
      "\n",
      "table:\n",
      "{3: [0, 5, 8, 6, 5, 8, 2, 3, 2, 1, 2, 3, 1, 2], 2: [7, 7, 2, 9, 1, 6, 1, 8, 9, 1, 6], 1: [2, 7, 8, 8, 9, 2, 8], 4: [2, 7, 1, 5, 3], 0: [3, 0], 5: [1]}\n",
      "\n",
      "Stem | Leaves\n",
      "   0 | 3 0\n",
      "   1 | 2 7 8 8 9 2 8\n",
      "   2 | 7 7 2 9 1 6 1 8 9 1 6\n",
      "   3 | 0 5 8 6 5 8 2 3 2 1 2 3 1 2\n",
      "   4 | 2 7 1 5 3\n",
      "   5 | 1\n",
      "\n",
      "Stem | Leaves\n",
      "   0 | 0 3\n",
      "   1 | 2 2 7 8 8 8 9\n",
      "   2 | 1 1 1 2 6 6 7 7 8 9 9\n",
      "   3 | 0 1 1 2 2 2 2 3 3 5 5 6 8 8\n",
      "   4 | 1 2 3 5 7\n",
      "   5 | 1\n"
     ]
    }
   ],
   "source": [
    "# Ex 6\n",
    "# Weights of Carry-On luggage (lbs)\n",
    "data = np.array(str_to_arr('''\n",
    "    30 27 12 42 35 47 38 36 27 35 \n",
    "    22 17 29 3 21 0 38 32 41 33 \n",
    "    26 45 18 43 18 32 31 32 19 21 \n",
    "    33 31 28 29 51 12 32 18 21 26\n",
    "'''))\n",
    "\n",
    "print(f'data:\\n{data}')\n",
    "print(f'size: {data.size}')\n",
    "\n",
    "table = {}\n",
    "for n in data:\n",
    "    stem = n // 10\n",
    "    leaf = n % 10\n",
    "    leaves = table.get(stem, [])\n",
    "    leaves.append(leaf)\n",
    "    table[stem] = leaves\n",
    "\n",
    "print(f'\\ntable:\\n{table}')\n",
    "    \n",
    "print('\\nStem | Leaves')\n",
    "for stem, leaves in sorted(table.items()):\n",
    "    print(f'{stem:4d} | {\" \".join(map(str, leaves))}')\n",
    "\n",
    "print('\\nStem | Leaves')\n",
    "for stem, leaves in sorted(table.items()):\n",
    "    print(f'{stem:4d} | {\" \".join(map(str, sorted(leaves)))}')\n"
   ]
  },
  {
   "cell_type": "code",
   "execution_count": 39,
   "metadata": {},
   "outputs": [
    {
     "name": "stdout",
     "output_type": "stream",
     "text": [
      "Stem | Leaves\n",
      "   8 | 3\n",
      "   9 | 2 7 8 9\n",
      "  10 | 1 2 3 4 5 5 6 6 9\n",
      "  11 | 0 1 2 2 2 2 6 7 7 8 9\n",
      "  12 | 0 4 5 5 6 8\n",
      "  13 | 1 2 5\n",
      "  14 | 3\n"
     ]
    }
   ],
   "source": [
    "# Guided Ex 4\n",
    "path = '/home/mark/Documents/Class/Understanding Basic Statistics/Data/Chapter 2'\n",
    "fn = 'Exer0204.xls'\n",
    "df = pd.read_excel(os.path.join(path, fn))\n",
    "stem_leave(df['scores'])"
   ]
  },
  {
   "cell_type": "markdown",
   "metadata": {},
   "source": [
    "#### Section 2.3 Problems"
   ]
  },
  {
   "cell_type": "code",
   "execution_count": 40,
   "metadata": {},
   "outputs": [
    {
     "data": {
      "text/html": [
       "<div>\n",
       "<style scoped>\n",
       "    .dataframe tbody tr th:only-of-type {\n",
       "        vertical-align: middle;\n",
       "    }\n",
       "\n",
       "    .dataframe tbody tr th {\n",
       "        vertical-align: top;\n",
       "    }\n",
       "\n",
       "    .dataframe thead th {\n",
       "        text-align: right;\n",
       "    }\n",
       "</style>\n",
       "<table border=\"1\" class=\"dataframe\">\n",
       "  <thead>\n",
       "    <tr style=\"text-align: right;\">\n",
       "      <th></th>\n",
       "      <th>years</th>\n",
       "    </tr>\n",
       "  </thead>\n",
       "  <tbody>\n",
       "    <tr>\n",
       "      <th>0</th>\n",
       "      <td>58</td>\n",
       "    </tr>\n",
       "    <tr>\n",
       "      <th>1</th>\n",
       "      <td>52</td>\n",
       "    </tr>\n",
       "    <tr>\n",
       "      <th>2</th>\n",
       "      <td>68</td>\n",
       "    </tr>\n",
       "    <tr>\n",
       "      <th>3</th>\n",
       "      <td>86</td>\n",
       "    </tr>\n",
       "    <tr>\n",
       "      <th>4</th>\n",
       "      <td>72</td>\n",
       "    </tr>\n",
       "  </tbody>\n",
       "</table>\n",
       "</div>"
      ],
      "text/plain": [
       "   years\n",
       "0     58\n",
       "1     52\n",
       "2     68\n",
       "3     86\n",
       "4     72"
      ]
     },
     "metadata": {},
     "output_type": "display_data"
    },
    {
     "name": "stdout",
     "output_type": "stream",
     "text": [
      "size: 32\n",
      "Stem | Leaves\n",
      "   4 | 7\n",
      "   5 | 2 7 8 8\n",
      "   6 | 1 6 6 8 8\n",
      "   7 | 0 2 2 3 3 5 6 7\n",
      "   8 | 4 4 4 5 6 6 7 9\n",
      "   9 | 0 1 1 2 3 7\n"
     ]
    }
   ],
   "source": [
    "# Sec 2.3 Problem 1\n",
    "path = '/home/mark/Documents/Class/Understanding Basic Statistics/Data/Chapter 2'\n",
    "fn = 'Prob0203_01.xls'\n",
    "df = pd.read_excel(os.path.join(path, fn))\n",
    "\n",
    "display(df.head())\n",
    "print(f'size: {df.size}')\n",
    "\n",
    "stem_leave(df.iloc[:, 0])"
   ]
  },
  {
   "cell_type": "code",
   "execution_count": 41,
   "metadata": {},
   "outputs": [
    {
     "data": {
      "text/html": [
       "<div>\n",
       "<style scoped>\n",
       "    .dataframe tbody tr th:only-of-type {\n",
       "        vertical-align: middle;\n",
       "    }\n",
       "\n",
       "    .dataframe tbody tr th {\n",
       "        vertical-align: top;\n",
       "    }\n",
       "\n",
       "    .dataframe thead th {\n",
       "        text-align: right;\n",
       "    }\n",
       "</style>\n",
       "<table border=\"1\" class=\"dataframe\">\n",
       "  <thead>\n",
       "    <tr style=\"text-align: right;\">\n",
       "      <th></th>\n",
       "      <th>loss_(percent)</th>\n",
       "    </tr>\n",
       "  </thead>\n",
       "  <tbody>\n",
       "    <tr>\n",
       "      <th>0</th>\n",
       "      <td>46</td>\n",
       "    </tr>\n",
       "    <tr>\n",
       "      <th>1</th>\n",
       "      <td>37</td>\n",
       "    </tr>\n",
       "    <tr>\n",
       "      <th>2</th>\n",
       "      <td>36</td>\n",
       "    </tr>\n",
       "    <tr>\n",
       "      <th>3</th>\n",
       "      <td>42</td>\n",
       "    </tr>\n",
       "    <tr>\n",
       "      <th>4</th>\n",
       "      <td>81</td>\n",
       "    </tr>\n",
       "  </tbody>\n",
       "</table>\n",
       "</div>"
      ],
      "text/plain": [
       "   loss_(percent)\n",
       "0              46\n",
       "1              37\n",
       "2              36\n",
       "3              42\n",
       "4              81"
      ]
     },
     "metadata": {},
     "output_type": "display_data"
    },
    {
     "name": "stdout",
     "output_type": "stream",
     "text": [
      "size: 48\n",
      "Stem | Leaves\n",
      "   0 | 9\n",
      "   1 | \n",
      "   2 | 0 3 4 7 7 8\n",
      "   3 | 0 1 3 5 5 5 6 7 8 8 9\n",
      "   4 | 2 2 6 6 6 8 9 9\n",
      "   5 | 0 0 0 2 2 4 6 6 9 9\n",
      "   6 | 0 7\n",
      "   7 | 2 3 4\n",
      "   8 | 1 5 7 7 9\n",
      "   9 | 0 1\n"
     ]
    }
   ],
   "source": [
    "# Sec 2.3 Problem 2\n",
    "path = '/home/mark/Documents/Class/Understanding Basic Statistics/Data/Chapter 2'\n",
    "fn = 'Prob0203_02.xls'\n",
    "df = pd.read_excel(os.path.join(path, fn))\n",
    "\n",
    "# df = df.set_index('Age')\n",
    "\n",
    "display(df.head())\n",
    "print(f'size: {df.size}')\n",
    "\n",
    "stem_leave(df.iloc[:, 0])\n"
   ]
  },
  {
   "cell_type": "code",
   "execution_count": 42,
   "metadata": {},
   "outputs": [
    {
     "data": {
      "text/html": [
       "<div>\n",
       "<style scoped>\n",
       "    .dataframe tbody tr th:only-of-type {\n",
       "        vertical-align: middle;\n",
       "    }\n",
       "\n",
       "    .dataframe tbody tr th {\n",
       "        vertical-align: top;\n",
       "    }\n",
       "\n",
       "    .dataframe thead th {\n",
       "        text-align: right;\n",
       "    }\n",
       "</style>\n",
       "<table border=\"1\" class=\"dataframe\">\n",
       "  <thead>\n",
       "    <tr style=\"text-align: right;\">\n",
       "      <th></th>\n",
       "      <th>State</th>\n",
       "      <th>Hospitals</th>\n",
       "      <th>stay_(days)</th>\n",
       "    </tr>\n",
       "  </thead>\n",
       "  <tbody>\n",
       "    <tr>\n",
       "      <th>0</th>\n",
       "      <td>Alabama</td>\n",
       "      <td>119</td>\n",
       "      <td>7.0</td>\n",
       "    </tr>\n",
       "    <tr>\n",
       "      <th>1</th>\n",
       "      <td>Alaska</td>\n",
       "      <td>16</td>\n",
       "      <td>5.7</td>\n",
       "    </tr>\n",
       "    <tr>\n",
       "      <th>2</th>\n",
       "      <td>Arizona</td>\n",
       "      <td>61</td>\n",
       "      <td>5.5</td>\n",
       "    </tr>\n",
       "    <tr>\n",
       "      <th>3</th>\n",
       "      <td>Arkansas</td>\n",
       "      <td>88</td>\n",
       "      <td>7.0</td>\n",
       "    </tr>\n",
       "    <tr>\n",
       "      <th>4</th>\n",
       "      <td>California</td>\n",
       "      <td>440</td>\n",
       "      <td>6.0</td>\n",
       "    </tr>\n",
       "  </tbody>\n",
       "</table>\n",
       "</div>"
      ],
      "text/plain": [
       "        State  Hospitals  stay_(days)\n",
       "0     Alabama        119          7.0\n",
       "1      Alaska         16          5.7\n",
       "2     Arizona         61          5.5\n",
       "3    Arkansas         88          7.0\n",
       "4  California        440          6.0"
      ]
     },
     "metadata": {},
     "output_type": "display_data"
    },
    {
     "name": "stdout",
     "output_type": "stream",
     "text": [
      "size: 153\n",
      "Stem | Leaves\n",
      "   5 | 2 3 5 5 6 7\n",
      "   6 | 0 2 4 6 6 7 7 8 8 8 8 9 9\n",
      "   7 | 0 0 0 0 0 0 1 1 1 2 2 2 3 3 3 3 4 4 5 5 6 6 8\n",
      "   8 | 4 5 7\n",
      "   9 | 4 6 9\n",
      "  10 | 0 3\n",
      "  11 | 1\n"
     ]
    }
   ],
   "source": [
    "# Sec 2.3 Problem 3\n",
    "path = '/home/mark/Documents/Class/Understanding Basic Statistics/Data/Chapter 2'\n",
    "fn = 'Prob0203_03.xls'\n",
    "df = pd.read_excel(os.path.join(path, fn))\n",
    "\n",
    "# df = df.set_index('Age')\n",
    "\n",
    "display(df.head())\n",
    "print(f'size: {df.size}')\n",
    "\n",
    "stem_leave((df.iloc[:, 2] * 10).astype(int))"
   ]
  },
  {
   "cell_type": "code",
   "execution_count": 43,
   "metadata": {
    "scrolled": false
   },
   "outputs": [
    {
     "data": {
      "text/html": [
       "<div>\n",
       "<style scoped>\n",
       "    .dataframe tbody tr th:only-of-type {\n",
       "        vertical-align: middle;\n",
       "    }\n",
       "\n",
       "    .dataframe tbody tr th {\n",
       "        vertical-align: top;\n",
       "    }\n",
       "\n",
       "    .dataframe thead th {\n",
       "        text-align: right;\n",
       "    }\n",
       "</style>\n",
       "<table border=\"1\" class=\"dataframe\">\n",
       "  <thead>\n",
       "    <tr style=\"text-align: right;\">\n",
       "      <th></th>\n",
       "      <th>State</th>\n",
       "      <th>Hospitals</th>\n",
       "      <th>stay_(days)</th>\n",
       "    </tr>\n",
       "  </thead>\n",
       "  <tbody>\n",
       "    <tr>\n",
       "      <th>0</th>\n",
       "      <td>Alabama</td>\n",
       "      <td>119</td>\n",
       "      <td>7.0</td>\n",
       "    </tr>\n",
       "    <tr>\n",
       "      <th>1</th>\n",
       "      <td>Alaska</td>\n",
       "      <td>16</td>\n",
       "      <td>5.7</td>\n",
       "    </tr>\n",
       "    <tr>\n",
       "      <th>2</th>\n",
       "      <td>Arizona</td>\n",
       "      <td>61</td>\n",
       "      <td>5.5</td>\n",
       "    </tr>\n",
       "    <tr>\n",
       "      <th>3</th>\n",
       "      <td>Arkansas</td>\n",
       "      <td>88</td>\n",
       "      <td>7.0</td>\n",
       "    </tr>\n",
       "    <tr>\n",
       "      <th>4</th>\n",
       "      <td>California</td>\n",
       "      <td>440</td>\n",
       "      <td>6.0</td>\n",
       "    </tr>\n",
       "  </tbody>\n",
       "</table>\n",
       "</div>"
      ],
      "text/plain": [
       "        State  Hospitals  stay_(days)\n",
       "0     Alabama        119          7.0\n",
       "1      Alaska         16          5.7\n",
       "2     Arizona         61          5.5\n",
       "3    Arkansas         88          7.0\n",
       "4  California        440          6.0"
      ]
     },
     "metadata": {},
     "output_type": "display_data"
    },
    {
     "name": "stdout",
     "output_type": "stream",
     "text": [
      "size: 153\n",
      "Stem | Leaves\n",
      "   0 | 8\n",
      "   1 | 1 2 5 6 9\n",
      "   2 | 1 7 7\n",
      "   3 | 5 7 8\n",
      "   4 | 1 2 7\n",
      "   5 | 1 2 3 9\n",
      "   6 | 1 6 8\n",
      "   7 | 1\n",
      "   8 | 8\n",
      "   9 | 0 2 6 8\n",
      "  10 | 1 2 7\n",
      "  11 | 3 3 7 9\n",
      "  12 | 2 3 9\n",
      "  13 | 3 3 6\n",
      "  14 | 8\n",
      "  15 | \n",
      "  16 | 2\n",
      "  17 | 5\n",
      "  18 | \n",
      "  19 | 3\n",
      "  20 | 9\n",
      "  21 | \n",
      "  22 | 7\n",
      "  23 | 1 6\n",
      "  24 | \n",
      "  25 | \n",
      "  26 | \n",
      "  27 | \n",
      "  28 | \n",
      "  29 | \n",
      "  30 | \n",
      "  31 | \n",
      "  32 | \n",
      "  33 | \n",
      "  34 | \n",
      "  35 | \n",
      "  36 | \n",
      "  37 | \n",
      "  38 | \n",
      "  39 | \n",
      "  40 | \n",
      "  41 | \n",
      "  42 | 1\n",
      "  43 | \n",
      "  44 | 0\n"
     ]
    },
    {
     "data": {
      "text/html": [
       "<div>\n",
       "<style scoped>\n",
       "    .dataframe tbody tr th:only-of-type {\n",
       "        vertical-align: middle;\n",
       "    }\n",
       "\n",
       "    .dataframe tbody tr th {\n",
       "        vertical-align: top;\n",
       "    }\n",
       "\n",
       "    .dataframe thead th {\n",
       "        text-align: right;\n",
       "    }\n",
       "</style>\n",
       "<table border=\"1\" class=\"dataframe\">\n",
       "  <thead>\n",
       "    <tr style=\"text-align: right;\">\n",
       "      <th></th>\n",
       "      <th>State</th>\n",
       "      <th>Hospitals</th>\n",
       "      <th>stay_(days)</th>\n",
       "    </tr>\n",
       "  </thead>\n",
       "  <tbody>\n",
       "    <tr>\n",
       "      <th>4</th>\n",
       "      <td>California</td>\n",
       "      <td>440</td>\n",
       "      <td>6.0</td>\n",
       "    </tr>\n",
       "    <tr>\n",
       "      <th>43</th>\n",
       "      <td>Texas</td>\n",
       "      <td>421</td>\n",
       "      <td>6.2</td>\n",
       "    </tr>\n",
       "  </tbody>\n",
       "</table>\n",
       "</div>"
      ],
      "text/plain": [
       "         State  Hospitals  stay_(days)\n",
       "4   California        440          6.0\n",
       "43       Texas        421          6.2"
      ]
     },
     "metadata": {},
     "output_type": "display_data"
    }
   ],
   "source": [
    "# Sec 2.3 Problem 4\n",
    "path = '/home/mark/Documents/Class/Understanding Basic Statistics/Data/Chapter 2'\n",
    "fn = 'Prob0203_03.xls'\n",
    "df = pd.read_excel(os.path.join(path, fn))\n",
    "\n",
    "# df = df.set_index('Age')\n",
    "\n",
    "display(df.head())\n",
    "print(f'size: {df.size}')\n",
    "\n",
    "stem_leave(df.iloc[:, 1], fill=True)\n",
    "\n",
    "# The outliers are greater than 400\n",
    "display(df[df['Hospitals'] > 400])"
   ]
  },
  {
   "cell_type": "code",
   "execution_count": 44,
   "metadata": {},
   "outputs": [
    {
     "data": {
      "image/png": "[encoded data removed]",
      "text/plain": [
       "<Figure size 1080x144 with 1 Axes>"
      ]
     },
     "metadata": {
      "needs_background": "light"
     },
     "output_type": "display_data"
    }
   ],
   "source": [
    "dotplot(df.iloc[:, 1])"
   ]
  },
  {
   "cell_type": "code",
   "execution_count": 45,
   "metadata": {},
   "outputs": [
    {
     "data": {
      "text/html": [
       "<div>\n",
       "<style scoped>\n",
       "    .dataframe tbody tr th:only-of-type {\n",
       "        vertical-align: middle;\n",
       "    }\n",
       "\n",
       "    .dataframe tbody tr th {\n",
       "        vertical-align: top;\n",
       "    }\n",
       "\n",
       "    .dataframe thead th {\n",
       "        text-align: right;\n",
       "    }\n",
       "</style>\n",
       "<table border=\"1\" class=\"dataframe\">\n",
       "  <thead>\n",
       "    <tr style=\"text-align: right;\">\n",
       "      <th></th>\n",
       "      <th>1961-81</th>\n",
       "      <th>1981-2000</th>\n",
       "    </tr>\n",
       "  </thead>\n",
       "  <tbody>\n",
       "    <tr>\n",
       "      <th>0</th>\n",
       "      <td>23</td>\n",
       "      <td>9</td>\n",
       "    </tr>\n",
       "    <tr>\n",
       "      <th>1</th>\n",
       "      <td>23</td>\n",
       "      <td>8</td>\n",
       "    </tr>\n",
       "    <tr>\n",
       "      <th>2</th>\n",
       "      <td>18</td>\n",
       "      <td>9</td>\n",
       "    </tr>\n",
       "    <tr>\n",
       "      <th>3</th>\n",
       "      <td>19</td>\n",
       "      <td>10</td>\n",
       "    </tr>\n",
       "    <tr>\n",
       "      <th>4</th>\n",
       "      <td>16</td>\n",
       "      <td>14</td>\n",
       "    </tr>\n",
       "  </tbody>\n",
       "</table>\n",
       "</div>"
      ],
      "text/plain": [
       "   1961-81  1981-2000\n",
       "0       23          9\n",
       "1       23          8\n",
       "2       18          9\n",
       "3       19         10\n",
       "4       16         14"
      ]
     },
     "metadata": {},
     "output_type": "display_data"
    },
    {
     "name": "stdout",
     "output_type": "stream",
     "text": [
      "size: 40\n",
      "\n",
      "\n",
      "Period: 1961-81\n",
      "\n",
      "Stem | Leaves\n",
      "   0 | \n",
      "   0 | 9 9\n",
      "   1 | 0 0 2 3 3 4\n",
      "   1 | 5 5 6 6 7 8 8 9\n",
      "   2 | 0 2 3 3\n",
      "   2 | \n",
      "\n",
      "\n",
      "Period: 1981-2000\n",
      "\n",
      "Stem | Leaves\n",
      "   0 | \n",
      "   0 | 7 7 7 8 8 8 8 9 9 9 9 9 9 9 9\n",
      "   1 | 0 0 1 1 4\n",
      "   1 | \n"
     ]
    }
   ],
   "source": [
    "# Sec 2.3 Problem 5\n",
    "path = '/home/mark/Documents/Class/Understanding Basic Statistics/Data/Chapter 2'\n",
    "fn = 'Prob0203_05.xls'\n",
    "df = pd.read_excel(os.path.join(path, fn))\n",
    "\n",
    "# df = df.set_index('Age')\n",
    "\n",
    "display(df.head())\n",
    "print(f'size: {df.size}')\n",
    "\n",
    "cols = df.columns.values.tolist()\n",
    "\n",
    "for i in range(2):\n",
    "    print(f'\\n\\nPeriod: {cols[i]}\\n')\n",
    "    stem_leave(df.iloc[:, i], split=True)\n"
   ]
  },
  {
   "cell_type": "code",
   "execution_count": 46,
   "metadata": {},
   "outputs": [
    {
     "data": {
      "text/html": [
       "<div>\n",
       "<style scoped>\n",
       "    .dataframe tbody tr th:only-of-type {\n",
       "        vertical-align: middle;\n",
       "    }\n",
       "\n",
       "    .dataframe tbody tr th {\n",
       "        vertical-align: top;\n",
       "    }\n",
       "\n",
       "    .dataframe thead th {\n",
       "        text-align: right;\n",
       "    }\n",
       "</style>\n",
       "<table border=\"1\" class=\"dataframe\">\n",
       "  <thead>\n",
       "    <tr style=\"text-align: right;\">\n",
       "      <th></th>\n",
       "      <th>1st_round</th>\n",
       "      <th>4th_round</th>\n",
       "    </tr>\n",
       "  </thead>\n",
       "  <tbody>\n",
       "    <tr>\n",
       "      <th>0</th>\n",
       "      <td>71</td>\n",
       "      <td>69</td>\n",
       "    </tr>\n",
       "    <tr>\n",
       "      <th>1</th>\n",
       "      <td>65</td>\n",
       "      <td>69</td>\n",
       "    </tr>\n",
       "    <tr>\n",
       "      <th>2</th>\n",
       "      <td>67</td>\n",
       "      <td>73</td>\n",
       "    </tr>\n",
       "    <tr>\n",
       "      <th>3</th>\n",
       "      <td>73</td>\n",
       "      <td>74</td>\n",
       "    </tr>\n",
       "    <tr>\n",
       "      <th>4</th>\n",
       "      <td>74</td>\n",
       "      <td>72</td>\n",
       "    </tr>\n",
       "  </tbody>\n",
       "</table>\n",
       "</div>"
      ],
      "text/plain": [
       "   1st_round  4th_round\n",
       "0         71         69\n",
       "1         65         69\n",
       "2         67         73\n",
       "3         73         74\n",
       "4         74         72"
      ]
     },
     "metadata": {},
     "output_type": "display_data"
    },
    {
     "name": "stdout",
     "output_type": "stream",
     "text": [
      "size: 64\n",
      "\n",
      "\n",
      "Period: 1st_round\n",
      "\n",
      "Stem | Leaves\n",
      "   6 | \n",
      "   6 | 5 6 7 7\n",
      "   7 | 0 1 1 1 1 1 1 1 1 1 1 2 2 2 3 3 3 3 4 4 4\n",
      "   7 | 5 5 5 5 5 5 5\n",
      "\n",
      "\n",
      "Period: 4th_round\n",
      "\n",
      "Stem | Leaves\n",
      "   6 | \n",
      "   6 | 8 9 9 9 9 9\n",
      "   7 | 0 0 0 0 1 1 1 1 1 1 1 1 2 2 2 2 2 2 3 3 3 3 3 4 4 4\n",
      "   7 | \n"
     ]
    }
   ],
   "source": [
    "# Sec 2.3 Problem 6\n",
    "path = '/home/mark/Documents/Class/Understanding Basic Statistics/Data/Chapter 2'\n",
    "fn = 'Prob0203_06.xls'\n",
    "df = pd.read_excel(os.path.join(path, fn))\n",
    "\n",
    "# df = df.set_index('Age')\n",
    "\n",
    "display(df.head())\n",
    "print(f'size: {df.size}')\n",
    "\n",
    "cols = df.columns.values.tolist()\n",
    "\n",
    "for i in range(2):\n",
    "    print(f'\\n\\nPeriod: {cols[i]}\\n')\n",
    "    stem_leave(df.iloc[:, i], split=True)\n"
   ]
  },
  {
   "cell_type": "code",
   "execution_count": 47,
   "metadata": {},
   "outputs": [
    {
     "name": "stdout",
     "output_type": "stream",
     "text": [
      "shape: (25, 4)\n"
     ]
    },
    {
     "data": {
      "text/html": [
       "<div>\n",
       "<style scoped>\n",
       "    .dataframe tbody tr th:only-of-type {\n",
       "        vertical-align: middle;\n",
       "    }\n",
       "\n",
       "    .dataframe tbody tr th {\n",
       "        vertical-align: top;\n",
       "    }\n",
       "\n",
       "    .dataframe thead th {\n",
       "        text-align: right;\n",
       "    }\n",
       "</style>\n",
       "<table border=\"1\" class=\"dataframe\">\n",
       "  <thead>\n",
       "    <tr style=\"text-align: right;\">\n",
       "      <th></th>\n",
       "      <th>Brand</th>\n",
       "      <th>Tar</th>\n",
       "      <th>Nicotine</th>\n",
       "      <th>CO</th>\n",
       "    </tr>\n",
       "  </thead>\n",
       "  <tbody>\n",
       "    <tr>\n",
       "      <th>0</th>\n",
       "      <td>Alpine</td>\n",
       "      <td>14.1</td>\n",
       "      <td>0.86</td>\n",
       "      <td>13.6</td>\n",
       "    </tr>\n",
       "    <tr>\n",
       "      <th>1</th>\n",
       "      <td>Benson_Hedges</td>\n",
       "      <td>16.0</td>\n",
       "      <td>1.06</td>\n",
       "      <td>16.6</td>\n",
       "    </tr>\n",
       "    <tr>\n",
       "      <th>2</th>\n",
       "      <td>Bull_Durham</td>\n",
       "      <td>29.8</td>\n",
       "      <td>2.03</td>\n",
       "      <td>23.5</td>\n",
       "    </tr>\n",
       "    <tr>\n",
       "      <th>3</th>\n",
       "      <td>Camel_Lights</td>\n",
       "      <td>8.0</td>\n",
       "      <td>0.67</td>\n",
       "      <td>10.2</td>\n",
       "    </tr>\n",
       "    <tr>\n",
       "      <th>4</th>\n",
       "      <td>Carlton</td>\n",
       "      <td>4.1</td>\n",
       "      <td>0.40</td>\n",
       "      <td>5.4</td>\n",
       "    </tr>\n",
       "  </tbody>\n",
       "</table>\n",
       "</div>"
      ],
      "text/plain": [
       "           Brand   Tar  Nicotine    CO\n",
       "0         Alpine  14.1      0.86  13.6\n",
       "1  Benson_Hedges  16.0      1.06  16.6\n",
       "2    Bull_Durham  29.8      2.03  23.5\n",
       "3   Camel_Lights   8.0      0.67  10.2\n",
       "4        Carlton   4.1      0.40   5.4"
      ]
     },
     "metadata": {},
     "output_type": "display_data"
    },
    {
     "name": "stdout",
     "output_type": "stream",
     "text": [
      "Stem | Leaves\n",
      "   1 | 0\n",
      "   2 | \n",
      "   3 | \n",
      "   4 | 1 5\n",
      "   5 | \n",
      "   6 | \n",
      "   7 | 3 8\n",
      "   8 | 0 6 8\n",
      "   9 | 0\n",
      "  10 | \n",
      "  11 | 4\n",
      "  12 | 0 4 8\n",
      "  13 | 7\n",
      "  14 | 1 5 9\n",
      "  15 | 0 1 2 8\n",
      "  16 | 0 6\n",
      "  17 | 0\n",
      "  18 | \n",
      "  19 | \n",
      "  20 | \n",
      "  21 | \n",
      "  22 | \n",
      "  23 | \n",
      "  24 | \n",
      "  25 | \n",
      "  26 | \n",
      "  27 | \n",
      "  28 | \n",
      "  29 | 8\n"
     ]
    }
   ],
   "source": [
    "# Sec 2.3 Problem 7\n",
    "path = '/home/mark/Documents/Class/Understanding Basic Statistics/Data/Chapter 2'\n",
    "fn = 'Table0216.xls'\n",
    "df = pd.read_excel(os.path.join(path, fn))\n",
    "\n",
    "print(f'shape: {df.shape}')\n",
    "display(df.head())\n",
    "\n",
    "stem_leave((df['Tar']*10).astype('int'))"
   ]
  },
  {
   "cell_type": "code",
   "execution_count": 48,
   "metadata": {},
   "outputs": [
    {
     "name": "stdout",
     "output_type": "stream",
     "text": [
      "shape: (25, 4)\n"
     ]
    },
    {
     "data": {
      "text/html": [
       "<div>\n",
       "<style scoped>\n",
       "    .dataframe tbody tr th:only-of-type {\n",
       "        vertical-align: middle;\n",
       "    }\n",
       "\n",
       "    .dataframe tbody tr th {\n",
       "        vertical-align: top;\n",
       "    }\n",
       "\n",
       "    .dataframe thead th {\n",
       "        text-align: right;\n",
       "    }\n",
       "</style>\n",
       "<table border=\"1\" class=\"dataframe\">\n",
       "  <thead>\n",
       "    <tr style=\"text-align: right;\">\n",
       "      <th></th>\n",
       "      <th>Brand</th>\n",
       "      <th>Tar</th>\n",
       "      <th>Nicotine</th>\n",
       "      <th>CO</th>\n",
       "    </tr>\n",
       "  </thead>\n",
       "  <tbody>\n",
       "    <tr>\n",
       "      <th>0</th>\n",
       "      <td>Alpine</td>\n",
       "      <td>14.1</td>\n",
       "      <td>0.86</td>\n",
       "      <td>13.6</td>\n",
       "    </tr>\n",
       "    <tr>\n",
       "      <th>1</th>\n",
       "      <td>Benson_Hedges</td>\n",
       "      <td>16.0</td>\n",
       "      <td>1.06</td>\n",
       "      <td>16.6</td>\n",
       "    </tr>\n",
       "    <tr>\n",
       "      <th>2</th>\n",
       "      <td>Bull_Durham</td>\n",
       "      <td>29.8</td>\n",
       "      <td>2.03</td>\n",
       "      <td>23.5</td>\n",
       "    </tr>\n",
       "    <tr>\n",
       "      <th>3</th>\n",
       "      <td>Camel_Lights</td>\n",
       "      <td>8.0</td>\n",
       "      <td>0.67</td>\n",
       "      <td>10.2</td>\n",
       "    </tr>\n",
       "    <tr>\n",
       "      <th>4</th>\n",
       "      <td>Carlton</td>\n",
       "      <td>4.1</td>\n",
       "      <td>0.40</td>\n",
       "      <td>5.4</td>\n",
       "    </tr>\n",
       "  </tbody>\n",
       "</table>\n",
       "</div>"
      ],
      "text/plain": [
       "           Brand   Tar  Nicotine    CO\n",
       "0         Alpine  14.1      0.86  13.6\n",
       "1  Benson_Hedges  16.0      1.06  16.6\n",
       "2    Bull_Durham  29.8      2.03  23.5\n",
       "3   Camel_Lights   8.0      0.67  10.2\n",
       "4        Carlton   4.1      0.40   5.4"
      ]
     },
     "metadata": {},
     "output_type": "display_data"
    },
    {
     "name": "stdout",
     "output_type": "stream",
     "text": [
      "Stem | Leaves\n",
      "   1 | 5\n",
      "   2 | \n",
      "   3 | \n",
      "   4 | 9\n",
      "   5 | 4\n",
      "   6 | \n",
      "   7 | \n",
      "   8 | 5\n",
      "   9 | 0 5\n",
      "  10 | 0 2 2 6\n",
      "  11 | \n",
      "  12 | 3 6\n",
      "  13 | 0 6 9\n",
      "  14 | 4 9\n",
      "  15 | 0 4 9\n",
      "  16 | 3 6\n",
      "  17 | 5\n",
      "  18 | 5\n",
      "  19 | \n",
      "  20 | \n",
      "  21 | \n",
      "  22 | \n",
      "  23 | 5\n"
     ]
    }
   ],
   "source": [
    "# Sec 2.3 Problem 8\n",
    "path = '/home/mark/Documents/Class/Understanding Basic Statistics/Data/Chapter 2'\n",
    "fn = 'Table0216.xls'\n",
    "df = pd.read_excel(os.path.join(path, fn))\n",
    "\n",
    "print(f'shape: {df.shape}')\n",
    "display(df.head())\n",
    "\n",
    "stem_leave((df['CO']*10).astype('int'))"
   ]
  },
  {
   "cell_type": "code",
   "execution_count": 49,
   "metadata": {},
   "outputs": [
    {
     "name": "stdout",
     "output_type": "stream",
     "text": [
      "shape: (25, 4)\n"
     ]
    },
    {
     "data": {
      "text/html": [
       "<div>\n",
       "<style scoped>\n",
       "    .dataframe tbody tr th:only-of-type {\n",
       "        vertical-align: middle;\n",
       "    }\n",
       "\n",
       "    .dataframe tbody tr th {\n",
       "        vertical-align: top;\n",
       "    }\n",
       "\n",
       "    .dataframe thead th {\n",
       "        text-align: right;\n",
       "    }\n",
       "</style>\n",
       "<table border=\"1\" class=\"dataframe\">\n",
       "  <thead>\n",
       "    <tr style=\"text-align: right;\">\n",
       "      <th></th>\n",
       "      <th>Brand</th>\n",
       "      <th>Tar</th>\n",
       "      <th>Nicotine</th>\n",
       "      <th>CO</th>\n",
       "    </tr>\n",
       "  </thead>\n",
       "  <tbody>\n",
       "    <tr>\n",
       "      <th>0</th>\n",
       "      <td>Alpine</td>\n",
       "      <td>14.1</td>\n",
       "      <td>0.86</td>\n",
       "      <td>13.6</td>\n",
       "    </tr>\n",
       "    <tr>\n",
       "      <th>1</th>\n",
       "      <td>Benson_Hedges</td>\n",
       "      <td>16.0</td>\n",
       "      <td>1.06</td>\n",
       "      <td>16.6</td>\n",
       "    </tr>\n",
       "    <tr>\n",
       "      <th>2</th>\n",
       "      <td>Bull_Durham</td>\n",
       "      <td>29.8</td>\n",
       "      <td>2.03</td>\n",
       "      <td>23.5</td>\n",
       "    </tr>\n",
       "    <tr>\n",
       "      <th>3</th>\n",
       "      <td>Camel_Lights</td>\n",
       "      <td>8.0</td>\n",
       "      <td>0.67</td>\n",
       "      <td>10.2</td>\n",
       "    </tr>\n",
       "    <tr>\n",
       "      <th>4</th>\n",
       "      <td>Carlton</td>\n",
       "      <td>4.1</td>\n",
       "      <td>0.40</td>\n",
       "      <td>5.4</td>\n",
       "    </tr>\n",
       "  </tbody>\n",
       "</table>\n",
       "</div>"
      ],
      "text/plain": [
       "           Brand   Tar  Nicotine    CO\n",
       "0         Alpine  14.1      0.86  13.6\n",
       "1  Benson_Hedges  16.0      1.06  16.6\n",
       "2    Bull_Durham  29.8      2.03  23.5\n",
       "3   Camel_Lights   8.0      0.67  10.2\n",
       "4        Carlton   4.1      0.40   5.4"
      ]
     },
     "metadata": {},
     "output_type": "display_data"
    },
    {
     "name": "stdout",
     "output_type": "stream",
     "text": [
      "Stem | Leaves\n",
      "   1 | 3\n",
      "   2 | \n",
      "   3 | \n",
      "   4 | 0 2\n",
      "   5 | 6\n",
      "   6 | 1 7 9\n",
      "   7 | 4 6 8\n",
      "   8 | 2 6\n",
      "   9 | 0 5 6\n",
      "  10 | 1 1 2 2 4 6 8\n",
      "  11 | 2\n",
      "  12 | 6\n",
      "  13 | \n",
      "  14 | \n",
      "  15 | \n",
      "  16 | \n",
      "  17 | \n",
      "  18 | \n",
      "  19 | \n",
      "  20 | 2\n"
     ]
    },
    {
     "data": {
      "image/png": "[encoded data removed]",
      "text/plain": [
       "<Figure size 1080x144 with 1 Axes>"
      ]
     },
     "metadata": {
      "needs_background": "light"
     },
     "output_type": "display_data"
    }
   ],
   "source": [
    "# Sec 2.3 Problem 9\n",
    "path = '/home/mark/Documents/Class/Understanding Basic Statistics/Data/Chapter 2'\n",
    "fn = 'Table0216.xls'\n",
    "df = pd.read_excel(os.path.join(path, fn))\n",
    "\n",
    "print(f'shape: {df.shape}')\n",
    "display(df.head())\n",
    "\n",
    "stem_leave((df['Nicotine']*100).astype('int'))\n",
    "\n",
    "dotplot(df['Nicotine'].round(1))"
   ]
  },
  {
   "cell_type": "markdown",
   "metadata": {},
   "source": [
    "## Chapter 2 Review"
   ]
  },
  {
   "cell_type": "code",
   "execution_count": 50,
   "metadata": {},
   "outputs": [
    {
     "name": "stdout",
     "output_type": "stream",
     "text": [
      "prisoners, 1997: 1,183,589\n",
      "prisoners, 2020: 1,437,335\n"
     ]
    }
   ],
   "source": [
    "# Chpt 2 Rev Problem 12C\n",
    "rate = 444/100_000\n",
    "pop_1997 = 266_574_000\n",
    "pop_2020 = 323_724_000\n",
    "\n",
    "print(f'prisoners, 1997: {round(rate*pop_1997):,}')\n",
    "print(f'prisoners, 2020: {round(rate*pop_2020):,}')\n"
   ]
  },
  {
   "cell_type": "code",
   "execution_count": 51,
   "metadata": {},
   "outputs": [
    {
     "data": {
      "image/png": "[encoded data removed]",
      "text/plain": [
       "<Figure size 576x432 with 1 Axes>"
      ]
     },
     "metadata": {
      "needs_background": "light"
     },
     "output_type": "display_data"
    },
    {
     "data": {
      "image/png": "[encoded data removed]",
      "text/plain": [
       "<Figure size 576x432 with 1 Axes>"
      ]
     },
     "metadata": {},
     "output_type": "display_data"
    }
   ],
   "source": [
    "# Chpt 2 Rev Problem 13\n",
    "t = [\n",
    "    ('Understanding\\nIRS jargon', .43),\n",
    "    ('Knowing\\nDeductions', .28),\n",
    "    ('Getting\\nRight Form', .10),\n",
    "    ('Calculating\\nNumbers', .08),\n",
    "    ('Did Not Know', .10),\n",
    "]\n",
    "\n",
    "df = pd.DataFrame(t, columns=['Reason', 'Percent'])\n",
    "\n",
    "title = 'Most Difficult Taxes'\n",
    "\n",
    "pareto_plot(df, 'Percent', 'Reason', title)\n",
    "\n",
    "pie_plot(df, 'Percent', 'Reason', title)"
   ]
  },
  {
   "cell_type": "code",
   "execution_count": 52,
   "metadata": {},
   "outputs": [
    {
     "name": "stdout",
     "output_type": "stream",
     "text": [
      "shape: (50, 1)\n"
     ]
    },
    {
     "data": {
      "text/html": [
       "<div>\n",
       "<style scoped>\n",
       "    .dataframe tbody tr th:only-of-type {\n",
       "        vertical-align: middle;\n",
       "    }\n",
       "\n",
       "    .dataframe tbody tr th {\n",
       "        vertical-align: top;\n",
       "    }\n",
       "\n",
       "    .dataframe thead th {\n",
       "        text-align: right;\n",
       "    }\n",
       "</style>\n",
       "<table border=\"1\" class=\"dataframe\">\n",
       "  <thead>\n",
       "    <tr style=\"text-align: right;\">\n",
       "      <th></th>\n",
       "      <th>age_(years)</th>\n",
       "    </tr>\n",
       "  </thead>\n",
       "  <tbody>\n",
       "    <tr>\n",
       "      <th>0</th>\n",
       "      <td>46</td>\n",
       "    </tr>\n",
       "    <tr>\n",
       "      <th>1</th>\n",
       "      <td>16</td>\n",
       "    </tr>\n",
       "    <tr>\n",
       "      <th>2</th>\n",
       "      <td>41</td>\n",
       "    </tr>\n",
       "    <tr>\n",
       "      <th>3</th>\n",
       "      <td>26</td>\n",
       "    </tr>\n",
       "    <tr>\n",
       "      <th>4</th>\n",
       "      <td>22</td>\n",
       "    </tr>\n",
       "  </tbody>\n",
       "</table>\n",
       "</div>"
      ],
      "text/plain": [
       "   age_(years)\n",
       "0           46\n",
       "1           16\n",
       "2           41\n",
       "3           26\n",
       "4           22"
      ]
     },
     "metadata": {},
     "output_type": "display_data"
    },
    {
     "name": "stdout",
     "output_type": "stream",
     "text": [
      "Stem | Leaves\n",
      "   1 | 6 8\n",
      "   2 | 0 1 1 2 2 2 3 4 4 5 6 6 6 7 7 7 9\n",
      "   3 | 0 0 1 1 2 3 4 4 5 5 6 7 8 9\n",
      "   4 | 0 0 1 3 5 6 7 7 9 9\n",
      "   5 | 1 3 5 6 8\n",
      "   6 | 3 4\n",
      "min: 16  max: 64  size: 50\n",
      "class width: 7\n",
      "freq: [ 8 11 11  7  6  4  3]\n",
      "cls_limits: [(16, 22), (23, 29), (30, 36), (37, 43), (44, 50), (51, 57), (58, 64)]\n",
      "boundaries: [15.5 22.5 29.5 36.5 43.5 50.5 57.5 64.5]\n",
      "midpts: [19.0, 26.0, 33.0, 40.0, 47.0, 54.0, 61.0]\n",
      "rel_freq: [0.16 0.22 0.22 0.14 0.12 0.08 0.06]\n"
     ]
    },
    {
     "data": {
      "image/png": "[encoded data removed]",
      "text/plain": [
       "<Figure size 1080x288 with 2 Axes>"
      ]
     },
     "metadata": {
      "needs_background": "light"
     },
     "output_type": "display_data"
    },
    {
     "name": "stdout",
     "output_type": "stream",
     "text": [
      "class width: 7\n",
      "freq: [ 8 11 11  7  6  4  3]\n",
      "cumulative: [ 0  8 19 30 37 43 47 50]\n",
      "boundaries: [15.5 22.5 29.5 36.5 43.5 50.5 57.5 64.5]\n"
     ]
    },
    {
     "data": {
      "image/png": "[encoded data removed]",
      "text/plain": [
       "<Figure size 432x288 with 1 Axes>"
      ]
     },
     "metadata": {
      "needs_background": "light"
     },
     "output_type": "display_data"
    }
   ],
   "source": [
    "# Chpt 2 Rev Problem 14\n",
    "df = pd.read_excel(os.path.join(CHPT_2, 'RProb0208.xls'))\n",
    "\n",
    "print(f'shape: {df.shape}')\n",
    "display(df.head())\n",
    "\n",
    "stem_leave(df['age_(years)'])\n",
    "\n",
    "freq_dist(df['age_(years)'], 7)\n",
    "\n",
    "ogive(df['age_(years)'], 7)"
   ]
  },
  {
   "cell_type": "code",
   "execution_count": 53,
   "metadata": {},
   "outputs": [
    {
     "name": "stdout",
     "output_type": "stream",
     "text": [
      "shape: (60, 1)\n"
     ]
    },
    {
     "data": {
      "text/html": [
       "<div>\n",
       "<style scoped>\n",
       "    .dataframe tbody tr th:only-of-type {\n",
       "        vertical-align: middle;\n",
       "    }\n",
       "\n",
       "    .dataframe tbody tr th {\n",
       "        vertical-align: top;\n",
       "    }\n",
       "\n",
       "    .dataframe thead th {\n",
       "        text-align: right;\n",
       "    }\n",
       "</style>\n",
       "<table border=\"1\" class=\"dataframe\">\n",
       "  <thead>\n",
       "    <tr style=\"text-align: right;\">\n",
       "      <th></th>\n",
       "      <th>circum_(mm)</th>\n",
       "    </tr>\n",
       "  </thead>\n",
       "  <tbody>\n",
       "    <tr>\n",
       "      <th>0</th>\n",
       "      <td>108</td>\n",
       "    </tr>\n",
       "    <tr>\n",
       "      <th>1</th>\n",
       "      <td>99</td>\n",
       "    </tr>\n",
       "    <tr>\n",
       "      <th>2</th>\n",
       "      <td>106</td>\n",
       "    </tr>\n",
       "    <tr>\n",
       "      <th>3</th>\n",
       "      <td>102</td>\n",
       "    </tr>\n",
       "    <tr>\n",
       "      <th>4</th>\n",
       "      <td>115</td>\n",
       "    </tr>\n",
       "  </tbody>\n",
       "</table>\n",
       "</div>"
      ],
      "text/plain": [
       "   circum_(mm)\n",
       "0          108\n",
       "1           99\n",
       "2          106\n",
       "3          102\n",
       "4          115"
      ]
     },
     "metadata": {},
     "output_type": "display_data"
    },
    {
     "name": "stdout",
     "output_type": "stream",
     "text": [
      "Stem | Leaves\n",
      "   6 | 9\n",
      "   7 | 5\n",
      "   8 | 3 4\n",
      "   9 | 0 1 1 6 9 9 9\n",
      "  10 | 0 1 2 2 3 5 5 5 6 6 6 8 8 8 8 9 9\n",
      "  11 | 0 1 2 2 3 3 4 4 4 5 5 6 7 7 7 7 7 9\n",
      "  12 | 0 0 0 2 2 2 2 3 4 5 9\n",
      "  13 | 8\n",
      "  14 | 2 2\n",
      "min: 69  max: 142  size: 60\n",
      "class width: 11\n",
      "freq: [ 2  3  8 19 22  3  3]\n",
      "cls_limits: [(69, 79), (80, 90), (91, 101), (102, 112), (113, 123), (124, 134), (135, 145)]\n",
      "boundaries: [ 68.5  79.5  90.5 101.5 112.5 123.5 134.5 145.5]\n",
      "midpts: [74.0, 85.0, 96.0, 107.0, 118.0, 129.0, 140.0]\n",
      "rel_freq: [0.03333333 0.05       0.13333333 0.31666667 0.36666667 0.05\n",
      " 0.05      ]\n"
     ]
    },
    {
     "data": {
      "image/png": "[encoded data removed]",
      "text/plain": [
       "<Figure size 1080x288 with 2 Axes>"
      ]
     },
     "metadata": {
      "needs_background": "light"
     },
     "output_type": "display_data"
    },
    {
     "name": "stdout",
     "output_type": "stream",
     "text": [
      "class width: 11\n",
      "freq: [ 2  3  8 19 22  3  3]\n",
      "cumulative: [ 0  2  5 13 32 54 57 60]\n",
      "boundaries: [ 68.5  79.5  90.5 101.5 112.5 123.5 134.5 145.5]\n"
     ]
    },
    {
     "data": {
      "image/png": "[encoded data removed]",
      "text/plain": [
       "<Figure size 432x288 with 1 Axes>"
      ]
     },
     "metadata": {
      "needs_background": "light"
     },
     "output_type": "display_data"
    }
   ],
   "source": [
    "# Chpt 2 Rev Problem 15\n",
    "df = pd.read_excel(os.path.join(CHPT_2, 'RProb0209.xls'))\n",
    "\n",
    "print(f'shape: {df.shape}')\n",
    "display(df.head())\n",
    "\n",
    "stem_leave(df['circum_(mm)'])\n",
    "\n",
    "freq_dist(df['circum_(mm)'], 7)\n",
    "\n",
    "ogive(df['circum_(mm)'], 7)"
   ]
  },
  {
   "cell_type": "code",
   "execution_count": 54,
   "metadata": {
    "scrolled": false
   },
   "outputs": [
    {
     "name": "stdout",
     "output_type": "stream",
     "text": [
      "shape: (5, 2)\n"
     ]
    },
    {
     "data": {
      "text/html": [
       "<div>\n",
       "<style scoped>\n",
       "    .dataframe tbody tr th:only-of-type {\n",
       "        vertical-align: middle;\n",
       "    }\n",
       "\n",
       "    .dataframe tbody tr th {\n",
       "        vertical-align: top;\n",
       "    }\n",
       "\n",
       "    .dataframe thead th {\n",
       "        text-align: right;\n",
       "    }\n",
       "</style>\n",
       "<table border=\"1\" class=\"dataframe\">\n",
       "  <thead>\n",
       "    <tr style=\"text-align: right;\">\n",
       "      <th></th>\n",
       "      <th>Case</th>\n",
       "      <th>Filings_(k)</th>\n",
       "    </tr>\n",
       "  </thead>\n",
       "  <tbody>\n",
       "    <tr>\n",
       "      <th>1</th>\n",
       "      <td>Torts</td>\n",
       "      <td>191</td>\n",
       "    </tr>\n",
       "    <tr>\n",
       "      <th>0</th>\n",
       "      <td>Contracts</td>\n",
       "      <td>107</td>\n",
       "    </tr>\n",
       "    <tr>\n",
       "      <th>2</th>\n",
       "      <td>Abs_Liability</td>\n",
       "      <td>49</td>\n",
       "    </tr>\n",
       "    <tr>\n",
       "      <th>3</th>\n",
       "      <td>Other_Liability</td>\n",
       "      <td>38</td>\n",
       "    </tr>\n",
       "    <tr>\n",
       "      <th>4</th>\n",
       "      <td>Other</td>\n",
       "      <td>21</td>\n",
       "    </tr>\n",
       "  </tbody>\n",
       "</table>\n",
       "</div>"
      ],
      "text/plain": [
       "              Case  Filings_(k)\n",
       "1            Torts          191\n",
       "0        Contracts          107\n",
       "2    Abs_Liability           49\n",
       "3  Other_Liability           38\n",
       "4            Other           21"
      ]
     },
     "metadata": {},
     "output_type": "display_data"
    },
    {
     "data": {
      "image/png": "[encoded data removed]",
      "text/plain": [
       "<Figure size 576x432 with 1 Axes>"
      ]
     },
     "metadata": {
      "needs_background": "light"
     },
     "output_type": "display_data"
    },
    {
     "data": {
      "image/png": "[encoded data removed]",
      "text/plain": [
       "<Figure size 576x432 with 1 Axes>"
      ]
     },
     "metadata": {},
     "output_type": "display_data"
    }
   ],
   "source": [
    "# Chpt 2 Rev Problem 16\n",
    "df = pd.read_excel(os.path.join(CHPT_2, 'RProb0210.xls'))\n",
    "\n",
    "print(f'shape: {df.shape}')\n",
    "df = df.sort_values(by=['Filings_(k)'], ascending=False)\n",
    "display(df.head())\n",
    "\n",
    "title = 'Lawsuits'\n",
    "\n",
    "pareto_plot(df, 'Filings_(k)', 'Case', title)\n",
    "\n",
    "pie_plot(df, 'Filings_(k)', 'Case', title)"
   ]
  },
  {
   "cell_type": "code",
   "execution_count": null,
   "metadata": {},
   "outputs": [],
   "source": []
  }
 ],
 "metadata": {
  "kernelspec": {
   "display_name": "Python 3",
   "language": "python",
   "name": "python3"
  },
  "language_info": {
   "codemirror_mode": {
    "name": "ipython",
    "version": 3
   },
   "file_extension": ".py",
   "mimetype": "text/x-python",
   "name": "python",
   "nbconvert_exporter": "python",
   "pygments_lexer": "ipython3",
   "version": "3.8.3"
  }
 },
 "nbformat": 4,
 "nbformat_minor": 4
}
