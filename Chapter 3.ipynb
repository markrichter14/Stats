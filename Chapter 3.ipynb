{
 "cells": [
  {
   "cell_type": "markdown",
   "metadata": {},
   "source": [
    "## Understanding Basic Statistics\n",
    "\n",
    "# Chapter 3: Averages and Variation\n",
    "\n"
   ]
  },
  {
   "cell_type": "code",
   "execution_count": 1,
   "metadata": {},
   "outputs": [],
   "source": [
    "import numpy as np\n",
    "import matplotlib.pyplot as plt\n",
    "import pandas as pd\n",
    "import os\n",
    "from scipy import stats\n",
    "from ubs_stats import *\n",
    "\n",
    "PATH = '/home/mark/Documents/Class/Understanding Basic Statistics/Data/Chapter 3'"
   ]
  },
  {
   "cell_type": "markdown",
   "metadata": {},
   "source": [
    "## Data"
   ]
  },
  {
   "cell_type": "code",
   "execution_count": 2,
   "metadata": {
    "scrolled": true
   },
   "outputs": [
    {
     "name": "stdout",
     "output_type": "stream",
     "text": [
      "App0301.xls\n",
      "CRev0305.xls\n",
      "GExer0303.xls\n",
      "GExer0304.xls\n",
      "Prob0301_19.xls\n",
      "Prob0301_20.xls\n",
      "Prob0301_21.xls\n",
      "Prob0301_22.xls\n",
      "Prob0301_23.xls\n",
      "Prob0302_05.xls\n",
      "Prob0302_06.xls\n",
      "Prob0302_13.xls\n",
      "Prob0302_16.xls\n",
      "Prob0302_17.xls\n",
      "Prob0302_18.xls\n",
      "Prob0302_19.xls\n",
      "Prob0302_22.xls\n",
      "Prob0302_23.xls\n",
      "Prob0302_25.xls\n",
      "Prob0302_26a.xls\n",
      "Prob0302_26b.xls\n",
      "Prob0303_05.xls\n",
      "Prob0303_06.xls\n",
      "Prob0303_07.xls\n",
      "Prob0303_08.xls\n",
      "Prob0303_09.xls\n",
      "Prob0303_10.xls\n",
      "Prob0303_12.xls\n",
      "RProb0312 (2).xls\n",
      "RProb0313.xls\n",
      "RProb0316.xls\n",
      "RProb03_18.xls\n",
      "Table0304.xlsx\n",
      "Table0305.xlsx\n",
      "Table0306.xls\n",
      "Table0307.xls\n",
      "\n",
      "fn: App0301.xls\n",
      "shape: (46, 1)\n"
     ]
    },
    {
     "data": {
      "text/html": [
       "<div>\n",
       "<style scoped>\n",
       "    .dataframe tbody tr th:only-of-type {\n",
       "        vertical-align: middle;\n",
       "    }\n",
       "\n",
       "    .dataframe tbody tr th {\n",
       "        vertical-align: top;\n",
       "    }\n",
       "\n",
       "    .dataframe thead th {\n",
       "        text-align: right;\n",
       "    }\n",
       "</style>\n",
       "<table border=\"1\" class=\"dataframe\">\n",
       "  <thead>\n",
       "    <tr style=\"text-align: right;\">\n",
       "      <th></th>\n",
       "      <th>air_movement_(mph)</th>\n",
       "    </tr>\n",
       "  </thead>\n",
       "  <tbody>\n",
       "    <tr>\n",
       "      <th>0</th>\n",
       "      <td>26</td>\n",
       "    </tr>\n",
       "    <tr>\n",
       "      <th>1</th>\n",
       "      <td>14</td>\n",
       "    </tr>\n",
       "    <tr>\n",
       "      <th>2</th>\n",
       "      <td>18</td>\n",
       "    </tr>\n",
       "    <tr>\n",
       "      <th>3</th>\n",
       "      <td>14</td>\n",
       "    </tr>\n",
       "    <tr>\n",
       "      <th>4</th>\n",
       "      <td>113</td>\n",
       "    </tr>\n",
       "  </tbody>\n",
       "</table>\n",
       "</div>"
      ],
      "text/plain": [
       "   air_movement_(mph)\n",
       "0                  26\n",
       "1                  14\n",
       "2                  18\n",
       "3                  14\n",
       "4                 113"
      ]
     },
     "metadata": {},
     "output_type": "display_data"
    },
    {
     "name": "stdout",
     "output_type": "stream",
     "text": [
      "\n",
      "fn: CRev0305.xls\n",
      "shape: (94, 1)\n"
     ]
    },
    {
     "data": {
      "text/html": [
       "<div>\n",
       "<style scoped>\n",
       "    .dataframe tbody tr th:only-of-type {\n",
       "        vertical-align: middle;\n",
       "    }\n",
       "\n",
       "    .dataframe tbody tr th {\n",
       "        vertical-align: top;\n",
       "    }\n",
       "\n",
       "    .dataframe thead th {\n",
       "        text-align: right;\n",
       "    }\n",
       "</style>\n",
       "<table border=\"1\" class=\"dataframe\">\n",
       "  <thead>\n",
       "    <tr style=\"text-align: right;\">\n",
       "      <th></th>\n",
       "      <th>pH</th>\n",
       "    </tr>\n",
       "  </thead>\n",
       "  <tbody>\n",
       "    <tr>\n",
       "      <th>0</th>\n",
       "      <td>7.0</td>\n",
       "    </tr>\n",
       "    <tr>\n",
       "      <th>1</th>\n",
       "      <td>7.0</td>\n",
       "    </tr>\n",
       "    <tr>\n",
       "      <th>2</th>\n",
       "      <td>7.0</td>\n",
       "    </tr>\n",
       "    <tr>\n",
       "      <th>3</th>\n",
       "      <td>7.0</td>\n",
       "    </tr>\n",
       "    <tr>\n",
       "      <th>4</th>\n",
       "      <td>7.0</td>\n",
       "    </tr>\n",
       "  </tbody>\n",
       "</table>\n",
       "</div>"
      ],
      "text/plain": [
       "    pH\n",
       "0  7.0\n",
       "1  7.0\n",
       "2  7.0\n",
       "3  7.0\n",
       "4  7.0"
      ]
     },
     "metadata": {},
     "output_type": "display_data"
    },
    {
     "name": "stdout",
     "output_type": "stream",
     "text": [
      "\n",
      "fn: GExer0303.xls\n",
      "shape: (6, 1)\n"
     ]
    },
    {
     "data": {
      "text/html": [
       "<div>\n",
       "<style scoped>\n",
       "    .dataframe tbody tr th:only-of-type {\n",
       "        vertical-align: middle;\n",
       "    }\n",
       "\n",
       "    .dataframe tbody tr th {\n",
       "        vertical-align: top;\n",
       "    }\n",
       "\n",
       "    .dataframe thead th {\n",
       "        text-align: right;\n",
       "    }\n",
       "</style>\n",
       "<table border=\"1\" class=\"dataframe\">\n",
       "  <thead>\n",
       "    <tr style=\"text-align: right;\">\n",
       "      <th></th>\n",
       "      <th>width_(in)</th>\n",
       "    </tr>\n",
       "  </thead>\n",
       "  <tbody>\n",
       "    <tr>\n",
       "      <th>0</th>\n",
       "      <td>5</td>\n",
       "    </tr>\n",
       "    <tr>\n",
       "      <th>1</th>\n",
       "      <td>5</td>\n",
       "    </tr>\n",
       "    <tr>\n",
       "      <th>2</th>\n",
       "      <td>5</td>\n",
       "    </tr>\n",
       "    <tr>\n",
       "      <th>3</th>\n",
       "      <td>6</td>\n",
       "    </tr>\n",
       "    <tr>\n",
       "      <th>4</th>\n",
       "      <td>7</td>\n",
       "    </tr>\n",
       "  </tbody>\n",
       "</table>\n",
       "</div>"
      ],
      "text/plain": [
       "   width_(in)\n",
       "0           5\n",
       "1           5\n",
       "2           5\n",
       "3           6\n",
       "4           7"
      ]
     },
     "metadata": {},
     "output_type": "display_data"
    },
    {
     "name": "stdout",
     "output_type": "stream",
     "text": [
      "\n",
      "fn: GExer0304.xls\n",
      "shape: (10, 1)\n"
     ]
    },
    {
     "data": {
      "text/html": [
       "<div>\n",
       "<style scoped>\n",
       "    .dataframe tbody tr th:only-of-type {\n",
       "        vertical-align: middle;\n",
       "    }\n",
       "\n",
       "    .dataframe tbody tr th {\n",
       "        vertical-align: top;\n",
       "    }\n",
       "\n",
       "    .dataframe thead th {\n",
       "        text-align: right;\n",
       "    }\n",
       "</style>\n",
       "<table border=\"1\" class=\"dataframe\">\n",
       "  <thead>\n",
       "    <tr style=\"text-align: right;\">\n",
       "      <th></th>\n",
       "      <th>price_($)</th>\n",
       "    </tr>\n",
       "  </thead>\n",
       "  <tbody>\n",
       "    <tr>\n",
       "      <th>0</th>\n",
       "      <td>1.69</td>\n",
       "    </tr>\n",
       "    <tr>\n",
       "      <th>1</th>\n",
       "      <td>1.49</td>\n",
       "    </tr>\n",
       "    <tr>\n",
       "      <th>2</th>\n",
       "      <td>3.09</td>\n",
       "    </tr>\n",
       "    <tr>\n",
       "      <th>3</th>\n",
       "      <td>1.79</td>\n",
       "    </tr>\n",
       "    <tr>\n",
       "      <th>4</th>\n",
       "      <td>1.39</td>\n",
       "    </tr>\n",
       "  </tbody>\n",
       "</table>\n",
       "</div>"
      ],
      "text/plain": [
       "   price_($)\n",
       "0       1.69\n",
       "1       1.49\n",
       "2       3.09\n",
       "3       1.79\n",
       "4       1.39"
      ]
     },
     "metadata": {},
     "output_type": "display_data"
    },
    {
     "name": "stdout",
     "output_type": "stream",
     "text": [
      "\n",
      "fn: Prob0301_19.xls\n",
      "shape: (14, 1)\n"
     ]
    },
    {
     "data": {
      "text/html": [
       "<div>\n",
       "<style scoped>\n",
       "    .dataframe tbody tr th:only-of-type {\n",
       "        vertical-align: middle;\n",
       "    }\n",
       "\n",
       "    .dataframe tbody tr th {\n",
       "        vertical-align: top;\n",
       "    }\n",
       "\n",
       "    .dataframe thead th {\n",
       "        text-align: right;\n",
       "    }\n",
       "</style>\n",
       "<table border=\"1\" class=\"dataframe\">\n",
       "  <thead>\n",
       "    <tr style=\"text-align: right;\">\n",
       "      <th></th>\n",
       "      <th>Temps_(F)</th>\n",
       "    </tr>\n",
       "  </thead>\n",
       "  <tbody>\n",
       "    <tr>\n",
       "      <th>0</th>\n",
       "      <td>146</td>\n",
       "    </tr>\n",
       "    <tr>\n",
       "      <th>1</th>\n",
       "      <td>152</td>\n",
       "    </tr>\n",
       "    <tr>\n",
       "      <th>2</th>\n",
       "      <td>168</td>\n",
       "    </tr>\n",
       "    <tr>\n",
       "      <th>3</th>\n",
       "      <td>174</td>\n",
       "    </tr>\n",
       "    <tr>\n",
       "      <th>4</th>\n",
       "      <td>180</td>\n",
       "    </tr>\n",
       "  </tbody>\n",
       "</table>\n",
       "</div>"
      ],
      "text/plain": [
       "   Temps_(F)\n",
       "0        146\n",
       "1        152\n",
       "2        168\n",
       "3        174\n",
       "4        180"
      ]
     },
     "metadata": {},
     "output_type": "display_data"
    },
    {
     "name": "stdout",
     "output_type": "stream",
     "text": [
      "\n",
      "fn: Prob0301_20.xls\n",
      "shape: (18, 1)\n"
     ]
    },
    {
     "data": {
      "text/html": [
       "<div>\n",
       "<style scoped>\n",
       "    .dataframe tbody tr th:only-of-type {\n",
       "        vertical-align: middle;\n",
       "    }\n",
       "\n",
       "    .dataframe tbody tr th {\n",
       "        vertical-align: top;\n",
       "    }\n",
       "\n",
       "    .dataframe thead th {\n",
       "        text-align: right;\n",
       "    }\n",
       "</style>\n",
       "<table border=\"1\" class=\"dataframe\">\n",
       "  <thead>\n",
       "    <tr style=\"text-align: right;\">\n",
       "      <th></th>\n",
       "      <th>Population_(wolves)</th>\n",
       "    </tr>\n",
       "  </thead>\n",
       "  <tbody>\n",
       "    <tr>\n",
       "      <th>0</th>\n",
       "      <td>13</td>\n",
       "    </tr>\n",
       "    <tr>\n",
       "      <th>1</th>\n",
       "      <td>10</td>\n",
       "    </tr>\n",
       "    <tr>\n",
       "      <th>2</th>\n",
       "      <td>7</td>\n",
       "    </tr>\n",
       "    <tr>\n",
       "      <th>3</th>\n",
       "      <td>5</td>\n",
       "    </tr>\n",
       "    <tr>\n",
       "      <th>4</th>\n",
       "      <td>7</td>\n",
       "    </tr>\n",
       "  </tbody>\n",
       "</table>\n",
       "</div>"
      ],
      "text/plain": [
       "   Population_(wolves)\n",
       "0                   13\n",
       "1                   10\n",
       "2                    7\n",
       "3                    5\n",
       "4                    7"
      ]
     },
     "metadata": {},
     "output_type": "display_data"
    },
    {
     "name": "stdout",
     "output_type": "stream",
     "text": [
      "\n",
      "fn: Prob0301_21.xls\n",
      "shape: (18, 1)\n"
     ]
    },
    {
     "data": {
      "text/html": [
       "<div>\n",
       "<style scoped>\n",
       "    .dataframe tbody tr th:only-of-type {\n",
       "        vertical-align: middle;\n",
       "    }\n",
       "\n",
       "    .dataframe tbody tr th {\n",
       "        vertical-align: top;\n",
       "    }\n",
       "\n",
       "    .dataframe thead th {\n",
       "        text-align: right;\n",
       "    }\n",
       "</style>\n",
       "<table border=\"1\" class=\"dataframe\">\n",
       "  <thead>\n",
       "    <tr style=\"text-align: right;\">\n",
       "      <th></th>\n",
       "      <th>Population_(wolves)</th>\n",
       "    </tr>\n",
       "  </thead>\n",
       "  <tbody>\n",
       "    <tr>\n",
       "      <th>0</th>\n",
       "      <td>13</td>\n",
       "    </tr>\n",
       "    <tr>\n",
       "      <th>1</th>\n",
       "      <td>10</td>\n",
       "    </tr>\n",
       "    <tr>\n",
       "      <th>2</th>\n",
       "      <td>7</td>\n",
       "    </tr>\n",
       "    <tr>\n",
       "      <th>3</th>\n",
       "      <td>5</td>\n",
       "    </tr>\n",
       "    <tr>\n",
       "      <th>4</th>\n",
       "      <td>7</td>\n",
       "    </tr>\n",
       "  </tbody>\n",
       "</table>\n",
       "</div>"
      ],
      "text/plain": [
       "   Population_(wolves)\n",
       "0                   13\n",
       "1                   10\n",
       "2                    7\n",
       "3                    5\n",
       "4                    7"
      ]
     },
     "metadata": {},
     "output_type": "display_data"
    },
    {
     "name": "stdout",
     "output_type": "stream",
     "text": [
      "\n",
      "fn: Prob0301_22.xls\n",
      "shape: (40, 1)\n"
     ]
    },
    {
     "data": {
      "text/html": [
       "<div>\n",
       "<style scoped>\n",
       "    .dataframe tbody tr th:only-of-type {\n",
       "        vertical-align: middle;\n",
       "    }\n",
       "\n",
       "    .dataframe tbody tr th {\n",
       "        vertical-align: top;\n",
       "    }\n",
       "\n",
       "    .dataframe thead th {\n",
       "        text-align: right;\n",
       "    }\n",
       "</style>\n",
       "<table border=\"1\" class=\"dataframe\">\n",
       "  <thead>\n",
       "    <tr style=\"text-align: right;\">\n",
       "      <th></th>\n",
       "      <th>age_(years)</th>\n",
       "    </tr>\n",
       "  </thead>\n",
       "  <tbody>\n",
       "    <tr>\n",
       "      <th>0</th>\n",
       "      <td>24</td>\n",
       "    </tr>\n",
       "    <tr>\n",
       "      <th>1</th>\n",
       "      <td>23</td>\n",
       "    </tr>\n",
       "    <tr>\n",
       "      <th>2</th>\n",
       "      <td>25</td>\n",
       "    </tr>\n",
       "    <tr>\n",
       "      <th>3</th>\n",
       "      <td>23</td>\n",
       "    </tr>\n",
       "    <tr>\n",
       "      <th>4</th>\n",
       "      <td>30</td>\n",
       "    </tr>\n",
       "  </tbody>\n",
       "</table>\n",
       "</div>"
      ],
      "text/plain": [
       "   age_(years)\n",
       "0           24\n",
       "1           23\n",
       "2           25\n",
       "3           23\n",
       "4           30"
      ]
     },
     "metadata": {},
     "output_type": "display_data"
    },
    {
     "name": "stdout",
     "output_type": "stream",
     "text": [
      "\n",
      "fn: Prob0301_23.xls\n",
      "shape: (20, 1)\n"
     ]
    },
    {
     "data": {
      "text/html": [
       "<div>\n",
       "<style scoped>\n",
       "    .dataframe tbody tr th:only-of-type {\n",
       "        vertical-align: middle;\n",
       "    }\n",
       "\n",
       "    .dataframe tbody tr th {\n",
       "        vertical-align: top;\n",
       "    }\n",
       "\n",
       "    .dataframe thead th {\n",
       "        text-align: right;\n",
       "    }\n",
       "</style>\n",
       "<table border=\"1\" class=\"dataframe\">\n",
       "  <thead>\n",
       "    <tr style=\"text-align: right;\">\n",
       "      <th></th>\n",
       "      <th>cost_(per day)</th>\n",
       "    </tr>\n",
       "  </thead>\n",
       "  <tbody>\n",
       "    <tr>\n",
       "      <th>0</th>\n",
       "      <td>89</td>\n",
       "    </tr>\n",
       "    <tr>\n",
       "      <th>1</th>\n",
       "      <td>50</td>\n",
       "    </tr>\n",
       "    <tr>\n",
       "      <th>2</th>\n",
       "      <td>68</td>\n",
       "    </tr>\n",
       "    <tr>\n",
       "      <th>3</th>\n",
       "      <td>60</td>\n",
       "    </tr>\n",
       "    <tr>\n",
       "      <th>4</th>\n",
       "      <td>375</td>\n",
       "    </tr>\n",
       "  </tbody>\n",
       "</table>\n",
       "</div>"
      ],
      "text/plain": [
       "   cost_(per day)\n",
       "0              89\n",
       "1              50\n",
       "2              68\n",
       "3              60\n",
       "4             375"
      ]
     },
     "metadata": {},
     "output_type": "display_data"
    },
    {
     "name": "stdout",
     "output_type": "stream",
     "text": [
      "\n",
      "fn: Prob0302_05.xls\n",
      "shape: (4, 1)\n"
     ]
    },
    {
     "data": {
      "text/html": [
       "<div>\n",
       "<style scoped>\n",
       "    .dataframe tbody tr th:only-of-type {\n",
       "        vertical-align: middle;\n",
       "    }\n",
       "\n",
       "    .dataframe tbody tr th {\n",
       "        vertical-align: top;\n",
       "    }\n",
       "\n",
       "    .dataframe thead th {\n",
       "        text-align: right;\n",
       "    }\n",
       "</style>\n",
       "<table border=\"1\" class=\"dataframe\">\n",
       "  <thead>\n",
       "    <tr style=\"text-align: right;\">\n",
       "      <th></th>\n",
       "      <th>2</th>\n",
       "    </tr>\n",
       "  </thead>\n",
       "  <tbody>\n",
       "    <tr>\n",
       "      <th>0</th>\n",
       "      <td>3</td>\n",
       "    </tr>\n",
       "    <tr>\n",
       "      <th>1</th>\n",
       "      <td>4</td>\n",
       "    </tr>\n",
       "    <tr>\n",
       "      <th>2</th>\n",
       "      <td>5</td>\n",
       "    </tr>\n",
       "    <tr>\n",
       "      <th>3</th>\n",
       "      <td>6</td>\n",
       "    </tr>\n",
       "  </tbody>\n",
       "</table>\n",
       "</div>"
      ],
      "text/plain": [
       "   2\n",
       "0  3\n",
       "1  4\n",
       "2  5\n",
       "3  6"
      ]
     },
     "metadata": {},
     "output_type": "display_data"
    },
    {
     "name": "stdout",
     "output_type": "stream",
     "text": [
      "\n",
      "fn: Prob0302_06.xls\n",
      "shape: (4, 1)\n"
     ]
    },
    {
     "data": {
      "text/html": [
       "<div>\n",
       "<style scoped>\n",
       "    .dataframe tbody tr th:only-of-type {\n",
       "        vertical-align: middle;\n",
       "    }\n",
       "\n",
       "    .dataframe tbody tr th {\n",
       "        vertical-align: top;\n",
       "    }\n",
       "\n",
       "    .dataframe thead th {\n",
       "        text-align: right;\n",
       "    }\n",
       "</style>\n",
       "<table border=\"1\" class=\"dataframe\">\n",
       "  <thead>\n",
       "    <tr style=\"text-align: right;\">\n",
       "      <th></th>\n",
       "      <th>1</th>\n",
       "    </tr>\n",
       "  </thead>\n",
       "  <tbody>\n",
       "    <tr>\n",
       "      <th>0</th>\n",
       "      <td>2</td>\n",
       "    </tr>\n",
       "    <tr>\n",
       "      <th>1</th>\n",
       "      <td>3</td>\n",
       "    </tr>\n",
       "    <tr>\n",
       "      <th>2</th>\n",
       "      <td>4</td>\n",
       "    </tr>\n",
       "    <tr>\n",
       "      <th>3</th>\n",
       "      <td>5</td>\n",
       "    </tr>\n",
       "  </tbody>\n",
       "</table>\n",
       "</div>"
      ],
      "text/plain": [
       "   1\n",
       "0  2\n",
       "1  3\n",
       "2  4\n",
       "3  5"
      ]
     },
     "metadata": {},
     "output_type": "display_data"
    },
    {
     "name": "stdout",
     "output_type": "stream",
     "text": [
      "\n",
      "fn: Prob0302_13.xls\n",
      "shape: (5, 1)\n"
     ]
    },
    {
     "data": {
      "text/html": [
       "<div>\n",
       "<style scoped>\n",
       "    .dataframe tbody tr th:only-of-type {\n",
       "        vertical-align: middle;\n",
       "    }\n",
       "\n",
       "    .dataframe tbody tr th {\n",
       "        vertical-align: top;\n",
       "    }\n",
       "\n",
       "    .dataframe thead th {\n",
       "        text-align: right;\n",
       "    }\n",
       "</style>\n",
       "<table border=\"1\" class=\"dataframe\">\n",
       "  <thead>\n",
       "    <tr style=\"text-align: right;\">\n",
       "      <th></th>\n",
       "      <th>x:</th>\n",
       "    </tr>\n",
       "  </thead>\n",
       "  <tbody>\n",
       "    <tr>\n",
       "      <th>0</th>\n",
       "      <td>23</td>\n",
       "    </tr>\n",
       "    <tr>\n",
       "      <th>1</th>\n",
       "      <td>17</td>\n",
       "    </tr>\n",
       "    <tr>\n",
       "      <th>2</th>\n",
       "      <td>15</td>\n",
       "    </tr>\n",
       "    <tr>\n",
       "      <th>3</th>\n",
       "      <td>30</td>\n",
       "    </tr>\n",
       "    <tr>\n",
       "      <th>4</th>\n",
       "      <td>25</td>\n",
       "    </tr>\n",
       "  </tbody>\n",
       "</table>\n",
       "</div>"
      ],
      "text/plain": [
       "   x:\n",
       "0  23\n",
       "1  17\n",
       "2  15\n",
       "3  30\n",
       "4  25"
      ]
     },
     "metadata": {},
     "output_type": "display_data"
    },
    {
     "name": "stdout",
     "output_type": "stream",
     "text": [
      "\n",
      "fn: Prob0302_16.xls\n",
      "shape: (10, 2)\n"
     ]
    },
    {
     "data": {
      "text/html": [
       "<div>\n",
       "<style scoped>\n",
       "    .dataframe tbody tr th:only-of-type {\n",
       "        vertical-align: middle;\n",
       "    }\n",
       "\n",
       "    .dataframe tbody tr th {\n",
       "        vertical-align: top;\n",
       "    }\n",
       "\n",
       "    .dataframe thead th {\n",
       "        text-align: right;\n",
       "    }\n",
       "</style>\n",
       "<table border=\"1\" class=\"dataframe\">\n",
       "  <thead>\n",
       "    <tr style=\"text-align: right;\">\n",
       "      <th></th>\n",
       "      <th>x:</th>\n",
       "      <th>y:</th>\n",
       "    </tr>\n",
       "  </thead>\n",
       "  <tbody>\n",
       "    <tr>\n",
       "      <th>0</th>\n",
       "      <td>11</td>\n",
       "      <td>10</td>\n",
       "    </tr>\n",
       "    <tr>\n",
       "      <th>1</th>\n",
       "      <td>0</td>\n",
       "      <td>-2</td>\n",
       "    </tr>\n",
       "    <tr>\n",
       "      <th>2</th>\n",
       "      <td>36</td>\n",
       "      <td>29</td>\n",
       "    </tr>\n",
       "    <tr>\n",
       "      <th>3</th>\n",
       "      <td>21</td>\n",
       "      <td>14</td>\n",
       "    </tr>\n",
       "    <tr>\n",
       "      <th>4</th>\n",
       "      <td>31</td>\n",
       "      <td>22</td>\n",
       "    </tr>\n",
       "  </tbody>\n",
       "</table>\n",
       "</div>"
      ],
      "text/plain": [
       "   x:  y:\n",
       "0  11  10\n",
       "1   0  -2\n",
       "2  36  29\n",
       "3  21  14\n",
       "4  31  22"
      ]
     },
     "metadata": {},
     "output_type": "display_data"
    },
    {
     "name": "stdout",
     "output_type": "stream",
     "text": [
      "\n",
      "fn: Prob0302_17.xls\n",
      "shape: (50, 1)\n"
     ]
    },
    {
     "data": {
      "text/html": [
       "<div>\n",
       "<style scoped>\n",
       "    .dataframe tbody tr th:only-of-type {\n",
       "        vertical-align: middle;\n",
       "    }\n",
       "\n",
       "    .dataframe tbody tr th {\n",
       "        vertical-align: top;\n",
       "    }\n",
       "\n",
       "    .dataframe thead th {\n",
       "        text-align: right;\n",
       "    }\n",
       "</style>\n",
       "<table border=\"1\" class=\"dataframe\">\n",
       "  <thead>\n",
       "    <tr style=\"text-align: right;\">\n",
       "      <th></th>\n",
       "      <th>time_(hours)</th>\n",
       "    </tr>\n",
       "  </thead>\n",
       "  <tbody>\n",
       "    <tr>\n",
       "      <th>0</th>\n",
       "      <td>0.54</td>\n",
       "    </tr>\n",
       "    <tr>\n",
       "      <th>1</th>\n",
       "      <td>1.80</td>\n",
       "    </tr>\n",
       "    <tr>\n",
       "      <th>2</th>\n",
       "      <td>1.52</td>\n",
       "    </tr>\n",
       "    <tr>\n",
       "      <th>3</th>\n",
       "      <td>2.05</td>\n",
       "    </tr>\n",
       "    <tr>\n",
       "      <th>4</th>\n",
       "      <td>1.03</td>\n",
       "    </tr>\n",
       "  </tbody>\n",
       "</table>\n",
       "</div>"
      ],
      "text/plain": [
       "   time_(hours)\n",
       "0          0.54\n",
       "1          1.80\n",
       "2          1.52\n",
       "3          2.05\n",
       "4          1.03"
      ]
     },
     "metadata": {},
     "output_type": "display_data"
    },
    {
     "name": "stdout",
     "output_type": "stream",
     "text": [
      "\n",
      "fn: Prob0302_18.xls\n",
      "shape: (15, 2)\n"
     ]
    },
    {
     "data": {
      "text/html": [
       "<div>\n",
       "<style scoped>\n",
       "    .dataframe tbody tr th:only-of-type {\n",
       "        vertical-align: middle;\n",
       "    }\n",
       "\n",
       "    .dataframe tbody tr th {\n",
       "        vertical-align: top;\n",
       "    }\n",
       "\n",
       "    .dataframe thead th {\n",
       "        text-align: right;\n",
       "    }\n",
       "</style>\n",
       "<table border=\"1\" class=\"dataframe\">\n",
       "  <thead>\n",
       "    <tr style=\"text-align: right;\">\n",
       "      <th></th>\n",
       "      <th>x</th>\n",
       "      <th>y</th>\n",
       "    </tr>\n",
       "  </thead>\n",
       "  <tbody>\n",
       "    <tr>\n",
       "      <th>0</th>\n",
       "      <td>13.20</td>\n",
       "      <td>11.85</td>\n",
       "    </tr>\n",
       "    <tr>\n",
       "      <th>1</th>\n",
       "      <td>5.60</td>\n",
       "      <td>15.25</td>\n",
       "    </tr>\n",
       "    <tr>\n",
       "      <th>2</th>\n",
       "      <td>19.80</td>\n",
       "      <td>21.30</td>\n",
       "    </tr>\n",
       "    <tr>\n",
       "      <th>3</th>\n",
       "      <td>15.05</td>\n",
       "      <td>17.30</td>\n",
       "    </tr>\n",
       "    <tr>\n",
       "      <th>4</th>\n",
       "      <td>21.40</td>\n",
       "      <td>27.50</td>\n",
       "    </tr>\n",
       "  </tbody>\n",
       "</table>\n",
       "</div>"
      ],
      "text/plain": [
       "       x      y\n",
       "0  13.20  11.85\n",
       "1   5.60  15.25\n",
       "2  19.80  21.30\n",
       "3  15.05  17.30\n",
       "4  21.40  27.50"
      ]
     },
     "metadata": {},
     "output_type": "display_data"
    },
    {
     "name": "stdout",
     "output_type": "stream",
     "text": [
      "\n",
      "fn: Prob0302_19.xls\n",
      "shape: (5, 2)\n"
     ]
    },
    {
     "data": {
      "text/html": [
       "<div>\n",
       "<style scoped>\n",
       "    .dataframe tbody tr th:only-of-type {\n",
       "        vertical-align: middle;\n",
       "    }\n",
       "\n",
       "    .dataframe tbody tr th {\n",
       "        vertical-align: top;\n",
       "    }\n",
       "\n",
       "    .dataframe thead th {\n",
       "        text-align: right;\n",
       "    }\n",
       "</style>\n",
       "<table border=\"1\" class=\"dataframe\">\n",
       "  <thead>\n",
       "    <tr style=\"text-align: right;\">\n",
       "      <th></th>\n",
       "      <th>x</th>\n",
       "      <th>y</th>\n",
       "    </tr>\n",
       "  </thead>\n",
       "  <tbody>\n",
       "    <tr>\n",
       "      <th>0</th>\n",
       "      <td>56</td>\n",
       "      <td>24</td>\n",
       "    </tr>\n",
       "    <tr>\n",
       "      <th>1</th>\n",
       "      <td>85</td>\n",
       "      <td>53</td>\n",
       "    </tr>\n",
       "    <tr>\n",
       "      <th>2</th>\n",
       "      <td>52</td>\n",
       "      <td>60</td>\n",
       "    </tr>\n",
       "    <tr>\n",
       "      <th>3</th>\n",
       "      <td>13</td>\n",
       "      <td>69</td>\n",
       "    </tr>\n",
       "    <tr>\n",
       "      <th>4</th>\n",
       "      <td>39</td>\n",
       "      <td>18</td>\n",
       "    </tr>\n",
       "  </tbody>\n",
       "</table>\n",
       "</div>"
      ],
      "text/plain": [
       "    x   y\n",
       "0  56  24\n",
       "1  85  53\n",
       "2  52  60\n",
       "3  13  69\n",
       "4  39  18"
      ]
     },
     "metadata": {},
     "output_type": "display_data"
    },
    {
     "name": "stdout",
     "output_type": "stream",
     "text": [
      "\n",
      "fn: Prob0302_22.xls\n",
      "shape: (4, 2)\n"
     ]
    },
    {
     "data": {
      "text/html": [
       "<div>\n",
       "<style scoped>\n",
       "    .dataframe tbody tr th:only-of-type {\n",
       "        vertical-align: middle;\n",
       "    }\n",
       "\n",
       "    .dataframe tbody tr th {\n",
       "        vertical-align: top;\n",
       "    }\n",
       "\n",
       "    .dataframe thead th {\n",
       "        text-align: right;\n",
       "    }\n",
       "</style>\n",
       "<table border=\"1\" class=\"dataframe\">\n",
       "  <thead>\n",
       "    <tr style=\"text-align: right;\">\n",
       "      <th></th>\n",
       "      <th>Age_range</th>\n",
       "      <th>individuals</th>\n",
       "    </tr>\n",
       "  </thead>\n",
       "  <tbody>\n",
       "    <tr>\n",
       "      <th>0</th>\n",
       "      <td>10</td>\n",
       "      <td>34</td>\n",
       "    </tr>\n",
       "    <tr>\n",
       "      <th>1</th>\n",
       "      <td>20</td>\n",
       "      <td>18</td>\n",
       "    </tr>\n",
       "    <tr>\n",
       "      <th>2</th>\n",
       "      <td>30</td>\n",
       "      <td>17</td>\n",
       "    </tr>\n",
       "    <tr>\n",
       "      <th>3</th>\n",
       "      <td>31</td>\n",
       "      <td>11</td>\n",
       "    </tr>\n",
       "  </tbody>\n",
       "</table>\n",
       "</div>"
      ],
      "text/plain": [
       "   Age_range  individuals\n",
       "0         10           34\n",
       "1         20           18\n",
       "2         30           17\n",
       "3         31           11"
      ]
     },
     "metadata": {},
     "output_type": "display_data"
    },
    {
     "name": "stdout",
     "output_type": "stream",
     "text": [
      "\n",
      "fn: Prob0302_23.xls\n",
      "shape: (3, 2)\n"
     ]
    },
    {
     "data": {
      "text/html": [
       "<div>\n",
       "<style scoped>\n",
       "    .dataframe tbody tr th:only-of-type {\n",
       "        vertical-align: middle;\n",
       "    }\n",
       "\n",
       "    .dataframe tbody tr th {\n",
       "        vertical-align: top;\n",
       "    }\n",
       "\n",
       "    .dataframe thead th {\n",
       "        text-align: right;\n",
       "    }\n",
       "</style>\n",
       "<table border=\"1\" class=\"dataframe\">\n",
       "  <thead>\n",
       "    <tr style=\"text-align: right;\">\n",
       "      <th></th>\n",
       "      <th>age_range</th>\n",
       "      <th>shoplifters</th>\n",
       "    </tr>\n",
       "  </thead>\n",
       "  <tbody>\n",
       "    <tr>\n",
       "      <th>0</th>\n",
       "      <td>21</td>\n",
       "      <td>260</td>\n",
       "    </tr>\n",
       "    <tr>\n",
       "      <th>1</th>\n",
       "      <td>31</td>\n",
       "      <td>348</td>\n",
       "    </tr>\n",
       "    <tr>\n",
       "      <th>2</th>\n",
       "      <td>41</td>\n",
       "      <td>287</td>\n",
       "    </tr>\n",
       "  </tbody>\n",
       "</table>\n",
       "</div>"
      ],
      "text/plain": [
       "   age_range  shoplifters\n",
       "0         21          260\n",
       "1         31          348\n",
       "2         41          287"
      ]
     },
     "metadata": {},
     "output_type": "display_data"
    },
    {
     "name": "stdout",
     "output_type": "stream",
     "text": [
      "\n",
      "fn: Prob0302_25.xls\n",
      "shape: (5, 2)\n"
     ]
    },
    {
     "data": {
      "text/html": [
       "<div>\n",
       "<style scoped>\n",
       "    .dataframe tbody tr th:only-of-type {\n",
       "        vertical-align: middle;\n",
       "    }\n",
       "\n",
       "    .dataframe tbody tr th {\n",
       "        vertical-align: top;\n",
       "    }\n",
       "\n",
       "    .dataframe thead th {\n",
       "        text-align: right;\n",
       "    }\n",
       "</style>\n",
       "<table border=\"1\" class=\"dataframe\">\n",
       "  <thead>\n",
       "    <tr style=\"text-align: right;\">\n",
       "      <th></th>\n",
       "      <th>percent_Profit</th>\n",
       "      <th>companies</th>\n",
       "    </tr>\n",
       "  </thead>\n",
       "  <tbody>\n",
       "    <tr>\n",
       "      <th>0</th>\n",
       "      <td>8.6</td>\n",
       "      <td>15</td>\n",
       "    </tr>\n",
       "    <tr>\n",
       "      <th>1</th>\n",
       "      <td>12.6</td>\n",
       "      <td>20</td>\n",
       "    </tr>\n",
       "    <tr>\n",
       "      <th>2</th>\n",
       "      <td>16.6</td>\n",
       "      <td>5</td>\n",
       "    </tr>\n",
       "    <tr>\n",
       "      <th>3</th>\n",
       "      <td>20.6</td>\n",
       "      <td>7</td>\n",
       "    </tr>\n",
       "    <tr>\n",
       "      <th>4</th>\n",
       "      <td>24.6</td>\n",
       "      <td>3</td>\n",
       "    </tr>\n",
       "  </tbody>\n",
       "</table>\n",
       "</div>"
      ],
      "text/plain": [
       "   percent_Profit  companies\n",
       "0             8.6         15\n",
       "1            12.6         20\n",
       "2            16.6          5\n",
       "3            20.6          7\n",
       "4            24.6          3"
      ]
     },
     "metadata": {},
     "output_type": "display_data"
    },
    {
     "name": "stdout",
     "output_type": "stream",
     "text": [
      "\n",
      "fn: Prob0302_26a.xls\n",
      "shape: (11, 2)\n"
     ]
    },
    {
     "data": {
      "text/html": [
       "<div>\n",
       "<style scoped>\n",
       "    .dataframe tbody tr th:only-of-type {\n",
       "        vertical-align: middle;\n",
       "    }\n",
       "\n",
       "    .dataframe tbody tr th {\n",
       "        vertical-align: top;\n",
       "    }\n",
       "\n",
       "    .dataframe thead th {\n",
       "        text-align: right;\n",
       "    }\n",
       "</style>\n",
       "<table border=\"1\" class=\"dataframe\">\n",
       "  <thead>\n",
       "    <tr style=\"text-align: right;\">\n",
       "      <th></th>\n",
       "      <th>Year</th>\n",
       "      <th>%_Return</th>\n",
       "    </tr>\n",
       "  </thead>\n",
       "  <tbody>\n",
       "    <tr>\n",
       "      <th>0</th>\n",
       "      <td>1990</td>\n",
       "      <td>1.78</td>\n",
       "    </tr>\n",
       "    <tr>\n",
       "      <th>1</th>\n",
       "      <td>1991</td>\n",
       "      <td>17.79</td>\n",
       "    </tr>\n",
       "    <tr>\n",
       "      <th>2</th>\n",
       "      <td>1992</td>\n",
       "      <td>7.46</td>\n",
       "    </tr>\n",
       "    <tr>\n",
       "      <th>3</th>\n",
       "      <td>1993</td>\n",
       "      <td>5.95</td>\n",
       "    </tr>\n",
       "    <tr>\n",
       "      <th>4</th>\n",
       "      <td>1994</td>\n",
       "      <td>-4.74</td>\n",
       "    </tr>\n",
       "  </tbody>\n",
       "</table>\n",
       "</div>"
      ],
      "text/plain": [
       "   Year  %_Return\n",
       "0  1990      1.78\n",
       "1  1991     17.79\n",
       "2  1992      7.46\n",
       "3  1993      5.95\n",
       "4  1994     -4.74"
      ]
     },
     "metadata": {},
     "output_type": "display_data"
    },
    {
     "name": "stdout",
     "output_type": "stream",
     "text": [
      "\n",
      "fn: Prob0302_26b.xls\n",
      "shape: (9, 2)\n"
     ]
    },
    {
     "data": {
      "text/html": [
       "<div>\n",
       "<style scoped>\n",
       "    .dataframe tbody tr th:only-of-type {\n",
       "        vertical-align: middle;\n",
       "    }\n",
       "\n",
       "    .dataframe tbody tr th {\n",
       "        vertical-align: top;\n",
       "    }\n",
       "\n",
       "    .dataframe thead th {\n",
       "        text-align: right;\n",
       "    }\n",
       "</style>\n",
       "<table border=\"1\" class=\"dataframe\">\n",
       "  <thead>\n",
       "    <tr style=\"text-align: right;\">\n",
       "      <th></th>\n",
       "      <th>Year</th>\n",
       "      <th>3-year_moving_avg</th>\n",
       "    </tr>\n",
       "  </thead>\n",
       "  <tbody>\n",
       "    <tr>\n",
       "      <th>0</th>\n",
       "      <td>1992</td>\n",
       "      <td>9.01</td>\n",
       "    </tr>\n",
       "    <tr>\n",
       "      <th>1</th>\n",
       "      <td>1993</td>\n",
       "      <td>10.40</td>\n",
       "    </tr>\n",
       "    <tr>\n",
       "      <th>2</th>\n",
       "      <td>1994</td>\n",
       "      <td>2.89</td>\n",
       "    </tr>\n",
       "    <tr>\n",
       "      <th>3</th>\n",
       "      <td>1995</td>\n",
       "      <td>9.02</td>\n",
       "    </tr>\n",
       "    <tr>\n",
       "      <th>4</th>\n",
       "      <td>1996</td>\n",
       "      <td>10.05</td>\n",
       "    </tr>\n",
       "  </tbody>\n",
       "</table>\n",
       "</div>"
      ],
      "text/plain": [
       "   Year  3-year_moving_avg\n",
       "0  1992               9.01\n",
       "1  1993              10.40\n",
       "2  1994               2.89\n",
       "3  1995               9.02\n",
       "4  1996              10.05"
      ]
     },
     "metadata": {},
     "output_type": "display_data"
    },
    {
     "name": "stdout",
     "output_type": "stream",
     "text": [
      "\n",
      "fn: Prob0303_05.xls\n",
      "shape: (9, 1)\n"
     ]
    },
    {
     "data": {
      "text/html": [
       "<div>\n",
       "<style scoped>\n",
       "    .dataframe tbody tr th:only-of-type {\n",
       "        vertical-align: middle;\n",
       "    }\n",
       "\n",
       "    .dataframe tbody tr th {\n",
       "        vertical-align: top;\n",
       "    }\n",
       "\n",
       "    .dataframe thead th {\n",
       "        text-align: right;\n",
       "    }\n",
       "</style>\n",
       "<table border=\"1\" class=\"dataframe\">\n",
       "  <thead>\n",
       "    <tr style=\"text-align: right;\">\n",
       "      <th></th>\n",
       "      <th>2</th>\n",
       "    </tr>\n",
       "  </thead>\n",
       "  <tbody>\n",
       "    <tr>\n",
       "      <th>0</th>\n",
       "      <td>2</td>\n",
       "    </tr>\n",
       "    <tr>\n",
       "      <th>1</th>\n",
       "      <td>5</td>\n",
       "    </tr>\n",
       "    <tr>\n",
       "      <th>2</th>\n",
       "      <td>5</td>\n",
       "    </tr>\n",
       "    <tr>\n",
       "      <th>3</th>\n",
       "      <td>6</td>\n",
       "    </tr>\n",
       "    <tr>\n",
       "      <th>4</th>\n",
       "      <td>7</td>\n",
       "    </tr>\n",
       "  </tbody>\n",
       "</table>\n",
       "</div>"
      ],
      "text/plain": [
       "   2\n",
       "0  2\n",
       "1  5\n",
       "2  5\n",
       "3  6\n",
       "4  7"
      ]
     },
     "metadata": {},
     "output_type": "display_data"
    },
    {
     "name": "stdout",
     "output_type": "stream",
     "text": [
      "\n",
      "fn: Prob0303_06.xls\n",
      "shape: (9, 1)\n"
     ]
    },
    {
     "data": {
      "text/html": [
       "<div>\n",
       "<style scoped>\n",
       "    .dataframe tbody tr th:only-of-type {\n",
       "        vertical-align: middle;\n",
       "    }\n",
       "\n",
       "    .dataframe tbody tr th {\n",
       "        vertical-align: top;\n",
       "    }\n",
       "\n",
       "    .dataframe thead th {\n",
       "        text-align: right;\n",
       "    }\n",
       "</style>\n",
       "<table border=\"1\" class=\"dataframe\">\n",
       "  <thead>\n",
       "    <tr style=\"text-align: right;\">\n",
       "      <th></th>\n",
       "      <th>2</th>\n",
       "    </tr>\n",
       "  </thead>\n",
       "  <tbody>\n",
       "    <tr>\n",
       "      <th>0</th>\n",
       "      <td>5</td>\n",
       "    </tr>\n",
       "    <tr>\n",
       "      <th>1</th>\n",
       "      <td>5</td>\n",
       "    </tr>\n",
       "    <tr>\n",
       "      <th>2</th>\n",
       "      <td>6</td>\n",
       "    </tr>\n",
       "    <tr>\n",
       "      <th>3</th>\n",
       "      <td>7</td>\n",
       "    </tr>\n",
       "    <tr>\n",
       "      <th>4</th>\n",
       "      <td>8</td>\n",
       "    </tr>\n",
       "  </tbody>\n",
       "</table>\n",
       "</div>"
      ],
      "text/plain": [
       "   2\n",
       "0  5\n",
       "1  5\n",
       "2  6\n",
       "3  7\n",
       "4  8"
      ]
     },
     "metadata": {},
     "output_type": "display_data"
    },
    {
     "name": "stdout",
     "output_type": "stream",
     "text": [
      "\n",
      "fn: Prob0303_07.xls\n",
      "shape: (20, 1)\n"
     ]
    },
    {
     "data": {
      "text/html": [
       "<div>\n",
       "<style scoped>\n",
       "    .dataframe tbody tr th:only-of-type {\n",
       "        vertical-align: middle;\n",
       "    }\n",
       "\n",
       "    .dataframe tbody tr th {\n",
       "        vertical-align: top;\n",
       "    }\n",
       "\n",
       "    .dataframe thead th {\n",
       "        text-align: right;\n",
       "    }\n",
       "</style>\n",
       "<table border=\"1\" class=\"dataframe\">\n",
       "  <thead>\n",
       "    <tr style=\"text-align: right;\">\n",
       "      <th></th>\n",
       "      <th>length_of_service_(mo)</th>\n",
       "    </tr>\n",
       "  </thead>\n",
       "  <tbody>\n",
       "    <tr>\n",
       "      <th>0</th>\n",
       "      <td>23</td>\n",
       "    </tr>\n",
       "    <tr>\n",
       "      <th>1</th>\n",
       "      <td>2</td>\n",
       "    </tr>\n",
       "    <tr>\n",
       "      <th>2</th>\n",
       "      <td>5</td>\n",
       "    </tr>\n",
       "    <tr>\n",
       "      <th>3</th>\n",
       "      <td>14</td>\n",
       "    </tr>\n",
       "    <tr>\n",
       "      <th>4</th>\n",
       "      <td>25</td>\n",
       "    </tr>\n",
       "  </tbody>\n",
       "</table>\n",
       "</div>"
      ],
      "text/plain": [
       "   length_of_service_(mo)\n",
       "0                      23\n",
       "1                       2\n",
       "2                       5\n",
       "3                      14\n",
       "4                      25"
      ]
     },
     "metadata": {},
     "output_type": "display_data"
    },
    {
     "name": "stdout",
     "output_type": "stream",
     "text": [
      "\n",
      "fn: Prob0303_08.xls\n",
      "shape: (20, 1)\n"
     ]
    },
    {
     "data": {
      "text/html": [
       "<div>\n",
       "<style scoped>\n",
       "    .dataframe tbody tr th:only-of-type {\n",
       "        vertical-align: middle;\n",
       "    }\n",
       "\n",
       "    .dataframe tbody tr th {\n",
       "        vertical-align: top;\n",
       "    }\n",
       "\n",
       "    .dataframe thead th {\n",
       "        text-align: right;\n",
       "    }\n",
       "</style>\n",
       "<table border=\"1\" class=\"dataframe\">\n",
       "  <thead>\n",
       "    <tr style=\"text-align: right;\">\n",
       "      <th></th>\n",
       "      <th>length_of_service_(mo)</th>\n",
       "    </tr>\n",
       "  </thead>\n",
       "  <tbody>\n",
       "    <tr>\n",
       "      <th>0</th>\n",
       "      <td>25</td>\n",
       "    </tr>\n",
       "    <tr>\n",
       "      <th>1</th>\n",
       "      <td>22</td>\n",
       "    </tr>\n",
       "    <tr>\n",
       "      <th>2</th>\n",
       "      <td>7</td>\n",
       "    </tr>\n",
       "    <tr>\n",
       "      <th>3</th>\n",
       "      <td>24</td>\n",
       "    </tr>\n",
       "    <tr>\n",
       "      <th>4</th>\n",
       "      <td>26</td>\n",
       "    </tr>\n",
       "  </tbody>\n",
       "</table>\n",
       "</div>"
      ],
      "text/plain": [
       "   length_of_service_(mo)\n",
       "0                      25\n",
       "1                      22\n",
       "2                       7\n",
       "3                      24\n",
       "4                      26"
      ]
     },
     "metadata": {},
     "output_type": "display_data"
    },
    {
     "name": "stdout",
     "output_type": "stream",
     "text": [
      "\n",
      "fn: Prob0303_09.xls\n",
      "shape: (50, 1)\n"
     ]
    },
    {
     "data": {
      "text/html": [
       "<div>\n",
       "<style scoped>\n",
       "    .dataframe tbody tr th:only-of-type {\n",
       "        vertical-align: middle;\n",
       "    }\n",
       "\n",
       "    .dataframe tbody tr th {\n",
       "        vertical-align: top;\n",
       "    }\n",
       "\n",
       "    .dataframe thead th {\n",
       "        text-align: right;\n",
       "    }\n",
       "</style>\n",
       "<table border=\"1\" class=\"dataframe\">\n",
       "  <thead>\n",
       "    <tr style=\"text-align: right;\">\n",
       "      <th></th>\n",
       "      <th>Percent BA</th>\n",
       "    </tr>\n",
       "  </thead>\n",
       "  <tbody>\n",
       "    <tr>\n",
       "      <th>0</th>\n",
       "      <td>17</td>\n",
       "    </tr>\n",
       "    <tr>\n",
       "      <th>1</th>\n",
       "      <td>18</td>\n",
       "    </tr>\n",
       "    <tr>\n",
       "      <th>2</th>\n",
       "      <td>18</td>\n",
       "    </tr>\n",
       "    <tr>\n",
       "      <th>3</th>\n",
       "      <td>18</td>\n",
       "    </tr>\n",
       "    <tr>\n",
       "      <th>4</th>\n",
       "      <td>19</td>\n",
       "    </tr>\n",
       "  </tbody>\n",
       "</table>\n",
       "</div>"
      ],
      "text/plain": [
       "   Percent BA\n",
       "0          17\n",
       "1          18\n",
       "2          18\n",
       "3          18\n",
       "4          19"
      ]
     },
     "metadata": {},
     "output_type": "display_data"
    },
    {
     "name": "stdout",
     "output_type": "stream",
     "text": [
      "\n",
      "fn: Prob0303_10.xls\n",
      "shape: (50, 1)\n"
     ]
    },
    {
     "data": {
      "text/html": [
       "<div>\n",
       "<style scoped>\n",
       "    .dataframe tbody tr th:only-of-type {\n",
       "        vertical-align: middle;\n",
       "    }\n",
       "\n",
       "    .dataframe tbody tr th {\n",
       "        vertical-align: top;\n",
       "    }\n",
       "\n",
       "    .dataframe thead th {\n",
       "        text-align: right;\n",
       "    }\n",
       "</style>\n",
       "<table border=\"1\" class=\"dataframe\">\n",
       "  <thead>\n",
       "    <tr style=\"text-align: right;\">\n",
       "      <th></th>\n",
       "      <th>percent_dropout</th>\n",
       "    </tr>\n",
       "  </thead>\n",
       "  <tbody>\n",
       "    <tr>\n",
       "      <th>0</th>\n",
       "      <td>5</td>\n",
       "    </tr>\n",
       "    <tr>\n",
       "      <th>1</th>\n",
       "      <td>6</td>\n",
       "    </tr>\n",
       "    <tr>\n",
       "      <th>2</th>\n",
       "      <td>7</td>\n",
       "    </tr>\n",
       "    <tr>\n",
       "      <th>3</th>\n",
       "      <td>7</td>\n",
       "    </tr>\n",
       "    <tr>\n",
       "      <th>4</th>\n",
       "      <td>7</td>\n",
       "    </tr>\n",
       "  </tbody>\n",
       "</table>\n",
       "</div>"
      ],
      "text/plain": [
       "   percent_dropout\n",
       "0                5\n",
       "1                6\n",
       "2                7\n",
       "3                7\n",
       "4                7"
      ]
     },
     "metadata": {},
     "output_type": "display_data"
    },
    {
     "name": "stdout",
     "output_type": "stream",
     "text": [
      "\n",
      "fn: Prob0303_12.xls\n",
      "shape: (24, 1)\n"
     ]
    },
    {
     "data": {
      "text/html": [
       "<div>\n",
       "<style scoped>\n",
       "    .dataframe tbody tr th:only-of-type {\n",
       "        vertical-align: middle;\n",
       "    }\n",
       "\n",
       "    .dataframe tbody tr th {\n",
       "        vertical-align: top;\n",
       "    }\n",
       "\n",
       "    .dataframe thead th {\n",
       "        text-align: right;\n",
       "    }\n",
       "</style>\n",
       "<table border=\"1\" class=\"dataframe\">\n",
       "  <thead>\n",
       "    <tr style=\"text-align: right;\">\n",
       "      <th></th>\n",
       "      <th>height_(in)</th>\n",
       "    </tr>\n",
       "  </thead>\n",
       "  <tbody>\n",
       "    <tr>\n",
       "      <th>0</th>\n",
       "      <td>65</td>\n",
       "    </tr>\n",
       "    <tr>\n",
       "      <th>1</th>\n",
       "      <td>72</td>\n",
       "    </tr>\n",
       "    <tr>\n",
       "      <th>2</th>\n",
       "      <td>68</td>\n",
       "    </tr>\n",
       "    <tr>\n",
       "      <th>3</th>\n",
       "      <td>64</td>\n",
       "    </tr>\n",
       "    <tr>\n",
       "      <th>4</th>\n",
       "      <td>60</td>\n",
       "    </tr>\n",
       "  </tbody>\n",
       "</table>\n",
       "</div>"
      ],
      "text/plain": [
       "   height_(in)\n",
       "0           65\n",
       "1           72\n",
       "2           68\n",
       "3           64\n",
       "4           60"
      ]
     },
     "metadata": {},
     "output_type": "display_data"
    },
    {
     "name": "stdout",
     "output_type": "stream",
     "text": [
      "\n",
      "fn: RProb0312 (2).xls\n",
      "shape: (8, 1)\n"
     ]
    },
    {
     "data": {
      "text/html": [
       "<div>\n",
       "<style scoped>\n",
       "    .dataframe tbody tr th:only-of-type {\n",
       "        vertical-align: middle;\n",
       "    }\n",
       "\n",
       "    .dataframe tbody tr th {\n",
       "        vertical-align: top;\n",
       "    }\n",
       "\n",
       "    .dataframe thead th {\n",
       "        text-align: right;\n",
       "    }\n",
       "</style>\n",
       "<table border=\"1\" class=\"dataframe\">\n",
       "  <thead>\n",
       "    <tr style=\"text-align: right;\">\n",
       "      <th></th>\n",
       "      <th>radon_(Pci/L)</th>\n",
       "    </tr>\n",
       "  </thead>\n",
       "  <tbody>\n",
       "    <tr>\n",
       "      <th>0</th>\n",
       "      <td>1.9</td>\n",
       "    </tr>\n",
       "    <tr>\n",
       "      <th>1</th>\n",
       "      <td>2.8</td>\n",
       "    </tr>\n",
       "    <tr>\n",
       "      <th>2</th>\n",
       "      <td>5.7</td>\n",
       "    </tr>\n",
       "    <tr>\n",
       "      <th>3</th>\n",
       "      <td>4.2</td>\n",
       "    </tr>\n",
       "    <tr>\n",
       "      <th>4</th>\n",
       "      <td>1.9</td>\n",
       "    </tr>\n",
       "  </tbody>\n",
       "</table>\n",
       "</div>"
      ],
      "text/plain": [
       "   radon_(Pci/L)\n",
       "0            1.9\n",
       "1            2.8\n",
       "2            5.7\n",
       "3            4.2\n",
       "4            1.9"
      ]
     },
     "metadata": {},
     "output_type": "display_data"
    },
    {
     "name": "stdout",
     "output_type": "stream",
     "text": [
      "\n",
      "fn: RProb0313.xls\n",
      "shape: (60, 1)\n"
     ]
    },
    {
     "data": {
      "text/html": [
       "<div>\n",
       "<style scoped>\n",
       "    .dataframe tbody tr th:only-of-type {\n",
       "        vertical-align: middle;\n",
       "    }\n",
       "\n",
       "    .dataframe tbody tr th {\n",
       "        vertical-align: top;\n",
       "    }\n",
       "\n",
       "    .dataframe thead th {\n",
       "        text-align: right;\n",
       "    }\n",
       "</style>\n",
       "<table border=\"1\" class=\"dataframe\">\n",
       "  <thead>\n",
       "    <tr style=\"text-align: right;\">\n",
       "      <th></th>\n",
       "      <th>Percentage_Democrats</th>\n",
       "    </tr>\n",
       "  </thead>\n",
       "  <tbody>\n",
       "    <tr>\n",
       "      <th>0</th>\n",
       "      <td>31</td>\n",
       "    </tr>\n",
       "    <tr>\n",
       "      <th>1</th>\n",
       "      <td>33</td>\n",
       "    </tr>\n",
       "    <tr>\n",
       "      <th>2</th>\n",
       "      <td>34</td>\n",
       "    </tr>\n",
       "    <tr>\n",
       "      <th>3</th>\n",
       "      <td>34</td>\n",
       "    </tr>\n",
       "    <tr>\n",
       "      <th>4</th>\n",
       "      <td>35</td>\n",
       "    </tr>\n",
       "  </tbody>\n",
       "</table>\n",
       "</div>"
      ],
      "text/plain": [
       "   Percentage_Democrats\n",
       "0                    31\n",
       "1                    33\n",
       "2                    34\n",
       "3                    34\n",
       "4                    35"
      ]
     },
     "metadata": {},
     "output_type": "display_data"
    },
    {
     "name": "stdout",
     "output_type": "stream",
     "text": [
      "\n",
      "fn: RProb0316.xls\n",
      "shape: (72, 1)\n"
     ]
    },
    {
     "data": {
      "text/html": [
       "<div>\n",
       "<style scoped>\n",
       "    .dataframe tbody tr th:only-of-type {\n",
       "        vertical-align: middle;\n",
       "    }\n",
       "\n",
       "    .dataframe tbody tr th {\n",
       "        vertical-align: top;\n",
       "    }\n",
       "\n",
       "    .dataframe thead th {\n",
       "        text-align: right;\n",
       "    }\n",
       "</style>\n",
       "<table border=\"1\" class=\"dataframe\">\n",
       "  <thead>\n",
       "    <tr style=\"text-align: right;\">\n",
       "      <th></th>\n",
       "      <th>weight_(kg)</th>\n",
       "    </tr>\n",
       "  </thead>\n",
       "  <tbody>\n",
       "    <tr>\n",
       "      <th>0</th>\n",
       "      <td>7.8</td>\n",
       "    </tr>\n",
       "    <tr>\n",
       "      <th>1</th>\n",
       "      <td>9.1</td>\n",
       "    </tr>\n",
       "    <tr>\n",
       "      <th>2</th>\n",
       "      <td>9.5</td>\n",
       "    </tr>\n",
       "    <tr>\n",
       "      <th>3</th>\n",
       "      <td>10.0</td>\n",
       "    </tr>\n",
       "    <tr>\n",
       "      <th>4</th>\n",
       "      <td>10.2</td>\n",
       "    </tr>\n",
       "  </tbody>\n",
       "</table>\n",
       "</div>"
      ],
      "text/plain": [
       "   weight_(kg)\n",
       "0          7.8\n",
       "1          9.1\n",
       "2          9.5\n",
       "3         10.0\n",
       "4         10.2"
      ]
     },
     "metadata": {},
     "output_type": "display_data"
    },
    {
     "name": "stdout",
     "output_type": "stream",
     "text": [
      "\n",
      "fn: RProb03_18.xls\n",
      "shape: (50, 1)\n"
     ]
    },
    {
     "data": {
      "text/html": [
       "<div>\n",
       "<style scoped>\n",
       "    .dataframe tbody tr th:only-of-type {\n",
       "        vertical-align: middle;\n",
       "    }\n",
       "\n",
       "    .dataframe tbody tr th {\n",
       "        vertical-align: top;\n",
       "    }\n",
       "\n",
       "    .dataframe thead th {\n",
       "        text-align: right;\n",
       "    }\n",
       "</style>\n",
       "<table border=\"1\" class=\"dataframe\">\n",
       "  <thead>\n",
       "    <tr style=\"text-align: right;\">\n",
       "      <th></th>\n",
       "      <th>water_content</th>\n",
       "    </tr>\n",
       "  </thead>\n",
       "  <tbody>\n",
       "    <tr>\n",
       "      <th>0</th>\n",
       "      <td>15</td>\n",
       "    </tr>\n",
       "    <tr>\n",
       "      <th>1</th>\n",
       "      <td>14</td>\n",
       "    </tr>\n",
       "    <tr>\n",
       "      <th>2</th>\n",
       "      <td>14</td>\n",
       "    </tr>\n",
       "    <tr>\n",
       "      <th>3</th>\n",
       "      <td>14</td>\n",
       "    </tr>\n",
       "    <tr>\n",
       "      <th>4</th>\n",
       "      <td>13</td>\n",
       "    </tr>\n",
       "  </tbody>\n",
       "</table>\n",
       "</div>"
      ],
      "text/plain": [
       "   water_content\n",
       "0             15\n",
       "1             14\n",
       "2             14\n",
       "3             14\n",
       "4             13"
      ]
     },
     "metadata": {},
     "output_type": "display_data"
    },
    {
     "name": "stdout",
     "output_type": "stream",
     "text": [
      "\n",
      "fn: Table0304.xlsx\n",
      "shape: (27, 1)\n"
     ]
    },
    {
     "data": {
      "text/html": [
       "<div>\n",
       "<style scoped>\n",
       "    .dataframe tbody tr th:only-of-type {\n",
       "        vertical-align: middle;\n",
       "    }\n",
       "\n",
       "    .dataframe tbody tr th {\n",
       "        vertical-align: top;\n",
       "    }\n",
       "\n",
       "    .dataframe thead th {\n",
       "        text-align: right;\n",
       "    }\n",
       "</style>\n",
       "<table border=\"1\" class=\"dataframe\">\n",
       "  <thead>\n",
       "    <tr style=\"text-align: right;\">\n",
       "      <th></th>\n",
       "      <th>Cost_in dollars</th>\n",
       "    </tr>\n",
       "  </thead>\n",
       "  <tbody>\n",
       "    <tr>\n",
       "      <th>0</th>\n",
       "      <td>1.29</td>\n",
       "    </tr>\n",
       "    <tr>\n",
       "      <th>1</th>\n",
       "      <td>1.37</td>\n",
       "    </tr>\n",
       "    <tr>\n",
       "      <th>2</th>\n",
       "      <td>1.30</td>\n",
       "    </tr>\n",
       "    <tr>\n",
       "      <th>3</th>\n",
       "      <td>0.80</td>\n",
       "    </tr>\n",
       "    <tr>\n",
       "      <th>4</th>\n",
       "      <td>0.67</td>\n",
       "    </tr>\n",
       "  </tbody>\n",
       "</table>\n",
       "</div>"
      ],
      "text/plain": [
       "   Cost_in dollars\n",
       "0             1.29\n",
       "1             1.37\n",
       "2             1.30\n",
       "3             0.80\n",
       "4             0.67"
      ]
     },
     "metadata": {},
     "output_type": "display_data"
    },
    {
     "name": "stdout",
     "output_type": "stream",
     "text": [
      "\n",
      "fn: Table0305.xlsx\n",
      "shape: (27, 1)\n"
     ]
    },
    {
     "data": {
      "text/html": [
       "<div>\n",
       "<style scoped>\n",
       "    .dataframe tbody tr th:only-of-type {\n",
       "        vertical-align: middle;\n",
       "    }\n",
       "\n",
       "    .dataframe tbody tr th {\n",
       "        vertical-align: top;\n",
       "    }\n",
       "\n",
       "    .dataframe thead th {\n",
       "        text-align: right;\n",
       "    }\n",
       "</style>\n",
       "<table border=\"1\" class=\"dataframe\">\n",
       "  <thead>\n",
       "    <tr style=\"text-align: right;\">\n",
       "      <th></th>\n",
       "      <th>Cost_in dollars</th>\n",
       "    </tr>\n",
       "  </thead>\n",
       "  <tbody>\n",
       "    <tr>\n",
       "      <th>0</th>\n",
       "      <td>0.46</td>\n",
       "    </tr>\n",
       "    <tr>\n",
       "      <th>1</th>\n",
       "      <td>0.47</td>\n",
       "    </tr>\n",
       "    <tr>\n",
       "      <th>2</th>\n",
       "      <td>0.48</td>\n",
       "    </tr>\n",
       "    <tr>\n",
       "      <th>3</th>\n",
       "      <td>0.50</td>\n",
       "    </tr>\n",
       "    <tr>\n",
       "      <th>4</th>\n",
       "      <td>0.55</td>\n",
       "    </tr>\n",
       "  </tbody>\n",
       "</table>\n",
       "</div>"
      ],
      "text/plain": [
       "   Cost_in dollars\n",
       "0             0.46\n",
       "1             0.47\n",
       "2             0.48\n",
       "3             0.50\n",
       "4             0.55"
      ]
     },
     "metadata": {},
     "output_type": "display_data"
    },
    {
     "name": "stdout",
     "output_type": "stream",
     "text": [
      "\n",
      "fn: Table0306.xls\n",
      "shape: (22, 1)\n"
     ]
    },
    {
     "data": {
      "text/html": [
       "<div>\n",
       "<style scoped>\n",
       "    .dataframe tbody tr th:only-of-type {\n",
       "        vertical-align: middle;\n",
       "    }\n",
       "\n",
       "    .dataframe tbody tr th {\n",
       "        vertical-align: top;\n",
       "    }\n",
       "\n",
       "    .dataframe thead th {\n",
       "        text-align: right;\n",
       "    }\n",
       "</style>\n",
       "<table border=\"1\" class=\"dataframe\">\n",
       "  <thead>\n",
       "    <tr style=\"text-align: right;\">\n",
       "      <th></th>\n",
       "      <th>Calories</th>\n",
       "    </tr>\n",
       "  </thead>\n",
       "  <tbody>\n",
       "    <tr>\n",
       "      <th>0</th>\n",
       "      <td>342</td>\n",
       "    </tr>\n",
       "    <tr>\n",
       "      <th>1</th>\n",
       "      <td>377</td>\n",
       "    </tr>\n",
       "    <tr>\n",
       "      <th>2</th>\n",
       "      <td>319</td>\n",
       "    </tr>\n",
       "    <tr>\n",
       "      <th>3</th>\n",
       "      <td>353</td>\n",
       "    </tr>\n",
       "    <tr>\n",
       "      <th>4</th>\n",
       "      <td>295</td>\n",
       "    </tr>\n",
       "  </tbody>\n",
       "</table>\n",
       "</div>"
      ],
      "text/plain": [
       "   Calories\n",
       "0       342\n",
       "1       377\n",
       "2       319\n",
       "3       353\n",
       "4       295"
      ]
     },
     "metadata": {},
     "output_type": "display_data"
    },
    {
     "name": "stdout",
     "output_type": "stream",
     "text": [
      "\n",
      "fn: Table0307.xls\n",
      "shape: (22, 1)\n"
     ]
    },
    {
     "data": {
      "text/html": [
       "<div>\n",
       "<style scoped>\n",
       "    .dataframe tbody tr th:only-of-type {\n",
       "        vertical-align: middle;\n",
       "    }\n",
       "\n",
       "    .dataframe tbody tr th {\n",
       "        vertical-align: top;\n",
       "    }\n",
       "\n",
       "    .dataframe thead th {\n",
       "        text-align: right;\n",
       "    }\n",
       "</style>\n",
       "<table border=\"1\" class=\"dataframe\">\n",
       "  <thead>\n",
       "    <tr style=\"text-align: right;\">\n",
       "      <th></th>\n",
       "      <th>Calories</th>\n",
       "    </tr>\n",
       "  </thead>\n",
       "  <tbody>\n",
       "    <tr>\n",
       "      <th>0</th>\n",
       "      <td>111</td>\n",
       "    </tr>\n",
       "    <tr>\n",
       "      <th>1</th>\n",
       "      <td>131</td>\n",
       "    </tr>\n",
       "    <tr>\n",
       "      <th>2</th>\n",
       "      <td>147</td>\n",
       "    </tr>\n",
       "    <tr>\n",
       "      <th>3</th>\n",
       "      <td>151</td>\n",
       "    </tr>\n",
       "    <tr>\n",
       "      <th>4</th>\n",
       "      <td>151</td>\n",
       "    </tr>\n",
       "  </tbody>\n",
       "</table>\n",
       "</div>"
      ],
      "text/plain": [
       "   Calories\n",
       "0       111\n",
       "1       131\n",
       "2       147\n",
       "3       151\n",
       "4       151"
      ]
     },
     "metadata": {},
     "output_type": "display_data"
    }
   ],
   "source": [
    "files = os.listdir(PATH)\n",
    "files.sort()\n",
    "\n",
    "for fn in files:\n",
    "    print(fn)\n",
    "\n",
    "for fn in files:\n",
    "    if fn.endswith('.xls') or fn.endswith('.xlsx'):\n",
    "        df = pd.read_excel(os.path.join(PATH, fn))\n",
    "        print(f'\\nfn: {fn}\\nshape: {df.shape}')\n",
    "        display(df.head())\n",
    "    elif fn.endswith('.csv'):\n",
    "        df = pd.read_csv(os.path.join(PATH, fn))\n",
    "        print(f'\\nfn: {fn}\\nshape: {df.shape}')\n",
    "        display(df.head())\n",
    "    else:\n",
    "        print(f'\\nfn: {fn}')\n"
   ]
  },
  {
   "cell_type": "markdown",
   "metadata": {},
   "source": [
    "## Section 3.1 _Measures of Central Tendency: Mode, Median, and Mean_\n",
    "\n",
    "---\n",
    "\n",
    "### Mode\n",
    "The __mode__ of a data set is the value that occurs most frequently.  _Note:_ If a data set has no single value that occurs more frequently than any other, then that data set has no mode.\n",
    "\n",
    "`mode(data)` <br>\n",
    "`vals, cnts = np.unique(data, return_counts=True)` <br>\n",
    "`scipy.stats.mode(data)` <br>\n",
    "\n",
    "---\n",
    "\n",
    "### Median\n",
    "The __median__ is the central value of an ordered distribution\n",
    "\n",
    "For an ordered data set of size $n$, position of the middle value is $\\frac{n + 1}{2}$\n",
    "\n",
    "`np.median(data)`\n",
    "\n",
    "---\n",
    "\n",
    "### Mean\n",
    "Sample mean, $\\bar{x} = \\frac{\\Sigma x}{n}$\n",
    "\n",
    "Population mean, $\\mu = \\frac{\\Sigma x}{N}$\n",
    "\n",
    "where $n$ is the number of data values in the sample, and $N$ is the number of data values in the population.\n",
    "\n",
    "`np.mean(data)`\n",
    "\n",
    "---\n",
    "\n",
    "### Trimmed mean\n",
    "\n",
    "`stats.trim_mean(data, 0.05)`\n",
    "\n",
    "---\n",
    "\n",
    "### Weighted Average\n",
    "\n",
    "Weighted Average, $\\frac{\\Sigma x w}{\\Sigma w}$\n",
    "\n",
    "where $x$ is a data value and $w$ is the weight assigned to that data value. The sum is taken over all data values.\n",
    "\n",
    "`np.average(data, weights=weights)`\n",
    "\n"
   ]
  },
  {
   "cell_type": "code",
   "execution_count": 3,
   "metadata": {},
   "outputs": [
    {
     "data": {
      "text/plain": [
       "array([5, 3, 7, 2, 4, 4, 2, 4, 8, 3, 4, 3, 4, 3, 3])"
      ]
     },
     "execution_count": 3,
     "metadata": {},
     "output_type": "execute_result"
    }
   ],
   "source": [
    "t = '''\n",
    "5 3 7 2 4 4 2 4 8 3 4 3 4 3 3 \n",
    "'''\n",
    "\n",
    "data = str_to_arr(t)\n",
    "data"
   ]
  },
  {
   "cell_type": "code",
   "execution_count": 4,
   "metadata": {},
   "outputs": [
    {
     "data": {
      "text/plain": [
       "ModeResult(mode=array([3]), count=array([5]))"
      ]
     },
     "execution_count": 4,
     "metadata": {},
     "output_type": "execute_result"
    }
   ],
   "source": [
    "# from scipy import stats\n",
    "stats.mode(data)"
   ]
  },
  {
   "cell_type": "code",
   "execution_count": 5,
   "metadata": {},
   "outputs": [
    {
     "data": {
      "text/html": [
       "<div>\n",
       "<style scoped>\n",
       "    .dataframe tbody tr th:only-of-type {\n",
       "        vertical-align: middle;\n",
       "    }\n",
       "\n",
       "    .dataframe tbody tr th {\n",
       "        vertical-align: top;\n",
       "    }\n",
       "\n",
       "    .dataframe thead th {\n",
       "        text-align: right;\n",
       "    }\n",
       "</style>\n",
       "<table border=\"1\" class=\"dataframe\">\n",
       "  <thead>\n",
       "    <tr style=\"text-align: right;\">\n",
       "      <th></th>\n",
       "      <th>counts</th>\n",
       "    </tr>\n",
       "    <tr>\n",
       "      <th>values</th>\n",
       "      <th></th>\n",
       "    </tr>\n",
       "  </thead>\n",
       "  <tbody>\n",
       "    <tr>\n",
       "      <th>3</th>\n",
       "      <td>5</td>\n",
       "    </tr>\n",
       "    <tr>\n",
       "      <th>4</th>\n",
       "      <td>5</td>\n",
       "    </tr>\n",
       "    <tr>\n",
       "      <th>2</th>\n",
       "      <td>2</td>\n",
       "    </tr>\n",
       "    <tr>\n",
       "      <th>5</th>\n",
       "      <td>1</td>\n",
       "    </tr>\n",
       "    <tr>\n",
       "      <th>7</th>\n",
       "      <td>1</td>\n",
       "    </tr>\n",
       "  </tbody>\n",
       "</table>\n",
       "</div>"
      ],
      "text/plain": [
       "        counts\n",
       "values        \n",
       "3            5\n",
       "4            5\n",
       "2            2\n",
       "5            1\n",
       "7            1"
      ]
     },
     "metadata": {},
     "output_type": "display_data"
    },
    {
     "name": "stdout",
     "output_type": "stream",
     "text": [
      "mode: None\n"
     ]
    }
   ],
   "source": [
    "mode(data)\n"
   ]
  },
  {
   "cell_type": "code",
   "execution_count": 6,
   "metadata": {},
   "outputs": [
    {
     "data": {
      "text/html": [
       "<div>\n",
       "<style scoped>\n",
       "    .dataframe tbody tr th:only-of-type {\n",
       "        vertical-align: middle;\n",
       "    }\n",
       "\n",
       "    .dataframe tbody tr th {\n",
       "        vertical-align: top;\n",
       "    }\n",
       "\n",
       "    .dataframe thead th {\n",
       "        text-align: right;\n",
       "    }\n",
       "</style>\n",
       "<table border=\"1\" class=\"dataframe\">\n",
       "  <thead>\n",
       "    <tr style=\"text-align: right;\">\n",
       "      <th></th>\n",
       "      <th>counts</th>\n",
       "    </tr>\n",
       "    <tr>\n",
       "      <th>values</th>\n",
       "      <th></th>\n",
       "    </tr>\n",
       "  </thead>\n",
       "  <tbody>\n",
       "    <tr>\n",
       "      <th>0</th>\n",
       "      <td>1</td>\n",
       "    </tr>\n",
       "    <tr>\n",
       "      <th>1</th>\n",
       "      <td>1</td>\n",
       "    </tr>\n",
       "    <tr>\n",
       "      <th>2</th>\n",
       "      <td>1</td>\n",
       "    </tr>\n",
       "    <tr>\n",
       "      <th>3</th>\n",
       "      <td>1</td>\n",
       "    </tr>\n",
       "    <tr>\n",
       "      <th>4</th>\n",
       "      <td>1</td>\n",
       "    </tr>\n",
       "  </tbody>\n",
       "</table>\n",
       "</div>"
      ],
      "text/plain": [
       "        counts\n",
       "values        \n",
       "0            1\n",
       "1            1\n",
       "2            1\n",
       "3            1\n",
       "4            1"
      ]
     },
     "metadata": {},
     "output_type": "display_data"
    },
    {
     "name": "stdout",
     "output_type": "stream",
     "text": [
      "mode: None\n"
     ]
    }
   ],
   "source": [
    "mode(range(10))"
   ]
  },
  {
   "cell_type": "code",
   "execution_count": 7,
   "metadata": {},
   "outputs": [
    {
     "name": "stdout",
     "output_type": "stream",
     "text": [
      "[18, 19, 19, 27, 28, 35]\n"
     ]
    },
    {
     "data": {
      "text/plain": [
       "23.0"
      ]
     },
     "execution_count": 7,
     "metadata": {},
     "output_type": "execute_result"
    }
   ],
   "source": [
    "t = '''\n",
    "35 19 19 27 28 18\n",
    "'''\n",
    "\n",
    "data = str_to_arr(t)\n",
    "\n",
    "print(sorted(data))\n",
    "\n",
    "np.median(data)"
   ]
  },
  {
   "cell_type": "code",
   "execution_count": 8,
   "metadata": {},
   "outputs": [
    {
     "name": "stdout",
     "output_type": "stream",
     "text": [
      "[58, 60, 67, 84, 93, 98, 100]\n"
     ]
    },
    {
     "data": {
      "text/plain": [
       "80.0"
      ]
     },
     "execution_count": 8,
     "metadata": {},
     "output_type": "execute_result"
    }
   ],
   "source": [
    "t = '''\n",
    "58 67 60 84 93 98 100\n",
    "'''\n",
    "\n",
    "data = str_to_arr(t)\n",
    "\n",
    "print(sorted(data))\n",
    "\n",
    "np.mean(data)"
   ]
  },
  {
   "cell_type": "code",
   "execution_count": 9,
   "metadata": {},
   "outputs": [
    {
     "name": "stdout",
     "output_type": "stream",
     "text": [
      "[14, 20, 20, 20, 20, 23, 26, 30, 30, 30, 35, 35, 35, 40, 40, 42, 50, 50, 80, 80]\n"
     ]
    },
    {
     "data": {
      "text/plain": [
       "36.0"
      ]
     },
     "execution_count": 9,
     "metadata": {},
     "output_type": "execute_result"
    }
   ],
   "source": [
    "# Guided Ex 2\n",
    "t = '''\n",
    "14 20 20 20 20 23 26 30 30 30\n",
    "35 35 35 40 40 42 50 50 80 80\n",
    "'''\n",
    "\n",
    "data = str_to_arr(t)\n",
    "\n",
    "print(sorted(data))\n",
    "\n",
    "np.mean(data)"
   ]
  },
  {
   "cell_type": "code",
   "execution_count": 10,
   "metadata": {},
   "outputs": [
    {
     "data": {
      "text/plain": [
       "34.77777777777778"
      ]
     },
     "execution_count": 10,
     "metadata": {},
     "output_type": "execute_result"
    }
   ],
   "source": [
    "stats.trim_mean(data, 0.05)"
   ]
  },
  {
   "cell_type": "code",
   "execution_count": 11,
   "metadata": {},
   "outputs": [
    {
     "data": {
      "text/plain": [
       "20"
      ]
     },
     "execution_count": 11,
     "metadata": {},
     "output_type": "execute_result"
    }
   ],
   "source": [
    "data.size"
   ]
  },
  {
   "cell_type": "code",
   "execution_count": 12,
   "metadata": {},
   "outputs": [
    {
     "data": {
      "text/plain": [
       "32.5"
      ]
     },
     "execution_count": 12,
     "metadata": {},
     "output_type": "execute_result"
    }
   ],
   "source": [
    "np.median(data)"
   ]
  },
  {
   "cell_type": "code",
   "execution_count": 13,
   "metadata": {},
   "outputs": [
    {
     "data": {
      "text/plain": [
       "90.2"
      ]
     },
     "execution_count": 13,
     "metadata": {},
     "output_type": "execute_result"
    }
   ],
   "source": [
    "# Ex 4\n",
    "vals = [83, 95]\n",
    "wts = [.4, .6]\n",
    "np.average(vals, weights=wts)"
   ]
  },
  {
   "cell_type": "markdown",
   "metadata": {},
   "source": [
    "### Section 3.1 Problems"
   ]
  },
  {
   "cell_type": "code",
   "execution_count": 14,
   "metadata": {},
   "outputs": [
    {
     "name": "stdout",
     "output_type": "stream",
     "text": [
      "mean: 5.0\n",
      "median: 6.0\n"
     ]
    },
    {
     "data": {
      "text/html": [
       "<div>\n",
       "<style scoped>\n",
       "    .dataframe tbody tr th:only-of-type {\n",
       "        vertical-align: middle;\n",
       "    }\n",
       "\n",
       "    .dataframe tbody tr th {\n",
       "        vertical-align: top;\n",
       "    }\n",
       "\n",
       "    .dataframe thead th {\n",
       "        text-align: right;\n",
       "    }\n",
       "</style>\n",
       "<table border=\"1\" class=\"dataframe\">\n",
       "  <thead>\n",
       "    <tr style=\"text-align: right;\">\n",
       "      <th></th>\n",
       "      <th>counts</th>\n",
       "    </tr>\n",
       "    <tr>\n",
       "      <th>values</th>\n",
       "      <th></th>\n",
       "    </tr>\n",
       "  </thead>\n",
       "  <tbody>\n",
       "    <tr>\n",
       "      <th>2</th>\n",
       "      <td>2</td>\n",
       "    </tr>\n",
       "    <tr>\n",
       "      <th>6</th>\n",
       "      <td>1</td>\n",
       "    </tr>\n",
       "    <tr>\n",
       "      <th>7</th>\n",
       "      <td>1</td>\n",
       "    </tr>\n",
       "    <tr>\n",
       "      <th>8</th>\n",
       "      <td>1</td>\n",
       "    </tr>\n",
       "  </tbody>\n",
       "</table>\n",
       "</div>"
      ],
      "text/plain": [
       "        counts\n",
       "values        \n",
       "2            2\n",
       "6            1\n",
       "7            1\n",
       "8            1"
      ]
     },
     "metadata": {},
     "output_type": "display_data"
    },
    {
     "name": "stdout",
     "output_type": "stream",
     "text": [
      "mode: 2\n"
     ]
    }
   ],
   "source": [
    "# Sec 3.1 Problem 5\n",
    "data = [8, 2, 7, 2, 6]\n",
    "print(f'mean: {np.mean(data)}')\n",
    "print(f'median: {np.median(data)}')\n",
    "m = mode(data)\n"
   ]
  },
  {
   "cell_type": "code",
   "execution_count": 15,
   "metadata": {},
   "outputs": [
    {
     "data": {
      "text/plain": [
       "11.666666666666666"
      ]
     },
     "execution_count": 15,
     "metadata": {},
     "output_type": "execute_result"
    }
   ],
   "source": [
    "# Sec 3.1 Problem 14a\n",
    "n_0_A = 5\n",
    "avg_0_A = 10\n",
    "sum_0_A = n_0_A * avg_0_A\n",
    "\n",
    "sum_A = sum_0_A + 20\n",
    "n_A = n_0_A + 1\n",
    "avg_A = sum_A / n_A\n",
    "\n",
    "avg_A"
   ]
  },
  {
   "cell_type": "code",
   "execution_count": 16,
   "metadata": {},
   "outputs": [
    {
     "data": {
      "text/plain": [
       "10.196078431372548"
      ]
     },
     "execution_count": 16,
     "metadata": {},
     "output_type": "execute_result"
    }
   ],
   "source": [
    "# Sec 3.1 Problem 14b\n",
    "n_0_B = 50\n",
    "avg_0_B = 10\n",
    "sum_0_B = n_0_B * avg_0_B\n",
    "\n",
    "sum_B = sum_0_B + 20\n",
    "n_B = n_0_B + 1\n",
    "avg_B = sum_B / n_B\n",
    "\n",
    "avg_B"
   ]
  },
  {
   "cell_type": "code",
   "execution_count": 17,
   "metadata": {},
   "outputs": [
    {
     "name": "stdout",
     "output_type": "stream",
     "text": [
      "(a)\n"
     ]
    },
    {
     "data": {
      "text/html": [
       "<div>\n",
       "<style scoped>\n",
       "    .dataframe tbody tr th:only-of-type {\n",
       "        vertical-align: middle;\n",
       "    }\n",
       "\n",
       "    .dataframe tbody tr th {\n",
       "        vertical-align: top;\n",
       "    }\n",
       "\n",
       "    .dataframe thead th {\n",
       "        text-align: right;\n",
       "    }\n",
       "</style>\n",
       "<table border=\"1\" class=\"dataframe\">\n",
       "  <thead>\n",
       "    <tr style=\"text-align: right;\">\n",
       "      <th></th>\n",
       "      <th>counts</th>\n",
       "    </tr>\n",
       "    <tr>\n",
       "      <th>values</th>\n",
       "      <th></th>\n",
       "    </tr>\n",
       "  </thead>\n",
       "  <tbody>\n",
       "    <tr>\n",
       "      <th>2</th>\n",
       "      <td>2</td>\n",
       "    </tr>\n",
       "    <tr>\n",
       "      <th>3</th>\n",
       "      <td>1</td>\n",
       "    </tr>\n",
       "    <tr>\n",
       "      <th>6</th>\n",
       "      <td>1</td>\n",
       "    </tr>\n",
       "    <tr>\n",
       "      <th>10</th>\n",
       "      <td>1</td>\n",
       "    </tr>\n",
       "  </tbody>\n",
       "</table>\n",
       "</div>"
      ],
      "text/plain": [
       "        counts\n",
       "values        \n",
       "2            2\n",
       "3            1\n",
       "6            1\n",
       "10           1"
      ]
     },
     "metadata": {},
     "output_type": "display_data"
    },
    {
     "name": "stdout",
     "output_type": "stream",
     "text": [
      "mode: 2\n",
      "median: 3.0\n",
      "mean: 4.6\n",
      "\n",
      "(b)\n"
     ]
    },
    {
     "data": {
      "text/html": [
       "<div>\n",
       "<style scoped>\n",
       "    .dataframe tbody tr th:only-of-type {\n",
       "        vertical-align: middle;\n",
       "    }\n",
       "\n",
       "    .dataframe tbody tr th {\n",
       "        vertical-align: top;\n",
       "    }\n",
       "\n",
       "    .dataframe thead th {\n",
       "        text-align: right;\n",
       "    }\n",
       "</style>\n",
       "<table border=\"1\" class=\"dataframe\">\n",
       "  <thead>\n",
       "    <tr style=\"text-align: right;\">\n",
       "      <th></th>\n",
       "      <th>counts</th>\n",
       "    </tr>\n",
       "    <tr>\n",
       "      <th>values</th>\n",
       "      <th></th>\n",
       "    </tr>\n",
       "  </thead>\n",
       "  <tbody>\n",
       "    <tr>\n",
       "      <th>7</th>\n",
       "      <td>2</td>\n",
       "    </tr>\n",
       "    <tr>\n",
       "      <th>8</th>\n",
       "      <td>1</td>\n",
       "    </tr>\n",
       "    <tr>\n",
       "      <th>11</th>\n",
       "      <td>1</td>\n",
       "    </tr>\n",
       "    <tr>\n",
       "      <th>15</th>\n",
       "      <td>1</td>\n",
       "    </tr>\n",
       "  </tbody>\n",
       "</table>\n",
       "</div>"
      ],
      "text/plain": [
       "        counts\n",
       "values        \n",
       "7            2\n",
       "8            1\n",
       "11           1\n",
       "15           1"
      ]
     },
     "metadata": {},
     "output_type": "display_data"
    },
    {
     "name": "stdout",
     "output_type": "stream",
     "text": [
      "mode: 7\n",
      "median: 8.0\n",
      "mean: 9.6\n"
     ]
    }
   ],
   "source": [
    "# Sec 3.1 Problem 16\n",
    "print('(a)')\n",
    "data = np.array([2,2,3,6,10])\n",
    "m = mode(data)\n",
    "print(f'median: {np.median(data)}')\n",
    "print(f'mean: {np.mean(data)}')\n",
    "\n",
    "print('\\n(b)')\n",
    "data += 5\n",
    "m = mode(data)\n",
    "print(f'median: {np.median(data)}')\n",
    "print(f'mean: {np.mean(data)}')\n"
   ]
  },
  {
   "cell_type": "code",
   "execution_count": 18,
   "metadata": {},
   "outputs": [
    {
     "name": "stdout",
     "output_type": "stream",
     "text": [
      "(a)\n"
     ]
    },
    {
     "data": {
      "text/html": [
       "<div>\n",
       "<style scoped>\n",
       "    .dataframe tbody tr th:only-of-type {\n",
       "        vertical-align: middle;\n",
       "    }\n",
       "\n",
       "    .dataframe tbody tr th {\n",
       "        vertical-align: top;\n",
       "    }\n",
       "\n",
       "    .dataframe thead th {\n",
       "        text-align: right;\n",
       "    }\n",
       "</style>\n",
       "<table border=\"1\" class=\"dataframe\">\n",
       "  <thead>\n",
       "    <tr style=\"text-align: right;\">\n",
       "      <th></th>\n",
       "      <th>counts</th>\n",
       "    </tr>\n",
       "    <tr>\n",
       "      <th>values</th>\n",
       "      <th></th>\n",
       "    </tr>\n",
       "  </thead>\n",
       "  <tbody>\n",
       "    <tr>\n",
       "      <th>2</th>\n",
       "      <td>2</td>\n",
       "    </tr>\n",
       "    <tr>\n",
       "      <th>3</th>\n",
       "      <td>1</td>\n",
       "    </tr>\n",
       "    <tr>\n",
       "      <th>6</th>\n",
       "      <td>1</td>\n",
       "    </tr>\n",
       "    <tr>\n",
       "      <th>10</th>\n",
       "      <td>1</td>\n",
       "    </tr>\n",
       "  </tbody>\n",
       "</table>\n",
       "</div>"
      ],
      "text/plain": [
       "        counts\n",
       "values        \n",
       "2            2\n",
       "3            1\n",
       "6            1\n",
       "10           1"
      ]
     },
     "metadata": {},
     "output_type": "display_data"
    },
    {
     "name": "stdout",
     "output_type": "stream",
     "text": [
      "mode: 2\n",
      "median: 3.0\n",
      "mean: 4.6\n",
      "\n",
      "(b)\n"
     ]
    },
    {
     "data": {
      "text/html": [
       "<div>\n",
       "<style scoped>\n",
       "    .dataframe tbody tr th:only-of-type {\n",
       "        vertical-align: middle;\n",
       "    }\n",
       "\n",
       "    .dataframe tbody tr th {\n",
       "        vertical-align: top;\n",
       "    }\n",
       "\n",
       "    .dataframe thead th {\n",
       "        text-align: right;\n",
       "    }\n",
       "</style>\n",
       "<table border=\"1\" class=\"dataframe\">\n",
       "  <thead>\n",
       "    <tr style=\"text-align: right;\">\n",
       "      <th></th>\n",
       "      <th>counts</th>\n",
       "    </tr>\n",
       "    <tr>\n",
       "      <th>values</th>\n",
       "      <th></th>\n",
       "    </tr>\n",
       "  </thead>\n",
       "  <tbody>\n",
       "    <tr>\n",
       "      <th>10</th>\n",
       "      <td>2</td>\n",
       "    </tr>\n",
       "    <tr>\n",
       "      <th>15</th>\n",
       "      <td>1</td>\n",
       "    </tr>\n",
       "    <tr>\n",
       "      <th>30</th>\n",
       "      <td>1</td>\n",
       "    </tr>\n",
       "    <tr>\n",
       "      <th>50</th>\n",
       "      <td>1</td>\n",
       "    </tr>\n",
       "  </tbody>\n",
       "</table>\n",
       "</div>"
      ],
      "text/plain": [
       "        counts\n",
       "values        \n",
       "10           2\n",
       "15           1\n",
       "30           1\n",
       "50           1"
      ]
     },
     "metadata": {},
     "output_type": "display_data"
    },
    {
     "name": "stdout",
     "output_type": "stream",
     "text": [
      "mode: 10\n",
      "median: 15.0\n",
      "mean: 23.0\n"
     ]
    }
   ],
   "source": [
    "# Sec 3.1 Problem 17\n",
    "print('(a)')\n",
    "data = np.array([2,2,3,6,10])\n",
    "m = mode(data)\n",
    "print(f'median: {np.median(data)}')\n",
    "print(f'mean: {np.mean(data)}')\n",
    "\n",
    "print('\\n(b)')\n",
    "data *= 5\n",
    "m = mode(data)\n",
    "print(f'median: {np.median(data)}')\n",
    "print(f'mean: {np.mean(data)}')\n"
   ]
  },
  {
   "cell_type": "code",
   "execution_count": 19,
   "metadata": {},
   "outputs": [
    {
     "name": "stdout",
     "output_type": "stream",
     "text": [
      "mean: Temps_(F)    167.285714\n",
      "dtype: float64\n",
      "median: 171.0\n"
     ]
    },
    {
     "data": {
      "text/html": [
       "<div>\n",
       "<style scoped>\n",
       "    .dataframe tbody tr th:only-of-type {\n",
       "        vertical-align: middle;\n",
       "    }\n",
       "\n",
       "    .dataframe tbody tr th {\n",
       "        vertical-align: top;\n",
       "    }\n",
       "\n",
       "    .dataframe thead th {\n",
       "        text-align: right;\n",
       "    }\n",
       "</style>\n",
       "<table border=\"1\" class=\"dataframe\">\n",
       "  <thead>\n",
       "    <tr style=\"text-align: right;\">\n",
       "      <th></th>\n",
       "      <th>counts</th>\n",
       "    </tr>\n",
       "    <tr>\n",
       "      <th>values</th>\n",
       "      <th></th>\n",
       "    </tr>\n",
       "  </thead>\n",
       "  <tbody>\n",
       "    <tr>\n",
       "      <th>178</th>\n",
       "      <td>3</td>\n",
       "    </tr>\n",
       "    <tr>\n",
       "      <th>152</th>\n",
       "      <td>2</td>\n",
       "    </tr>\n",
       "    <tr>\n",
       "      <th>168</th>\n",
       "      <td>2</td>\n",
       "    </tr>\n",
       "    <tr>\n",
       "      <th>180</th>\n",
       "      <td>2</td>\n",
       "    </tr>\n",
       "    <tr>\n",
       "      <th>144</th>\n",
       "      <td>1</td>\n",
       "    </tr>\n",
       "  </tbody>\n",
       "</table>\n",
       "</div>"
      ],
      "text/plain": [
       "        counts\n",
       "values        \n",
       "178          3\n",
       "152          2\n",
       "168          2\n",
       "180          2\n",
       "144          1"
      ]
     },
     "metadata": {},
     "output_type": "display_data"
    },
    {
     "name": "stdout",
     "output_type": "stream",
     "text": [
      "mode: 178\n"
     ]
    }
   ],
   "source": [
    "# Sec 3.1 Problem 19\n",
    "data = pd.read_excel(os.path.join(PATH, 'Prob0301_19.xls'))\n",
    "print(f'mean: {np.mean(data)}')\n",
    "print(f'median: {np.median(data)}')\n",
    "m = mode(data)\n"
   ]
  },
  {
   "cell_type": "code",
   "execution_count": 20,
   "metadata": {},
   "outputs": [
    {
     "name": "stdout",
     "output_type": "stream",
     "text": [
      "mean: 6.166666666666667\n",
      "median: 6.0\n"
     ]
    },
    {
     "data": {
      "text/html": [
       "<div>\n",
       "<style scoped>\n",
       "    .dataframe tbody tr th:only-of-type {\n",
       "        vertical-align: middle;\n",
       "    }\n",
       "\n",
       "    .dataframe tbody tr th {\n",
       "        vertical-align: top;\n",
       "    }\n",
       "\n",
       "    .dataframe thead th {\n",
       "        text-align: right;\n",
       "    }\n",
       "</style>\n",
       "<table border=\"1\" class=\"dataframe\">\n",
       "  <thead>\n",
       "    <tr style=\"text-align: right;\">\n",
       "      <th></th>\n",
       "      <th>counts</th>\n",
       "    </tr>\n",
       "    <tr>\n",
       "      <th>values</th>\n",
       "      <th></th>\n",
       "    </tr>\n",
       "  </thead>\n",
       "  <tbody>\n",
       "    <tr>\n",
       "      <th>7</th>\n",
       "      <td>4</td>\n",
       "    </tr>\n",
       "    <tr>\n",
       "      <th>2</th>\n",
       "      <td>3</td>\n",
       "    </tr>\n",
       "    <tr>\n",
       "      <th>4</th>\n",
       "      <td>3</td>\n",
       "    </tr>\n",
       "    <tr>\n",
       "      <th>3</th>\n",
       "      <td>2</td>\n",
       "    </tr>\n",
       "    <tr>\n",
       "      <th>8</th>\n",
       "      <td>2</td>\n",
       "    </tr>\n",
       "  </tbody>\n",
       "</table>\n",
       "</div>"
      ],
      "text/plain": [
       "        counts\n",
       "values        \n",
       "7            4\n",
       "2            3\n",
       "4            3\n",
       "3            2\n",
       "8            2"
      ]
     },
     "metadata": {},
     "output_type": "display_data"
    },
    {
     "name": "stdout",
     "output_type": "stream",
     "text": [
      "mode: 7\n"
     ]
    },
    {
     "data": {
      "image/png": "[encoded data removed]",
      "text/plain": [
       "<Figure size 1080x144 with 1 Axes>"
      ]
     },
     "metadata": {
      "needs_background": "light"
     },
     "output_type": "display_data"
    }
   ],
   "source": [
    "# Sec 3.1 Problem 20\n",
    "data = pd.read_excel(os.path.join(PATH, 'Prob0301_20.xls'))['Population_(wolves)']\n",
    "print(f'mean: {np.mean(data)}')\n",
    "print(f'median: {np.median(data)}')\n",
    "m = mode(data)\n",
    "dotplot(data)"
   ]
  },
  {
   "cell_type": "code",
   "execution_count": 21,
   "metadata": {},
   "outputs": [
    {
     "name": "stdout",
     "output_type": "stream",
     "text": [
      "mean: 26.25\n",
      "median: 25.5\n"
     ]
    },
    {
     "data": {
      "text/html": [
       "<div>\n",
       "<style scoped>\n",
       "    .dataframe tbody tr th:only-of-type {\n",
       "        vertical-align: middle;\n",
       "    }\n",
       "\n",
       "    .dataframe tbody tr th {\n",
       "        vertical-align: top;\n",
       "    }\n",
       "\n",
       "    .dataframe thead th {\n",
       "        text-align: right;\n",
       "    }\n",
       "</style>\n",
       "<table border=\"1\" class=\"dataframe\">\n",
       "  <thead>\n",
       "    <tr style=\"text-align: right;\">\n",
       "      <th></th>\n",
       "      <th>counts</th>\n",
       "    </tr>\n",
       "    <tr>\n",
       "      <th>values</th>\n",
       "      <th></th>\n",
       "    </tr>\n",
       "  </thead>\n",
       "  <tbody>\n",
       "    <tr>\n",
       "      <th>25</th>\n",
       "      <td>7</td>\n",
       "    </tr>\n",
       "    <tr>\n",
       "      <th>29</th>\n",
       "      <td>5</td>\n",
       "    </tr>\n",
       "    <tr>\n",
       "      <th>22</th>\n",
       "      <td>4</td>\n",
       "    </tr>\n",
       "    <tr>\n",
       "      <th>23</th>\n",
       "      <td>4</td>\n",
       "    </tr>\n",
       "    <tr>\n",
       "      <th>26</th>\n",
       "      <td>4</td>\n",
       "    </tr>\n",
       "  </tbody>\n",
       "</table>\n",
       "</div>"
      ],
      "text/plain": [
       "        counts\n",
       "values        \n",
       "25           7\n",
       "29           5\n",
       "22           4\n",
       "23           4\n",
       "26           4"
      ]
     },
     "metadata": {},
     "output_type": "display_data"
    },
    {
     "name": "stdout",
     "output_type": "stream",
     "text": [
      "mode: 25\n"
     ]
    },
    {
     "data": {
      "image/png": "[encoded data removed]",
      "text/plain": [
       "<Figure size 1080x144 with 1 Axes>"
      ]
     },
     "metadata": {
      "needs_background": "light"
     },
     "output_type": "display_data"
    }
   ],
   "source": [
    "# Sec 3.1 Problem 22\n",
    "data = pd.read_excel(os.path.join(PATH, 'Prob0301_22.xls'))['age_(years)']\n",
    "print(f'mean: {np.mean(data)}')\n",
    "print(f'median: {np.median(data)}')\n",
    "m = mode(data)\n",
    "dotplot(data)"
   ]
  },
  {
   "cell_type": "code",
   "execution_count": 22,
   "metadata": {},
   "outputs": [
    {
     "data": {
      "image/png": "[encoded data removed]",
      "text/plain": [
       "<Figure size 1080x144 with 1 Axes>"
      ]
     },
     "metadata": {
      "needs_background": "light"
     },
     "output_type": "display_data"
    },
    {
     "name": "stdout",
     "output_type": "stream",
     "text": [
      "mean: 136.15\n",
      "median: 66.5\n"
     ]
    },
    {
     "data": {
      "text/html": [
       "<div>\n",
       "<style scoped>\n",
       "    .dataframe tbody tr th:only-of-type {\n",
       "        vertical-align: middle;\n",
       "    }\n",
       "\n",
       "    .dataframe tbody tr th {\n",
       "        vertical-align: top;\n",
       "    }\n",
       "\n",
       "    .dataframe thead th {\n",
       "        text-align: right;\n",
       "    }\n",
       "</style>\n",
       "<table border=\"1\" class=\"dataframe\">\n",
       "  <thead>\n",
       "    <tr style=\"text-align: right;\">\n",
       "      <th></th>\n",
       "      <th>counts</th>\n",
       "    </tr>\n",
       "    <tr>\n",
       "      <th>values</th>\n",
       "      <th></th>\n",
       "    </tr>\n",
       "  </thead>\n",
       "  <tbody>\n",
       "    <tr>\n",
       "      <th>60</th>\n",
       "      <td>3</td>\n",
       "    </tr>\n",
       "    <tr>\n",
       "      <th>45</th>\n",
       "      <td>2</td>\n",
       "    </tr>\n",
       "    <tr>\n",
       "      <th>50</th>\n",
       "      <td>2</td>\n",
       "    </tr>\n",
       "    <tr>\n",
       "      <th>40</th>\n",
       "      <td>1</td>\n",
       "    </tr>\n",
       "    <tr>\n",
       "      <th>55</th>\n",
       "      <td>1</td>\n",
       "    </tr>\n",
       "  </tbody>\n",
       "</table>\n",
       "</div>"
      ],
      "text/plain": [
       "        counts\n",
       "values        \n",
       "60           3\n",
       "45           2\n",
       "50           2\n",
       "40           1\n",
       "55           1"
      ]
     },
     "metadata": {},
     "output_type": "display_data"
    },
    {
     "name": "stdout",
     "output_type": "stream",
     "text": [
      "mode: 60\n",
      "trimmed mean: 121.278\n"
     ]
    }
   ],
   "source": [
    "# Sec 3.1 Problem 23\n",
    "data = pd.read_excel(os.path.join(PATH, 'Prob0301_23.xls'))['cost_(per day)']\n",
    "dotplot(data.round(-1))\n",
    "print(f'mean: {np.mean(data)}')\n",
    "print(f'median: {np.median(data)}')\n",
    "m = mode(data)\n",
    "print(f'trimmed mean: {stats.trim_mean(data, 0.05):.3f}')\n"
   ]
  },
  {
   "cell_type": "code",
   "execution_count": 23,
   "metadata": {},
   "outputs": [
    {
     "name": "stdout",
     "output_type": "stream",
     "text": [
      "weighted avg: 17.0\n"
     ]
    }
   ],
   "source": [
    "# Sec 3.1 Problem 24\n",
    "vals = [10,20,30]\n",
    "wts = [5,3,2]\n",
    "\n",
    "print(f'weighted avg: {np.average(vals, weights=wts)}')"
   ]
  },
  {
   "cell_type": "code",
   "execution_count": 24,
   "metadata": {},
   "outputs": [
    {
     "name": "stdout",
     "output_type": "stream",
     "text": [
      "weighted avg: 23.0\n"
     ]
    }
   ],
   "source": [
    "# Sec 3.1 Problem 25\n",
    "vals = [10,20,30]\n",
    "wts = [2,3,5]\n",
    "\n",
    "print(f'weighted avg: {np.average(vals, weights=wts)}')"
   ]
  },
  {
   "cell_type": "code",
   "execution_count": 25,
   "metadata": {},
   "outputs": [
    {
     "name": "stdout",
     "output_type": "stream",
     "text": [
      "weighted avg: 87.65\n"
     ]
    }
   ],
   "source": [
    "# Sec 3.1 Problem 26\n",
    "vals = [92,81,93,85]\n",
    "wts = [.25,.225,.225,.3]\n",
    "\n",
    "print(f'weighted avg: {np.average(vals, weights=wts)}')"
   ]
  },
  {
   "cell_type": "code",
   "execution_count": 26,
   "metadata": {},
   "outputs": [
    {
     "name": "stdout",
     "output_type": "stream",
     "text": [
      "weighted avg: 8.5\n"
     ]
    }
   ],
   "source": [
    "# Sec 3.1 Problem 27\n",
    "vals = [9,7,6,10]\n",
    "wts = [2,3,1,4]\n",
    "\n",
    "print(f'weighted avg: {np.average(vals, weights=wts)}')"
   ]
  },
  {
   "cell_type": "code",
   "execution_count": 27,
   "metadata": {},
   "outputs": [
    {
     "name": "stdout",
     "output_type": "stream",
     "text": [
      "66.667\n",
      "69.231\n",
      "66.667\n"
     ]
    }
   ],
   "source": [
    "# Sec 3.1 Problem 29\n",
    "# Harmonic Mean - rates of change\n",
    "2 / ((1/60) + (1/75))\n",
    "\n",
    "d = [100, 100]\n",
    "v = [60, 75]\n",
    "a = sum(d) / ((d[0]/v[0]) + (d[1]/v[1]))\n",
    "\n",
    "d = [50, 100]\n",
    "v = [60, 75]\n",
    "b = sum(d) / ((d[0]/v[0]) + (d[1]/v[1]))\n",
    "\n",
    "c = stats.hmean([60, 75])  # only defined for non-negative reals\n",
    "\n",
    "for e in [a,b,c]:\n",
    "    print(f'{e:.3f}')"
   ]
  },
  {
   "cell_type": "code",
   "execution_count": 28,
   "metadata": {},
   "outputs": [
    {
     "name": "stdout",
     "output_type": "stream",
     "text": [
      "[1.1   1.12  1.148 1.038 1.06 ]\n",
      "1.0924741333887469\n",
      "1.0924741333887469\n"
     ]
    }
   ],
   "source": [
    "# Sec 3.1 Problem 30\n",
    "# Geometric Mean - ratios and rates of change\n",
    "data = np.array([10,12,14.8,3.8,6])\n",
    "data /= 100\n",
    "data += 1\n",
    "print(data)\n",
    "\n",
    "a = data.prod()**(1/data.size)\n",
    "print(a)\n",
    "\n",
    "b = stats.gmean(data)\n",
    "print(b)\n"
   ]
  },
  {
   "cell_type": "markdown",
   "metadata": {},
   "source": [
    "## Section 3.2 _Measures of Variation_\n",
    "\n",
    "---\n",
    "\n",
    "### Sum of Squares\n",
    "\n",
    "$$ \\Sigma(x - \\bar x)^2 = \\Sigma x^2 - \\frac{(\\Sigma x)^2}{n}$$\n",
    "\n",
    "Defining formula equals computation formula.\n",
    "\n",
    "---\n",
    "\n",
    "### Sample Variance\n",
    "\n",
    "$$s^2 = \\frac{\\Sigma (x - \\bar x)^2}{n-1}$$\n",
    "\n",
    "`np.var(data, ddof=1)`\n",
    "\n",
    "---\n",
    "\n",
    "### Sample Standard Deviation\n",
    "\n",
    "$$s = \\sqrt{\\frac{\\Sigma (x - \\bar x)^2}{n-1}}$$\n",
    "\n",
    "`np.std(data, ddof=1)`\n",
    "\n",
    "---\n",
    "\n",
    "### Population Variance\n",
    "\n",
    "$$ \\sigma^2 = \\frac{\\Sigma (x - \\mu)^2}{N}$$\n",
    "\n",
    "`np.var(data, ddof=0)`\n",
    "\n",
    "---\n",
    "\n",
    "### Population Standard Deviation\n",
    "\n",
    "$$ \\sigma = \\sqrt{\\frac{\\Sigma (x - \\mu)^2}{N}} $$\n",
    "\n",
    "`np.std(data, ddof=0)`\n",
    "\n",
    "---\n",
    "\n",
    "### Coefficient of variation (CV)\n",
    "\n",
    "$$ CV = \\frac{s}{\\bar x} \\cdot 100 \\% $$\n",
    "\n",
    "$$ CV = \\frac{\\sigma}{\\mu} \\cdot 100 \\% $$\n",
    "\n",
    "---\n",
    "\n",
    "### Chebyshev's Theorem\n",
    "\n",
    "For _any_ set of data, the proportion of the data that must lie within $k$ standard deviations on either side of the mean is _at least_ $$1 − \\frac{1}{k^2}$$ where $k > 1$.\n",
    "\n",
    "---\n",
    "\n"
   ]
  },
  {
   "cell_type": "code",
   "execution_count": 29,
   "metadata": {},
   "outputs": [
    {
     "name": "stdout",
     "output_type": "stream",
     "text": [
      "mean: 6.0\n",
      "sample var: 14.0\n",
      "sample st dev: 3.7416573867739413\n"
     ]
    },
    {
     "data": {
      "image/png": "[encoded data removed]",
      "text/plain": [
       "<Figure size 1080x144 with 1 Axes>"
      ]
     },
     "metadata": {
      "needs_background": "light"
     },
     "output_type": "display_data"
    }
   ],
   "source": [
    "# Ex 6\n",
    "data = np.array([2,3,3,8,10,10])\n",
    "\n",
    "print(f'mean: {data.mean()}')\n",
    "\n",
    "print(f'sample var: {data.var(ddof=1)}')\n",
    "\n",
    "print(f'sample st dev: {data.std(ddof=1)}')\n",
    "\n",
    "dotplot(data)"
   ]
  },
  {
   "cell_type": "code",
   "execution_count": 30,
   "metadata": {},
   "outputs": [
    {
     "name": "stdout",
     "output_type": "stream",
     "text": [
      "mean: 6.0\n",
      "sample var: 1.6\n",
      "sample st dev: 1.2649110640673518\n"
     ]
    },
    {
     "data": {
      "image/png": "[encoded data removed]",
      "text/plain": [
       "<Figure size 1080x144 with 1 Axes>"
      ]
     },
     "metadata": {
      "needs_background": "light"
     },
     "output_type": "display_data"
    }
   ],
   "source": [
    "# Guided Ex 3\n",
    "data = np.array([5,5,5,6,7,8])\n",
    "\n",
    "print(f'mean: {data.mean()}')\n",
    "\n",
    "print(f'sample var: {data.var(ddof=1)}')\n",
    "\n",
    "print(f'sample st dev: {data.std(ddof=1)}')\n",
    "\n",
    "dotplot(data)"
   ]
  },
  {
   "cell_type": "code",
   "execution_count": 31,
   "metadata": {},
   "outputs": [
    {
     "name": "stdout",
     "output_type": "stream",
     "text": [
      "range: 0.75\n",
      "mu: 2.14375\n",
      "sigma: 0.21713690957550263\n",
      "CV: 0.10128835432093418\n"
     ]
    },
    {
     "data": {
      "image/png": "[encoded data removed]",
      "text/plain": [
       "<Figure size 1080x144 with 1 Axes>"
      ]
     },
     "metadata": {
      "needs_background": "light"
     },
     "output_type": "display_data"
    }
   ],
   "source": [
    "# Ex 7\n",
    "data = np.array([2.1,1.95,2.6,2,1.85,2.25,2.15,2.25])\n",
    "print(f'range: {data.max()-data.min()}')\n",
    "print(f'mu: {data.mean()}')\n",
    "print(f'sigma: {data.std()}')\n",
    "print(f'CV: {data.std()/data.mean()}')\n",
    "dotplot(data)"
   ]
  },
  {
   "cell_type": "code",
   "execution_count": 32,
   "metadata": {},
   "outputs": [
    {
     "name": "stdout",
     "output_type": "stream",
     "text": [
      "range: 1.7\n",
      "mu: 1.8699999999999997\n",
      "sigma: 0.589576118919347\n",
      "CV: 0.31528134701569366\n"
     ]
    },
    {
     "data": {
      "image/png": "[encoded data removed]",
      "text/plain": [
       "<Figure size 1080x144 with 1 Axes>"
      ]
     },
     "metadata": {
      "needs_background": "light"
     },
     "output_type": "display_data"
    }
   ],
   "source": [
    "# Guided Ex 4\n",
    "data = np.array([1.69,1.49,3.09,1.79,1.39,2.89,1.49,1.39,1.49,1.99])\n",
    "print(f'range: {data.max()-data.min()}')\n",
    "print(f'mu: {data.mean()}')\n",
    "print(f'sigma: {data.std()}')\n",
    "print(f'CV: {data.std()/data.mean()}')\n",
    "dotplot(data)"
   ]
  },
  {
   "cell_type": "code",
   "execution_count": 33,
   "metadata": {},
   "outputs": [
    {
     "data": {
      "image/png": "[encoded data removed]",
      "text/plain": [
       "<Figure size 432x288 with 1 Axes>"
      ]
     },
     "metadata": {
      "needs_background": "light"
     },
     "output_type": "display_data"
    }
   ],
   "source": [
    "x = np.linspace(1,10)\n",
    "y = chebyshev(x)\n",
    "plt.plot(x,y)\n",
    "plt.grid()\n",
    "for x in range(2, 6):\n",
    "    y = chebyshev(x)\n",
    "    plt.axhline(y, color = 'r', linestyle = '-')\n",
    "plt.show()"
   ]
  },
  {
   "cell_type": "code",
   "execution_count": 34,
   "metadata": {},
   "outputs": [
    {
     "name": "stdout",
     "output_type": "stream",
     "text": [
      "25.700, 32.500\n"
     ]
    }
   ],
   "source": [
    "# Ex 8\n",
    "k = 2\n",
    "m = 29.1\n",
    "s = 1.7\n",
    "\n",
    "print(f'{m - k * s:.3f}, {m + k * s:.3f}')"
   ]
  },
  {
   "cell_type": "code",
   "execution_count": 35,
   "metadata": {},
   "outputs": [
    {
     "name": "stdout",
     "output_type": "stream",
     "text": [
      "interval(k=3.0015011259383213): 434.955, 615.045\n"
     ]
    }
   ],
   "source": [
    "# Guided EX 5\n",
    "p = .889\n",
    "m = 525\n",
    "s = 30\n",
    "k, i = chebyshev_int(p, m, s)\n"
   ]
  },
  {
   "cell_type": "markdown",
   "metadata": {},
   "source": [
    "### Section 3.2 Problems"
   ]
  },
  {
   "cell_type": "code",
   "execution_count": 36,
   "metadata": {},
   "outputs": [
    {
     "name": "stdout",
     "output_type": "stream",
     "text": [
      "range: 4\n",
      "mu: 4.0\n",
      "s: 1.5811388300841898\n",
      "sigma: 1.4142135623730951\n"
     ]
    },
    {
     "data": {
      "image/png": "[encoded data removed]",
      "text/plain": [
       "<Figure size 1080x144 with 1 Axes>"
      ]
     },
     "metadata": {
      "needs_background": "light"
     },
     "output_type": "display_data"
    }
   ],
   "source": [
    "# Sec 3.2 Problem 5\n",
    "data = np.array(range(2,7))\n",
    "print(f'range: {data.max()-data.min()}')\n",
    "print(f'mu: {data.mean()}')\n",
    "print(f's: {data.std(ddof=1)}')\n",
    "print(f'sigma: {data.std()}')\n",
    "dotplot(data)"
   ]
  },
  {
   "cell_type": "code",
   "execution_count": 37,
   "metadata": {},
   "outputs": [
    {
     "name": "stdout",
     "output_type": "stream",
     "text": [
      "range: 4\n",
      "mu: 3.0\n",
      "s: 1.5811388300841898\n",
      "sigma: 1.4142135623730951\n"
     ]
    },
    {
     "data": {
      "image/png": "[encoded data removed]",
      "text/plain": [
       "<Figure size 1080x144 with 1 Axes>"
      ]
     },
     "metadata": {
      "needs_background": "light"
     },
     "output_type": "display_data"
    }
   ],
   "source": [
    "# Sec 3.2 Problem 6\n",
    "data = np.array(range(1,6))\n",
    "print(f'range: {data.max()-data.min()}')\n",
    "print(f'mu: {data.mean()}')\n",
    "print(f's: {data.std(ddof=1)}')\n",
    "print(f'sigma: {data.std()}')\n",
    "dotplot(data)"
   ]
  },
  {
   "cell_type": "code",
   "execution_count": 38,
   "metadata": {},
   "outputs": [
    {
     "name": "stdout",
     "output_type": "stream",
     "text": [
      "data: [ 8  9 10 11 12]\n",
      "range: 4\n",
      "mu: 10.0\n",
      "s: 1.5811388300841898\n",
      "sigma: 1.4142135623730951\n"
     ]
    },
    {
     "data": {
      "image/png": "[encoded data removed]",
      "text/plain": [
       "<Figure size 1080x144 with 1 Axes>"
      ]
     },
     "metadata": {
      "needs_background": "light"
     },
     "output_type": "display_data"
    },
    {
     "name": "stdout",
     "output_type": "stream",
     "text": [
      "data: [ 7  9 10 11 13]\n",
      "range: 6\n",
      "mu: 10.0\n",
      "s: 2.23606797749979\n",
      "sigma: 2.0\n"
     ]
    },
    {
     "data": {
      "image/png": "[encoded data removed]",
      "text/plain": [
       "<Figure size 1080x144 with 1 Axes>"
      ]
     },
     "metadata": {
      "needs_background": "light"
     },
     "output_type": "display_data"
    },
    {
     "name": "stdout",
     "output_type": "stream",
     "text": [
      "data: [ 7  8 10 12 13]\n",
      "range: 6\n",
      "mu: 10.0\n",
      "s: 2.5495097567963922\n",
      "sigma: 2.280350850198276\n"
     ]
    },
    {
     "data": {
      "image/png": "[encoded data removed]",
      "text/plain": [
       "<Figure size 1080x144 with 1 Axes>"
      ]
     },
     "metadata": {
      "needs_background": "light"
     },
     "output_type": "display_data"
    }
   ],
   "source": [
    "# Sec 3.2 Problem 9\n",
    "datas = [[8,9,10,11,12],[7,9,10,11,13],[7,8,10,12,13]]\n",
    "for d in datas:\n",
    "    data = np.array(d)\n",
    "    print(f'data: {data}')\n",
    "    print(f'range: {data.max()-data.min()}')\n",
    "    print(f'mu: {data.mean()}')\n",
    "    print(f's: {data.std(ddof=1)}')\n",
    "    print(f'sigma: {data.std()}')\n",
    "    dotplot(data)"
   ]
  },
  {
   "cell_type": "code",
   "execution_count": 39,
   "metadata": {},
   "outputs": [
    {
     "name": "stdout",
     "output_type": "stream",
     "text": [
      "data: [ 5  9 10 11 15]\n",
      "range: 10\n",
      "mu: 10.0\n",
      "s: 3.605551275463989\n",
      "sigma: 3.22490309931942\n"
     ]
    },
    {
     "data": {
      "image/png": "[encoded data removed]",
      "text/plain": [
       "<Figure size 1080x144 with 1 Axes>"
      ]
     },
     "metadata": {
      "needs_background": "light"
     },
     "output_type": "display_data"
    },
    {
     "name": "stdout",
     "output_type": "stream",
     "text": [
      "data: [10 14 15 16 20]\n",
      "range: 10\n",
      "mu: 15.0\n",
      "s: 3.605551275463989\n",
      "sigma: 3.22490309931942\n"
     ]
    },
    {
     "data": {
      "image/png": "[encoded data removed]",
      "text/plain": [
       "<Figure size 1080x144 with 1 Axes>"
      ]
     },
     "metadata": {
      "needs_background": "light"
     },
     "output_type": "display_data"
    }
   ],
   "source": [
    "# Sec 3.2 Problem 10\n",
    "data = np.array([5,9,10,11,15])\n",
    "for _ in range(2):\n",
    "    print(f'data: {data}')\n",
    "    print(f'range: {data.max()-data.min()}')\n",
    "    print(f'mu: {data.mean()}')\n",
    "    print(f's: {data.std(ddof=1)}')\n",
    "    print(f'sigma: {data.std()}')\n",
    "    dotplot(data)\n",
    "    data += 5"
   ]
  },
  {
   "cell_type": "code",
   "execution_count": 40,
   "metadata": {},
   "outputs": [
    {
     "name": "stdout",
     "output_type": "stream",
     "text": [
      "data: [ 5  9 10 11 15]\n",
      "range: 10\n",
      "mu: 10.0\n",
      "s: 3.605551275463989\n",
      "sigma: 3.22490309931942\n"
     ]
    },
    {
     "data": {
      "image/png": "[encoded data removed]",
      "text/plain": [
       "<Figure size 1080x144 with 1 Axes>"
      ]
     },
     "metadata": {
      "needs_background": "light"
     },
     "output_type": "display_data"
    },
    {
     "name": "stdout",
     "output_type": "stream",
     "text": [
      "data: [25 45 50 55 75]\n",
      "range: 50\n",
      "mu: 50.0\n",
      "s: 18.027756377319946\n",
      "sigma: 16.1245154965971\n"
     ]
    },
    {
     "data": {
      "image/png": "[encoded data removed]",
      "text/plain": [
       "<Figure size 1080x144 with 1 Axes>"
      ]
     },
     "metadata": {
      "needs_background": "light"
     },
     "output_type": "display_data"
    }
   ],
   "source": [
    "# Sec 3.2 Problem 11\n",
    "data = np.array([5,9,10,11,15])\n",
    "for _ in range(2):\n",
    "    print(f'data: {data}')\n",
    "    print(f'range: {data.max()-data.min()}')\n",
    "    print(f'mu: {data.mean()}')\n",
    "    print(f's: {data.std(ddof=1)}')\n",
    "    print(f'sigma: {data.std()}')\n",
    "    dotplot(data)\n",
    "    data *= 5"
   ]
  },
  {
   "cell_type": "code",
   "execution_count": 41,
   "metadata": {},
   "outputs": [
    {
     "name": "stdout",
     "output_type": "stream",
     "text": [
      "2.0\n",
      "3.3333333333333335\n"
     ]
    }
   ],
   "source": [
    "# Sec 3.2 Problem 12\n",
    "# (x - mu) / stdev\n",
    "print((80 - 70) / 5)\n",
    "print((80 - 70) / 3)\n"
   ]
  },
  {
   "cell_type": "code",
   "execution_count": 42,
   "metadata": {},
   "outputs": [
    {
     "name": "stdout",
     "output_type": "stream",
     "text": [
      "range: 15\n",
      "x_bar: 22.0\n",
      "s2: 37.0\n",
      "s: 6.082762530298219\n",
      "sigma2: 29.6\n",
      "sigma: 5.440588203494177\n"
     ]
    },
    {
     "data": {
      "image/png": "[encoded data removed]",
      "text/plain": [
       "<Figure size 1080x144 with 1 Axes>"
      ]
     },
     "metadata": {
      "needs_background": "light"
     },
     "output_type": "display_data"
    },
    {
     "data": {
      "text/plain": [
       "(110, 2568)"
      ]
     },
     "execution_count": 42,
     "metadata": {},
     "output_type": "execute_result"
    }
   ],
   "source": [
    "# Sec 3.2 Problem 13\n",
    "data = pd.read_excel(os.path.join(PATH, 'Prob0302_13.xls'))['x:']\n",
    "print(f'range: {data.max() - data.min()}')\n",
    "print(f'x_bar: {data.mean()}')\n",
    "print(f's2: {data.var(ddof=1)}')\n",
    "print(f's: {data.std(ddof=1)}')\n",
    "print(f'sigma2: {data.var(ddof=0)}')\n",
    "print(f'sigma: {data.std(ddof=0)}')\n",
    "dotplot(data)\n",
    "data.sum(), (data ** 2).sum()"
   ]
  },
  {
   "cell_type": "code",
   "execution_count": 43,
   "metadata": {},
   "outputs": [
    {
     "name": "stdout",
     "output_type": "stream",
     "text": [
      "CV: 20.0%\n",
      "interval(k=2.0): 9.000, 21.000\n"
     ]
    }
   ],
   "source": [
    "# Sec 3.2 Problem 14\n",
    "x_bar = 15\n",
    "s = 3\n",
    "cv = s / x_bar\n",
    "print(f'CV: {cv:.1%}')\n",
    "p = .75\n",
    "k, i = chebyshev_int(p, x_bar, s)\n"
   ]
  },
  {
   "cell_type": "code",
   "execution_count": 44,
   "metadata": {},
   "outputs": [
    {
     "name": "stdout",
     "output_type": "stream",
     "text": [
      "CV: 10.0%\n",
      "interval(k=3.0015011259383213): 13.997, 26.003\n"
     ]
    }
   ],
   "source": [
    "# Sec 3.2 Problem 15\n",
    "mu = 20\n",
    "sigma = 2\n",
    "cv = sigma / mu\n",
    "print(f'CV: {cv:.1%}')\n",
    "p = .889\n",
    "k, i = chebyshev_int(p, mu, sigma)\n"
   ]
  },
  {
   "cell_type": "code",
   "execution_count": 45,
   "metadata": {},
   "outputs": [
    {
     "name": "stdout",
     "output_type": "stream",
     "text": [
      "x_bar: 10.3\n",
      "s2: 394.0111111111112\n",
      "s: 19.84971312415147\n",
      "interval(k=2.0): -29.399, 49.999\n",
      "CV: 192.7%\n"
     ]
    },
    {
     "data": {
      "image/png": "[encoded data removed]",
      "text/plain": [
       "<Figure size 1080x144 with 1 Axes>"
      ]
     },
     "metadata": {
      "needs_background": "light"
     },
     "output_type": "display_data"
    },
    {
     "name": "stdout",
     "output_type": "stream",
     "text": [
      "x_bar: 9.0\n",
      "s2: 160.88888888888889\n",
      "s: 12.684198393626966\n",
      "interval(k=2.0): -16.368, 34.368\n",
      "CV: 140.9%\n"
     ]
    },
    {
     "data": {
      "image/png": "[encoded data removed]",
      "text/plain": [
       "<Figure size 1080x144 with 1 Axes>"
      ]
     },
     "metadata": {
      "needs_background": "light"
     },
     "output_type": "display_data"
    }
   ],
   "source": [
    "# Sec 3.2 Problem 16\n",
    "data_x = pd.read_excel(os.path.join(PATH, 'Prob0302_16.xls'))['x:']\n",
    "data_y = pd.read_excel(os.path.join(PATH, 'Prob0302_16.xls'))['y:']\n",
    "p = .75\n",
    "for data in [data_x, data_y]:\n",
    "    m = data.mean()\n",
    "    print(f'x_bar: {m}')\n",
    "    print(f's2: {data.var(ddof=1)}')\n",
    "    s = data.std(ddof=1)\n",
    "    print(f's: {s}')\n",
    "    chebyshev_int(p, m, s)\n",
    "    cv = s / m\n",
    "    print(f'CV: {cv:.1%}')\n",
    "    dotplot(data)\n"
   ]
  },
  {
   "cell_type": "code",
   "execution_count": 46,
   "metadata": {},
   "outputs": [
    {
     "name": "stdout",
     "output_type": "stream",
     "text": [
      "range: 7.87\n",
      "x_bar: 1.2421999999999997\n",
      "s2: 1.7770583265306126\n",
      "s: 1.3330635118142768\n",
      "CV: 107.3%\n"
     ]
    },
    {
     "data": {
      "image/png": "[encoded data removed]",
      "text/plain": [
       "<Figure size 1080x144 with 1 Axes>"
      ]
     },
     "metadata": {
      "needs_background": "light"
     },
     "output_type": "display_data"
    },
    {
     "data": {
      "text/plain": [
       "(62.10999999999999, 164.2289)"
      ]
     },
     "execution_count": 46,
     "metadata": {},
     "output_type": "execute_result"
    }
   ],
   "source": [
    "# Sec 3.2 Problem 17\n",
    "data = pd.read_excel(os.path.join(PATH, 'Prob0302_17.xls'))['time_(hours)']\n",
    "print(f'range: {data.max() - data.min()}')\n",
    "m = data.mean()\n",
    "print(f'x_bar: {m}')\n",
    "print(f's2: {data.var(ddof=1)}')\n",
    "s = data.std(ddof=1)\n",
    "print(f's: {s}')\n",
    "cv = s / m\n",
    "print(f'CV: {cv:.1%}')\n",
    "dotplot(data.round(1))\n",
    "data.sum(), (data ** 2).sum()"
   ]
  },
  {
   "cell_type": "code",
   "execution_count": 47,
   "metadata": {},
   "outputs": [
    {
     "name": "stdout",
     "output_type": "stream",
     "text": [
      "x_bar: 20.354\n",
      "s2: 95.927\n",
      "s: 9.794\n",
      "interval(k=2.0): 0.765, 39.942\n",
      "CV: 48.1%\n"
     ]
    },
    {
     "data": {
      "image/png": "[encoded data removed]",
      "text/plain": [
       "<Figure size 1080x144 with 1 Axes>"
      ]
     },
     "metadata": {
      "needs_background": "light"
     },
     "output_type": "display_data"
    },
    {
     "name": "stdout",
     "output_type": "stream",
     "text": [
      "x_bar: 28.100\n",
      "s2: 194.153\n",
      "s: 13.934\n",
      "interval(k=2.0): 0.232, 55.968\n",
      "CV: 49.6%\n"
     ]
    },
    {
     "data": {
      "image/png": "[encoded data removed]",
      "text/plain": [
       "<Figure size 1080x144 with 1 Axes>"
      ]
     },
     "metadata": {
      "needs_background": "light"
     },
     "output_type": "display_data"
    }
   ],
   "source": [
    "# Sec 3.2 Problem 18\n",
    "data_x = pd.read_excel(os.path.join(PATH, 'Prob0302_18.xls'))['x']\n",
    "data_y = pd.read_excel(os.path.join(PATH, 'Prob0302_18.xls'))['y']\n",
    "p = .75\n",
    "for data in [data_x, data_y]:\n",
    "    m = data.mean()\n",
    "    print(f'x_bar: {m:.3f}')\n",
    "    print(f's2: {data.var(ddof=1):.3f}')\n",
    "    s = data.std(ddof=1)\n",
    "    print(f's: {s:.3f}')\n",
    "    chebyshev_int(p, m, s)\n",
    "    cv = s / m\n",
    "    print(f'CV: {cv:.1%}')\n",
    "    dotplot(data.round())\n"
   ]
  },
  {
   "cell_type": "code",
   "execution_count": 48,
   "metadata": {},
   "outputs": [
    {
     "data": {
      "text/plain": [
       "array([56, 85, 52, 13, 39])"
      ]
     },
     "metadata": {},
     "output_type": "display_data"
    },
    {
     "name": "stdout",
     "output_type": "stream",
     "text": [
      "x_bar: 49.000\n",
      "s2: 687.500\n",
      "s: 26.220\n",
      "CV: 53.5%\n"
     ]
    },
    {
     "data": {
      "image/png": "[encoded data removed]",
      "text/plain": [
       "<Figure size 1080x144 with 1 Axes>"
      ]
     },
     "metadata": {
      "needs_background": "light"
     },
     "output_type": "display_data"
    },
    {
     "data": {
      "text/plain": [
       "array([24, 53, 60, 69, 18])"
      ]
     },
     "metadata": {},
     "output_type": "display_data"
    },
    {
     "name": "stdout",
     "output_type": "stream",
     "text": [
      "x_bar: 44.800\n",
      "s2: 508.700\n",
      "s: 22.554\n",
      "CV: 50.3%\n"
     ]
    },
    {
     "data": {
      "image/png": "[encoded data removed]",
      "text/plain": [
       "<Figure size 1080x144 with 1 Axes>"
      ]
     },
     "metadata": {
      "needs_background": "light"
     },
     "output_type": "display_data"
    }
   ],
   "source": [
    "# Sec 3.2 Problem 19\n",
    "data_x = pd.read_excel(os.path.join(PATH, 'Prob0302_19.xls'))['x']\n",
    "data_y = pd.read_excel(os.path.join(PATH, 'Prob0302_19.xls'))['y']\n",
    "# p = .75\n",
    "for data in [data_x, data_y]:\n",
    "    display(data.to_numpy())\n",
    "    m = data.mean()\n",
    "    print(f'x_bar: {m:.3f}')\n",
    "    print(f's2: {data.var(ddof=1):.3f}')\n",
    "    s = data.std(ddof=1)\n",
    "    print(f's: {s:.3f}')\n",
    "#     chebyshev_int(p, m, s)\n",
    "    cv = s / m\n",
    "    print(f'CV: {cv:.1%}')\n",
    "    dotplot(data.round())\n"
   ]
  },
  {
   "cell_type": "code",
   "execution_count": 49,
   "metadata": {},
   "outputs": [
    {
     "name": "stdout",
     "output_type": "stream",
     "text": [
      "\n",
      "CV: 146.7%\n",
      "interval(k=2.0): -18.520, 37.680\n",
      "\n",
      "CV: 138.6%\n",
      "interval(k=2.0): -15.980, 34.020\n"
     ]
    }
   ],
   "source": [
    "# Sec 3.2 Problem 20\n",
    "datas = [[9.58,14.05],[9.02,12.50]]\n",
    "for m, s in datas:\n",
    "    cv = s / m\n",
    "    print(f'\\nCV: {cv:.1%}')\n",
    "    p = 0.75\n",
    "    chebyshev_int(p, m, s)\n",
    "    "
   ]
  },
  {
   "cell_type": "code",
   "execution_count": 50,
   "metadata": {},
   "outputs": [
    {
     "name": "stdout",
     "output_type": "stream",
     "text": [
      "s: 0.033\n"
     ]
    }
   ],
   "source": [
    "# Sec 3.2 Problem 20\n",
    "m = 2.2\n",
    "cv = 0.015\n",
    "s = cv * m\n",
    "print(f's: {s}')"
   ]
  },
  {
   "cell_type": "code",
   "execution_count": 51,
   "metadata": {},
   "outputs": [
    {
     "name": "stdout",
     "output_type": "stream",
     "text": [
      "x_bar: 16.125\n",
      "s2: 119.858\n",
      "s: 10.948\n"
     ]
    }
   ],
   "source": [
    "# Sec 3.2 Problem 22\n",
    "# Grouped Data\n",
    "freq = pd.read_excel(os.path.join(PATH, 'Prob0302_22.xls'))['individuals']\n",
    "midpts = np.array([5.5, 15.5, 25.5, 35.5])\n",
    "\n",
    "c = []\n",
    "for i in range(freq.size):\n",
    "    c.extend([midpts[i]] * freq[i])\n",
    "data = np.array(c)\n",
    "\n",
    "m = data.mean()\n",
    "print(f'x_bar: {m:.3f}')\n",
    "print(f's2: {data.var(ddof=1):.3f}')\n",
    "s = data.std(ddof=1)\n",
    "print(f's: {s:.3f}')\n"
   ]
  },
  {
   "cell_type": "code",
   "execution_count": 52,
   "metadata": {},
   "outputs": [
    {
     "name": "stdout",
     "output_type": "stream",
     "text": [
      "x_bar: 9.450\n",
      "s2: 91.638\n",
      "s: 9.573\n",
      "x_bar, ma: 10.684\n",
      "s, ma: 4.535\n"
     ]
    },
    {
     "data": {
      "text/html": [
       "<div>\n",
       "<style scoped>\n",
       "    .dataframe tbody tr th:only-of-type {\n",
       "        vertical-align: middle;\n",
       "    }\n",
       "\n",
       "    .dataframe tbody tr th {\n",
       "        vertical-align: top;\n",
       "    }\n",
       "\n",
       "    .dataframe thead th {\n",
       "        text-align: right;\n",
       "    }\n",
       "</style>\n",
       "<table border=\"1\" class=\"dataframe\">\n",
       "  <thead>\n",
       "    <tr style=\"text-align: right;\">\n",
       "      <th></th>\n",
       "      <th>Year</th>\n",
       "      <th>%_Return</th>\n",
       "      <th>ma_3</th>\n",
       "    </tr>\n",
       "  </thead>\n",
       "  <tbody>\n",
       "    <tr>\n",
       "      <th>0</th>\n",
       "      <td>1990</td>\n",
       "      <td>1.78</td>\n",
       "      <td>NaN</td>\n",
       "    </tr>\n",
       "    <tr>\n",
       "      <th>1</th>\n",
       "      <td>1991</td>\n",
       "      <td>17.79</td>\n",
       "      <td>NaN</td>\n",
       "    </tr>\n",
       "    <tr>\n",
       "      <th>2</th>\n",
       "      <td>1992</td>\n",
       "      <td>7.46</td>\n",
       "      <td>9.010000</td>\n",
       "    </tr>\n",
       "    <tr>\n",
       "      <th>3</th>\n",
       "      <td>1993</td>\n",
       "      <td>5.95</td>\n",
       "      <td>10.400000</td>\n",
       "    </tr>\n",
       "    <tr>\n",
       "      <th>4</th>\n",
       "      <td>1994</td>\n",
       "      <td>-4.74</td>\n",
       "      <td>2.890000</td>\n",
       "    </tr>\n",
       "    <tr>\n",
       "      <th>5</th>\n",
       "      <td>1995</td>\n",
       "      <td>25.85</td>\n",
       "      <td>9.020000</td>\n",
       "    </tr>\n",
       "    <tr>\n",
       "      <th>6</th>\n",
       "      <td>1996</td>\n",
       "      <td>9.03</td>\n",
       "      <td>10.046667</td>\n",
       "    </tr>\n",
       "    <tr>\n",
       "      <th>7</th>\n",
       "      <td>1997</td>\n",
       "      <td>18.92</td>\n",
       "      <td>17.933333</td>\n",
       "    </tr>\n",
       "    <tr>\n",
       "      <th>8</th>\n",
       "      <td>1998</td>\n",
       "      <td>17.49</td>\n",
       "      <td>15.146667</td>\n",
       "    </tr>\n",
       "    <tr>\n",
       "      <th>9</th>\n",
       "      <td>1999</td>\n",
       "      <td>6.80</td>\n",
       "      <td>14.403333</td>\n",
       "    </tr>\n",
       "    <tr>\n",
       "      <th>10</th>\n",
       "      <td>2000</td>\n",
       "      <td>-2.38</td>\n",
       "      <td>7.303333</td>\n",
       "    </tr>\n",
       "  </tbody>\n",
       "</table>\n",
       "</div>"
      ],
      "text/plain": [
       "    Year  %_Return       ma_3\n",
       "0   1990      1.78        NaN\n",
       "1   1991     17.79        NaN\n",
       "2   1992      7.46   9.010000\n",
       "3   1993      5.95  10.400000\n",
       "4   1994     -4.74   2.890000\n",
       "5   1995     25.85   9.020000\n",
       "6   1996      9.03  10.046667\n",
       "7   1997     18.92  17.933333\n",
       "8   1998     17.49  15.146667\n",
       "9   1999      6.80  14.403333\n",
       "10  2000     -2.38   7.303333"
      ]
     },
     "execution_count": 52,
     "metadata": {},
     "output_type": "execute_result"
    }
   ],
   "source": [
    "# Sec 3.2 Problem 26\n",
    "# Moving Averages\n",
    "data = pd.read_excel(os.path.join(PATH, 'Prob0302_26a.xls'))\n",
    "data['ma_3'] = data['%_Return'].rolling(window=3).mean()\n",
    "\n",
    "m = data['%_Return'].mean()\n",
    "print(f'x_bar: {m:.3f}')\n",
    "v = data['%_Return'].var(ddof=1)\n",
    "print(f's2: {v:.3f}')\n",
    "s = data['%_Return'].std(ddof=1)\n",
    "print(f's: {s:.3f}')\n",
    "\n",
    "m_ma = data['ma_3'].mean()\n",
    "print(f'x_bar, ma: {m_ma:.3f}')\n",
    "s_ma = data['ma_3'].std(ddof=1)\n",
    "print(f's, ma: {s_ma:.3f}')\n",
    "\n",
    "data"
   ]
  },
  {
   "cell_type": "code",
   "execution_count": 53,
   "metadata": {},
   "outputs": [
    {
     "name": "stdout",
     "output_type": "stream",
     "text": [
      "n: [10. 56. 34.]\n",
      "n, total: 100.0\n",
      "mu: 103.200\n"
     ]
    }
   ],
   "source": [
    "# Sec 3.2 Problem 28\n",
    "# Stratified Sampling w/ preliminary sample standard deviation\n",
    "m = 100\n",
    "N = np.array((310, 420, 516))\n",
    "s = np.array((3, 12, 6))\n",
    "Ns = N * s\n",
    "n = (m * Ns / Ns.sum()).round()\n",
    "print(f'n: {n}')\n",
    "print(f'n, total: {n.sum()}')\n",
    "x_bar = np.array((82, 115, 90))\n",
    "mu = (n * x_bar / m).sum()\n",
    "print(f'mu: {mu:.3f}')"
   ]
  },
  {
   "cell_type": "code",
   "execution_count": 54,
   "metadata": {},
   "outputs": [
    {
     "name": "stdout",
     "output_type": "stream",
     "text": [
      "n: [ 59.  23. 168.]\n",
      "n, total: 250.0\n",
      "mu: 7.460\n"
     ]
    }
   ],
   "source": [
    "# Sec 3.2 Problem 29\n",
    "# Stratified Sampling w/ preliminary sample standard deviation\n",
    "m = 250\n",
    "N = np.array([1525, 917, 2890])\n",
    "s = np.array([2.2, 1.4, 3.3])\n",
    "Ns = N * s\n",
    "n = (m * Ns / Ns.sum()).round()\n",
    "print(f'n: {n}')\n",
    "print(f'n, total: {n.sum()}')\n",
    "x_bar = np.array([6.2, 3.1, 8.5])\n",
    "mu = (n * x_bar / m).sum()\n",
    "print(f'mu: {mu:.3f}')"
   ]
  },
  {
   "cell_type": "code",
   "execution_count": 55,
   "metadata": {},
   "outputs": [
    {
     "name": "stdout",
     "output_type": "stream",
     "text": [
      "n: [34. 69. 47.]\n",
      "n, total: 150.0\n",
      "mu: 88.433\n"
     ]
    }
   ],
   "source": [
    "# Sec 3.2 Problem 30\n",
    "# Stratified Sampling w/ proportional (representative) sampling\n",
    "m = 150\n",
    "N = np.array([183, 371, 255])\n",
    "n = (m * N / N.sum()).round()\n",
    "print(f'n: {n}')\n",
    "print(f'n, total: {n.sum()}')\n",
    "x_bar = np.array([96, 85, 88])\n",
    "mu = (n * x_bar / m).sum()\n",
    "print(f'mu: {mu:.3f}')"
   ]
  },
  {
   "cell_type": "markdown",
   "metadata": {},
   "source": [
    "## Section 3.3 Percentiles and Box-and-Whisker Plots\n",
    "\n",
    "---\n",
    "\n",
    "### Percentile\n",
    "\n",
    "For whole numbers, $P$ (where $1 \\le P \\le 99$ ), the $Pth$ __percentile__ of a distribution is a value such that the $P\\%$ of the data fall at or below it and $(100 - P)\\%$ of the data fall at or above it.\n",
    "\n",
    "`np.percentile(data, q)` \n",
    "> where:\n",
    ">> __q : array_like of float__ in the range \\[0, 100\\].\n",
    "\n",
    "---\n",
    "\n",
    "### Quartile\n",
    "\n",
    "`np.quantile(data, q)` where __q : array_like of float__ in the range \\[0, 1\\].\n",
    "\n",
    "---\n",
    "\n",
    "### Interquartile range (IQR)\n",
    "\n",
    "The difference between the third ansd first quartile.\n",
    "\n",
    "---\n",
    "\n",
    "### Five-number summary\n",
    "\n",
    "Lowest value, $Q_1$, median, $Q_3$, highest value\n",
    "\n",
    "---\n"
   ]
  },
  {
   "cell_type": "code",
   "execution_count": 56,
   "metadata": {},
   "outputs": [
    {
     "data": {
      "text/plain": [
       "array([0.64 , 0.8  , 1.295])"
      ]
     },
     "execution_count": 56,
     "metadata": {},
     "output_type": "execute_result"
    }
   ],
   "source": [
    "# Sec 3.3 Ex 9\n",
    "d = '''\n",
    "    1.29 1.37 1.30 0.80 0.67 1.33 1.37 1.37 \n",
    "    1.27 0.93 0.63 0.80 1.27 1.38 0.77 1.14 \n",
    "    1.53 0.55 0.80 0.70 0.63 0.65 0.47 0.68 \n",
    "    0.50 0.48 0.46\n",
    "'''\n",
    "\n",
    "data = np.array(list(map(float, d.split())))\n",
    "data.sort()\n",
    "q = [0.25, 0.50, 0.75]\n",
    "np.quantile(data, q)"
   ]
  },
  {
   "cell_type": "code",
   "execution_count": 57,
   "metadata": {},
   "outputs": [
    {
     "name": "stdout",
     "output_type": "stream",
     "text": [
      "[0.46 0.47 0.48 0.5  0.55 0.63]\n",
      "0.63\n",
      "[0.65 0.67 0.68 0.7  0.77 0.8 ]\n",
      "0.8\n",
      "[0.8  0.93 1.14 1.27 1.27 1.29]\n",
      "1.3\n",
      "[1.33 1.37 1.37 1.37 1.38 1.53]\n"
     ]
    }
   ],
   "source": [
    "print(data[:6])\n",
    "print(data[6])\n",
    "print(data[7:13])\n",
    "print(data[13])\n",
    "print(data[14:20])\n",
    "print(data[20])\n",
    "print(data[21:])\n"
   ]
  },
  {
   "cell_type": "code",
   "execution_count": 58,
   "metadata": {},
   "outputs": [
    {
     "name": "stdout",
     "output_type": "stream",
     "text": [
      "linear     0.640  0.800  1.295\n",
      "lower      0.630  0.800  1.290\n",
      "higher     0.650  0.800  1.300\n",
      "midpoint   0.640  0.800  1.295\n",
      "nearest    0.630  0.800  1.300\n"
     ]
    }
   ],
   "source": [
    "interp = ['linear', 'lower', 'higher', 'midpoint', 'nearest']\n",
    "for i in interp:\n",
    "    p = np.percentile(data, [25,50,75], interpolation=i)\n",
    "    s = '  '.join([f'{n:.3f}' for n in p])\n",
    "    print(f'{i:9}  {s}')"
   ]
  },
  {
   "cell_type": "code",
   "execution_count": 59,
   "metadata": {},
   "outputs": [
    {
     "name": "stdout",
     "output_type": "stream",
     "text": [
      "linear     0.640  0.800  1.295\n",
      "lower      0.630  0.800  1.290\n",
      "higher     0.650  0.800  1.300\n",
      "midpoint   0.640  0.800  1.295\n",
      "nearest    0.630  0.800  1.300\n"
     ]
    }
   ],
   "source": [
    "interp = ['linear', 'lower', 'higher', 'midpoint', 'nearest']\n",
    "for i in interp:\n",
    "    p = np.quantile(data, [.25,.50,.75], interpolation=i)\n",
    "    s = '  '.join([f'{n:.3f}' for n in p])\n",
    "    print(f'{i:9}  {s}')"
   ]
  },
  {
   "cell_type": "code",
   "execution_count": 60,
   "metadata": {},
   "outputs": [
    {
     "data": {
      "text/plain": [
       "array([111, 131, 147, 151, 151, 182, 182, 190, 197, 201, 209, 234, 286,\n",
       "       294, 295, 310, 319, 342, 353, 377, 377, 439])"
      ]
     },
     "metadata": {},
     "output_type": "display_data"
    },
    {
     "name": "stdout",
     "output_type": "stream",
     "text": [
      "Q_1: 182.0, Q_2: 221.5, Q_3: 316.75\n",
      "IQR: 134.75\n"
     ]
    },
    {
     "data": {
      "text/plain": [
       "221.5"
      ]
     },
     "execution_count": 60,
     "metadata": {},
     "output_type": "execute_result"
    }
   ],
   "source": [
    "# Sec 3.3 Guided Ex 7\n",
    "df = pd.read_excel(os.path.join(PATH, 'Table0306.xls'))\n",
    "data = df['Calories'].to_numpy()\n",
    "data.sort()\n",
    "display(data)\n",
    "q = [0.25, 0.50, 0.75]\n",
    "q1, q2, q3 = np.quantile(data, q)\n",
    "print(f'Q_1: {q1}, Q_2: {q2}, Q_3: {q3}')\n",
    "iqr = interquartile(data)\n",
    "print(f'IQR: {iqr}')\n",
    "np.median(data)"
   ]
  },
  {
   "cell_type": "code",
   "execution_count": 61,
   "metadata": {},
   "outputs": [
    {
     "name": "stdout",
     "output_type": "stream",
     "text": [
      "linear     182.000  221.500  316.750\n",
      "lower      182.000  209.000  310.000\n",
      "higher     182.000  234.000  319.000\n",
      "midpoint   182.000  221.500  314.500\n",
      "nearest    182.000  209.000  319.000\n"
     ]
    }
   ],
   "source": [
    "interp = ['linear', 'lower', 'higher', 'midpoint', 'nearest']\n",
    "for i in interp:\n",
    "    p = np.quantile(data, [.25,.50,.75], interpolation=i)\n",
    "    s = '  '.join([f'{n:.3f}' for n in p])\n",
    "    print(f'{i:9}  {s}')"
   ]
  },
  {
   "cell_type": "code",
   "execution_count": 62,
   "metadata": {},
   "outputs": [
    {
     "data": {
      "text/plain": [
       "134.75"
      ]
     },
     "execution_count": 62,
     "metadata": {},
     "output_type": "execute_result"
    }
   ],
   "source": [
    "interquartile(data)"
   ]
  },
  {
   "cell_type": "code",
   "execution_count": 63,
   "metadata": {},
   "outputs": [
    {
     "data": {
      "text/plain": [
       "array([111.  , 182.  , 221.5 , 316.75, 439.  ])"
      ]
     },
     "execution_count": 63,
     "metadata": {},
     "output_type": "execute_result"
    }
   ],
   "source": [
    "five_num(data)"
   ]
  },
  {
   "cell_type": "code",
   "execution_count": 64,
   "metadata": {},
   "outputs": [
    {
     "data": {
      "text/plain": [
       "array([182.  , 221.5 , 316.75])"
      ]
     },
     "execution_count": 64,
     "metadata": {},
     "output_type": "execute_result"
    }
   ],
   "source": [
    "quartiles(data)"
   ]
  },
  {
   "cell_type": "code",
   "execution_count": 65,
   "metadata": {},
   "outputs": [
    {
     "data": {
      "image/png": "[encoded data removed]",
      "text/plain": [
       "<Figure size 576x576 with 1 Axes>"
      ]
     },
     "metadata": {
      "needs_background": "light"
     },
     "output_type": "display_data"
    }
   ],
   "source": [
    "# Sec 3.3 Ex 10\n",
    "fig, ax = plt.subplots(1, 1, figsize=(8, 8))\n",
    "\n",
    "ax.boxplot(data, showcaps=True)\n",
    "ax.set_title('Box-and-Whisker Plot')\n",
    "ax.grid(axis='y')\n",
    "# ax.set_yticks(five_num(data))\n",
    "ax.set_ylabel('Calories')\n",
    "ax.set_xticklabels(labels=['Vanilla-Flavored Ice Cream Bars'])\n",
    "plt.show()"
   ]
  },
  {
   "cell_type": "markdown",
   "metadata": {},
   "source": [
    "### Section 3.3 Problems"
   ]
  },
  {
   "cell_type": "code",
   "execution_count": 66,
   "metadata": {},
   "outputs": [
    {
     "data": {
      "text/plain": [
       "array([ 2,  5,  5,  6,  7,  7,  8,  9, 10])"
      ]
     },
     "metadata": {},
     "output_type": "display_data"
    },
    {
     "name": "stdout",
     "output_type": "stream",
     "text": [
      "Low: 2.0, Q_1: 5.0, median: 7.0, Q_3: 8.0, High: 10.0\n",
      "IQR: 3.0\n"
     ]
    },
    {
     "data": {
      "image/png": "[encoded data removed]",
      "text/plain": [
       "<Figure size 432x432 with 1 Axes>"
      ]
     },
     "metadata": {
      "needs_background": "light"
     },
     "output_type": "display_data"
    }
   ],
   "source": [
    "# Sec 3.3 Problem 5\n",
    "df = pd.read_excel(os.path.join(PATH, 'Prob0303_05.xls'))\n",
    "data = df[2].to_numpy()\n",
    "data.sort()\n",
    "display(data)\n",
    "mi, q1, q2, q3, ma = five_num(data)\n",
    "print(f'Low: {mi}, Q_1: {q1}, median: {q2}, Q_3: {q3}, High: {ma}')\n",
    "iqr = interquartile(data)\n",
    "print(f'IQR: {iqr}')\n",
    "\n",
    "fig, ax = plt.subplots(1, 1, figsize=(6, 6))\n",
    "\n",
    "ax.boxplot(data, showcaps=True)\n",
    "ax.set_title('Problem 5')\n",
    "ax.grid(axis='y')\n",
    "ax.set_ylabel('')\n",
    "ax.set_xticklabels(labels=[''])\n",
    "plt.show()"
   ]
  },
  {
   "cell_type": "code",
   "execution_count": 67,
   "metadata": {},
   "outputs": [
    {
     "data": {
      "text/plain": [
       "array([ 2,  5,  5,  6,  7,  8,  8,  9, 10, 12])"
      ]
     },
     "metadata": {},
     "output_type": "display_data"
    },
    {
     "name": "stdout",
     "output_type": "stream",
     "text": [
      "Low: 2.0, Q_1: 5.25, median: 7.5, Q_3: 8.75, High: 12.0\n",
      "IQR: 3.5\n"
     ]
    },
    {
     "data": {
      "image/png": "[encoded data removed]",
      "text/plain": [
       "<Figure size 432x432 with 1 Axes>"
      ]
     },
     "metadata": {
      "needs_background": "light"
     },
     "output_type": "display_data"
    }
   ],
   "source": [
    "# Sec 3.3 Problem 6\n",
    "data = np.array([2, 5,  5,  6,  7,  8,  8,  9, 10, 12])\n",
    "data.sort()\n",
    "display(data)\n",
    "mi, q1, q2, q3, ma = five_num(data)\n",
    "print(f'Low: {mi}, Q_1: {q1}, median: {q2}, Q_3: {q3}, High: {ma}')\n",
    "iqr = interquartile(data)\n",
    "print(f'IQR: {iqr}')\n",
    "\n",
    "fig, ax = plt.subplots(1, 1, figsize=(6, 6))\n",
    "ax.boxplot(data, showcaps=True)\n",
    "ax.set_title('Problem 6')\n",
    "ax.grid(axis='y')\n",
    "ax.set_ylabel('')\n",
    "ax.set_xticklabels(labels=[''])\n",
    "plt.show()"
   ]
  },
  {
   "cell_type": "code",
   "execution_count": 68,
   "metadata": {
    "scrolled": false
   },
   "outputs": [
    {
     "name": "stdout",
     "output_type": "stream",
     "text": [
      "Low: 2.0, Q_1: 10.25, median: 23.0, Q_3: 28.25, High: 42.0\n",
      "IQR: 18.0\n"
     ]
    },
    {
     "data": {
      "image/png": "[encoded data removed]",
      "text/plain": [
       "<Figure size 1080x144 with 1 Axes>"
      ]
     },
     "metadata": {
      "needs_background": "light"
     },
     "output_type": "display_data"
    },
    {
     "name": "stdout",
     "output_type": "stream",
     "text": [
      "Low: 3.0, Q_1: 16.5, median: 23.0, Q_3: 29.5, High: 72.0\n",
      "IQR: 13.0\n"
     ]
    },
    {
     "data": {
      "image/png": "[encoded data removed]",
      "text/plain": [
       "<Figure size 1080x144 with 1 Axes>"
      ]
     },
     "metadata": {
      "needs_background": "light"
     },
     "output_type": "display_data"
    },
    {
     "data": {
      "image/png": "[encoded data removed]",
      "text/plain": [
       "<Figure size 1080x144 with 1 Axes>"
      ]
     },
     "metadata": {
      "needs_background": "light"
     },
     "output_type": "display_data"
    },
    {
     "data": {
      "image/png": "[encoded data removed]",
      "text/plain": [
       "<Figure size 432x432 with 1 Axes>"
      ]
     },
     "metadata": {
      "needs_background": "light"
     },
     "output_type": "display_data"
    }
   ],
   "source": [
    "# Sec 3.3 Problem 7/8\n",
    "all_data = []\n",
    "labels = []\n",
    "for fn, title in [('Prob0303_07.xls', 'Nurses'), ('Prob0303_08.xls', 'Clerical Staff')]:\n",
    "    df = pd.read_excel(os.path.join(PATH, fn))\n",
    "#     display(df.head())\n",
    "    data = df['length_of_service_(mo)'].to_numpy()\n",
    "    data.sort()\n",
    "#     display(data)\n",
    "    mi, q1, q2, q3, ma = five_num(data)\n",
    "    print(f'Low: {mi}, Q_1: {q1}, median: {q2}, Q_3: {q3}, High: {ma}')\n",
    "    iqr = interquartile(data)\n",
    "    print(f'IQR: {iqr}')\n",
    "    dotplot(data)\n",
    "    all_data.append(data)\n",
    "    labels.append(title)\n",
    "\n",
    "dotplot(data[data < 50])\n",
    "    \n",
    "fig, ax = plt.subplots(1, 1, figsize=(6, 6))\n",
    "\n",
    "ax.set_title('Problem 7/8')\n",
    "\n",
    "ax.boxplot(all_data, showcaps=True, labels=labels)\n",
    "ax.grid(axis='y')\n",
    "ax.set_ylabel('Length of service (months)')\n",
    "\n",
    "plt.show()"
   ]
  },
  {
   "cell_type": "code",
   "execution_count": 69,
   "metadata": {},
   "outputs": [
    {
     "data": {
      "text/html": [
       "<div>\n",
       "<style scoped>\n",
       "    .dataframe tbody tr th:only-of-type {\n",
       "        vertical-align: middle;\n",
       "    }\n",
       "\n",
       "    .dataframe tbody tr th {\n",
       "        vertical-align: top;\n",
       "    }\n",
       "\n",
       "    .dataframe thead th {\n",
       "        text-align: right;\n",
       "    }\n",
       "</style>\n",
       "<table border=\"1\" class=\"dataframe\">\n",
       "  <thead>\n",
       "    <tr style=\"text-align: right;\">\n",
       "      <th></th>\n",
       "      <th>Percent BA</th>\n",
       "    </tr>\n",
       "  </thead>\n",
       "  <tbody>\n",
       "    <tr>\n",
       "      <th>0</th>\n",
       "      <td>17</td>\n",
       "    </tr>\n",
       "    <tr>\n",
       "      <th>1</th>\n",
       "      <td>18</td>\n",
       "    </tr>\n",
       "    <tr>\n",
       "      <th>2</th>\n",
       "      <td>18</td>\n",
       "    </tr>\n",
       "    <tr>\n",
       "      <th>3</th>\n",
       "      <td>18</td>\n",
       "    </tr>\n",
       "    <tr>\n",
       "      <th>4</th>\n",
       "      <td>19</td>\n",
       "    </tr>\n",
       "  </tbody>\n",
       "</table>\n",
       "</div>"
      ],
      "text/plain": [
       "   Percent BA\n",
       "0          17\n",
       "1          18\n",
       "2          18\n",
       "3          18\n",
       "4          19"
      ]
     },
     "metadata": {},
     "output_type": "display_data"
    },
    {
     "data": {
      "text/plain": [
       "array([17, 18, 18, 18, 19, 20, 20, 20, 21, 21, 21, 21, 22, 22, 22, 22, 22,\n",
       "       22, 23, 23, 24, 24, 24, 24, 24, 24, 24, 24, 25, 26, 26, 26, 26, 26,\n",
       "       26, 27, 27, 27, 27, 27, 28, 28, 29, 31, 31, 32, 32, 34, 35, 38])"
      ]
     },
     "metadata": {},
     "output_type": "display_data"
    },
    {
     "name": "stdout",
     "output_type": "stream",
     "text": [
      "Low: 17.0, Q_1: 22.0, median: 24.0, Q_3: 27.0, High: 38.0\n",
      "IQR: 5.0\n"
     ]
    },
    {
     "data": {
      "image/png": "[encoded data removed]",
      "text/plain": [
       "<Figure size 432x432 with 1 Axes>"
      ]
     },
     "metadata": {
      "needs_background": "light"
     },
     "output_type": "display_data"
    }
   ],
   "source": [
    "# Sec 3.3 Problem 9\n",
    "df = pd.read_excel(os.path.join(PATH, 'Prob0303_09.xls'))\n",
    "display(df.head())\n",
    "data = df['Percent BA'].to_numpy()\n",
    "data.sort()\n",
    "display(data)\n",
    "mi, q1, q2, q3, ma = five_num(data)\n",
    "print(f'Low: {mi}, Q_1: {q1}, median: {q2}, Q_3: {q3}, High: {ma}')\n",
    "iqr = interquartile(data)\n",
    "print(f'IQR: {iqr}')\n",
    "\n",
    "fig, ax = plt.subplots(1, 1, figsize=(6, 6))\n",
    "\n",
    "ax.boxplot(data, showcaps=True, whis=(0,100))\n",
    "ax.set_title('Problem 9')\n",
    "ax.grid(axis='y')\n",
    "ax.set_ylabel('')\n",
    "ax.set_xticklabels(labels=[''])\n",
    "plt.show()"
   ]
  },
  {
   "cell_type": "code",
   "execution_count": 70,
   "metadata": {},
   "outputs": [
    {
     "data": {
      "text/html": [
       "<div>\n",
       "<style scoped>\n",
       "    .dataframe tbody tr th:only-of-type {\n",
       "        vertical-align: middle;\n",
       "    }\n",
       "\n",
       "    .dataframe tbody tr th {\n",
       "        vertical-align: top;\n",
       "    }\n",
       "\n",
       "    .dataframe thead th {\n",
       "        text-align: right;\n",
       "    }\n",
       "</style>\n",
       "<table border=\"1\" class=\"dataframe\">\n",
       "  <thead>\n",
       "    <tr style=\"text-align: right;\">\n",
       "      <th></th>\n",
       "      <th>percent_dropout</th>\n",
       "    </tr>\n",
       "  </thead>\n",
       "  <tbody>\n",
       "    <tr>\n",
       "      <th>0</th>\n",
       "      <td>5</td>\n",
       "    </tr>\n",
       "    <tr>\n",
       "      <th>1</th>\n",
       "      <td>6</td>\n",
       "    </tr>\n",
       "    <tr>\n",
       "      <th>2</th>\n",
       "      <td>7</td>\n",
       "    </tr>\n",
       "    <tr>\n",
       "      <th>3</th>\n",
       "      <td>7</td>\n",
       "    </tr>\n",
       "    <tr>\n",
       "      <th>4</th>\n",
       "      <td>7</td>\n",
       "    </tr>\n",
       "  </tbody>\n",
       "</table>\n",
       "</div>"
      ],
      "text/plain": [
       "   percent_dropout\n",
       "0                5\n",
       "1                6\n",
       "2                7\n",
       "3                7\n",
       "4                7"
      ]
     },
     "metadata": {},
     "output_type": "display_data"
    },
    {
     "data": {
      "text/plain": [
       "array([ 5,  6,  7,  7,  7,  7,  8,  8,  8,  8,  8,  9,  9,  9,  9,  9,  9,\n",
       "        9, 10, 10, 10, 10, 10, 10, 10, 10, 11, 11, 11, 11, 11, 11, 11, 11,\n",
       "       12, 12, 12, 12, 13, 13, 13, 13, 13, 13, 14, 14, 14, 14, 14, 15])"
      ]
     },
     "metadata": {},
     "output_type": "display_data"
    },
    {
     "name": "stdout",
     "output_type": "stream",
     "text": [
      "Low: 5.0, Q_1: 9.0, median: 10.0, Q_3: 12.0, High: 15.0\n",
      "IQR: 3.0\n"
     ]
    },
    {
     "data": {
      "image/png": "[encoded data removed]",
      "text/plain": [
       "<Figure size 432x432 with 1 Axes>"
      ]
     },
     "metadata": {
      "needs_background": "light"
     },
     "output_type": "display_data"
    }
   ],
   "source": [
    "# Sec 3.3 Problem 10\n",
    "df = pd.read_excel(os.path.join(PATH, 'Prob0303_10.xls'))\n",
    "display(df.head())\n",
    "data = df['percent_dropout'].to_numpy()\n",
    "data.sort()\n",
    "display(data)\n",
    "mi, q1, q2, q3, ma = five_num(data)\n",
    "print(f'Low: {mi}, Q_1: {q1}, median: {q2}, Q_3: {q3}, High: {ma}')\n",
    "iqr = interquartile(data)\n",
    "print(f'IQR: {iqr}')\n",
    "\n",
    "fig, ax = plt.subplots(1, 1, figsize=(6, 6))\n",
    "\n",
    "ax.boxplot(data, showcaps=True, whis=(0,100))\n",
    "ax.set_title('')\n",
    "ax.grid(axis='y')\n",
    "ax.set_ylabel('')\n",
    "ax.set_xticklabels(labels=[''])\n",
    "plt.show()"
   ]
  },
  {
   "cell_type": "code",
   "execution_count": 71,
   "metadata": {},
   "outputs": [
    {
     "data": {
      "text/html": [
       "<div>\n",
       "<style scoped>\n",
       "    .dataframe tbody tr th:only-of-type {\n",
       "        vertical-align: middle;\n",
       "    }\n",
       "\n",
       "    .dataframe tbody tr th {\n",
       "        vertical-align: top;\n",
       "    }\n",
       "\n",
       "    .dataframe thead th {\n",
       "        text-align: right;\n",
       "    }\n",
       "</style>\n",
       "<table border=\"1\" class=\"dataframe\">\n",
       "  <thead>\n",
       "    <tr style=\"text-align: right;\">\n",
       "      <th></th>\n",
       "      <th>height_(in)</th>\n",
       "    </tr>\n",
       "  </thead>\n",
       "  <tbody>\n",
       "    <tr>\n",
       "      <th>0</th>\n",
       "      <td>65</td>\n",
       "    </tr>\n",
       "    <tr>\n",
       "      <th>1</th>\n",
       "      <td>72</td>\n",
       "    </tr>\n",
       "    <tr>\n",
       "      <th>2</th>\n",
       "      <td>68</td>\n",
       "    </tr>\n",
       "    <tr>\n",
       "      <th>3</th>\n",
       "      <td>64</td>\n",
       "    </tr>\n",
       "    <tr>\n",
       "      <th>4</th>\n",
       "      <td>60</td>\n",
       "    </tr>\n",
       "  </tbody>\n",
       "</table>\n",
       "</div>"
      ],
      "text/plain": [
       "   height_(in)\n",
       "0           65\n",
       "1           72\n",
       "2           68\n",
       "3           64\n",
       "4           60"
      ]
     },
     "metadata": {},
     "output_type": "display_data"
    },
    {
     "data": {
      "text/plain": [
       "array([ 4, 50, 52, 55, 60, 61, 62, 63, 64, 64, 65, 65, 66, 67, 67, 68, 69,\n",
       "       71, 72, 73, 74, 74, 75, 80])"
      ]
     },
     "metadata": {},
     "output_type": "display_data"
    },
    {
     "name": "stdout",
     "output_type": "stream",
     "text": [
      "Low: 4.0, Q_1: 61.75, median: 65.5, Q_3: 71.25, High: 80.0\n",
      "IQR: 9.5\n"
     ]
    },
    {
     "data": {
      "image/png": "[encoded data removed]",
      "text/plain": [
       "<Figure size 432x432 with 1 Axes>"
      ]
     },
     "metadata": {
      "needs_background": "light"
     },
     "output_type": "display_data"
    }
   ],
   "source": [
    "# Sec 3.3 Problem 12\n",
    "df = pd.read_excel(os.path.join(PATH, 'Prob0303_12.xls'))\n",
    "display(df.head())\n",
    "data = df['height_(in)'].to_numpy()\n",
    "data.sort()\n",
    "display(data)\n",
    "mi, q1, q2, q3, ma = five_num(data)\n",
    "print(f'Low: {mi}, Q_1: {q1}, median: {q2}, Q_3: {q3}, High: {ma}')\n",
    "iqr = interquartile(data)\n",
    "print(f'IQR: {iqr}')\n",
    "\n",
    "fig, ax = plt.subplots(1, 1, figsize=(6, 6))\n",
    "\n",
    "ax.boxplot(data, showcaps=True)\n",
    "ax.set_title('')\n",
    "ax.grid(axis='y')\n",
    "ax.set_ylabel('')\n",
    "ax.set_xticklabels(labels=[''])\n",
    "plt.show()"
   ]
  },
  {
   "cell_type": "markdown",
   "metadata": {},
   "source": [
    "## Chapter 3 Review Problems"
   ]
  },
  {
   "cell_type": "code",
   "execution_count": 72,
   "metadata": {},
   "outputs": [
    {
     "name": "stdout",
     "output_type": "stream",
     "text": [
      "size: 23, 23\n",
      "s_a: 2.132\n",
      "s_b: 1.758\n",
      "five sum, a: [ 4.  5.  7.  9. 10.]\n",
      "five sum, b: [ 4.  6.  7.  8. 10.]\n",
      "\n",
      " [-1.41 -0.94 -0.47  0.    0.47  0.94  1.41]\n",
      "\n",
      "std's, a\n",
      " -2   2.736\n",
      " -1   4.868\n",
      "  0   7.000\n",
      "  1   9.132\n",
      "  2   11.264\n",
      "\n",
      " [-1.71 -1.14 -0.57  0.    0.57  1.14  1.71]\n",
      "\n",
      "std's, b\n",
      " -2   3.484\n",
      " -1   5.242\n",
      "  0   7.000\n",
      "  1   8.758\n",
      "  2   10.516\n"
     ]
    }
   ],
   "source": [
    "# Chpt 3 Rev Problem 10\n",
    "a = np.array([4,4,4,4,5,5,5,6,6,7,7,7,7,7,8,8,9,9,9,10,10,10,10])\n",
    "b = np.array([4,4,5,5,5,6,6,6,6,7,7,7,7,7,8,8,8,8,9,9,9,10,10])\n",
    "print(f'size: {a.size}, {b.size}')\n",
    "\n",
    "s_a = a.std(ddof=1)\n",
    "print(f's_a: {s_a:.3f}')\n",
    "\n",
    "s_b = b.std(ddof=1)\n",
    "print(f's_b: {s_b:.3f}')\n",
    "\n",
    "print(f'five sum, a: {five_num(a)}')\n",
    "print(f'five sum, b: {five_num(b)}')\n",
    "\n",
    "m_a = a.mean()\n",
    "print('\\n',((np.unique(a)-m_a)/s_a).round(2))\n",
    "print(\"\\nstd's, a\")\n",
    "for d in range(-2, 3):\n",
    "    print(f'{d:3}   {m_a + d * s_a:.3f}')\n",
    "\n",
    "m_b = b.mean()\n",
    "print('\\n',((np.unique(b)-m_b)/s_b).round(2))\n",
    "print(\"\\nstd's, b\")\n",
    "for d in range(-2, 3):\n",
    "    print(f'{d:3}   {m_b + d * s_b:.3f}')"
   ]
  },
  {
   "cell_type": "code",
   "execution_count": 73,
   "metadata": {},
   "outputs": [
    {
     "data": {
      "text/plain": [
       "array([1.9, 1.9, 2.8, 3.9, 4.2, 5.7, 7.2, 8.6])"
      ]
     },
     "metadata": {},
     "output_type": "display_data"
    },
    {
     "name": "stdout",
     "output_type": "stream",
     "text": [
      "mean: 4.525\n",
      "median: 4.050\n",
      "mode: 1.900\n",
      "s: 2.461\n",
      "CV: 0.544\n",
      "range: 6.700\n"
     ]
    },
    {
     "data": {
      "image/png": "[encoded data removed]",
      "text/plain": [
       "<Figure size 432x432 with 1 Axes>"
      ]
     },
     "metadata": {
      "needs_background": "light"
     },
     "output_type": "display_data"
    }
   ],
   "source": [
    "# Chpt 3 Rev Problem 12\n",
    "df = pd.read_excel(os.path.join(PATH, 'RProb0312 (2).xls'))\n",
    "# display(df.head())\n",
    "\n",
    "data = df['radon_(Pci/L)'].to_numpy()\n",
    "data.sort()\n",
    "display(data)\n",
    "\n",
    "# (a)\n",
    "d = all_stats(data)\n",
    "print(f\"mean: {d['mean']:.3f}\")\n",
    "print(f\"median: {d['median']:.3f}\")\n",
    "print(f\"mode: {d['mode']:.3f}\")\n",
    "\n",
    "# (b)\n",
    "print(f\"s: {d['s']:.3f}\")\n",
    "print(f\"CV: {d['cv']:.3f}\")\n",
    "print(f\"range: {d['range']:.3f}\")\n",
    "\n",
    "fig, ax = plt.subplots(1, 1, figsize=(6, 6))\n",
    "ax.boxplot(data, showcaps=True)\n",
    "ax.set_title('')\n",
    "ax.grid(axis='y')\n",
    "ax.set_ylabel('radon_(Pci/L)')\n",
    "ax.set_xticklabels(labels=[''])\n",
    "plt.show()"
   ]
  },
  {
   "cell_type": "code",
   "execution_count": 74,
   "metadata": {},
   "outputs": [
    {
     "data": {
      "text/html": [
       "<div>\n",
       "<style scoped>\n",
       "    .dataframe tbody tr th:only-of-type {\n",
       "        vertical-align: middle;\n",
       "    }\n",
       "\n",
       "    .dataframe tbody tr th {\n",
       "        vertical-align: top;\n",
       "    }\n",
       "\n",
       "    .dataframe thead th {\n",
       "        text-align: right;\n",
       "    }\n",
       "</style>\n",
       "<table border=\"1\" class=\"dataframe\">\n",
       "  <thead>\n",
       "    <tr style=\"text-align: right;\">\n",
       "      <th></th>\n",
       "      <th>Percentage_Democrats</th>\n",
       "    </tr>\n",
       "  </thead>\n",
       "  <tbody>\n",
       "    <tr>\n",
       "      <th>0</th>\n",
       "      <td>31</td>\n",
       "    </tr>\n",
       "    <tr>\n",
       "      <th>1</th>\n",
       "      <td>33</td>\n",
       "    </tr>\n",
       "    <tr>\n",
       "      <th>2</th>\n",
       "      <td>34</td>\n",
       "    </tr>\n",
       "    <tr>\n",
       "      <th>3</th>\n",
       "      <td>34</td>\n",
       "    </tr>\n",
       "    <tr>\n",
       "      <th>4</th>\n",
       "      <td>35</td>\n",
       "    </tr>\n",
       "  </tbody>\n",
       "</table>\n",
       "</div>"
      ],
      "text/plain": [
       "   Percentage_Democrats\n",
       "0                    31\n",
       "1                    33\n",
       "2                    34\n",
       "3                    34\n",
       "4                    35"
      ]
     },
     "metadata": {},
     "output_type": "display_data"
    },
    {
     "data": {
      "text/plain": [
       "array([31, 33, 34, 34, 35, 35, 35, 36, 38, 38, 38, 39, 40, 40, 40, 40, 41,\n",
       "       41, 41, 41, 41, 41, 41, 42, 42, 43, 44, 44, 44, 45, 45, 46, 46, 46,\n",
       "       46, 47, 48, 49, 49, 49, 49, 50, 51, 52, 52, 53, 53, 53, 53, 53, 55,\n",
       "       56, 56, 57, 57, 59, 62, 66, 66, 68])"
      ]
     },
     "metadata": {},
     "output_type": "display_data"
    },
    {
     "name": "stdout",
     "output_type": "stream",
     "text": [
      "mean: 46.150\n",
      "s: 8.626\n",
      "low: 31.000, Q_1: 40.000, median: 45.000, Q_3: 52.250, high: 68.000\n",
      "IQR: 12.250\n"
     ]
    },
    {
     "data": {
      "image/png": "[encoded data removed]",
      "text/plain": [
       "<Figure size 432x432 with 1 Axes>"
      ]
     },
     "metadata": {
      "needs_background": "light"
     },
     "output_type": "display_data"
    },
    {
     "name": "stdout",
     "output_type": "stream",
     "text": [
      "interval(k=2.0): 28.899, 63.401\n"
     ]
    }
   ],
   "source": [
    "# Chpt 3 Rev Problem 13\n",
    "df = pd.read_excel(os.path.join(PATH, 'RProb0313.xls'))\n",
    "display(df.head())\n",
    "\n",
    "data = df['Percentage_Democrats'].to_numpy()\n",
    "data.sort()\n",
    "display(data)\n",
    "\n",
    "d = all_stats(data)\n",
    "print(f\"mean: {d['mean']:.3f}\")\n",
    "print(f\"s: {d['s']:.3f}\")\n",
    "print(d['five_num'])\n",
    "print(f\"IQR: {d['iqr']:.3f}\")\n",
    "\n",
    "fig, ax = plt.subplots(1, 1, figsize=(6, 6))\n",
    "ax.boxplot(data, showcaps=True)\n",
    "ax.set_title('')\n",
    "ax.grid(axis='y')\n",
    "ax.set_ylabel('')\n",
    "ax.set_xticklabels(labels=[''])\n",
    "plt.show()\n",
    "\n",
    "cheb = chebyshev_int(.75, d['mean'], d['s'], show=True)"
   ]
  },
  {
   "cell_type": "code",
   "execution_count": 75,
   "metadata": {},
   "outputs": [
    {
     "name": "stdout",
     "output_type": "stream",
     "text": [
      "(a) average: 85.770\n",
      "(b) average: 82.170\n"
     ]
    }
   ],
   "source": [
    "# Chpt 3 Rev Problem 14\n",
    "wts = np.array([5,8,8,15,15,15,34])\n",
    "grades = np.array([92,73,81,85,87,83,90])\n",
    "\n",
    "avg = np.average(grades, weights=wts)\n",
    "print(f'(a) average: {avg:.3f}')\n",
    "\n",
    "grades = np.array([20,73,81,85,87,83,90])\n",
    "avg = np.average(grades, weights=wts)\n",
    "print(f'(b) average: {avg:.3f}')\n"
   ]
  },
  {
   "cell_type": "code",
   "execution_count": 76,
   "metadata": {},
   "outputs": [
    {
     "data": {
      "text/plain": [
       "156.25"
      ]
     },
     "execution_count": 76,
     "metadata": {},
     "output_type": "execute_result"
    }
   ],
   "source": [
    "# Chpt 3 Rev Problem 15\n",
    "2500 / 16"
   ]
  },
  {
   "cell_type": "code",
   "execution_count": 77,
   "metadata": {},
   "outputs": [
    {
     "name": "stdout",
     "output_type": "stream",
     "text": [
      "low: 7.800, Q_1: 14.300, median: 20.250, Q_3: 23.800, high: 29.500\n",
      "IQR: 9.500\n"
     ]
    },
    {
     "data": {
      "image/png": "[encoded data removed]",
      "text/plain": [
       "<Figure size 432x432 with 1 Axes>"
      ]
     },
     "metadata": {
      "needs_background": "light"
     },
     "output_type": "display_data"
    }
   ],
   "source": [
    "# Chpt 3 Rev Problem 16\n",
    "df = pd.read_excel(os.path.join(PATH, 'RProb0316.xls'))\n",
    "# display(df.head())\n",
    "data = df['weight_(kg)'].to_numpy()\n",
    "data.sort()\n",
    "# display(data)\n",
    "\n",
    "# (a)\n",
    "d = all_stats(data)\n",
    "print(d['five_num'])\n",
    "# (b)\n",
    "print(f\"IQR: {d['iqr']:.3f}\")\n",
    "# (c)\n",
    "fig, ax = plt.subplots(1, 1, figsize=(6, 6))\n",
    "\n",
    "ax.boxplot(data, showcaps=True)\n",
    "ax.set_title('')\n",
    "ax.grid(axis='y')\n",
    "ax.set_ylabel('')\n",
    "ax.set_xticklabels(labels=[''])\n",
    "plt.show()\n"
   ]
  },
  {
   "cell_type": "code",
   "execution_count": 78,
   "metadata": {
    "scrolled": false
   },
   "outputs": [
    {
     "data": {
      "text/plain": [
       "array([17.5, 18.6, 19.1, 21. , 23.7, 23.9, 24.1, 24.9, 25.6, 25.9, 25.9,\n",
       "       27.1, 29.1, 30.8, 31.8, 32.4, 33.1, 34.3, 45.1])"
      ]
     },
     "metadata": {},
     "output_type": "display_data"
    },
    {
     "name": "stdout",
     "output_type": "stream",
     "text": [
      "mean: 27.047\n",
      "median: 25.900\n",
      "mode: 25.900\n",
      "range: 27.600\n",
      "s: 6.608\n",
      "interval(k=2.0): 13.831, 40.264\n",
      "low: 17.500, Q_1: 23.800, median: 25.900, Q_3: 31.300, high: 45.100\n",
      "IQR: 7.500\n",
      "CV: 0.244\n"
     ]
    },
    {
     "data": {
      "image/png": "[encoded data removed]",
      "text/plain": [
       "<Figure size 432x432 with 1 Axes>"
      ]
     },
     "metadata": {
      "needs_background": "light"
     },
     "output_type": "display_data"
    },
    {
     "data": {
      "text/plain": [
       "array([3.81, 3.83, 4.01, 4.31, 4.31, 4.67, 4.84, 5.5 , 5.81, 5.81])"
      ]
     },
     "metadata": {},
     "output_type": "display_data"
    },
    {
     "name": "stdout",
     "output_type": "stream",
     "text": [
      "mean: 4.690\n",
      "CV: 0.166\n"
     ]
    },
    {
     "data": {
      "image/png": "[encoded data removed]",
      "text/plain": [
       "<Figure size 864x432 with 2 Axes>"
      ]
     },
     "metadata": {
      "needs_background": "light"
     },
     "output_type": "display_data"
    }
   ],
   "source": [
    "# Chpt 3 Rev Problem 17\n",
    "data = np.array(\n",
    "    [25.9, 32.4, 33.1, 19.1, 17.5, \n",
    "     24.9, 27.1, 29.1, 25.6, 31.8,\n",
    "     21.0, 45.1, 30.8, 34.3, 25.9,\n",
    "     18.6, 23.7, 24.1, 23.9]\n",
    ")\n",
    "data.sort()\n",
    "display(data)\n",
    "\n",
    "# (b)\n",
    "d = all_stats(data)\n",
    "print(f\"mean: {d['mean']:.3f}\")\n",
    "print(f\"median: {d['median']:.3f}\")\n",
    "print(f\"mode: {d['mode']:.3f}\")\n",
    "\n",
    "# (c)\n",
    "print(f\"range: {d['range']:.3f}\")\n",
    "print(f\"s: {d['s']:.3f}\")\n",
    "\n",
    "# (d)\n",
    "cheb = chebyshev_int(.75, d['mean'], d['s'], show=True)\n",
    "\n",
    "# (e)\n",
    "print(d['five_num'])\n",
    "print(f\"IQR: {d['iqr']:.3f}\")\n",
    "print(f\"CV: {d['cv']:.3f}\")\n",
    "\n",
    "fig, ax = plt.subplots(1, 1, figsize=(6, 6))\n",
    "ax.boxplot(data, showcaps=True)\n",
    "ax.set_title('')\n",
    "ax.grid(axis='y')\n",
    "ax.set_ylabel('')\n",
    "ax.set_xticklabels(labels=[''])\n",
    "plt.show()\n",
    "\n",
    "# (f)\n",
    "data2 = np.array([3.83, 3.81, 4.01, 4.84, 5.81, \n",
    "                  5.50, 4.31, 5.81, 4.31, 4.67])\n",
    "data2.sort()\n",
    "display(data2)\n",
    "d = all_stats(data2)\n",
    "print(f\"mean: {d['mean']:.3f}\")\n",
    "print(f\"CV: {d['cv']:.3f}\")\n",
    "\n",
    "fig, ax = plt.subplots(1, 2, figsize=(12, 6))\n",
    "ax[0].boxplot(data2, showcaps=True)\n",
    "ax[0].set_title('')\n",
    "ax[0].grid(axis='y')\n",
    "ax[0].set_ylabel('')\n",
    "ax[0].set_xticklabels(labels=['Madison'])\n",
    "ax[1].boxplot([data, data2], showcaps=True)\n",
    "ax[1].set_title('')\n",
    "ax[1].grid(axis='y')\n",
    "ax[1].set_ylabel('')\n",
    "ax[1].set_xticklabels(labels=['Yellowstone', 'Madison'])\n",
    "plt.show()\n"
   ]
  },
  {
   "cell_type": "code",
   "execution_count": 79,
   "metadata": {},
   "outputs": [
    {
     "name": "stdout",
     "output_type": "stream",
     "text": [
      "IQR: 3.000\n",
      "mean: 11.480\n",
      "s: 2.443\n"
     ]
    },
    {
     "data": {
      "image/png": "[encoded data removed]",
      "text/plain": [
       "<Figure size 432x432 with 1 Axes>"
      ]
     },
     "metadata": {
      "needs_background": "light"
     },
     "output_type": "display_data"
    },
    {
     "data": {
      "image/png": "[encoded data removed]",
      "text/plain": [
       "<Figure size 1080x144 with 1 Axes>"
      ]
     },
     "metadata": {
      "needs_background": "light"
     },
     "output_type": "display_data"
    }
   ],
   "source": [
    "# Chpt 3 Rev Problem 18\n",
    "df = pd.read_excel(os.path.join(PATH, 'RProb03_18.xls'))\n",
    "data = df['water_content'].to_numpy()\n",
    "data.sort()\n",
    "\n",
    "d = all_stats(data)\n",
    "print(f\"IQR: {d['iqr']:.3f}\")\n",
    "print(f\"mean: {d['mean']:.3f}\")\n",
    "print(f\"s: {d['s']:.3f}\")\n",
    "\n",
    "fig, ax = plt.subplots(1, 1, figsize=(6, 6))\n",
    "ax.boxplot(data, showcaps=True)\n",
    "ax.set_title('')\n",
    "ax.grid(axis='y')\n",
    "ax.set_ylabel('')\n",
    "ax.set_xticklabels(labels=[''])\n",
    "plt.show()\n",
    "\n",
    "dotplot(data)"
   ]
  },
  {
   "cell_type": "code",
   "execution_count": 80,
   "metadata": {},
   "outputs": [
    {
     "data": {
      "text/plain": [
       "7.5625"
      ]
     },
     "execution_count": 80,
     "metadata": {},
     "output_type": "execute_result"
    }
   ],
   "source": [
    "# Chpt 3 Rev Problem 19\n",
    "wts = np.array([2,3,3,5,3])\n",
    "scores = np.array([5,8,7,9,7])\n",
    "np.average(scores, weights=wts)"
   ]
  },
  {
   "cell_type": "code",
   "execution_count": 81,
   "metadata": {},
   "outputs": [
    {
     "data": {
      "text/plain": [
       "array([0.16666667, 0.16666667])"
      ]
     },
     "execution_count": 81,
     "metadata": {},
     "output_type": "execute_result"
    }
   ],
   "source": [
    "# Linking Concepts 3\n",
    "m = np.array([.72,6.42])\n",
    "s = np.array([.12,1.07])\n",
    "s / m"
   ]
  },
  {
   "cell_type": "code",
   "execution_count": 82,
   "metadata": {
    "scrolled": false
   },
   "outputs": [
    {
     "data": {
      "text/plain": [
       "array([ 26,  14,  18,  14, 113,  50,  13,  22,  27,  57,  28,  50,  72,\n",
       "        52, 105, 138,  16,  33,  18,  16,  32,  26,  11,  16,  17,  14,\n",
       "        57, 100,  35,  20,  21,  34,  18,  13,  18,  28,  21,  13,  25,\n",
       "        19,  11,  19,  22,  19,  15,  20])"
      ]
     },
     "metadata": {},
     "output_type": "display_data"
    },
    {
     "data": {
      "image/png": "[encoded data removed]",
      "text/plain": [
       "<Figure size 1080x144 with 1 Axes>"
      ]
     },
     "metadata": {
      "needs_background": "light"
     },
     "output_type": "display_data"
    },
    {
     "name": "stdout",
     "output_type": "stream",
     "text": [
      "mean: 33.174\n",
      "median: 21.000\n",
      "mode: 18.000\n",
      "range: 127.000\n",
      "var: 844.814\n",
      "s: 29.066\n",
      "low: 11.000, Q_1: 16.250, median: 21.000, Q_3: 33.750, high: 138.000\n"
     ]
    },
    {
     "data": {
      "image/png": "[encoded data removed]",
      "text/plain": [
       "<Figure size 432x432 with 1 Axes>"
      ]
     },
     "metadata": {
      "needs_background": "light"
     },
     "output_type": "display_data"
    },
    {
     "data": {
      "text/plain": [
       "array([26, 14, 18, 14, 13, 22, 27, 28, 16, 33, 18, 16, 32, 26, 11, 16, 17,\n",
       "       14, 35, 20, 21, 34, 18, 13, 18, 28, 21, 13, 25, 19, 11, 19, 22, 19,\n",
       "       15, 20])"
      ]
     },
     "metadata": {},
     "output_type": "display_data"
    },
    {
     "data": {
      "image/png": "[encoded data removed]",
      "text/plain": [
       "<Figure size 1080x144 with 1 Axes>"
      ]
     },
     "metadata": {
      "needs_background": "light"
     },
     "output_type": "display_data"
    },
    {
     "name": "stdout",
     "output_type": "stream",
     "text": [
      "mean: 20.333\n",
      "median: 19.000\n",
      "mode: 18.000\n",
      "range: 24.000\n",
      "var: 43.771\n",
      "s: 6.616\n",
      "low: 11.000, Q_1: 15.750, median: 19.000, Q_3: 25.250, high: 35.000\n"
     ]
    },
    {
     "data": {
      "image/png": "[encoded data removed]",
      "text/plain": [
       "<Figure size 432x432 with 1 Axes>"
      ]
     },
     "metadata": {
      "needs_background": "light"
     },
     "output_type": "display_data"
    }
   ],
   "source": [
    "# Application 1\n",
    "df = pd.read_excel(os.path.join(PATH, 'App0301.xls'))\n",
    "# display(df.head())\n",
    "data = df['air_movement_(mph)'].to_numpy()\n",
    "display(data)\n",
    "dotplot(data)\n",
    "\n",
    "# (a)\n",
    "d = all_stats(data)\n",
    "print(f\"mean: {d['mean']:.3f}\")\n",
    "print(f\"median: {d['median']:.3f}\")\n",
    "print(f\"mode: {d['mode']:.3f}\")\n",
    "print(f\"range: {d['range']:.3f}\")\n",
    "print(f\"var: {d['s2']:.3f}\")\n",
    "print(f\"s: {d['s']:.3f}\")\n",
    "\n",
    "# (b)\n",
    "print(d['five_num'])\n",
    "\n",
    "fig, ax = plt.subplots(1, 1, figsize=(6, 6))\n",
    "ax.boxplot(data, showcaps=True)\n",
    "ax.set_title('')\n",
    "ax.grid(axis='y')\n",
    "ax.set_ylabel('')\n",
    "ax.set_xticklabels(labels=[''])\n",
    "plt.show()\n",
    "\n",
    "# (c)\n",
    "data = data[data < 50]\n",
    "display(data)\n",
    "dotplot(data)\n",
    "\n",
    "# (c-a)\n",
    "d = all_stats(data)\n",
    "print(f\"mean: {d['mean']:.3f}\")\n",
    "print(f\"median: {d['median']:.3f}\")\n",
    "print(f\"mode: {d['mode']:.3f}\")\n",
    "print(f\"range: {d['range']:.3f}\")\n",
    "print(f\"var: {d['s2']:.3f}\")\n",
    "print(f\"s: {d['s']:.3f}\")\n",
    "\n",
    "# (c-b)\n",
    "print(d['five_num'])\n",
    "\n",
    "fig, ax = plt.subplots(1, 1, figsize=(6, 6))\n",
    "ax.boxplot(data, showcaps=True)\n",
    "ax.set_title('')\n",
    "ax.grid(axis='y')\n",
    "ax.set_ylabel('')\n",
    "ax.set_xticklabels(labels=[''])\n",
    "plt.show()\n",
    "\n"
   ]
  },
  {
   "cell_type": "code",
   "execution_count": 83,
   "metadata": {
    "scrolled": false
   },
   "outputs": [
    {
     "data": {
      "image/png": "[encoded data removed]",
      "text/plain": [
       "<Figure size 1080x144 with 1 Axes>"
      ]
     },
     "metadata": {
      "needs_background": "light"
     },
     "output_type": "display_data"
    },
    {
     "data": {
      "image/png": "[encoded data removed]",
      "text/plain": [
       "<Figure size 1080x144 with 1 Axes>"
      ]
     },
     "metadata": {
      "needs_background": "light"
     },
     "output_type": "display_data"
    },
    {
     "data": {
      "text/plain": [
       "array([7.3, 7.7, 7.9, 7.8, 7.7, 7.1, 7.3, 7.6, 8.6, 8.1])"
      ]
     },
     "metadata": {},
     "output_type": "display_data"
    },
    {
     "name": "stdout",
     "output_type": "stream",
     "text": [
      "Stem | Leaves\n",
      "   7 | 0 0 0 0 0 0 0 0 1 1 1 1 1 1 1 1 1 2 2 2 2 2 2 2 2 2 3 3 3 3 3 3 3 3 3 3 4 4 4 4 4 4 4 4\n",
      "   7 | 5 5 5 5 5 5 5 5 6 6 6 6 6 6 6 6 7 7 7 7 7 7 8 8 8 8 9 9 9 9 9\n",
      "   8 | 0 1 1 1 1 1 1 2 2 2 2 2 2 4\n",
      "   8 | 5 6 7 8 8\n",
      "[17 19 16 14  4  6 12  1  2  3]\n",
      "[7.   7.18 7.36 7.54 7.72 7.9  8.08 8.26 8.44 8.62 8.8 ]\n"
     ]
    },
    {
     "data": {
      "image/png": "[encoded data removed]",
      "text/plain": [
       "<Figure size 1080x288 with 2 Axes>"
      ]
     },
     "metadata": {
      "needs_background": "light"
     },
     "output_type": "display_data"
    },
    {
     "name": "stdout",
     "output_type": "stream",
     "text": [
      "[17 19 24 10  5 13  0  3  3]\n",
      "[7.  7.2 7.4 7.6 7.8 8.  8.2 8.4 8.6 8.8]\n"
     ]
    },
    {
     "data": {
      "image/png": "[encoded data removed]",
      "text/plain": [
       "<Figure size 1080x288 with 2 Axes>"
      ]
     },
     "metadata": {
      "needs_background": "light"
     },
     "output_type": "display_data"
    },
    {
     "data": {
      "image/png": "[encoded data removed]",
      "text/plain": [
       "<Figure size 432x288 with 1 Axes>"
      ]
     },
     "metadata": {
      "needs_background": "light"
     },
     "output_type": "display_data"
    },
    {
     "name": "stdout",
     "output_type": "stream",
     "text": [
      "range: 1.800\n",
      "mean: 7.577\n",
      "median: 7.500\n",
      "mode: 7.300\n",
      "sum of x: 712.2, sum of x squared: 5414.900000000001:.1f\n",
      "var: 0.203\n",
      "s: 0.450\n",
      "CV: 0.059\n",
      "interval(k=2.0): 6.676, 8.477\n",
      "IQR: 0.675\n"
     ]
    },
    {
     "data": {
      "image/png": "[encoded data removed]",
      "text/plain": [
       "<Figure size 432x432 with 1 Axes>"
      ]
     },
     "metadata": {
      "needs_background": "light"
     },
     "output_type": "display_data"
    }
   ],
   "source": [
    "# Cum Rev Applications\n",
    "df = pd.read_excel(os.path.join(PATH, 'CRev0305.xls'))\n",
    "# display(df.head())\n",
    "data = df['pH'].to_numpy()\n",
    "# display(data)\n",
    "dotplot(data)\n",
    "\n",
    "x = []\n",
    "y = []\n",
    "unique, counts = np.unique(data, return_counts=True)\n",
    "cnt = {}\n",
    "for v, n in zip(unique, counts):\n",
    "    cnt[v] = n\n",
    "    for i in range(1, n + 1):\n",
    "        x.append(v)\n",
    "        y.append(i)\n",
    "\n",
    "h = 2\n",
    "fig, ax0 = plt.subplots(1, 1, figsize=(15, h))\n",
    "\n",
    "ax0.scatter(x, y, c='k')\n",
    "ax0.set_title(title)\n",
    "ax0.grid(axis='x', color='0.85')\n",
    "ax0.set_ylim((0, 6 * h))\n",
    "ax0.set_xticks([7 + i * .2 for i in range(10)])\n",
    "\n",
    "plt.show()\n",
    "\n",
    "# (5)\n",
    "np.random.shuffle(data)\n",
    "n = 10\n",
    "display(data[:10])\n",
    "\n",
    "# (7)\n",
    "stem_leave((data*10).astype(int), split=True)\n",
    "\n",
    "# (8)\n",
    "bins = 10\n",
    "freq, edges = np.histogram(data, bins=bins)\n",
    "rel_freq = freq / data.size\n",
    "print(freq)\n",
    "print(edges)\n",
    "fig, ax = plt.subplots(1, 2, figsize=(15, 4))\n",
    "ax[0].hist(edges[:-1], edges, weights=freq)\n",
    "ax[0].set_ylabel(r'Frequency, $f$')\n",
    "ax[0].grid(axis='both', color='0.85')\n",
    "ax[0].set_xticks(edges)\n",
    "ax[1].hist(edges[:-1], edges, weights=rel_freq)\n",
    "ax[1].set_ylabel(r'Relative frequency, $f/n$')\n",
    "ax[1].grid(axis='x', color='0.85')\n",
    "ax[1].set_xticks(edges)\n",
    "plt.show()\n",
    "\n",
    "bins = 9\n",
    "freq, edges = np.histogram(data, bins=bins)\n",
    "rel_freq = freq / data.size\n",
    "print(freq)\n",
    "print(edges)\n",
    "fig, ax = plt.subplots(1, 2, figsize=(15, 4))\n",
    "ax[0].hist(edges[:-1], edges, weights=freq)\n",
    "ax[0].set_ylabel(r'Frequency, $f$')\n",
    "ax[0].grid(axis='both', color='0.85')\n",
    "ax[0].set_xticks(edges)\n",
    "ax[1].hist(edges[:-1], edges, weights=rel_freq)\n",
    "ax[1].set_ylabel(r'Relative frequency, $f/n$')\n",
    "ax[1].grid(axis='x', color='0.85')\n",
    "ax[1].set_xticks(edges)\n",
    "plt.show()\n",
    "\n",
    "# (9)\n",
    "bins = 5\n",
    "freq, edges = np.histogram(data, bins=bins)\n",
    "cumulative = np.cumsum(np.hstack(([0],freq)))\n",
    "fig, ax0 = plt.subplots(1, 1, figsize=(6, 4))\n",
    "ax0.plot(edges, cumulative, 'ro-')\n",
    "ax0.set_ylabel(r'Cumulative frequency, $\\Sigma f$')\n",
    "ax0.grid(axis='both', color='0.85')\n",
    "ax0.set_xticks(edges)\n",
    "plt.show()\n",
    "\n",
    "# (10)\n",
    "d = all_stats(data)\n",
    "print(f\"range: {d['range']:.3f}\")\n",
    "print(f\"mean: {d['mean']:.3f}\")\n",
    "print(f\"median: {d['median']:.3f}\")\n",
    "print(f\"mode: {d['mode']:.3f}\")\n",
    "# (11a)\n",
    "print(f'sum of x: {data.sum():.1f}, sum of x squared: {(data**2).sum()}:.1f')\n",
    "# (11b)\n",
    "print(f\"var: {d['s2']:.3f}\")\n",
    "print(f\"s: {d['s']:.3f}\")\n",
    "print(f\"CV: {d['cv']:.3f}\")\n",
    "# (12)\n",
    "cheb = chebyshev_int(.75, d['mean'], d['s'], show=True)\n",
    "# (13)\n",
    "print(f\"IQR: {d['iqr']:.3f}\")\n",
    "fig, ax = plt.subplots(1, 1, figsize=(6, 6))\n",
    "ax.boxplot(data, showcaps=True)\n",
    "ax.set_title('')\n",
    "ax.grid(axis='y')\n",
    "ax.set_ylabel('')\n",
    "ax.set_xticklabels(labels=[''])\n",
    "plt.show()\n"
   ]
  }
 ],
 "metadata": {
  "kernelspec": {
   "display_name": "Python 3",
   "language": "python",
   "name": "python3"
  },
  "language_info": {
   "codemirror_mode": {
    "name": "ipython",
    "version": 3
   },
   "file_extension": ".py",
   "mimetype": "text/x-python",
   "name": "python",
   "nbconvert_exporter": "python",
   "pygments_lexer": "ipython3",
   "version": "3.8.3"
  }
 },
 "nbformat": 4,
 "nbformat_minor": 4
}
