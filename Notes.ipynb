{
 "cells": [
  {
   "cell_type": "markdown",
   "metadata": {},
   "source": [
    "## Understanding Basic Statistics\n",
    "\n",
    "# Notes"
   ]
  },
  {
   "cell_type": "markdown",
   "metadata": {},
   "source": [
    "---\n",
    "\n",
    "# Chapter 2: Organizing Data"
   ]
  },
  {
   "cell_type": "markdown",
   "metadata": {},
   "source": [
    "## Section 2.1 _Frequency Distributions, Histograms, and Related Topics_\n",
    "\n",
    "### np.histogram\n",
    "https://numpy.org/doc/stable/reference/generated/numpy.histogram.html"
   ]
  },
  {
   "cell_type": "markdown",
   "metadata": {},
   "source": [
    "## Section 2.2 _Bar Graphs, Circle Graphs, and Time-Series Graphs_"
   ]
  },
  {
   "cell_type": "markdown",
   "metadata": {},
   "source": [
    "## Section 2.3 _Stem-and-Leaf Displays_\n",
    "\n",
    "A __stem-and-leaf display__ is a method of exploratory data analysis that is used to rank-order and arrange data into groups.\n"
   ]
  },
  {
   "cell_type": "markdown",
   "metadata": {},
   "source": [
    "---\n",
    "\n",
    "# Chapter 3: Averages and Variation"
   ]
  },
  {
   "cell_type": "markdown",
   "metadata": {},
   "source": [
    "## Section 3.1 _Measures of Central Tendency: Mode, Median, and Mean_\n",
    "\n",
    "---\n",
    "\n",
    "### Mode\n",
    "The __mode__ of a data set is the value that occurs most frequently.  _Note:_ If a data set has no single value that occurs more frequently than any other, then that data set has no mode.\n",
    "\n",
    "`mode(data)` <br>\n",
    "`vals, cnts = np.unique(data, return_counts=True)` <br>\n",
    "`scipy.stats.mode(data)` <br>\n",
    "\n",
    "---\n",
    "\n",
    "### Median\n",
    "The __median__ is the central value of an ordered distribution\n",
    "\n",
    "For an ordered data set of size $n$, position of the middle value is $\\frac{n + 1}{2}$\n",
    "\n",
    "`np.median(data)`\n",
    "\n",
    "---\n",
    "\n",
    "### Mean\n",
    "Sample mean, $\\bar{x} = \\frac{\\Sigma x}{n}$\n",
    "\n",
    "Population mean, $\\mu = \\frac{\\Sigma x}{N}$\n",
    "\n",
    "where $n$ is the number of data values in the sample, and $N$ is the number of data values in the population.\n",
    "\n",
    "`np.mean(data)`\n",
    "\n",
    "---\n",
    "\n",
    "### Trimmed mean\n",
    "\n",
    "`stats.trim_mean(data, 0.05)`\n",
    "\n",
    "---\n",
    "\n",
    "### Weighted Average\n",
    "\n",
    "Weighted Average, $\\frac{\\Sigma x w}{\\Sigma w}$\n",
    "\n",
    "where $x$ is a data value and $w$ is the weight assigned to that data value. The sum is taken over all data values.\n",
    "\n",
    "`np.average(data, weights=weights)`\n",
    "\n"
   ]
  },
  {
   "cell_type": "markdown",
   "metadata": {},
   "source": [
    "## Section 3.2 _Measures of Variation_\n",
    "\n",
    "---\n",
    "\n",
    "### Sum of Squares\n",
    "\n",
    "$$ \\Sigma(x - \\bar x)^2 = \\Sigma x^2 - \\frac{(\\Sigma x)^2}{n}$$\n",
    "\n",
    "Defining formula equals computation formula.\n",
    "\n",
    "---\n",
    "\n",
    "### Sample Variance\n",
    "\n",
    "$$s^2 = \\frac{\\Sigma (x - \\bar x)^2}{n-1}$$\n",
    "\n",
    "`np.var(data, ddof=1)`\n",
    "\n",
    "---\n",
    "\n",
    "### Sample Standard Deviation\n",
    "\n",
    "$$s = \\sqrt{\\frac{\\Sigma (x - \\bar x)^2}{n-1}}$$\n",
    "\n",
    "`np.std(data, ddof=1)`\n",
    "\n",
    "---\n",
    "\n",
    "### Population Variance\n",
    "\n",
    "$$ \\sigma^2 = \\frac{\\Sigma (x - \\mu)^2}{N}$$\n",
    "\n",
    "`np.var(data, ddof=0)`\n",
    "\n",
    "---\n",
    "\n",
    "### Population Standard Deviation\n",
    "\n",
    "$$ \\sigma = \\sqrt{\\frac{\\Sigma (x - \\mu)^2}{N}} $$\n",
    "\n",
    "`np.std(data, ddof=0)`\n",
    "\n",
    "---\n",
    "\n",
    "### Coefficient of variation (CV)\n",
    "\n",
    "$$ CV = \\frac{s}{\\bar x} \\cdot 100 \\% $$\n",
    "\n",
    "$$ CV = \\frac{\\sigma}{\\mu} \\cdot 100 \\% $$\n",
    "\n",
    "---\n",
    "\n",
    "### Chebyshev's Theorem\n",
    "\n",
    "For _any_ set of data, the proportion of the data that must lie within $k$ standard deviations on either side of the mean is _at least_ $$1 − \\frac{1}{k^2}$$ where $k > 1$.\n",
    "\n",
    "---\n",
    "\n"
   ]
  },
  {
   "cell_type": "markdown",
   "metadata": {},
   "source": [
    "## Section 3.3 Percentiles and Box-and-Whisker Plots\n",
    "\n",
    "---\n",
    "\n",
    "### Percentile\n",
    "\n",
    "For whole numbers, $P$ (where $1 \\le P \\le 99$ ), the $Pth$ __percentile__ of a distribution is a value such that the $P\\%$ of the data fall at or below it and $(100 - P)\\%$ of the data fall at or above it.\n",
    "\n",
    "`np.percentile(data, q)` \n",
    "> where:\n",
    ">> __q : array_like of float__ in the range \\[0, 100\\].\n",
    "\n",
    "---\n",
    "\n",
    "### Quartile\n",
    "\n",
    "`np.quantile(data, q)` where __q : array_like of float__ in the range \\[0, 1\\].\n",
    "\n",
    "---\n",
    "\n",
    "### Interquartile range (IQR)\n",
    "\n",
    "The difference between the third ansd first quartile.\n",
    "\n",
    "---\n",
    "\n",
    "### Five-number summary\n",
    "\n",
    "Lowest value, $Q_1$, median, $Q_3$, highest value\n",
    "\n",
    "---\n"
   ]
  },
  {
   "cell_type": "markdown",
   "metadata": {},
   "source": [
    "---\n",
    "\n",
    "# Chapter 4: Correlation and Regression\n"
   ]
  },
  {
   "cell_type": "code",
   "execution_count": null,
   "metadata": {},
   "outputs": [],
   "source": []
  }
 ],
 "metadata": {
  "kernelspec": {
   "display_name": "Python 3",
   "language": "python",
   "name": "python3"
  },
  "language_info": {
   "codemirror_mode": {
    "name": "ipython",
    "version": 3
   },
   "file_extension": ".py",
   "mimetype": "text/x-python",
   "name": "python",
   "nbconvert_exporter": "python",
   "pygments_lexer": "ipython3",
   "version": "3.8.3"
  }
 },
 "nbformat": 4,
 "nbformat_minor": 4
}
